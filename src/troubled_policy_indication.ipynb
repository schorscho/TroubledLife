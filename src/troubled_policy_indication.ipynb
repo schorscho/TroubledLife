{
 "cells": [
  {
   "cell_type": "markdown",
   "metadata": {
    "collapsed": true
   },
   "source": [
    "Generate, load and prepare policy histories"
   ]
  },
  {
   "cell_type": "code",
   "execution_count": 1,
   "metadata": {
    "collapsed": true
   },
   "outputs": [],
   "source": [
    "import os\n",
    "from datetime import datetime\n",
    "import support_functions as sf\n",
    "\n",
    "\n",
    "PROJECT_ROOT_DIR = \"/Users/gopora/MyStuff/Dev/Workspaces/Sandbox/TroubledLife\"\n",
    "DATASETS_DIR = os.path.join(PROJECT_ROOT_DIR, \"data\")\n",
    "TF_LOG_DIR = os.path.join(PROJECT_ROOT_DIR, \"tf_logs\")\n",
    "TRAINING_SET_DATA_FILE = \"troubled_life_policy_train_data.csv\"\n",
    "TEST_SET_DATA_FILE = \"troubled_life_policy_test_data.csv\"\n",
    "\n",
    "now = datetime.utcnow().strftime(\"%Y%m%d-%H%M%S\")\n",
    "log_dir = \"{}/run-{}/\".format(TF_LOG_DIR, now)"
   ]
  },
  {
   "cell_type": "code",
   "execution_count": 2,
   "metadata": {
    "collapsed": true
   },
   "outputs": [],
   "source": [
    "#sf.generate_troubled_life_policy_data(no_of_policies=10000, runtime=5, file_path=os.path.join(DATASETS_DIR, TRAINING_SET_DATA_FILE))\n",
    "\n",
    "#sf.generate_troubled_life_policy_data(no_of_policies=2000, runtime=5, file_path=os.path.join(DATASETS_DIR, TEST_SET_DATA_FILE))\n",
    "\n",
    "policy_histories_train = \\\n",
    "    sf.load_troubled_life_policy_data(file_path=os.path.join(DATASETS_DIR, TRAINING_SET_DATA_FILE))\n",
    "\n",
    "policy_histories_test = \\\n",
    "    sf.load_troubled_life_policy_data(file_path=os.path.join(DATASETS_DIR, TEST_SET_DATA_FILE))\n",
    "\n",
    "policy_histories_length_train, max_policy_history_length_train = \\\n",
    "    sf.get_policy_history_lengths(policy_histories=policy_histories_train)\n",
    "\n",
    "policy_histories_length_test, max_policy_history_length_test = \\\n",
    "    sf.get_policy_history_lengths(policy_histories=policy_histories_test)\n",
    "\n",
    "max_policy_history_length = max(max_policy_history_length_train, max_policy_history_length_test)"
   ]
  },
  {
   "cell_type": "code",
   "execution_count": 3,
   "metadata": {
    "collapsed": true
   },
   "outputs": [],
   "source": [
    "# Pad the histories up to maximum length of both, train and test set\n",
    "\n",
    "# policy_histories_train = \\\n",
    "#     sf.pad_troubled_life_policy_histories(policy_histories=policy_histories_train,\n",
    "#                                           policy_histories_lengths=policy_histories_length_train,\n",
    "#                                           max_policy_history_length=max_policy_history_length)\n",
    "\n",
    "# policy_histories_test = \\\n",
    "#     sf.pad_troubled_life_policy_histories(policy_histories=policy_histories_test,\n",
    "#                                           policy_histories_lengths=policy_histories_length_test,\n",
    "#                                           max_policy_history_length=max_policy_history_length)\n",
    "\n",
    "# Save padded data, since always generating and padding takes too long\n",
    "#policy_histories_train.to_csv(path_or_buf=os.path.join(DATASETS_DIR, TRAINING_SET_DATA_FILE))\n",
    "#policy_histories_test.to_csv(path_or_buf=os.path.join(DATASETS_DIR, TEST_SET_DATA_FILE))"
   ]
  },
  {
   "cell_type": "markdown",
   "metadata": {},
   "source": [
    "Prepare labels and features"
   ]
  },
  {
   "cell_type": "code",
   "execution_count": 4,
   "metadata": {},
   "outputs": [],
   "source": [
    "# Extract features and labels from dataset as numpy.ndarray(s)\n",
    "train_labels, train_features, train_seq_lengths =\\\n",
    "    sf.prepare_labels_features_lengths(policy_histories=policy_histories_train,\n",
    "                                       policy_histories_lengths=policy_histories_length_train, \n",
    "                                       max_policy_history_length=max_policy_history_length)\n",
    "test_labels, test_features, test_seq_lengths =\\\n",
    "    sf.prepare_labels_features_lengths(policy_histories=policy_histories_test,\n",
    "                                       policy_histories_lengths=policy_histories_length_test, \n",
    "                                       max_policy_history_length=max_policy_history_length)"
   ]
  },
  {
   "cell_type": "markdown",
   "metadata": {},
   "source": [
    "Build TensorFlow graph with RNN"
   ]
  },
  {
   "cell_type": "code",
   "execution_count": 5,
   "metadata": {},
   "outputs": [],
   "source": [
    "import tensorflow as tf\n",
    "\n",
    "tf.reset_default_graph()\n",
    "tf.set_random_seed(42)\n",
    "\n",
    "# Our hyperparameters\n",
    "n_steps = max_policy_history_length\n",
    "n_inputs = 2\n",
    "n_layers = 3\n",
    "n_neurons = 100\n",
    "n_outputs = max_policy_history_length\n",
    "learning_rate = 0.0001\n",
    "\n",
    "# Placeholders for our input sequences\n",
    "seq_length = tf.placeholder(tf.int32, [None], name=\"seq_length\")\n",
    "X = tf.placeholder(tf.float32, [None, n_steps, n_inputs], name=\"X\")\n",
    "y = tf.placeholder(tf.int32, [None], name=\"y\")\n",
    "\n",
    "layers = [tf.contrib.rnn.BasicRNNCell(num_units=n_neurons,\n",
    "                                      activation=tf.nn.relu)\n",
    "          for layer in range(n_layers)]\n",
    "multi_layer_cell = tf.contrib.rnn.MultiRNNCell(layers, state_is_tuple=False)\n",
    "outputs, states = tf.nn.dynamic_rnn(multi_layer_cell, X, dtype=tf.float32)\n",
    "\n",
    "# We feed all layers' states (after the last timestep) into a fully connected layer of 2 neurons\n",
    "# (1 per class, troubled or not). Softmax layer is next\n",
    "logits = tf.layers.dense(states, n_outputs)\n",
    "y_pred = tf.argmax(tf.nn.softmax(logits), axis=1)\n",
    "xentropy = tf.nn.sparse_softmax_cross_entropy_with_logits(labels=y, logits=logits)\n",
    "\n",
    "# Loss function and Adam Optimizer\n",
    "loss = tf.reduce_mean(tf.cast(xentropy, tf.float32))\n",
    "optimizer = tf.train.AdamOptimizer(learning_rate=learning_rate)\n",
    "training_op = optimizer.minimize(loss)\n",
    "\n",
    "correct = tf.nn.in_top_k(logits, y, 1)\n",
    "accuracy = tf.reduce_mean(tf.cast(correct, tf.float32))\n",
    "\n",
    "init = tf.global_variables_initializer()\n",
    "\n",
    "accuracy_summary = tf.summary.scalar('Accuracy', accuracy)\n",
    "loss_summary = tf.summary.scalar('Loss', loss)\n",
    "\n",
    "file_writer = tf.summary.FileWriter(log_dir, tf.get_default_graph())"
   ]
  },
  {
   "cell_type": "code",
   "execution_count": null,
   "metadata": {},
   "outputs": [
    {
     "name": "stdout",
     "output_type": "stream",
     "text": [
      "0 Train accuracy: 0.695 Test accuracy: 0.7145\n[[137   0   0   0   2   0   0   0   0   0   7   0   0   0   0   0]\n [  0   0   0   0   0   0   0   0   0   0   0   0   0   0   0   0]\n [ 13   0   0   0   0   0   0   0   0   0   0   0   0   0   0   0]\n [  2   0   0   0   0   0   0   0   0   0   0   0   0   0   0   0]\n [  5   0   0   0   0   0   0   0   1   0   0   0   0   0   0   0]\n [  2   0   0   0   0   0   0   0   0   0   1   0   0   0   0   0]\n [  5   0   0   0   0   0   0   0   0   0   0   0   0   0   0   0]\n [  4   0   0   0   0   0   0   0   0   0   0   0   0   0   0   0]\n [ 11   0   0   0   0   0   0   0   1   0   0   0   0   0   0   0]\n [  1   0   0   0   0   0   0   0   0   0   0   0   0   0   0   0]\n [  3   0   0   0   0   0   0   0   1   0   1   0   0   0   0   0]\n [  2   0   0   0   0   0   0   0   0   0   0   0   0   0   0   0]\n [  0   0   0   0   0   0   0   0   0   0   0   0   0   0   0   0]\n [  0   0   0   0   0   0   0   0   0   0   0   0   0   0   0   1]\n [  0   0   0   0   0   0   0   0   0   0   0   0   0   0   0   0]\n [  0   0   0   0   0   0   0   0   0   0   0   0   0   0   0   0]]\n"
     ]
    },
    {
     "name": "stdout",
     "output_type": "stream",
     "text": [
      "1 Train accuracy: 0.765 Test accuracy: 0.7495\n[[145   0   0   0   0   2   0   0   0   0   2   7   0   0   0   0]\n [  0   0   0   0   0   0   0   0   0   0   0   0   0   0   0   0]\n [  8   0   0   0   0   0   0   0   0   0   0   0   0   0   0   0]\n [  0   0   0   0   1   0   0   0   0   0   0   0   0   0   0   0]\n [  5   0   0   1   1   0   0   0   0   0   0   0   0   0   0   0]\n [  0   0   0   0   1   0   0   0   0   0   0   0   0   0   0   0]\n [  4   0   0   0   0   0   1   0   0   0   0   0   0   0   0   0]\n [  2   0   0   0   3   0   0   2   0   0   0   0   0   0   0   0]\n [  2   0   0   0   0   0   0   0   4   0   1   0   0   0   0   0]\n [  1   0   0   0   0   1   0   0   0   0   0   1   0   0   0   0]\n [  2   0   0   0   0   0   0   0   0   0   0   0   0   0   0   0]\n [  2   0   0   0   0   0   0   0   0   0   0   0   0   0   0   0]\n [  0   0   0   0   0   1   0   0   0   0   0   0   0   0   0   0]\n [  0   0   0   0   0   0   0   0   0   0   0   0   0   0   0   0]\n [  0   0   0   0   0   0   0   0   0   0   0   0   0   0   0   0]\n [  0   0   0   0   0   0   0   0   0   0   0   0   0   0   0   0]]\n"
     ]
    },
    {
     "name": "stdout",
     "output_type": "stream",
     "text": [
      "2 Train accuracy: 0.79 Test accuracy: 0.8\n[[150   0   0   0   0   1   0   0   0   0   1   0   0   0   0   0]\n [  0   0   0   0   0   0   0   0   0   0   0   0   0   0   0   0]\n [ 11   0   0   0   0   0   0   0   0   0   0   0   0   0   0   0]\n [  2   0   0   0   0   0   0   0   0   0   0   0   0   0   0   0]\n [ 12   0   0   0   0   0   0   0   0   0   0   0   0   0   0   0]\n [  1   0   0   0   0   0   0   0   0   0   1   0   0   0   0   0]\n [  4   0   0   0   0   0   0   0   0   0   0   0   0   1   0   0]\n [  2   0   0   0   0   0   0   0   0   0   0   0   1   0   0   0]\n [  2   0   0   0   0   0   0   0   5   0   0   0   0   0   0   0]\n [  2   0   0   0   0   0   0   0   0   0   0   0   0   0   0   0]\n [  0   0   0   0   0   0   0   0   0   0   3   0   0   0   0   0]\n [  0   0   0   0   0   0   0   0   0   0   0   0   0   0   0   0]\n [  0   0   0   0   0   0   0   0   0   1   0   0   0   0   0   0]\n [  0   0   0   0   0   0   0   0   0   0   0   0   0   0   0   0]\n [  0   0   0   0   0   0   0   0   0   0   0   0   0   0   0   0]\n [  0   0   0   0   0   0   0   0   0   0   0   0   0   0   0   0]]\n"
     ]
    },
    {
     "name": "stdout",
     "output_type": "stream",
     "text": [
      "3 Train accuracy: 0.865 Test accuracy: 0.8475\n[[153   0   0   2   0   0   0   0   0   0   0   0   0   0   0   0]\n [  0   0   0   0   0   0   0   0   0   0   0   0   0   0   0   0]\n [  7   0   0   0   0   0   1   0   0   0   1   0   0   0   0   0]\n [  0   0   0   1   0   0   0   0   0   0   0   0   0   0   0   0]\n [  3   0   0   0   1   0   2   0   0   0   0   0   0   0   0   0]\n [  1   0   0   1   0   0   0   0   0   0   0   0   0   0   0   0]\n [  1   0   1   0   0   0   1   0   0   0   0   0   0   0   0   0]\n [  2   0   0   0   0   0   0   0   1   0   0   0   0   0   0   0]\n [  1   0   0   0   0   0   1   0   4   0   0   0   0   0   0   0]\n [  0   0   0   0   0   0   0   0   0   6   0   1   0   0   0   0]\n [  0   0   0   0   0   0   0   0   0   0   6   0   0   0   0   0]\n [  0   0   0   0   0   0   0   1   0   0   0   1   0   0   0   0]\n [  0   0   0   0   0   0   0   0   0   0   0   0   0   0   0   0]\n [  0   0   0   0   0   0   0   0   0   0   0   0   0   0   0   0]\n [  0   0   0   0   0   0   0   0   0   0   0   0   0   0   0   0]\n [  0   0   0   0   0   0   0   0   0   0   0   0   0   0   0   0]]\n"
     ]
    },
    {
     "name": "stdout",
     "output_type": "stream",
     "text": [
      "4 Train accuracy: 0.87 Test accuracy: 0.8875\n[[149   0   0   0   1   0   0   0   0   0   1   0   0   0   0   0]\n [  0   0   0   0   0   0   0   0   0   0   0   0   0   0   0   0]\n [  7   0   1   0   0   0   0   0   0   0   0   0   0   0   0   0]\n [  1   0   0   0   0   0   0   0   0   0   0   0   0   0   0   0]\n [  1   0   2   0   5   0   0   0   0   0   0   0   0   0   0   0]\n [  3   0   1   0   0   0   0   1   0   1   0   0   0   0   0   0]\n [  2   0   1   0   0   0   0   0   0   0   0   0   0   0   0   0]\n [  0   0   0   0   0   0   0   0   0   0   0   0   0   0   0   0]\n [  0   0   1   0   0   0   1   0   8   0   0   0   0   0   0   0]\n [  0   0   0   0   0   0   0   0   0   3   0   0   0   0   0   0]\n [  0   0   0   0   0   0   0   0   0   0   7   0   0   0   0   0]\n [  1   0   0   0   0   0   0   0   0   0   0   1   0   0   0   0]\n [  0   0   0   0   0   0   0   0   0   0   0   0   0   0   0   0]\n [  1   0   0   0   0   0   0   0   0   0   0   0   0   0   0   0]\n [  0   0   0   0   0   0   0   0   0   0   0   0   0   0   0   0]\n [  0   0   0   0   0   0   0   0   0   0   0   0   0   0   0   0]]\n"
     ]
    },
    {
     "name": "stdout",
     "output_type": "stream",
     "text": [
      "5 Train accuracy: 0.88 Test accuracy: 0.8795\n[[154   0   2   0   0   0   0   0   0   0   0   0   0   0   0   0]\n [  0   0   0   0   0   0   0   0   0   0   0   0   0   0   0   0]\n [  9   0   0   0   0   0   1   0   0   0   0   1   0   0   0   0]\n [  1   0   0   0   0   0   0   0   0   0   0   0   0   0   0   0]\n [  1   0   1   0   5   0   0   0   1   0   0   0   0   0   0   0]\n [  0   0   0   1   0   0   0   0   0   0   0   0   0   0   0   0]\n [  3   0   0   1   0   0   3   0   0   0   0   0   0   0   0   0]\n [  0   0   0   0   0   0   0   2   0   0   0   0   0   0   0   0]\n [  0   0   0   0   0   0   0   0   4   0   0   0   0   0   0   0]\n [  0   0   0   0   0   0   0   0   0   0   0   0   0   0   0   0]\n [  0   0   0   0   0   0   0   0   0   0   5   0   1   0   0   0]\n [  0   0   0   1   0   0   0   0   0   0   0   0   0   0   0   0]\n [  0   0   0   0   0   0   0   0   0   0   0   0   3   0   0   0]\n [  0   0   0   0   0   0   0   0   0   0   0   0   0   0   0   0]\n [  0   0   0   0   0   0   0   0   0   0   0   0   0   0   0   0]\n [  0   0   0   0   0   0   0   0   0   0   0   0   0   0   0   0]]\n"
     ]
    },
    {
     "name": "stdout",
     "output_type": "stream",
     "text": [
      "6 Train accuracy: 0.885 Test accuracy: 0.8995\n[[150   0   0   0   0   0   0   0   0   0   0   0   0   0   0   0]\n [  0   0   0   0   0   0   0   0   0   0   0   0   0   0   0   0]\n [ 12   0   0   0   0   0   1   0   0   0   1   0   0   0   0   0]\n [  2   0   0   0   0   0   0   0   0   0   0   0   0   0   0   0]\n [  1   0   0   0   8   0   0   0   0   0   0   1   0   0   0   0]\n [  0   0   0   0   0   0   0   0   0   0   0   0   0   0   0   0]\n [  0   0   0   0   0   1   3   0   0   0   0   0   0   0   0   0]\n [  0   0   0   0   0   0   0   0   0   0   0   0   0   0   0   0]\n [  0   0   1   0   0   0   1   0   5   0   0   0   0   0   0   0]\n [  1   0   0   0   0   0   0   0   0   1   0   0   0   0   0   0]\n [  0   0   0   0   0   1   0   0   0   0   5   0   0   0   0   0]\n [  0   0   0   0   0   0   0   0   0   0   0   4   0   0   0   0]\n [  0   0   0   0   0   0   0   0   0   0   0   0   1   0   0   0]\n [  0   0   0   0   0   0   0   0   0   0   0   0   0   0   0   0]\n [  0   0   0   0   0   0   0   0   0   0   0   0   0   0   0   0]\n [  0   0   0   0   0   0   0   0   0   0   0   0   0   0   0   0]]\n"
     ]
    },
    {
     "name": "stdout",
     "output_type": "stream",
     "text": [
      "7 Train accuracy: 0.895 Test accuracy: 0.908\n[[151   0   0   0   0   0   0   0   2   0   0   0   0   0   0   0]\n [  0   0   0   0   0   0   0   0   0   0   0   0   0   0   0   0]\n [  3   0   3   0   0   0   1   0   0   0   1   0   0   0   0   0]\n [  0   0   0   0   0   0   0   0   0   0   0   0   0   0   0   0]\n [  2   0   1   0   6   0   2   0   0   0   0   0   0   0   0   0]\n [  0   0   2   0   0   1   0   0   0   0   0   0   0   0   0   0]\n [  0   0   2   0   0   0   4   0   0   0   0   0   0   0   0   0]\n [  0   0   0   0   0   0   0   0   0   0   0   1   0   0   0   0]\n [  0   0   0   0   0   0   1   0   6   0   0   0   0   0   0   0]\n [  0   0   1   0   0   0   0   0   0   1   0   1   0   0   0   0]\n [  0   0   0   0   0   0   0   0   0   1   4   0   0   0   0   0]\n [  0   0   0   0   0   0   0   0   0   0   0   3   0   0   0   0]\n [  0   0   0   0   0   0   0   0   0   0   0   0   0   0   0   0]\n [  0   0   0   0   0   0   0   0   0   0   0   0   0   0   0   0]\n [  0   0   0   0   0   0   0   0   0   0   0   0   0   0   0   0]\n [  0   0   0   0   0   0   0   0   0   0   0   0   0   0   0   0]]\n"
     ]
    },
    {
     "name": "stdout",
     "output_type": "stream",
     "text": [
      "8 Train accuracy: 0.925 Test accuracy: 0.9085\n[[144   0   0   0   0   0   0   0   0   0   0   0   0   1   0   0]\n [  0   0   0   0   0   0   0   0   0   0   0   0   0   0   0   0]\n [  2   0   4   0   1   0   0   0   0   0   0   0   0   0   0   0]\n [  2   0   0   0   0   0   0   0   0   0   0   0   0   0   0   0]\n [  0   0   2   0   7   0   1   0   0   0   0   2   0   0   0   0]\n [  0   0   0   0   0   0   0   0   0   0   0   0   0   0   0   0]\n [  1   0   1   0   0   0   6   0   0   0   0   0   0   0   0   0]\n [  0   0   0   0   0   0   0   2   0   0   0   0   0   0   0   0]\n [  0   0   0   0   0   0   0   0   6   0   0   0   0   0   0   0]\n [  0   0   0   0   0   0   0   0   0   1   0   0   0   0   0   0]\n [  0   0   0   0   0   0   0   0   0   0   9   0   0   0   0   0]\n [  0   0   0   0   1   0   0   0   0   0   0   4   0   0   0   0]\n [  0   0   0   0   0   0   0   0   0   1   0   0   2   0   0   0]\n [  0   0   0   0   0   0   0   0   0   0   0   0   0   0   0   0]\n [  0   0   0   0   0   0   0   0   0   0   0   0   0   0   0   0]\n [  0   0   0   0   0   0   0   0   0   0   0   0   0   0   0   0]]\n"
     ]
    },
    {
     "name": "stdout",
     "output_type": "stream",
     "text": [
      "9 Train accuracy: 0.91 Test accuracy: 0.901\n[[156   0   0   0   0   0   0   0   0   0   0   0   0   0   0   0]\n [  0   0   0   0   0   0   0   0   0   0   0   0   0   0   0   0]\n [  3   0   9   0   0   0   1   0   0   0   0   1   0   0   0   0]\n [  0   0   0   0   0   0   0   0   1   0   0   0   0   0   0   0]\n [  0   0   3   0   1   0   0   0   1   0   0   0   0   0   0   0]\n [  0   0   0   0   0   0   0   0   0   0   0   0   0   0   0   0]\n [  0   0   4   0   0   0   0   0   0   0   0   0   0   0   0   0]\n [  0   0   0   0   0   0   0   1   0   0   0   0   0   0   0   0]\n [  0   0   0   0   0   0   0   0   6   0   0   0   0   0   0   0]\n [  0   0   0   0   0   0   0   0   0   0   0   0   0   0   0   0]\n [  0   0   0   0   0   0   0   0   0   0   6   0   0   0   0   0]\n [  0   0   2   0   0   1   0   0   0   0   0   3   0   0   0   0]\n [  0   0   0   0   0   0   0   1   0   0   0   0   0   0   0   0]\n [  0   0   0   0   0   0   0   0   0   0   0   0   0   0   0   0]\n [  0   0   0   0   0   0   0   0   0   0   0   0   0   0   0   0]\n [  0   0   0   0   0   0   0   0   0   0   0   0   0   0   0   0]]\n"
     ]
    },
    {
     "name": "stdout",
     "output_type": "stream",
     "text": [
      "10 Train accuracy: 0.925 Test accuracy: 0.911\n[[152   0   1   0   0   3   0   0   0   0   0   0   0   0   0   0]\n [  0   0   0   0   0   0   0   0   0   0   0   0   0   0   0   0]\n [  0   0  12   0   0   0   1   0   0   0   0   0   0   0   0   0]\n [  0   0   0   0   0   0   0   0   0   0   0   0   0   0   0   0]\n [  0   0   7   0   0   0   1   0   0   0   0   0   0   0   0   0]\n [  0   0   0   0   0   3   1   0   0   0   0   0   0   0   0   0]\n [  0   0   1   0   0   0   7   0   0   0   0   0   0   0   0   0]\n [  0   0   0   0   0   0   0   0   0   0   0   0   0   0   0   0]\n [  0   0   0   0   0   0   0   0   5   0   0   0   0   0   0   0]\n [  0   0   0   0   0   0   0   0   0   0   0   0   0   0   0   0]\n [  0   0   0   0   0   0   0   0   0   0   3   0   0   0   0   0]\n [  0   0   0   0   0   0   0   0   0   0   0   3   0   0   0   0]\n [  0   0   0   0   0   0   0   0   0   0   0   0   0   0   0   0]\n [  0   0   0   0   0   0   0   0   0   0   0   0   0   0   0   0]\n [  0   0   0   0   0   0   0   0   0   0   0   0   0   0   0   0]\n [  0   0   0   0   0   0   0   0   0   0   0   0   0   0   0   0]]\n"
     ]
    },
    {
     "name": "stdout",
     "output_type": "stream",
     "text": [
      "11 Train accuracy: 0.91 Test accuracy: 0.913\n[[153   0   0   0   0   0   0   0   0   0   0   0   0   0   0   0]\n [  0   0   0   0   0   0   0   0   0   0   0   0   0   0   0   0]\n [  5   0   2   0   3   0   0   0   0   0   0   0   0   0   0   0]\n [  0   0   0   0   0   0   0   1   0   0   0   0   0   0   0   0]\n [  2   0   0   0   4   0   1   0   0   0   1   0   0   0   0   0]\n [  0   0   0   0   0   2   0   0   0   0   0   0   0   0   0   0]\n [  0   0   0   0   3   0   4   0   0   0   0   0   0   0   0   0]\n [  0   0   0   0   0   0   0   5   0   0   0   0   0   0   0   0]\n [  0   0   1   0   0   0   0   0   4   0   0   0   0   0   0   0]\n [  0   0   0   0   0   0   0   0   0   1   0   0   0   0   0   0]\n [  0   0   0   0   0   0   0   0   0   0   4   0   0   0   0   0]\n [  0   0   0   0   0   0   0   0   0   0   0   3   0   0   0   0]\n [  0   0   0   0   0   0   0   1   0   0   0   0   0   0   0   0]\n [  0   0   0   0   0   0   0   0   0   0   0   0   0   0   0   0]\n [  0   0   0   0   0   0   0   0   0   0   0   0   0   0   0   0]\n [  0   0   0   0   0   0   0   0   0   0   0   0   0   0   0   0]]\n"
     ]
    },
    {
     "name": "stdout",
     "output_type": "stream",
     "text": [
      "12 Train accuracy: 0.89 Test accuracy: 0.9125\n[[163   0   0   0   0   0   0   0   0   0   0   0   0   0   0   0]\n [  0   0   0   0   0   0   0   0   0   0   0   0   0   0   0   0]\n [  5   0   0   0   1   0   5   0   0   1   0   1   0   0   0   0]\n [  2   0   0   0   0   1   0   0   0   0   0   0   0   0   0   0]\n [  2   0   0   0   2   0   0   0   0   0   0   0   0   0   0   0]\n [  1   0   0   0   0   0   0   1   0   0   0   0   0   0   0   0]\n [  0   0   0   0   1   0   5   0   0   0   0   0   0   0   0   0]\n [  0   0   0   0   0   0   1   0   0   0   0   0   0   0   0   0]\n [  0   0   0   0   0   0   0   0   3   0   0   0   0   0   0   0]\n [  0   0   0   0   0   0   0   0   0   1   0   0   0   0   0   0]\n [  0   0   0   0   0   0   0   0   0   0   2   0   0   0   0   0]\n [  0   0   0   0   0   0   0   0   0   0   0   1   0   0   0   0]\n [  0   0   0   0   0   0   0   0   0   0   0   0   1   0   0   0]\n [  0   0   0   0   0   0   0   0   0   0   0   0   0   0   0   0]\n [  0   0   0   0   0   0   0   0   0   0   0   0   0   0   0   0]\n [  0   0   0   0   0   0   0   0   0   0   0   0   0   0   0   0]]\n"
     ]
    },
    {
     "name": "stdout",
     "output_type": "stream",
     "text": [
      "13 Train accuracy: 0.92 Test accuracy: 0.9175\n[[152   0   0   0   0   0   0   0   0   0   0   0   0   0   0   0]\n [  0   0   0   0   0   0   0   0   0   0   0   0   0   0   0   0]\n [  6   0   3   0   0   0   0   0   0   0   0   0   0   0   0   0]\n [  0   0   0   0   0   1   0   0   0   0   0   0   0   0   0   0]\n [  0   0   1   0   5   0   0   0   0   0   0   0   0   0   0   0]\n [  0   0   0   0   0   2   0   0   1   0   0   0   0   0   0   0]\n [  0   0   1   0   2   1   0   0   0   0   0   0   0   0   0   0]\n [  0   0   0   0   0   0   0   0   0   0   0   0   0   0   0   0]\n [  0   0   0   1   0   0   0   0  10   0   0   0   0   0   0   0]\n [  0   0   0   0   0   0   0   1   1   2   0   0   0   0   0   0]\n [  0   0   0   0   0   0   0   0   0   0   5   0   0   0   0   0]\n [  0   0   0   0   0   0   0   0   0   0   0   3   0   0   0   0]\n [  0   0   0   0   0   0   0   0   0   0   0   0   2   0   0   0]\n [  0   0   0   0   0   0   0   0   0   0   0   0   0   0   0   0]\n [  0   0   0   0   0   0   0   0   0   0   0   0   0   0   0   0]\n [  0   0   0   0   0   0   0   0   0   0   0   0   0   0   0   0]]\n"
     ]
    },
    {
     "name": "stdout",
     "output_type": "stream",
     "text": [
      "14 Train accuracy: 0.89 Test accuracy: 0.935\n[[147   0   0   0   0   0   0   0   0   1   0   0   0   0   0   0]\n [  0   0   0   0   0   0   0   0   0   0   0   0   0   0   0   0]\n [  5   0   4   0   0   0   0   0   0   0   0   0   0   0   0   0]\n [  2   0   0   0   0   0   1   0   0   0   0   0   0   0   0   0]\n [  0   0   0   0   4   0   0   0   1   0   1   0   0   0   0   0]\n [  0   0   0   0   1   0   0   0   0   0   0   1   0   0   0   0]\n [  0   0   4   0   2   0   3   0   0   0   0   0   0   0   0   0]\n [  0   0   0   0   0   0   0   1   0   0   0   0   0   0   0   0]\n [  0   0   1   0   0   0   0   0   6   0   1   0   0   0   0   0]\n [  0   0   0   0   0   0   0   0   0   5   0   0   0   0   0   0]\n [  0   0   0   0   0   0   0   0   0   0   6   0   1   0   0   0]\n [  0   0   0   0   0   0   0   0   0   0   0   2   0   0   0   0]\n [  0   0   0   0   0   0   0   0   0   0   0   0   0   0   0   0]\n [  0   0   0   0   0   0   0   0   0   0   0   0   0   0   0   0]\n [  0   0   0   0   0   0   0   0   0   0   0   0   0   0   0   0]\n [  0   0   0   0   0   0   0   0   0   0   0   0   0   0   0   0]]\n"
     ]
    },
    {
     "name": "stdout",
     "output_type": "stream",
     "text": [
      "15 Train accuracy: 0.945 Test accuracy: 0.9325\n[[154   0   0   0   0   4   0   0   0   0   0   0   0   0   0   0]\n [  0   0   0   0   0   0   0   0   0   0   0   0   0   0   0   0]\n [  0   0  10   0   0   0   0   0   0   1   0   0   0   0   0   0]\n [  0   0   0   1   0   0   0   0   0   0   0   0   0   0   0   0]\n [  0   0   0   0   5   1   1   0   0   0   0   0   0   0   0   0]\n [  1   0   0   0   0   2   0   0   0   0   0   0   0   0   0   0]\n [  0   0   1   0   1   0   4   0   0   0   0   0   0   0   0   0]\n [  0   0   0   0   0   0   0   0   0   0   0   0   0   0   0   0]\n [  0   0   0   0   0   0   0   0   1   0   0   0   0   0   0   0]\n [  0   0   0   0   0   0   0   0   0   3   0   0   0   0   0   0]\n [  0   0   0   0   0   0   0   0   0   1   4   0   0   0   0   0]\n [  0   0   0   0   0   0   0   0   0   0   0   4   0   0   0   0]\n [  0   0   0   0   0   0   0   0   0   0   0   0   1   0   0   0]\n [  0   0   0   0   0   0   0   0   0   0   0   0   0   0   0   0]\n [  0   0   0   0   0   0   0   0   0   0   0   0   0   0   0   0]\n [  0   0   0   0   0   0   0   0   0   0   0   0   0   0   0   0]]\n"
     ]
    },
    {
     "name": "stdout",
     "output_type": "stream",
     "text": [
      "16 Train accuracy: 0.885 Test accuracy: 0.9325\n[[140   0   0   0   0   0   0   0   0   0   0   0   0   0   0   0]\n [  0   0   0   0   0   0   0   0   0   0   0   0   0   0   0   0]\n [  3   0   4   0   7   0   1   0   0   0   0   1   0   0   0   0]\n [  0   0   0   0   0   1   1   0   1   0   0   0   0   0   0   0]\n [  0   0   2   0   4   0   2   0   0   0   0   1   0   0   0   0]\n [  0   0   0   0   0   0   0   0   0   0   0   0   0   0   0   0]\n [  0   0   0   0   0   0   5   0   0   0   0   0   0   0   0   0]\n [  0   0   0   0   0   0   0   7   0   0   0   0   0   0   0   0]\n [  0   0   0   0   0   0   1   0   3   0   0   0   0   0   0   0]\n [  0   0   1   0   0   0   0   0   0   2   0   0   0   0   0   0]\n [  0   0   0   0   0   0   0   0   0   0   4   0   0   0   0   0]\n [  0   0   0   0   0   0   0   0   0   0   0   7   0   0   0   0]\n [  0   0   0   0   0   0   0   1   0   0   0   0   1   0   0   0]\n [  0   0   0   0   0   0   0   0   0   0   0   0   0   0   0   0]\n [  0   0   0   0   0   0   0   0   0   0   0   0   0   0   0   0]\n [  0   0   0   0   0   0   0   0   0   0   0   0   0   0   0   0]]\n"
     ]
    },
    {
     "name": "stdout",
     "output_type": "stream",
     "text": [
      "17 Train accuracy: 0.93 Test accuracy: 0.941\n[[151   0   0   0   0   0   0   0   0   0   0   0   0   0   0   0]\n [  0   0   0   0   0   0   0   0   0   0   0   0   0   0   0   0]\n [  1   0   5   0   0   0   0   0   0   0   0   1   0   0   0   0]\n [  0   0   0   0   0   2   0   0   0   0   0   0   0   0   0   0]\n [  1   0   0   0   4   1   0   0   0   0   0   0   0   0   0   0]\n [  0   0   1   0   0   2   0   0   0   0   0   0   0   0   0   0]\n [  0   0   2   0   0   0   6   0   0   0   0   0   0   0   0   0]\n [  0   0   1   0   0   0   0   1   0   0   0   0   0   0   0   0]\n [  0   0   2   0   0   0   0   0   5   0   0   0   0   0   0   0]\n [  0   0   0   0   0   0   0   0   0   1   0   0   0   0   0   0]\n [  0   0   0   0   0   0   0   0   0   0   8   0   0   0   0   0]\n [  0   0   2   0   0   0   0   0   0   0   0   2   0   0   0   0]\n [  0   0   0   0   0   0   0   0   0   0   0   0   1   0   0   0]\n [  0   0   0   0   0   0   0   0   0   0   0   0   0   0   0   0]\n [  0   0   0   0   0   0   0   0   0   0   0   0   0   0   0   0]\n [  0   0   0   0   0   0   0   0   0   0   0   0   0   0   0   0]]\n"
     ]
    },
    {
     "name": "stdout",
     "output_type": "stream",
     "text": [
      "18 Train accuracy: 0.93 Test accuracy: 0.9385\n[[158   0   0   0   0   0   0   0   0   0   0   0   0   0   0   0]\n [  0   0   0   0   0   0   0   0   0   0   0   0   0   0   0   0]\n [  2   0  10   0   0   0   0   0   0   1   1   0   0   0   0   0]\n [  0   0   0   0   0   0   0   0   0   0   0   0   0   0   0   0]\n [  0   0   2   0   1   0   0   0   1   0   0   0   0   0   0   0]\n [  0   0   1   3   0   0   0   0   0   0   0   0   0   0   0   0]\n [  0   0   1   0   0   0   1   0   0   0   0   0   0   0   0   0]\n [  0   0   1   0   0   0   0   1   0   0   0   0   0   0   0   0]\n [  0   0   0   0   0   0   0   0   5   0   0   0   0   0   0   0]\n [  0   0   0   0   0   0   0   0   0   2   0   0   0   0   0   0]\n [  0   0   0   0   0   0   1   0   0   0   4   0   0   0   0   0]\n [  0   0   0   0   0   0   0   0   0   0   0   3   0   0   0   0]\n [  0   0   0   0   0   0   0   0   0   0   0   0   0   0   0   0]\n [  0   0   0   0   0   0   0   0   0   0   0   0   0   1   0   0]\n [  0   0   0   0   0   0   0   0   0   0   0   0   0   0   0   0]\n [  0   0   0   0   0   0   0   0   0   0   0   0   0   0   0   0]]\n"
     ]
    },
    {
     "name": "stdout",
     "output_type": "stream",
     "text": [
      "19 Train accuracy: 0.97 Test accuracy: 0.943\n[[163   0   0   0   0   0   0   0   0   0   0   0   0   0   0   0]\n [  0   0   0   0   0   0   0   0   0   0   0   0   0   0   0   0]\n [  2   0   0   0   0   0   1   0   0   0   0   0   0   0   0   0]\n [  0   0   0   0   0   0   0   0   0   0   0   0   0   0   0   0]\n [  0   0   0   0   5   0   0   0   0   1   0   0   0   0   0   0]\n [  0   0   0   0   0   3   1   0   0   0   0   0   0   0   0   0]\n [  0   0   0   0   1   0   5   0   0   0   0   0   0   0   0   0]\n [  0   0   0   0   0   0   0   0   0   0   0   0   0   0   0   0]\n [  0   0   0   0   0   0   0   0   7   0   0   0   0   0   0   0]\n [  0   0   0   0   0   0   0   0   0   3   0   0   0   0   0   0]\n [  0   0   0   0   0   0   0   0   0   0   6   0   0   0   0   0]\n [  0   0   0   0   0   0   0   0   0   0   0   2   0   0   0   0]\n [  0   0   0   0   0   0   0   0   0   0   0   0   0   0   0   0]\n [  0   0   0   0   0   0   0   0   0   0   0   0   0   0   0   0]\n [  0   0   0   0   0   0   0   0   0   0   0   0   0   0   0   0]\n [  0   0   0   0   0   0   0   0   0   0   0   0   0   0   0   0]]\n"
     ]
    },
    {
     "name": "stdout",
     "output_type": "stream",
     "text": [
      "20 Train accuracy: 0.89 Test accuracy: 0.8965\n[[149   0   1   0   0   5   0   0   0   0   0   0   0   0   0   0]\n [  0   0   0   0   0   0   0   0   0   0   0   0   0   0   0   0]\n [  0   0   1   0   0   2   3   0   0   0   0   1   0   0   0   0]\n [  1   0   0   0   0   0   0   0   0   0   0   0   0   0   0   0]\n [  0   0   0   0   5   0   3   0   0   0   0   0   0   0   0   0]\n [  0   0   1   1   0   4   0   0   0   0   0   1   0   0   0   0]\n [  0   0   0   1   0   0   4   0   0   0   0   0   0   0   0   0]\n [  0   0   0   0   0   0   0   2   0   0   0   0   0   0   0   0]\n [  0   0   0   0   0   0   0   0   3   0   0   0   0   0   0   0]\n [  0   0   0   0   0   0   0   1   0   0   0   0   0   0   0   0]\n [  0   0   0   0   0   0   0   0   0   0   6   0   0   0   0   0]\n [  0   0   1   0   0   0   0   0   0   0   0   2   0   0   0   0]\n [  0   0   0   0   0   0   0   0   0   0   0   0   2   0   0   0]\n [  0   0   0   0   0   0   0   0   0   0   0   0   0   0   0   0]\n [  0   0   0   0   0   0   0   0   0   0   0   0   0   0   0   0]\n [  0   0   0   0   0   0   0   0   0   0   0   0   0   0   0   0]]\n"
     ]
    },
    {
     "name": "stdout",
     "output_type": "stream",
     "text": [
      "21 Train accuracy: 0.96 Test accuracy: 0.9495\n[[161   0   0   0   0   0   0   0   0   0   0   0   0   0   0   0]\n [  0   0   0   0   0   0   0   0   0   0   0   0   0   0   0   0]\n [  1   0   4   0   0   1   1   1   0   0   0   0   0   0   0   0]\n [  0   0   0   0   0   0   0   0   0   0   0   0   0   0   0   0]\n [  0   0   0   0   5   0   0   0   0   0   0   0   0   0   0   0]\n [  0   0   0   0   0   2   0   0   0   0   0   0   0   0   0   0]\n [  0   0   0   0   0   0   6   0   0   0   0   0   0   0   0   0]\n [  0   0   0   0   0   1   0   2   0   1   0   0   0   0   0   0]\n [  0   0   0   0   0   0   0   0   0   0   0   0   0   0   0   0]\n [  0   0   0   0   0   0   0   0   1   0   0   0   0   0   0   0]\n [  0   0   0   0   0   0   0   1   0   0   8   0   0   0   0   0]\n [  0   0   0   0   0   0   0   0   0   0   0   1   0   0   0   0]\n [  0   0   0   0   0   0   0   0   0   0   0   0   3   0   0   0]\n [  0   0   0   0   0   0   0   0   0   0   0   0   0   0   0   0]\n [  0   0   0   0   0   0   0   0   0   0   0   0   0   0   0   0]\n [  0   0   0   0   0   0   0   0   0   0   0   0   0   0   0   0]]\n"
     ]
    },
    {
     "name": "stdout",
     "output_type": "stream",
     "text": [
      "22 Train accuracy: 0.935 Test accuracy: 0.961\n[[162   0   0   0   0   0   0   0   0   0   0   0   0   0   0   0]\n [  0   0   0   0   0   0   0   0   0   0   0   0   0   0   0   0]\n [  3   0   4   0   1   0   0   0   1   0   1   0   0   0   0   0]\n [  1   0   0   0   0   1   0   0   0   0   0   0   0   0   0   0]\n [  0   0   0   0   3   0   0   0   0   0   0   0   0   0   0   0]\n [  0   0   0   0   0   0   0   0   0   0   0   0   0   0   0   0]\n [  0   0   2   1   0   0   5   0   0   0   0   0   0   0   0   0]\n [  0   0   0   0   0   0   0   4   0   0   0   0   0   0   0   0]\n [  0   0   0   1   0   0   0   0   4   0   0   0   0   0   0   0]\n [  0   0   0   0   0   0   0   0   0   0   0   0   0   0   0   0]\n [  0   0   0   1   0   0   0   0   0   0   1   0   0   0   0   0]\n [  0   0   0   0   0   0   0   0   0   0   0   3   0   0   0   0]\n [  0   0   0   0   0   0   0   0   0   0   0   0   1   0   0   0]\n [  0   0   0   0   0   0   0   0   0   0   0   0   0   0   0   0]\n [  0   0   0   0   0   0   0   0   0   0   0   0   0   0   0   0]\n [  0   0   0   0   0   0   0   0   0   0   0   0   0   0   0   0]]\n"
     ]
    },
    {
     "name": "stdout",
     "output_type": "stream",
     "text": [
      "23 Train accuracy: 0.95 Test accuracy: 0.95\n[[151   0   0   0   2   0   0   0   0   0   0   0   0   0   0   0]\n [  0   0   0   0   0   0   0   0   0   0   0   0   0   0   0   0]\n [  2   0   7   0   0   0   1   0   0   0   0   0   0   0   0   0]\n [  0   0   0   1   1   0   0   0   0   0   0   0   0   0   0   0]\n [  0   0   1   0   4   0   1   0   0   0   0   0   0   0   0   0]\n [  0   0   1   0   0   2   0   0   0   0   0   0   0   0   0   0]\n [  0   0   0   0   0   0   4   0   0   0   0   0   0   0   0   0]\n [  0   0   0   0   0   0   0   3   0   0   0   0   0   0   0   0]\n [  0   0   0   0   0   0   0   0   7   0   0   0   0   0   0   0]\n [  0   0   0   0   0   0   0   0   0   2   0   0   0   0   0   0]\n [  0   0   0   0   0   0   0   0   0   0   6   0   0   0   0   0]\n [  0   0   0   0   0   0   0   0   0   0   0   1   0   0   0   0]\n [  0   0   0   1   0   0   0   0   0   0   0   0   2   0   0   0]\n [  0   0   0   0   0   0   0   0   0   0   0   0   0   0   0   0]\n [  0   0   0   0   0   0   0   0   0   0   0   0   0   0   0   0]\n [  0   0   0   0   0   0   0   0   0   0   0   0   0   0   0   0]]\n"
     ]
    },
    {
     "name": "stdout",
     "output_type": "stream",
     "text": [
      "24 Train accuracy: 0.955 Test accuracy: 0.943\n[[152   0   0   0   0   1   0   0   0   0   0   0   0   0   0   0]\n [  0   0   0   0   0   0   0   0   0   0   0   0   0   0   0   0]\n [  4   0   3   0   2   0   0   0   0   0   0   0   0   0   0   0]\n [  0   0   0   0   0   1   0   0   0   0   0   0   0   0   0   0]\n [  0   0   0   0   4   0   0   0   0   0   0   0   0   0   0   0]\n [  0   0   0   0   0   1   0   0   0   0   0   0   0   0   0   0]\n [  0   0   0   0   1   0   8   0   0   0   0   0   0   0   0   0]\n [  0   0   0   0   0   0   0   1   0   0   0   0   0   0   0   0]\n [  0   0   0   0   0   0   0   0  10   0   0   0   0   0   0   0]\n [  0   0   0   0   0   0   0   0   0   3   0   0   0   0   0   0]\n [  0   0   0   0   0   0   0   0   0   0   4   0   0   0   0   0]\n [  0   0   0   0   0   0   0   0   0   0   0   3   0   0   0   0]\n [  0   0   0   0   0   0   0   0   0   0   0   0   2   0   0   0]\n [  0   0   0   0   0   0   0   0   0   0   0   0   0   0   0   0]\n [  0   0   0   0   0   0   0   0   0   0   0   0   0   0   0   0]\n [  0   0   0   0   0   0   0   0   0   0   0   0   0   0   0   0]]\n"
     ]
    },
    {
     "name": "stdout",
     "output_type": "stream",
     "text": [
      "25 Train accuracy: 0.965 Test accuracy: 0.9725\n[[153   0   0   0   0   0   0   0   0   0   0   0   0   0   0   0]\n [  0   0   0   0   0   0   0   0   0   0   0   0   0   0   0   0]\n [  1   0   4   0   0   0   0   0   0   0   1   0   0   0   0   0]\n [  0   0   0   0   0   0   0   0   0   0   0   0   0   0   0   0]\n [  0   0   0   0   9   0   1   0   1   0   0   0   0   0   0   0]\n [  0   0   1   0   0   3   0   0   0   0   0   0   0   0   0   0]\n [  0   0   1   0   0   1   5   0   0   0   0   0   0   0   0   0]\n [  0   0   0   0   0   0   0   1   0   0   0   0   0   0   0   0]\n [  0   0   0   0   0   0   0   0   7   0   0   0   0   0   0   0]\n [  0   0   0   0   0   0   0   0   0   2   0   0   0   0   0   0]\n [  0   0   0   0   0   0   0   0   0   0   4   0   0   0   0   0]\n [  0   0   0   0   0   0   0   0   0   0   0   5   0   0   0   0]\n [  0   0   0   0   0   0   0   0   0   0   0   0   0   0   0   0]\n [  0   0   0   0   0   0   0   0   0   0   0   0   0   0   0   0]\n [  0   0   0   0   0   0   0   0   0   0   0   0   0   0   0   0]\n [  0   0   0   0   0   0   0   0   0   0   0   0   0   0   0   0]]\n"
     ]
    },
    {
     "name": "stdout",
     "output_type": "stream",
     "text": [
      "26 Train accuracy: 0.94 Test accuracy: 0.943\n[[141   0   0   0   0   0   0   0   0   0   0   0   0   0   0   0]\n [  0   0   0   0   0   0   0   0   0   0   0   0   0   0   0   0]\n [  6   0   3   0   1   0   0   0   0   0   0   0   0   0   0   0]\n [  0   0   0   0   0   0   0   0   0   0   0   1   0   0   0   0]\n [  1   0   0   0   7   0   0   0   0   1   0   0   0   0   0   0]\n [  0   0   0   0   0   1   0   0   0   0   0   0   0   0   0   0]\n [  0   0   0   0   0   0   7   0   0   0   0   0   0   0   0   0]\n [  0   0   0   0   0   0   0   0   0   0   0   0   0   0   0   0]\n [  0   0   0   0   0   0   1   0   6   0   0   0   0   0   0   0]\n [  0   0   0   0   0   0   0   0   0   8   0   0   0   0   0   0]\n [  0   0   0   0   0   0   0   0   0   0   7   0   0   0   0   0]\n [  0   0   1   0   0   0   0   0   0   0   0   6   0   0   0   0]\n [  0   0   0   0   0   0   0   0   0   0   0   0   2   0   0   0]\n [  0   0   0   0   0   0   0   0   0   0   0   0   0   0   0   0]\n [  0   0   0   0   0   0   0   0   0   0   0   0   0   0   0   0]\n [  0   0   0   0   0   0   0   0   0   0   0   0   0   0   0   0]]\n"
     ]
    },
    {
     "name": "stdout",
     "output_type": "stream",
     "text": [
      "27 Train accuracy: 0.96 Test accuracy: 0.949\n[[162   0   0   0   0   0   0   0   0   0   0   0   0   0   0   0]\n [  0   0   0   0   0   0   0   0   0   0   0   0   0   0   0   0]\n [  1   0   7   0   0   0   1   0   0   0   0   0   0   0   0   0]\n [  0   0   0   0   0   0   0   0   0   0   0   0   0   0   0   0]\n [  0   0   0   0   2   0   4   0   0   0   0   0   0   0   0   0]\n [  0   0   0   0   0   0   0   0   0   0   0   0   0   0   0   0]\n [  0   0   0   1   0   0   5   0   0   0   0   0   0   0   0   0]\n [  0   0   0   0   0   0   1   3   0   0   0   0   0   0   0   0]\n [  0   0   0   0   0   0   0   0   3   0   0   0   0   0   0   0]\n [  0   0   0   0   0   0   0   0   0   2   0   0   0   0   0   0]\n [  0   0   0   0   0   0   0   0   0   0   6   0   0   0   0   0]\n [  0   0   0   0   0   0   0   0   0   0   0   2   0   0   0   0]\n [  0   0   0   0   0   0   0   0   0   0   0   0   0   0   0   0]\n [  0   0   0   0   0   0   0   0   0   0   0   0   0   0   0   0]\n [  0   0   0   0   0   0   0   0   0   0   0   0   0   0   0   0]\n [  0   0   0   0   0   0   0   0   0   0   0   0   0   0   0   0]]\n"
     ]
    },
    {
     "name": "stdout",
     "output_type": "stream",
     "text": [
      "28 Train accuracy: 0.925 Test accuracy: 0.957\n[[153   0   0   0   0   0   0   0   0   0   0   0   0   0   0   0]\n [  0   0   0   0   0   0   0   0   0   0   0   0   0   0   0   0]\n [  1   0   9   0   2   0   1   0   1   0   0   1   0   0   0   0]\n [  2   0   0   0   0   0   0   0   0   0   0   0   0   0   0   0]\n [  0   0   0   0   7   0   1   0   0   0   0   0   0   0   0   0]\n [  0   0   0   0   2   0   0   0   0   0   0   0   0   0   0   0]\n [  0   0   2   0   0   0   3   0   0   0   0   0   0   0   0   0]\n [  0   0   0   0   0   0   0   1   0   0   0   0   0   0   0   0]\n [  0   0   0   0   0   0   0   0   4   0   0   0   0   0   0   0]\n [  0   0   0   0   0   0   0   0   0   2   0   0   0   0   0   0]\n [  0   0   0   0   0   0   0   0   0   1   5   0   0   0   0   0]\n [  0   0   0   0   0   0   0   0   0   1   0   1   0   0   0   0]\n [  0   0   0   0   0   0   0   0   0   0   0   0   0   0   0   0]\n [  0   0   0   0   0   0   0   0   0   0   0   0   0   0   0   0]\n [  0   0   0   0   0   0   0   0   0   0   0   0   0   0   0   0]\n [  0   0   0   0   0   0   0   0   0   0   0   0   0   0   0   0]]\n"
     ]
    },
    {
     "name": "stdout",
     "output_type": "stream",
     "text": [
      "29 Train accuracy: 0.98 Test accuracy: 0.9665\n[[158   0   0   0   0   0   0   0   0   0   0   0   0   0   0   0]\n [  0   0   0   0   0   0   0   0   0   0   0   0   0   0   0   0]\n [  2   0   5   0   1   0   0   0   0   0   0   0   0   0   0   0]\n [  0   0   0   0   0   0   0   0   0   0   0   0   0   0   0   0]\n [  0   0   0   0   5   0   0   0   0   0   0   0   0   0   0   0]\n [  0   0   0   0   0   1   0   0   0   0   0   1   0   0   0   0]\n [  0   0   0   0   0   0   5   0   0   0   0   0   0   0   0   0]\n [  0   0   0   0   0   0   0   1   0   0   0   0   0   0   0   0]\n [  0   0   0   0   0   0   0   0  10   0   0   0   0   0   0   0]\n [  0   0   0   0   0   0   0   0   0   0   0   0   0   0   0   0]\n [  0   0   0   0   0   0   0   0   0   0   8   0   0   0   0   0]\n [  0   0   0   0   0   0   0   0   0   0   0   3   0   0   0   0]\n [  0   0   0   0   0   0   0   0   0   0   0   0   0   0   0   0]\n [  0   0   0   0   0   0   0   0   0   0   0   0   0   0   0   0]\n [  0   0   0   0   0   0   0   0   0   0   0   0   0   0   0   0]\n [  0   0   0   0   0   0   0   0   0   0   0   0   0   0   0   0]]\n"
     ]
    },
    {
     "name": "stdout",
     "output_type": "stream",
     "text": [
      "30 Train accuracy: 0.965 Test accuracy: 0.9645\n[[157   0   0   0   0   0   0   0   0   0   0   0   0   0   0   0]\n [  0   0   0   0   0   0   0   0   0   0   0   0   0   0   0   0]\n [  0   0   5   0   0   1   1   0   0   0   0   1   0   0   0   0]\n [  0   0   0   0   0   0   0   0   0   0   0   0   0   0   0   0]\n [  0   0   0   0  10   0   2   0   0   0   0   0   0   0   0   0]\n [  0   0   0   0   0   0   0   0   0   0   0   0   0   0   0   0]\n [  0   0   0   0   0   0   4   0   0   0   0   0   0   0   0   0]\n [  0   0   0   0   0   0   0   0   0   0   0   0   0   0   0   0]\n [  1   0   0   0   0   0   0   0   3   0   0   0   0   0   0   0]\n [  0   0   0   0   0   0   0   0   0   5   0   0   0   0   0   0]\n [  0   0   0   0   0   0   0   0   0   0   8   0   0   0   0   0]\n [  0   0   1   0   0   0   0   0   0   0   0   1   0   0   0   0]\n [  0   0   0   0   0   0   0   0   0   0   0   0   0   0   0   0]\n [  0   0   0   0   0   0   0   0   0   0   0   0   0   0   0   0]\n [  0   0   0   0   0   0   0   0   0   0   0   0   0   0   0   0]\n [  0   0   0   0   0   0   0   0   0   0   0   0   0   0   0   0]]\n"
     ]
    },
    {
     "name": "stdout",
     "output_type": "stream",
     "text": [
      "31 Train accuracy: 0.965 Test accuracy: 0.9725\n[[158   0   0   0   0   0   0   0   0   0   0   0   0   0   0   0]\n [  0   0   0   0   0   0   0   0   0   0   0   0   0   0   0   0]\n [  2   0   3   0   0   0   1   0   0   0   0   0   0   0   0   0]\n [  0   0   0   0   0   2   0   0   0   0   0   0   0   0   0   0]\n [  0   0   0   0   6   0   0   0   0   0   0   0   0   0   0   0]\n [  0   0   0   0   0   2   1   0   0   0   0   0   0   0   0   0]\n [  0   0   0   0   0   0   6   0   0   0   0   0   0   0   0   0]\n [  0   0   0   0   0   1   0   2   0   0   0   0   0   0   0   0]\n [  0   0   0   0   0   0   0   0   8   0   0   0   0   0   0   0]\n [  0   0   0   0   0   0   0   0   0   2   0   0   0   0   0   0]\n [  0   0   0   0   0   0   0   0   0   0   4   0   0   0   0   0]\n [  0   0   0   0   0   0   0   0   0   0   0   1   0   0   0   0]\n [  0   0   0   0   0   0   0   0   0   0   0   0   1   0   0   0]\n [  0   0   0   0   0   0   0   0   0   0   0   0   0   0   0   0]\n [  0   0   0   0   0   0   0   0   0   0   0   0   0   0   0   0]\n [  0   0   0   0   0   0   0   0   0   0   0   0   0   0   0   0]]\n"
     ]
    },
    {
     "name": "stdout",
     "output_type": "stream",
     "text": [
      "32 Train accuracy: 0.97 Test accuracy: 0.97\n[[152   0   0   0   0   0   0   1   0   0   0   0   0   0   0   0]\n [  0   0   0   0   0   0   0   0   0   0   0   0   0   0   0   0]\n [  0   0  10   0   0   0   1   0   0   0   0   0   0   0   0   0]\n [  0   0   0   1   0   1   0   0   0   0   0   0   0   0   0   0]\n [  0   0   3   0   4   0   0   0   0   0   0   0   0   0   0   0]\n [  0   0   0   0   0   0   0   0   0   0   0   0   0   0   0   0]\n [  0   0   0   0   0   0   6   0   0   0   0   0   0   0   0   0]\n [  0   0   0   0   0   0   0   1   0   0   0   0   0   0   0   0]\n [  0   0   0   0   0   0   0   0   6   0   0   0   0   0   0   0]\n [  0   0   0   0   0   0   0   0   0   3   0   0   0   0   0   0]\n [  0   0   0   0   0   0   0   0   0   0   7   0   0   0   0   0]\n [  0   0   0   0   0   0   0   0   0   0   0   2   0   0   0   0]\n [  0   0   0   0   0   0   0   0   0   0   0   0   1   0   0   0]\n [  0   0   0   0   0   0   0   0   0   0   0   0   0   1   0   0]\n [  0   0   0   0   0   0   0   0   0   0   0   0   0   0   0   0]\n [  0   0   0   0   0   0   0   0   0   0   0   0   0   0   0   0]]\n"
     ]
    },
    {
     "name": "stdout",
     "output_type": "stream",
     "text": [
      "33 Train accuracy: 0.965 Test accuracy: 0.953\n[[153   0   0   0   0   0   0   0   0   0   0   0   0   0   0   0]\n [  0   0   0   0   0   0   0   0   0   0   0   0   0   0   0   0]\n [  0   0   9   0   0   1   3   0   0   0   0   0   0   0   0   0]\n [  0   0   1   0   0   1   0   0   0   0   0   0   0   0   0   0]\n [  0   0   1   0   3   0   0   0   0   0   0   0   0   0   0   0]\n [  0   0   0   0   0   1   0   0   0   0   0   0   0   0   0   0]\n [  0   0   0   0   0   0   9   0   0   0   0   0   0   0   0   0]\n [  0   0   0   0   0   0   0   0   0   0   0   0   0   0   0   0]\n [  0   0   0   0   0   0   0   0   9   0   0   0   0   0   0   0]\n [  0   0   0   0   0   0   0   0   0   2   0   0   0   0   0   0]\n [  0   0   0   0   0   0   0   0   0   0   4   0   0   0   0   0]\n [  0   0   0   0   0   0   0   0   0   0   0   2   0   0   0   0]\n [  0   0   0   0   0   0   0   0   0   0   0   0   1   0   0   0]\n [  0   0   0   0   0   0   0   0   0   0   0   0   0   0   0   0]\n [  0   0   0   0   0   0   0   0   0   0   0   0   0   0   0   0]\n [  0   0   0   0   0   0   0   0   0   0   0   0   0   0   0   0]]\n"
     ]
    },
    {
     "name": "stdout",
     "output_type": "stream",
     "text": [
      "34 Train accuracy: 0.975 Test accuracy: 0.9615\n[[159   0   0   0   0   0   0   0   0   0   0   0   0   0   0   0]\n [  0   0   0   0   0   0   0   0   0   0   0   0   0   0   0   0]\n [  1   0   5   0   0   0   0   0   0   0   0   0   0   0   0   0]\n [  2   0   0   1   0   0   0   0   0   0   0   0   0   0   0   0]\n [  0   0   0   0   8   0   0   0   0   0   0   0   0   0   0   0]\n [  0   0   0   2   0   0   0   0   0   0   0   0   0   0   0   0]\n [  0   0   0   0   0   0   5   0   0   0   0   0   0   0   0   0]\n [  0   0   0   0   0   0   0   4   0   0   0   0   0   0   0   0]\n [  0   0   0   0   0   0   0   0   3   0   0   0   0   0   0   0]\n [  0   0   0   0   0   0   0   0   0   2   0   0   0   0   0   0]\n [  0   0   0   0   0   0   0   0   0   0   6   0   0   0   0   0]\n [  0   0   0   0   0   0   0   0   0   0   0   1   0   0   0   0]\n [  0   0   0   0   0   0   0   0   0   0   0   0   1   0   0   0]\n [  0   0   0   0   0   0   0   0   0   0   0   0   0   0   0   0]\n [  0   0   0   0   0   0   0   0   0   0   0   0   0   0   0   0]\n [  0   0   0   0   0   0   0   0   0   0   0   0   0   0   0   0]]\n"
     ]
    },
    {
     "name": "stdout",
     "output_type": "stream",
     "text": [
      "35 Train accuracy: 0.975 Test accuracy: 0.957\n[[162   0   0   0   0   0   0   0   0   0   0   0   0   0   0   0]\n [  0   0   0   0   0   0   0   0   0   0   0   0   0   0   0   0]\n [  2   0   3   0   1   0   0   0   0   0   0   0   0   0   0   0]\n [  0   0   0   0   0   0   0   0   0   0   0   0   0   0   0   0]\n [  0   0   0   0   5   0   0   0   0   0   0   0   0   0   0   0]\n [  0   0   0   1   0   0   0   0   0   0   0   0   0   0   0   0]\n [  0   0   0   0   0   0   6   0   0   0   0   0   0   0   0   0]\n [  0   0   0   0   0   0   0   3   0   0   0   0   0   0   0   0]\n [  0   0   0   0   0   0   0   0   5   0   0   0   0   0   0   0]\n [  0   0   0   0   0   0   0   1   0   2   0   0   0   0   0   0]\n [  0   0   0   0   0   0   0   0   0   0   7   0   0   0   0   0]\n [  0   0   0   0   0   0   0   0   0   0   0   1   0   0   0   0]\n [  0   0   0   0   0   0   0   0   0   0   0   0   1   0   0   0]\n [  0   0   0   0   0   0   0   0   0   0   0   0   0   0   0   0]\n [  0   0   0   0   0   0   0   0   0   0   0   0   0   0   0   0]\n [  0   0   0   0   0   0   0   0   0   0   0   0   0   0   0   0]]\n"
     ]
    },
    {
     "name": "stdout",
     "output_type": "stream",
     "text": [
      "36 Train accuracy: 0.965 Test accuracy: 0.9565\n[[153   0   0   0   0   0   0   0   0   0   0   0   0   0   0   0]\n [  0   0   0   0   0   0   0   0   0   0   0   0   0   0   0   0]\n [  1   0   8   0   1   0   0   0   0   0   0   0   0   0   0   0]\n [  1   0   0   0   0   0   0   0   0   0   0   0   0   0   0   0]\n [  1   0   0   0   2   0   0   0   0   0   0   0   0   0   0   0]\n [  0   0   0   0   0   1   0   0   0   0   0   0   0   0   0   0]\n [  0   0   0   0   0   0   9   0   0   0   0   0   0   0   0   0]\n [  0   0   0   0   0   0   0   3   0   0   0   0   0   0   0   0]\n [  0   0   0   0   0   0   0   0   7   0   0   0   0   0   0   0]\n [  2   0   0   0   0   0   0   0   0   1   0   0   0   0   0   0]\n [  0   0   0   0   0   0   0   0   0   0   6   0   0   0   0   0]\n [  0   0   0   0   0   0   0   0   0   0   0   2   0   0   0   0]\n [  0   0   0   0   0   0   0   0   0   0   0   0   1   0   0   0]\n [  1   0   0   0   0   0   0   0   0   0   0   0   0   0   0   0]\n [  0   0   0   0   0   0   0   0   0   0   0   0   0   0   0   0]\n [  0   0   0   0   0   0   0   0   0   0   0   0   0   0   0   0]]\n"
     ]
    },
    {
     "name": "stdout",
     "output_type": "stream",
     "text": [
      "37 Train accuracy: 0.94 Test accuracy: 0.9175\n[[162   0   0   0   0   0   0   0   0   0   0   0   0   0   0   0]\n [  0   0   0   0   0   0   0   0   0   0   0   0   0   0   0   0]\n [  7   0   3   0   1   0   0   0   1   0   0   0   0   0   0   0]\n [  0   0   0   0   0   0   0   0   0   0   0   0   0   0   0   0]\n [  0   0   0   0   6   0   0   0   0   0   0   0   0   0   0   0]\n [  0   0   0   0   0   0   0   0   0   0   0   0   0   0   0   0]\n [  0   0   2   0   0   0   4   0   0   0   0   0   0   0   0   0]\n [  0   0   0   0   0   0   0   0   0   0   0   0   0   0   0   0]\n [  0   0   0   0   0   0   0   0   5   0   0   0   0   0   0   0]\n [  0   0   0   0   0   0   0   0   0   2   0   0   0   0   0   0]\n [  1   0   0   0   0   0   0   0   0   0   4   0   0   0   0   0]\n [  0   0   0   0   0   0   0   0   0   0   0   1   0   0   0   0]\n [  0   0   0   0   0   0   0   0   0   0   0   0   1   0   0   0]\n [  0   0   0   0   0   0   0   0   0   0   0   0   0   0   0   0]\n [  0   0   0   0   0   0   0   0   0   0   0   0   0   0   0   0]\n [  0   0   0   0   0   0   0   0   0   0   0   0   0   0   0   0]]\n"
     ]
    },
    {
     "name": "stdout",
     "output_type": "stream",
     "text": [
      "38 Train accuracy: 0.97 Test accuracy: 0.968\n[[154   0   0   0   0   1   0   0   0   0   0   0   0   0   0   0]\n [  0   0   0   0   0   0   0   0   0   0   0   0   0   0   0   0]\n [  1   0   8   0   1   0   0   0   0   0   0   0   0   0   0   0]\n [  0   0   0   0   0   0   0   0   0   0   0   0   0   0   0   0]\n [  0   0   0   0   6   0   0   0   0   0   0   0   0   0   0   0]\n [  0   0   0   1   0   1   0   0   0   0   0   0   0   0   0   0]\n [  0   0   0   0   0   0   3   0   0   0   0   0   0   0   0   0]\n [  0   0   0   0   0   0   0   2   0   0   0   1   0   0   0   0]\n [  0   0   0   0   0   0   0   0   5   0   0   0   0   0   0   0]\n [  0   0   0   0   0   0   0   1   0   3   0   0   0   0   0   0]\n [  0   0   0   0   0   0   0   0   0   0   9   0   0   0   0   0]\n [  0   0   0   0   0   0   0   0   0   0   0   2   0   0   0   0]\n [  0   0   0   0   0   0   0   0   0   0   0   0   1   0   0   0]\n [  0   0   0   0   0   0   0   0   0   0   0   0   0   0   0   0]\n [  0   0   0   0   0   0   0   0   0   0   0   0   0   0   0   0]\n [  0   0   0   0   0   0   0   0   0   0   0   0   0   0   0   0]]\n"
     ]
    },
    {
     "name": "stdout",
     "output_type": "stream",
     "text": [
      "39 Train accuracy: 0.98 Test accuracy: 0.97\n[[157   0   0   0   0   0   0   0   0   0   0   0   0   0   0   0]\n [  0   0   0   0   0   0   0   0   0   0   0   0   0   0   0   0]\n [  1   0   5   0   0   0   0   0   0   0   0   0   0   0   0   0]\n [  1   0   0   0   0   0   0   0   0   0   0   0   0   0   0   0]\n [  0   0   0   0   7   0   0   0   0   0   0   0   0   0   0   0]\n [  0   0   0   0   0   2   0   0   0   0   0   0   0   0   0   0]\n [  0   0   0   0   0   0  14   0   0   0   0   0   0   0   0   0]\n [  0   0   0   0   0   0   0   2   0   0   0   0   1   0   0   0]\n [  0   0   1   0   0   0   0   0   4   0   0   0   0   0   0   0]\n [  0   0   0   0   0   0   0   0   0   0   0   0   0   0   0   0]\n [  0   0   0   0   0   0   0   0   0   0   4   0   0   0   0   0]\n [  0   0   0   0   0   0   0   0   0   0   0   0   0   0   0   0]\n [  0   0   0   0   0   0   0   0   0   0   0   0   1   0   0   0]\n [  0   0   0   0   0   0   0   0   0   0   0   0   0   0   0   0]\n [  0   0   0   0   0   0   0   0   0   0   0   0   0   0   0   0]\n [  0   0   0   0   0   0   0   0   0   0   0   0   0   0   0   0]]\n"
     ]
    },
    {
     "name": "stdout",
     "output_type": "stream",
     "text": [
      "40 Train accuracy: 0.935 Test accuracy: 0.9675\n[[145   0   0   0   0   0   0   0   0   0   0   0   0   0   0   0]\n [  0   0   0   0   0   0   0   0   0   0   0   0   0   0   0   0]\n [  2   0   6   0   3   0   1   0   0   0   0   0   0   0   0   0]\n [  0   0   0   1   1   0   0   0   0   0   0   0   0   0   0   0]\n [  0   0   0   0   8   0   0   2   0   0   0   0   0   0   0   0]\n [  0   0   0   0   2   0   0   0   0   0   0   0   0   0   0   0]\n [  0   0   0   0   0   0   5   0   0   0   0   0   0   0   0   0]\n [  0   0   0   0   0   0   0   1   0   1   0   0   0   0   0   0]\n [  0   0   0   0   0   0   0   0  10   0   0   0   0   0   0   0]\n [  1   0   0   0   0   0   0   0   0   4   0   0   0   0   0   0]\n [  0   0   0   0   0   0   0   0   0   0   4   0   0   0   0   0]\n [  0   0   0   0   0   0   0   0   0   0   0   1   0   0   0   0]\n [  0   0   0   0   0   0   0   0   0   0   0   0   2   0   0   0]\n [  0   0   0   0   0   0   0   0   0   0   0   0   0   0   0   0]\n [  0   0   0   0   0   0   0   0   0   0   0   0   0   0   0   0]\n [  0   0   0   0   0   0   0   0   0   0   0   0   0   0   0   0]]\n"
     ]
    },
    {
     "name": "stdout",
     "output_type": "stream",
     "text": [
      "41 Train accuracy: 0.97 Test accuracy: 0.963\n[[155   0   1   0   0   0   0   0   0   0   0   0   0   0   0   0]\n [  0   0   0   0   0   0   0   0   0   0   0   0   0   0   0   0]\n [  0   0  11   0   0   0   0   0   0   0   0   0   0   0   0   0]\n [  0   0   0   0   0   1   0   0   0   0   0   0   0   0   0   0]\n [  0   0   0   0   6   0   0   0   0   0   0   0   0   0   0   0]\n [  0   0   0   0   0   1   1   0   0   0   0   0   0   0   0   0]\n [  0   0   2   0   0   0   3   0   0   0   0   0   0   0   0   0]\n [  0   0   1   0   0   0   0   0   0   0   0   0   0   0   0   0]\n [  0   0   0   0   0   0   0   0   5   0   0   0   0   0   0   0]\n [  0   0   0   0   0   0   0   0   0   2   0   0   0   0   0   0]\n [  0   0   0   0   0   0   0   0   0   0   5   0   0   0   0   0]\n [  0   0   0   0   0   0   0   0   0   0   0   4   0   0   0   0]\n [  0   0   0   0   0   0   0   0   0   0   0   0   2   0   0   0]\n [  0   0   0   0   0   0   0   0   0   0   0   0   0   0   0   0]\n [  0   0   0   0   0   0   0   0   0   0   0   0   0   0   0   0]\n [  0   0   0   0   0   0   0   0   0   0   0   0   0   0   0   0]]\n"
     ]
    },
    {
     "name": "stdout",
     "output_type": "stream",
     "text": [
      "42 Train accuracy: 0.98 Test accuracy: 0.979\n[[143   0   0   0   0   0   0   1   0   0   0   0   0   0   0   0]\n [  0   0   0   0   0   0   0   0   0   0   0   0   0   0   0   0]\n [  0   0  12   0   0   0   0   0   0   0   0   0   0   0   0   0]\n [  0   0   0   0   0   0   0   0   0   0   0   1   0   0   0   0]\n [  0   0   0   0   7   0   0   0   0   0   0   0   0   0   0   0]\n [  0   0   0   1   0   3   0   0   0   0   0   0   0   0   0   0]\n [  0   0   0   0   0   0   5   0   0   0   0   0   0   0   0   0]\n [  0   0   0   0   0   0   0   3   0   0   0   0   0   0   0   0]\n [  0   0   0   0   0   0   0   0   6   0   0   0   0   0   0   0]\n [  0   0   0   0   0   1   0   0   0   2   0   0   0   0   0   0]\n [  0   0   0   0   0   0   0   0   0   0  10   0   0   0   0   0]\n [  0   0   0   0   0   0   0   0   0   0   0   4   0   0   0   0]\n [  0   0   0   0   0   0   0   0   0   0   0   0   1   0   0   0]\n [  0   0   0   0   0   0   0   0   0   0   0   0   0   0   0   0]\n [  0   0   0   0   0   0   0   0   0   0   0   0   0   0   0   0]\n [  0   0   0   0   0   0   0   0   0   0   0   0   0   0   0   0]]\n"
     ]
    },
    {
     "name": "stdout",
     "output_type": "stream",
     "text": [
      "43 Train accuracy: 0.99 Test accuracy: 0.971\n[[154   0   1   0   0   0   0   0   0   0   0   0   0   0   0   0]\n [  0   0   0   0   0   0   0   0   0   0   0   0   0   0   0   0]\n [  0   0   3   0   0   0   0   0   0   0   0   0   0   0   0   0]\n [  0   0   0   1   0   0   0   0   0   0   0   0   0   0   0   0]\n [  0   0   0   0  12   0   0   0   0   0   0   0   0   0   0   0]\n [  0   0   0   1   0   1   0   0   0   0   0   0   0   0   0   0]\n [  0   0   0   0   0   0   4   0   0   0   0   0   0   0   0   0]\n [  0   0   0   0   0   0   0   1   0   0   0   0   0   0   0   0]\n [  0   0   0   0   0   0   0   0   7   0   0   0   0   0   0   0]\n [  0   0   0   0   0   0   0   0   0   5   0   0   0   0   0   0]\n [  0   0   0   0   0   0   0   0   0   0   5   0   0   0   0   0]\n [  0   0   0   0   0   0   0   0   0   0   0   4   0   0   0   0]\n [  0   0   0   0   0   0   0   0   0   0   0   0   1   0   0   0]\n [  0   0   0   0   0   0   0   0   0   0   0   0   0   0   0   0]\n [  0   0   0   0   0   0   0   0   0   0   0   0   0   0   0   0]\n [  0   0   0   0   0   0   0   0   0   0   0   0   0   0   0   0]]\n"
     ]
    },
    {
     "name": "stdout",
     "output_type": "stream",
     "text": [
      "44 Train accuracy: 0.96 Test accuracy: 0.96\n[[154   0   0   0   0   0   0   0   0   0   0   0   0   0   0   0]\n [  0   0   0   0   0   0   0   0   0   0   0   0   0   0   0   0]\n [  2   0   7   1   0   0   1   0   1   0   0   0   0   0   0   0]\n [  0   0   0   1   0   0   0   0   0   0   1   0   0   0   0   0]\n [  0   0   0   1   4   0   0   0   0   0   0   0   0   0   0   0]\n [  0   0   0   0   0   1   0   0   0   0   0   0   0   0   0   0]\n [  0   0   0   0   0   0   6   0   0   0   0   0   0   0   0   0]\n [  0   0   0   0   0   0   0   1   0   1   0   0   0   0   0   0]\n [  0   0   0   0   0   0   0   0   6   0   0   0   0   0   0   0]\n [  0   0   0   0   0   0   0   0   0   4   0   0   0   0   0   0]\n [  0   0   0   0   0   0   0   0   0   0   5   0   0   0   0   0]\n [  0   0   0   0   0   0   0   0   0   0   0   2   0   0   0   0]\n [  0   0   0   0   0   0   0   0   0   0   0   0   1   0   0   0]\n [  0   0   0   0   0   0   0   0   0   0   0   0   0   0   0   0]\n [  0   0   0   0   0   0   0   0   0   0   0   0   0   0   0   0]\n [  0   0   0   0   0   0   0   0   0   0   0   0   0   0   0   0]]\n"
     ]
    },
    {
     "name": "stdout",
     "output_type": "stream",
     "text": [
      "45 Train accuracy: 0.97 Test accuracy: 0.9525\n[[165   0   0   0   0   0   0   0   0   0   0   0   0   0   0   0]\n [  0   0   0   0   0   0   0   0   0   0   0   0   0   0   0   0]\n [  1   0   5   0   3   0   0   0   0   0   0   0   0   0   0   0]\n [  0   0   0   0   0   0   0   0   0   0   0   0   0   0   0   0]\n [  0   0   0   0   6   0   0   0   0   0   0   0   0   0   0   0]\n [  0   0   0   1   0   0   0   0   0   0   0   0   0   0   0   0]\n [  0   0   0   0   0   0   3   0   0   0   0   0   0   0   0   0]\n [  0   0   0   1   0   0   0   0   0   0   0   0   0   0   0   0]\n [  0   0   0   0   0   0   0   0   4   0   0   0   0   0   0   0]\n [  0   0   0   0   0   0   0   0   0   2   0   0   0   0   0   0]\n [  0   0   0   0   0   0   0   0   0   0   6   0   0   0   0   0]\n [  0   0   0   0   0   0   0   0   0   0   0   2   0   0   0   0]\n [  0   0   0   0   0   0   0   0   0   0   0   0   1   0   0   0]\n [  0   0   0   0   0   0   0   0   0   0   0   0   0   0   0   0]\n [  0   0   0   0   0   0   0   0   0   0   0   0   0   0   0   0]\n [  0   0   0   0   0   0   0   0   0   0   0   0   0   0   0   0]]\n"
     ]
    },
    {
     "name": "stdout",
     "output_type": "stream",
     "text": [
      "46 Train accuracy: 0.99 Test accuracy: 0.982\n[[169   0   0   0   0   0   0   0   0   0   0   0   0   0   0   0]\n [  0   0   0   0   0   0   0   0   0   0   0   0   0   0   0   0]\n [  0   0   3   0   0   0   0   0   0   0   0   0   0   0   0   0]\n [  0   0   0   0   0   0   0   0   0   0   0   0   0   0   0   0]\n [  0   0   0   0   6   0   0   0   0   0   0   1   0   0   0   0]\n [  0   0   0   0   0   0   0   0   0   0   0   0   0   0   0   0]\n [  0   0   0   0   0   0   7   0   0   0   0   0   0   0   0   0]\n [  0   0   0   0   0   0   0   2   0   1   0   0   0   0   0   0]\n [  0   0   0   0   0   0   0   0   4   0   0   0   0   0   0   0]\n [  0   0   0   0   0   0   0   0   0   0   0   0   0   0   0   0]\n [  0   0   0   0   0   0   0   0   0   0   6   0   0   0   0   0]\n [  0   0   0   0   0   0   0   0   0   0   0   0   0   0   0   0]\n [  0   0   0   0   0   0   0   0   0   0   0   0   1   0   0   0]\n [  0   0   0   0   0   0   0   0   0   0   0   0   0   0   0   0]\n [  0   0   0   0   0   0   0   0   0   0   0   0   0   0   0   0]\n [  0   0   0   0   0   0   0   0   0   0   0   0   0   0   0   0]]\n"
     ]
    },
    {
     "name": "stdout",
     "output_type": "stream",
     "text": [
      "47 Train accuracy: 0.97 Test accuracy: 0.9755\n[[149   0   0   0   0   0   0   0   0   0   1   0   0   0   0   0]\n [  0   0   0   0   0   0   0   0   0   0   0   0   0   0   0   0]\n [  1   0   8   0   0   0   0   0   0   0   0   1   0   0   0   0]\n [  0   0   0   1   0   0   0   0   0   0   0   0   0   0   0   0]\n [  0   0   1   0   7   0   0   0   0   0   0   0   0   0   0   0]\n [  0   0   0   0   0   1   0   0   0   0   0   0   0   0   0   0]\n [  0   0   0   0   0   0   7   0   0   0   0   0   0   0   0   0]\n [  0   0   0   1   0   0   0   2   0   0   0   0   0   0   0   0]\n [  0   0   0   0   0   0   0   0   5   0   0   0   0   0   0   0]\n [  0   0   1   0   0   0   0   0   0   1   0   0   0   0   0   0]\n [  0   0   0   0   0   0   0   0   0   0   9   0   0   0   0   0]\n [  0   0   0   0   0   0   0   0   0   0   0   3   0   0   0   0]\n [  0   0   0   0   0   0   0   0   0   0   0   0   1   0   0   0]\n [  0   0   0   0   0   0   0   0   0   0   0   0   0   0   0   0]\n [  0   0   0   0   0   0   0   0   0   0   0   0   0   0   0   0]\n [  0   0   0   0   0   0   0   0   0   0   0   0   0   0   0   0]]\n"
     ]
    },
    {
     "name": "stdout",
     "output_type": "stream",
     "text": [
      "48 Train accuracy: 0.99 Test accuracy: 0.9705\n[[151   0   0   0   0   0   0   0   0   0   0   0   0   0   0   0]\n [  0   0   0   0   0   0   0   0   0   0   0   0   0   0   0   0]\n [  0   0   9   0   0   0   0   0   0   0   0   0   0   0   0   0]\n [  0   0   0   2   0   0   1   0   0   0   0   0   0   0   0   0]\n [  0   0   0   0   9   0   0   0   0   0   0   0   0   0   0   0]\n [  0   0   0   0   0   1   0   0   0   0   0   0   0   0   0   0]\n [  0   0   0   0   0   0   6   0   0   0   0   0   0   0   0   0]\n [  0   0   1   0   0   0   0   1   0   0   0   0   0   0   0   0]\n [  0   0   0   0   0   0   0   0   4   0   0   0   0   0   0   0]\n [  0   0   0   0   0   0   0   0   0   4   0   0   0   0   0   0]\n [  0   0   0   0   0   0   0   0   0   0   7   0   0   0   0   0]\n [  0   0   0   0   0   0   0   0   0   0   0   2   0   0   0   0]\n [  0   0   0   0   0   0   0   0   0   0   0   0   1   0   0   0]\n [  0   0   0   0   0   0   0   0   0   0   0   0   0   1   0   0]\n [  0   0   0   0   0   0   0   0   0   0   0   0   0   0   0   0]\n [  0   0   0   0   0   0   0   0   0   0   0   0   0   0   0   0]]\n"
     ]
    },
    {
     "name": "stdout",
     "output_type": "stream",
     "text": [
      "49 Train accuracy: 0.96 Test accuracy: 0.9725\n[[147   0   0   0   0   0   0   0   0   0   0   0   0   0   0   0]\n [  0   0   0   0   0   0   0   0   0   0   0   0   0   0   0   0]\n [  1   0   3   0   0   0   3   0   0   0   0   0   0   0   0   0]\n [  0   0   0   0   0   0   0   0   0   0   0   0   0   0   0   0]\n [  0   0   0   0   8   0   0   0   0   0   0   0   0   0   0   0]\n [  0   0   0   0   0   1   1   0   0   0   0   0   0   0   0   0]\n [  0   0   0   0   0   0   7   0   0   0   0   0   0   0   0   0]\n [  0   0   1   0   0   0   0   4   0   0   0   0   0   0   0   0]\n [  0   0   0   0   0   0   0   0   8   0   0   0   0   0   0   0]\n [  1   0   0   0   0   0   0   0   0   2   0   0   0   0   0   0]\n [  0   0   0   0   0   0   0   0   0   0   5   0   0   0   0   0]\n [  0   0   0   0   0   0   0   0   0   0   0   6   0   0   0   0]\n [  0   0   1   0   0   0   0   0   0   0   0   0   1   0   0   0]\n [  0   0   0   0   0   0   0   0   0   0   0   0   0   0   0   0]\n [  0   0   0   0   0   0   0   0   0   0   0   0   0   0   0   0]\n [  0   0   0   0   0   0   0   0   0   0   0   0   0   0   0   0]]\n"
     ]
    },
    {
     "name": "stdout",
     "output_type": "stream",
     "text": [
      "50 Train accuracy: 0.975 Test accuracy: 0.9775\n[[145   0   0   0   0   0   0   0   0   0   0   0   0   0   0   0]\n [  0   0   0   0   0   0   0   0   0   0   0   0   0   0   0   0]\n [  0   0   9   0   1   0   0   1   0   1   0   0   0   0   0   0]\n [  0   0   0   2   0   0   0   0   0   0   0   0   0   0   0   0]\n [  0   0   0   0   8   0   0   0   0   0   0   0   0   0   0   0]\n [  0   0   0   1   0   2   0   0   0   0   0   0   0   0   0   0]\n [  0   0   0   0   0   0   6   0   0   0   0   0   0   0   0   0]\n [  0   0   0   1   0   0   0   2   0   0   0   0   0   0   0   0]\n [  0   0   0   0   0   0   0   0   4   0   0   0   0   0   0   0]\n [  0   0   0   0   0   0   0   0   0   5   0   0   0   0   0   0]\n [  0   0   0   0   0   0   0   0   0   0   6   0   0   0   0   0]\n [  0   0   0   0   0   0   0   0   0   0   0   4   0   0   0   0]\n [  0   0   0   0   0   0   0   0   0   0   0   0   2   0   0   0]\n [  0   0   0   0   0   0   0   0   0   0   0   0   0   0   0   0]\n [  0   0   0   0   0   0   0   0   0   0   0   0   0   0   0   0]\n [  0   0   0   0   0   0   0   0   0   0   0   0   0   0   0   0]]\n"
     ]
    },
    {
     "name": "stdout",
     "output_type": "stream",
     "text": [
      "51 Train accuracy: 0.985 Test accuracy: 0.971\n[[154   0   0   0   0   0   0   0   0   0   0   0   0   0   0   0]\n [  0   0   0   0   0   0   0   0   0   0   0   0   0   0   0   0]\n [  0   0   9   0   0   0   0   0   0   0   0   0   0   0   0   0]\n [  0   0   0   0   0   0   0   0   0   0   0   0   0   0   0   0]\n [  0   0   0   0   6   0   1   0   0   0   0   0   0   0   0   0]\n [  0   0   0   0   0   0   0   0   0   0   0   0   0   0   0   0]\n [  0   0   0   0   0   0   9   0   0   0   0   0   0   0   0   0]\n [  0   0   0   0   0   0   0   1   0   0   0   0   0   0   0   0]\n [  0   0   0   0   0   0   0   0  12   0   0   0   0   0   0   0]\n [  0   0   0   0   0   1   0   1   0   1   0   0   0   0   0   0]\n [  0   0   0   0   0   0   0   0   0   0   5   0   0   0   0   0]\n [  0   0   0   0   0   0   0   0   0   0   0   0   0   0   0   0]\n [  0   0   0   0   0   0   0   0   0   0   0   0   0   0   0   0]\n [  0   0   0   0   0   0   0   0   0   0   0   0   0   0   0   0]\n [  0   0   0   0   0   0   0   0   0   0   0   0   0   0   0   0]\n [  0   0   0   0   0   0   0   0   0   0   0   0   0   0   0   0]]\n"
     ]
    },
    {
     "name": "stdout",
     "output_type": "stream",
     "text": [
      "52 Train accuracy: 0.965 Test accuracy: 0.98\n[[141   0   0   0   0   0   0   0   0   0   0   0   0   0   0   0]\n [  0   0   0   0   0   0   0   0   0   0   0   0   0   0   0   0]\n [  0   0  14   0   0   0   0   0   0   0   0   0   0   0   0   0]\n [  0   0   0   0   0   0   1   0   0   0   0   0   0   0   0   0]\n [  0   0   1   0   9   0   0   0   0   0   0   0   0   0   0   0]\n [  0   0   0   1   0   2   0   0   0   0   0   0   0   0   0   0]\n [  0   0   0   0   0   0  11   0   0   0   0   0   0   0   0   0]\n [  0   0   0   1   0   0   0   1   0   0   0   0   0   0   0   0]\n [  0   0   0   0   0   0   0   0   4   0   0   0   0   0   0   0]\n [  0   0   0   0   0   0   0   1   0   3   1   0   0   0   0   0]\n [  0   0   0   0   0   0   0   0   0   0   4   0   0   0   0   0]\n [  0   0   0   0   0   0   0   0   0   0   0   3   0   0   0   0]\n [  0   0   0   0   0   0   0   0   0   0   0   0   1   0   0   0]\n [  0   0   0   0   0   0   0   0   0   1   0   0   0   0   0   0]\n [  0   0   0   0   0   0   0   0   0   0   0   0   0   0   0   0]\n [  0   0   0   0   0   0   0   0   0   0   0   0   0   0   0   0]]\n"
     ]
    },
    {
     "name": "stdout",
     "output_type": "stream",
     "text": [
      "53 Train accuracy: 0.97 Test accuracy: 0.982\n[[149   0   0   0   0   0   0   0   0   0   0   0   0   0   0   0]\n [  0   0   0   0   0   0   0   0   0   0   0   0   0   0   0   0]\n [  2   0   3   0   0   1   0   0   0   0   0   0   0   0   0   0]\n [  0   0   0   0   0   0   0   0   0   0   0   0   0   0   0   0]\n [  0   0   1   0  10   0   0   0   0   0   0   0   0   0   0   0]\n [  0   0   0   0   0   1   0   1   0   0   0   0   0   0   0   0]\n [  0   0   0   0   0   0   6   0   0   0   0   0   0   0   0   0]\n [  0   0   0   0   0   0   0   4   0   0   0   0   0   0   0   0]\n [  0   0   0   0   0   0   0   0   4   0   0   0   0   0   0   0]\n [  0   0   0   0   0   0   0   0   0   1   0   0   0   0   0   0]\n [  0   0   0   0   0   0   0   0   0   0  11   0   0   0   0   0]\n [  0   0   0   0   0   0   0   0   0   0   0   4   0   0   0   0]\n [  0   0   0   0   0   0   0   1   0   0   0   0   1   0   0   0]\n [  0   0   0   0   0   0   0   0   0   0   0   0   0   0   0   0]\n [  0   0   0   0   0   0   0   0   0   0   0   0   0   0   0   0]\n [  0   0   0   0   0   0   0   0   0   0   0   0   0   0   0   0]]\n"
     ]
    },
    {
     "name": "stdout",
     "output_type": "stream",
     "text": [
      "54 Train accuracy: 0.985 Test accuracy: 0.9775\n[[153   0   0   0   0   0   0   0   0   0   0   0   0   0   0   0]\n [  0   0   0   0   0   0   0   0   0   0   0   0   0   0   0   0]\n [  1   0   8   0   0   0   0   0   0   0   0   0   0   0   0   0]\n [  1   0   0   0   0   0   0   0   0   0   0   0   0   0   0   0]\n [  0   0   0   0   9   0   0   0   0   0   0   0   0   0   0   0]\n [  0   0   0   0   0   2   0   0   0   0   0   0   0   0   0   0]\n [  0   0   0   0   0   0   7   0   0   0   0   0   0   0   0   0]\n [  0   0   0   0   0   0   0   1   0   0   0   0   0   0   0   0]\n [  0   0   0   0   0   0   1   0   8   0   0   0   0   0   0   0]\n [  0   0   0   0   0   0   0   0   0   2   0   0   0   0   0   0]\n [  0   0   0   0   0   0   0   0   0   0   4   0   0   0   0   0]\n [  0   0   0   0   0   0   0   0   0   0   0   1   0   0   0   0]\n [  0   0   0   0   0   0   0   0   0   0   0   0   2   0   0   0]\n [  0   0   0   0   0   0   0   0   0   0   0   0   0   0   0   0]\n [  0   0   0   0   0   0   0   0   0   0   0   0   0   0   0   0]\n [  0   0   0   0   0   0   0   0   0   0   0   0   0   0   0   0]]\n"
     ]
    },
    {
     "name": "stdout",
     "output_type": "stream",
     "text": [
      "55 Train accuracy: 0.995 Test accuracy: 0.9835\n[[152   0   0   0   0   0   0   0   0   0   0   0   0   0   0   0]\n [  0   0   0   0   0   0   0   0   0   0   0   0   0   0   0   0]\n [  0   0  12   0   0   0   0   0   0   0   0   0   0   0   0   0]\n [  0   0   0   0   0   0   0   0   0   0   0   0   0   0   0   0]\n [  0   0   0   0   9   0   1   0   0   0   0   0   0   0   0   0]\n [  0   0   0   0   0   2   0   0   0   0   0   0   0   0   0   0]\n [  0   0   0   0   0   0   9   0   0   0   0   0   0   0   0   0]\n [  0   0   0   0   0   0   0   1   0   0   0   0   0   0   0   0]\n [  0   0   0   0   0   0   0   0   5   0   0   0   0   0   0   0]\n [  0   0   0   0   0   0   0   0   0   2   0   0   0   0   0   0]\n [  0   0   0   0   0   0   0   0   0   0   3   0   0   0   0   0]\n [  0   0   0   0   0   0   0   0   0   0   0   4   0   0   0   0]\n [  0   0   0   0   0   0   0   0   0   0   0   0   0   0   0   0]\n [  0   0   0   0   0   0   0   0   0   0   0   0   0   0   0   0]\n [  0   0   0   0   0   0   0   0   0   0   0   0   0   0   0   0]\n [  0   0   0   0   0   0   0   0   0   0   0   0   0   0   0   0]]\n"
     ]
    },
    {
     "name": "stdout",
     "output_type": "stream",
     "text": [
      "56 Train accuracy: 0.98 Test accuracy: 0.985\n[[155   0   0   0   0   0   0   0   0   0   0   0   0   0   0   0]\n [  0   0   0   0   0   0   0   0   0   0   0   0   0   0   0   0]\n [  0   0   6   0   0   1   0   0   0   0   0   0   1   0   0   0]\n [  0   0   0   1   0   1   0   0   0   0   0   0   0   0   0   0]\n [  0   0   0   0   5   0   0   0   0   0   0   0   0   0   0   0]\n [  0   0   0   0   0   3   0   1   0   0   0   0   0   0   0   0]\n [  0   0   0   0   0   0   4   0   0   0   0   0   0   0   0   0]\n [  0   0   0   0   0   0   0   2   0   0   0   0   0   0   0   0]\n [  0   0   0   0   0   0   0   0   3   0   0   0   0   0   0   0]\n [  0   0   0   0   0   0   0   0   0   2   0   0   0   0   0   0]\n [  0   0   0   0   0   0   0   0   0   0  12   0   0   0   0   0]\n [  0   0   0   0   0   0   0   0   0   0   0   0   0   0   0   0]\n [  0   0   0   0   0   0   0   0   0   0   0   0   3   0   0   0]\n [  0   0   0   0   0   0   0   0   0   0   0   0   0   0   0   0]\n [  0   0   0   0   0   0   0   0   0   0   0   0   0   0   0   0]\n [  0   0   0   0   0   0   0   0   0   0   0   0   0   0   0   0]]\n"
     ]
    },
    {
     "name": "stdout",
     "output_type": "stream",
     "text": [
      "57 Train accuracy: 0.985 Test accuracy: 0.968\n[[160   0   0   0   0   0   0   0   0   1   0   0   0   0   0   0]\n [  0   0   0   0   0   0   0   0   0   0   0   0   0   0   0   0]\n [  0   0   6   0   1   0   0   0   0   0   0   0   0   0   0   0]\n [  0   0   0   0   0   0   0   0   0   0   0   0   0   0   0   0]\n [  0   0   0   0   5   0   0   0   0   0   0   0   0   0   0   0]\n [  0   0   0   0   0   0   0   0   0   1   0   0   0   0   0   0]\n [  0   0   0   0   0   0   6   0   0   0   0   0   0   0   0   0]\n [  0   0   0   0   0   0   0   1   0   0   0   0   0   0   0   0]\n [  0   0   0   0   0   0   0   0   6   0   0   0   0   0   0   0]\n [  0   0   0   0   0   0   0   0   0   2   0   0   0   0   0   0]\n [  0   0   0   0   0   0   0   0   0   0   7   0   0   0   0   0]\n [  0   0   0   0   0   0   0   0   0   0   0   3   0   0   0   0]\n [  0   0   0   0   0   0   0   0   0   0   0   0   1   0   0   0]\n [  0   0   0   0   0   0   0   0   0   0   0   0   0   0   0   0]\n [  0   0   0   0   0   0   0   0   0   0   0   0   0   0   0   0]\n [  0   0   0   0   0   0   0   0   0   0   0   0   0   0   0   0]]\n"
     ]
    },
    {
     "name": "stdout",
     "output_type": "stream",
     "text": [
      "58 Train accuracy: 0.995 Test accuracy: 0.9775\n[[160   0   0   0   0   0   0   0   0   0   0   0   0   0   0   0]\n [  0   0   0   0   0   0   0   0   0   0   0   0   0   0   0   0]\n [  0   0  10   0   0   0   0   0   0   0   0   0   0   0   0   0]\n [  0   0   0   2   0   0   0   0   0   0   0   1   0   0   0   0]\n [  0   0   0   0   8   0   0   0   0   0   0   0   0   0   0   0]\n [  0   0   0   0   0   1   0   0   0   0   0   0   0   0   0   0]\n [  0   0   0   0   0   0   4   0   0   0   0   0   0   0   0   0]\n [  0   0   0   0   0   0   0   2   0   0   0   0   0   0   0   0]\n [  0   0   0   0   0   0   0   0   2   0   0   0   0   0   0   0]\n [  0   0   0   0   0   0   0   0   0   2   0   0   0   0   0   0]\n [  0   0   0   0   0   0   0   0   0   0   4   0   0   0   0   0]\n [  0   0   0   0   0   0   0   0   0   0   0   2   0   0   0   0]\n [  0   0   0   0   0   0   0   0   0   0   0   0   1   0   0   0]\n [  0   0   0   0   0   0   0   0   0   0   0   0   0   1   0   0]\n [  0   0   0   0   0   0   0   0   0   0   0   0   0   0   0   0]\n [  0   0   0   0   0   0   0   0   0   0   0   0   0   0   0   0]]\n"
     ]
    },
    {
     "name": "stdout",
     "output_type": "stream",
     "text": [
      "59 Train accuracy: 0.975 Test accuracy: 0.9655\n[[156   0   0   0   0   0   0   0   0   0   0   0   0   0   0   0]\n [  0   0   0   0   0   0   0   0   0   0   0   0   0   0   0   0]\n [  3   0   7   0   0   0   0   0   0   0   0   0   0   0   0   0]\n [  0   0   0   0   0   0   0   0   1   0   0   0   0   0   0   0]\n [  0   0   0   0   6   0   0   0   1   0   0   0   0   0   0   0]\n [  0   0   0   0   0   1   0   0   0   0   0   0   0   0   0   0]\n [  0   0   0   0   0   0   5   0   0   0   0   0   0   0   0   0]\n [  0   0   0   0   0   0   0   2   0   0   0   0   0   0   0   0]\n [  0   0   0   0   0   0   0   0  11   0   0   0   0   0   0   0]\n [  0   0   0   0   0   0   0   0   0   1   0   0   0   0   0   0]\n [  0   0   0   0   0   0   0   0   0   0   5   0   0   0   0   0]\n [  0   0   0   0   0   0   0   0   0   0   0   1   0   0   0   0]\n [  0   0   0   0   0   0   0   0   0   0   0   0   0   0   0   0]\n [  0   0   0   0   0   0   0   0   0   0   0   0   0   0   0   0]\n [  0   0   0   0   0   0   0   0   0   0   0   0   0   0   0   0]\n [  0   0   0   0   0   0   0   0   0   0   0   0   0   0   0   0]]\n"
     ]
    },
    {
     "name": "stdout",
     "output_type": "stream",
     "text": [
      "60 Train accuracy: 0.985 Test accuracy: 0.9835\n[[154   0   0   0   0   0   0   0   0   0   0   0   0   0   0   0]\n [  0   0   0   0   0   0   0   0   0   0   0   0   0   0   0   0]\n [  1   0   5   0   0   0   0   2   0   0   0   0   0   0   0   0]\n [  0   0   0   2   0   0   0   0   0   0   0   0   0   0   0   0]\n [  0   0   0   0  10   0   0   0   0   0   0   0   0   0   0   0]\n [  0   0   0   0   0   0   0   0   0   0   0   0   0   0   0   0]\n [  0   0   0   0   0   0  11   0   0   0   0   0   0   0   0   0]\n [  0   0   0   0   0   0   0   0   0   0   0   0   0   0   0   0]\n [  0   0   0   0   0   0   0   0   6   0   0   0   0   0   0   0]\n [  0   0   0   0   0   0   0   0   0   3   0   0   0   0   0   0]\n [  0   0   0   0   0   0   0   0   0   0   2   0   0   0   0   0]\n [  0   0   0   0   0   0   0   0   0   0   0   3   0   0   0   0]\n [  0   0   0   0   0   0   0   0   0   0   0   0   0   0   0   0]\n [  0   0   0   0   0   0   0   0   0   0   0   0   0   1   0   0]\n [  0   0   0   0   0   0   0   0   0   0   0   0   0   0   0   0]\n [  0   0   0   0   0   0   0   0   0   0   0   0   0   0   0   0]]\n"
     ]
    },
    {
     "name": "stdout",
     "output_type": "stream",
     "text": [
      "61 Train accuracy: 0.99 Test accuracy: 0.988\n[[157   0   0   0   0   0   0   0   0   0   0   0   0   0   0   0]\n [  0   0   0   0   0   0   0   0   0   0   0   0   0   0   0   0]\n [  0   0   7   0   0   0   0   0   0   0   0   0   0   0   0   0]\n [  0   0   0   1   0   0   0   0   0   0   0   0   0   0   0   0]\n [  0   0   1   0   7   0   0   0   0   0   0   0   0   0   0   0]\n [  0   0   0   0   0   2   0   0   0   0   0   0   0   0   0   0]\n [  0   0   0   0   0   0   7   0   0   0   0   0   0   0   0   0]\n [  0   0   0   0   0   0   0   1   0   1   0   0   0   0   0   0]\n [  0   0   0   0   0   0   0   0   6   0   0   0   0   0   0   0]\n [  0   0   0   0   0   0   0   0   0   0   0   0   0   0   0   0]\n [  0   0   0   0   0   0   0   0   0   0   6   0   0   0   0   0]\n [  0   0   0   0   0   0   0   0   0   0   0   2   0   0   0   0]\n [  0   0   0   0   0   0   0   0   0   0   0   0   2   0   0   0]\n [  0   0   0   0   0   0   0   0   0   0   0   0   0   0   0   0]\n [  0   0   0   0   0   0   0   0   0   0   0   0   0   0   0   0]\n [  0   0   0   0   0   0   0   0   0   0   0   0   0   0   0   0]]\n"
     ]
    },
    {
     "name": "stdout",
     "output_type": "stream",
     "text": [
      "62 Train accuracy: 0.995 Test accuracy: 0.982\n[[154   0   0   0   0   0   0   0   0   0   0   0   0   0   0   0]\n [  0   0   0   0   0   0   0   0   0   0   0   0   0   0   0   0]\n [  0   0  13   0   0   0   0   0   0   0   0   0   0   0   0   0]\n [  0   0   0   1   0   0   0   0   0   0   0   0   0   0   0   0]\n [  0   0   0   0   7   0   0   0   0   0   0   0   0   0   0   0]\n [  0   0   0   0   0   0   0   0   0   0   0   0   0   0   0   0]\n [  0   0   1   0   0   0   4   0   0   0   0   0   0   0   0   0]\n [  0   0   0   0   0   0   0   2   0   0   0   0   0   0   0   0]\n [  0   0   0   0   0   0   0   0   3   0   0   0   0   0   0   0]\n [  0   0   0   0   0   0   0   0   0   3   0   0   0   0   0   0]\n [  0   0   0   0   0   0   0   0   0   0   3   0   0   0   0   0]\n [  0   0   0   0   0   0   0   0   0   0   0   6   0   0   0   0]\n [  0   0   0   0   0   0   0   0   0   0   0   0   2   0   0   0]\n [  0   0   0   0   0   0   0   0   0   0   0   0   0   1   0   0]\n [  0   0   0   0   0   0   0   0   0   0   0   0   0   0   0   0]\n [  0   0   0   0   0   0   0   0   0   0   0   0   0   0   0   0]]\n"
     ]
    },
    {
     "name": "stdout",
     "output_type": "stream",
     "text": [
      "63 Train accuracy: 0.975 Test accuracy: 0.979\n[[151   0   0   0   0   0   0   0   0   0   0   0   0   0   0   0]\n [  0   0   0   0   0   0   0   0   0   0   0   0   0   0   0   0]\n [  0   0   7   0   0   0   0   0   0   0   0   0   0   0   0   0]\n [  0   0   0   0   0   2   1   0   0   0   0   0   0   0   0   0]\n [  0   0   0   0  11   0   0   0   0   0   0   0   0   0   0   0]\n [  0   0   0   1   0   0   0   0   0   0   0   0   0   0   0   0]\n [  0   0   0   0   0   0   5   0   0   0   0   0   0   0   0   0]\n [  0   0   0   0   0   1   0   5   0   0   0   0   0   0   0   0]\n [  0   0   0   0   0   0   0   0   9   0   0   0   0   0   0   0]\n [  0   0   0   0   0   0   0   0   0   0   0   0   0   0   0   0]\n [  0   0   0   0   0   0   0   0   0   0   4   0   0   0   0   0]\n [  0   0   0   0   0   0   0   0   0   0   0   3   0   0   0   0]\n [  0   0   0   0   0   0   0   0   0   0   0   0   0   0   0   0]\n [  0   0   0   0   0   0   0   0   0   0   0   0   0   0   0   0]\n [  0   0   0   0   0   0   0   0   0   0   0   0   0   0   0   0]\n [  0   0   0   0   0   0   0   0   0   0   0   0   0   0   0   0]]\n"
     ]
    },
    {
     "name": "stdout",
     "output_type": "stream",
     "text": [
      "64 Train accuracy: 0.99 Test accuracy: 0.986\n[[155   0   0   0   0   0   0   0   0   0   0   0   0   0   0   0]\n [  0   0   0   0   0   0   0   0   0   0   0   0   0   0   0   0]\n [  0   0  11   0   0   0   1   0   0   0   0   0   0   0   0   0]\n [  0   0   0   0   0   1   0   0   0   0   0   0   0   0   0   0]\n [  0   0   0   0   7   0   0   0   0   0   0   0   0   0   0   0]\n [  0   0   0   0   0   1   0   0   0   0   0   0   0   0   0   0]\n [  0   0   0   0   0   0   7   0   0   0   0   0   0   0   0   0]\n [  0   0   0   0   0   0   0   1   0   0   0   0   0   0   0   0]\n [  0   0   0   0   0   0   0   0   6   0   0   0   0   0   0   0]\n [  0   0   0   0   0   0   0   0   0   5   0   0   0   0   0   0]\n [  0   0   0   0   0   0   0   0   0   0   2   0   0   0   0   0]\n [  0   0   0   0   0   0   0   0   0   0   0   2   0   0   0   0]\n [  0   0   0   0   0   0   0   0   0   0   0   0   1   0   0   0]\n [  0   0   0   0   0   0   0   0   0   0   0   0   0   0   0   0]\n [  0   0   0   0   0   0   0   0   0   0   0   0   0   0   0   0]\n [  0   0   0   0   0   0   0   0   0   0   0   0   0   0   0   0]]\n"
     ]
    },
    {
     "name": "stdout",
     "output_type": "stream",
     "text": [
      "65 Train accuracy: 0.98 Test accuracy: 0.9855\n[[151   0   0   1   0   0   0   0   0   0   0   0   0   0   0   0]\n [  0   0   0   0   0   0   0   0   0   0   0   0   0   0   0   0]\n [  0   0   7   0   0   0   0   0   0   0   0   0   0   0   0   0]\n [  0   0   0   0   0   0   0   0   0   0   0   0   0   0   0   0]\n [  1   0   0   0   3   0   0   0   0   0   0   0   0   0   0   0]\n [  0   0   0   0   0   2   0   0   0   0   0   0   0   0   0   0]\n [  0   0   0   1   0   0   7   0   0   0   0   0   0   0   0   0]\n [  0   0   0   0   0   0   0   3   1   0   0   0   0   0   0   0]\n [  0   0   0   0   0   0   0   0  11   0   0   0   0   0   0   0]\n [  0   0   0   0   0   0   0   0   0   1   0   0   0   0   0   0]\n [  0   0   0   0   0   0   0   0   0   0   7   0   0   0   0   0]\n [  0   0   0   0   0   0   0   0   0   0   0   2   0   0   0   0]\n [  0   0   0   0   0   0   0   0   0   0   0   0   1   0   0   0]\n [  0   0   0   0   0   0   0   0   0   0   0   0   0   1   0   0]\n [  0   0   0   0   0   0   0   0   0   0   0   0   0   0   0   0]\n [  0   0   0   0   0   0   0   0   0   0   0   0   0   0   0   0]]\n"
     ]
    },
    {
     "name": "stdout",
     "output_type": "stream",
     "text": [
      "66 Train accuracy: 0.98 Test accuracy: 0.988\n[[159   0   0   0   0   0   0   0   0   0   0   0   0   0   0   0]\n [  0   0   0   0   0   0   0   0   0   0   0   0   0   0   0   0]\n [  1   0   9   0   0   0   0   1   0   0   0   0   0   0   0   0]\n [  0   0   1   0   0   0   0   0   0   0   0   0   0   0   0   0]\n [  0   0   0   0   5   0   0   0   0   0   0   0   0   0   0   0]\n [  0   0   0   1   0   0   0   0   0   0   0   0   0   0   0   0]\n [  0   0   0   0   0   0   7   0   0   0   0   0   0   0   0   0]\n [  0   0   0   0   0   0   0   3   0   0   0   0   0   0   0   0]\n [  0   0   0   0   0   0   0   0   5   0   0   0   0   0   0   0]\n [  0   0   0   0   0   0   0   0   0   2   0   0   0   0   0   0]\n [  0   0   0   0   0   0   0   0   0   0   2   0   0   0   0   0]\n [  0   0   0   0   0   0   0   0   0   0   0   2   0   0   0   0]\n [  0   0   0   0   0   0   0   0   0   0   0   0   1   0   0   0]\n [  0   0   0   0   0   0   0   0   0   0   0   0   0   1   0   0]\n [  0   0   0   0   0   0   0   0   0   0   0   0   0   0   0   0]\n [  0   0   0   0   0   0   0   0   0   0   0   0   0   0   0   0]]\n"
     ]
    },
    {
     "name": "stdout",
     "output_type": "stream",
     "text": [
      "67 Train accuracy: 0.985 Test accuracy: 0.991\n[[150   0   0   0   0   0   0   0   0   0   0   0   0   0   0   0]\n [  0   0   0   0   0   0   0   0   0   0   0   0   0   0   0   0]\n [  0   0   9   0   0   0   0   0   0   0   0   0   0   0   0   0]\n [  0   0   0   0   0   0   1   0   0   0   0   0   0   0   0   0]\n [  0   0   1   0   6   0   0   0   0   0   0   0   0   0   0   0]\n [  0   0   0   0   0   1   0   0   0   0   0   0   0   0   0   0]\n [  0   0   0   0   0   0   2   0   0   0   0   0   0   0   0   0]\n [  0   0   0   0   0   0   0   3   0   0   0   0   0   0   0   0]\n [  0   0   0   0   0   0   0   0   8   0   0   0   0   0   0   0]\n [  0   0   0   0   0   0   0   0   0   4   0   0   0   0   0   0]\n [  0   0   0   1   0   0   0   0   0   0   6   0   0   0   0   0]\n [  0   0   0   0   0   0   0   0   0   0   0   5   0   0   0   0]\n [  0   0   0   0   0   0   0   0   0   0   0   0   2   0   0   0]\n [  0   0   0   0   0   0   0   0   0   0   0   0   0   1   0   0]\n [  0   0   0   0   0   0   0   0   0   0   0   0   0   0   0   0]\n [  0   0   0   0   0   0   0   0   0   0   0   0   0   0   0   0]]\n"
     ]
    },
    {
     "name": "stdout",
     "output_type": "stream",
     "text": [
      "68 Train accuracy: 0.98 Test accuracy: 0.984\n[[147   0   0   0   0   0   0   0   0   0   0   0   0   0   0   0]\n [  0   0   0   0   0   0   0   0   0   0   0   0   0   0   0   0]\n [  0   0   6   0   1   0   0   0   0   0   0   0   0   0   0   0]\n [  0   0   0   0   0   2   0   0   0   0   0   0   0   0   0   0]\n [  0   0   0   0   8   0   0   0   0   0   0   0   0   0   0   0]\n [  0   0   0   0   0   2   0   0   0   0   0   0   0   0   0   0]\n [  0   0   0   0   0   0   8   0   0   0   0   0   0   0   0   0]\n [  0   0   0   0   0   0   0   5   0   0   0   0   0   0   0   0]\n [  0   0   0   0   0   0   0   0   5   0   0   0   0   0   0   0]\n [  0   0   0   0   0   0   0   0   0   4   0   0   0   0   0   0]\n [  0   0   0   0   0   0   0   0   0   0   8   0   0   0   0   0]\n [  0   0   0   0   0   0   0   0   0   0   0   3   0   0   0   0]\n [  0   0   0   0   0   0   0   1   0   0   0   0   0   0   0   0]\n [  0   0   0   0   0   0   0   0   0   0   0   0   0   0   0   0]\n [  0   0   0   0   0   0   0   0   0   0   0   0   0   0   0   0]\n [  0   0   0   0   0   0   0   0   0   0   0   0   0   0   0   0]]\n"
     ]
    },
    {
     "name": "stdout",
     "output_type": "stream",
     "text": [
      "69 Train accuracy: 0.995 Test accuracy: 0.9855\n[[147   0   0   0   0   0   0   0   0   0   0   0   0   0   0   0]\n [  0   0   0   0   0   0   0   0   0   0   0   0   0   0   0   0]\n [  0   0  10   0   0   0   0   0   0   0   0   0   0   0   0   0]\n [  0   0   0   2   0   0   0   0   0   0   0   0   0   0   0   0]\n [  0   0   0   0  13   0   0   0   0   0   0   0   0   0   0   0]\n [  0   0   0   0   0   2   0   0   0   0   0   0   0   0   0   0]\n [  0   0   0   0   0   0   6   0   0   0   0   0   0   0   0   0]\n [  0   0   0   1   0   0   0   1   0   0   0   0   0   0   0   0]\n [  0   0   0   0   0   0   0   0   8   0   0   0   0   0   0   0]\n [  0   0   0   0   0   0   0   0   0   1   0   0   0   0   0   0]\n [  0   0   0   0   0   0   0   0   0   0   5   0   0   0   0   0]\n [  0   0   0   0   0   0   0   0   0   0   0   2   0   0   0   0]\n [  0   0   0   0   0   0   0   0   0   0   0   0   1   0   0   0]\n [  0   0   0   0   0   0   0   0   0   0   0   0   0   1   0   0]\n [  0   0   0   0   0   0   0   0   0   0   0   0   0   0   0   0]\n [  0   0   0   0   0   0   0   0   0   0   0   0   0   0   0   0]]\n"
     ]
    },
    {
     "name": "stdout",
     "output_type": "stream",
     "text": [
      "70 Train accuracy: 0.975 Test accuracy: 0.987\n[[156   0   0   0   0   0   0   0   0   0   0   0   0   0   0   0]\n [  0   0   0   0   0   0   0   0   0   0   0   0   0   0   0   0]\n [  0   0   9   0   0   0   1   0   0   0   0   0   0   0   0   0]\n [  1   0   0   1   0   0   0   0   0   0   0   0   0   0   0   0]\n [  0   0   1   0   5   0   0   0   0   0   0   0   0   0   0   0]\n [  0   0   0   0   0   1   0   1   0   0   0   0   0   0   0   0]\n [  0   0   0   0   0   0   7   0   1   0   0   0   0   0   0   0]\n [  0   0   0   0   0   0   0   2   0   0   0   0   0   0   0   0]\n [  0   0   0   0   0   0   0   0   3   0   0   0   0   0   0   0]\n [  0   0   0   0   0   0   0   0   0   4   0   0   0   0   0   0]\n [  0   0   0   0   0   0   0   0   0   0   4   0   0   0   0   0]\n [  0   0   0   0   0   0   0   0   0   0   0   3   0   0   0   0]\n [  0   0   0   0   0   0   0   0   0   0   0   0   0   0   0   0]\n [  0   0   0   0   0   0   0   0   0   0   0   0   0   0   0   0]\n [  0   0   0   0   0   0   0   0   0   0   0   0   0   0   0   0]\n [  0   0   0   0   0   0   0   0   0   0   0   0   0   0   0   0]]\n"
     ]
    },
    {
     "name": "stdout",
     "output_type": "stream",
     "text": [
      "71 Train accuracy: 0.98 Test accuracy: 0.984\n[[150   0   0   0   0   0   0   0   0   0   0   0   0   0   0   0]\n [  0   0   0   0   0   0   0   0   0   0   0   0   0   0   0   0]\n [  0   0   7   0   0   0   0   0   0   0   0   0   0   0   0   0]\n [  0   0   0   0   0   0   0   0   0   0   0   0   0   0   0   0]\n [  0   0   0   0  10   0   0   0   0   0   0   0   0   0   0   0]\n [  0   0   0   0   0   3   0   0   0   0   0   0   0   0   0   0]\n [  0   0   0   0   0   0   5   1   0   0   0   0   0   0   0   0]\n [  0   0   0   0   0   0   0   1   0   0   0   0   0   0   0   0]\n [  0   0   0   0   0   0   0   0   9   0   0   0   0   0   0   0]\n [  1   0   0   0   0   0   0   0   0   2   0   0   0   0   0   0]\n [  1   0   0   0   0   0   0   0   0   0   3   0   0   0   0   0]\n [  0   0   1   0   0   0   0   0   0   0   0   5   0   0   0   0]\n [  0   0   0   0   0   0   0   0   0   0   0   0   1   0   0   0]\n [  0   0   0   0   0   0   0   0   0   0   0   0   0   0   0   0]\n [  0   0   0   0   0   0   0   0   0   0   0   0   0   0   0   0]\n [  0   0   0   0   0   0   0   0   0   0   0   0   0   0   0   0]]\n"
     ]
    },
    {
     "name": "stdout",
     "output_type": "stream",
     "text": [
      "72 Train accuracy: 0.995 Test accuracy: 0.981\n[[155   0   0   0   0   0   0   0   0   0   0   0   0   0   0   0]\n [  0   0   0   0   0   0   0   0   0   0   0   0   0   0   0   0]\n [  0   0   9   0   0   0   0   0   0   0   0   0   0   0   0   0]\n [  0   0   0   0   0   0   0   0   0   0   0   0   0   0   0   0]\n [  0   0   0   0   4   0   0   0   0   0   0   0   0   0   0   0]\n [  0   0   0   0   0   1   0   0   0   0   0   0   0   0   0   0]\n [  1   0   0   0   0   0  12   0   0   0   0   0   0   0   0   0]\n [  0   0   0   0   0   0   0   3   0   0   0   0   0   0   0   0]\n [  0   0   0   0   0   0   0   0   9   0   0   0   0   0   0   0]\n [  0   0   0   0   0   0   0   0   0   1   0   0   0   0   0   0]\n [  0   0   0   0   0   0   0   0   0   0   2   0   0   0   0   0]\n [  0   0   0   0   0   0   0   0   0   0   0   2   0   0   0   0]\n [  0   0   0   0   0   0   0   0   0   0   0   0   1   0   0   0]\n [  0   0   0   0   0   0   0   0   0   0   0   0   0   0   0   0]\n [  0   0   0   0   0   0   0   0   0   0   0   0   0   0   0   0]\n [  0   0   0   0   0   0   0   0   0   0   0   0   0   0   0   0]]\n"
     ]
    },
    {
     "name": "stdout",
     "output_type": "stream",
     "text": [
      "73 Train accuracy: 0.98 Test accuracy: 0.984\n[[146   0   0   0   0   0   0   0   0   0   0   0   0   0   0   0]\n [  0   0   0   0   0   0   0   0   0   0   0   0   0   0   0   0]\n [  0   0  11   2   0   1   0   0   0   0   0   0   0   0   0   0]\n [  0   0   0   2   0   0   0   0   0   0   0   0   0   0   0   0]\n [  0   0   0   0   7   0   0   0   0   0   0   0   0   0   0   0]\n [  0   0   0   0   0   2   1   0   0   0   0   0   0   0   0   0]\n [  0   0   0   0   0   0   7   0   0   0   0   0   0   0   0   0]\n [  0   0   0   0   0   0   0   0   0   0   0   0   0   0   0   0]\n [  0   0   0   0   0   0   0   0  12   0   0   0   0   0   0   0]\n [  0   0   0   0   0   0   0   0   0   2   0   0   0   0   0   0]\n [  0   0   0   0   0   0   0   0   0   0   6   0   0   0   0   0]\n [  0   0   0   0   0   0   0   0   0   0   0   1   0   0   0   0]\n [  0   0   0   0   0   0   0   0   0   0   0   0   0   0   0   0]\n [  0   0   0   0   0   0   0   0   0   0   0   0   0   0   0   0]\n [  0   0   0   0   0   0   0   0   0   0   0   0   0   0   0   0]\n [  0   0   0   0   0   0   0   0   0   0   0   0   0   0   0   0]]\n"
     ]
    },
    {
     "name": "stdout",
     "output_type": "stream",
     "text": [
      "74 Train accuracy: 0.995 Test accuracy: 0.993\n[[152   0   0   0   0   0   0   0   0   0   0   0   0   0   0   0]\n [  0   0   0   0   0   0   0   0   0   0   0   0   0   0   0   0]\n [  0   0  10   0   0   0   1   0   0   0   0   0   0   0   0   0]\n [  0   0   0   0   0   0   0   0   0   0   0   0   0   0   0   0]\n [  0   0   0   0   4   0   0   0   0   0   0   0   0   0   0   0]\n [  0   0   0   0   0   2   0   0   0   0   0   0   0   0   0   0]\n [  0   0   0   0   0   0   9   0   0   0   0   0   0   0   0   0]\n [  0   0   0   0   0   0   0   1   0   0   0   0   0   0   0   0]\n [  0   0   0   0   0   0   0   0  11   0   0   0   0   0   0   0]\n [  0   0   0   0   0   0   0   0   0   2   0   0   0   0   0   0]\n [  0   0   0   0   0   0   0   0   0   0   4   0   0   0   0   0]\n [  0   0   0   0   0   0   0   0   0   0   0   1   0   0   0   0]\n [  0   0   0   0   0   0   0   0   0   0   0   0   3   0   0   0]\n [  0   0   0   0   0   0   0   0   0   0   0   0   0   0   0   0]\n [  0   0   0   0   0   0   0   0   0   0   0   0   0   0   0   0]\n [  0   0   0   0   0   0   0   0   0   0   0   0   0   0   0   0]]\n"
     ]
    },
    {
     "name": "stdout",
     "output_type": "stream",
     "text": [
      "75 Train accuracy: 0.995 Test accuracy: 0.9905\n[[153   0   0   0   0   0   0   0   0   0   0   0   0   0   0   0]\n [  0   0   0   0   0   0   0   0   0   0   0   0   0   0   0   0]\n [  0   0  10   0   0   0   0   0   0   0   0   0   0   0   0   0]\n [  0   0   0   1   0   0   0   0   0   0   0   0   0   0   0   0]\n [  0   0   0   0   7   0   0   0   0   0   0   0   0   0   0   0]\n [  0   0   0   0   0   1   0   0   0   0   0   0   0   0   0   0]\n [  0   0   1   0   0   0   6   0   0   0   0   0   0   0   0   0]\n [  0   0   0   0   0   0   0   2   0   0   0   0   0   0   0   0]\n [  0   0   0   0   0   0   0   0   5   0   0   0   0   0   0   0]\n [  0   0   0   0   0   0   0   0   0   4   0   0   0   0   0   0]\n [  0   0   0   0   0   0   0   0   0   0   6   0   0   0   0   0]\n [  0   0   0   0   0   0   0   0   0   0   0   2   0   0   0   0]\n [  0   0   0   0   0   0   0   0   0   0   0   0   2   0   0   0]\n [  0   0   0   0   0   0   0   0   0   0   0   0   0   0   0   0]\n [  0   0   0   0   0   0   0   0   0   0   0   0   0   0   0   0]\n [  0   0   0   0   0   0   0   0   0   0   0   0   0   0   0   0]]\n"
     ]
    },
    {
     "name": "stdout",
     "output_type": "stream",
     "text": [
      "76 Train accuracy: 0.99 Test accuracy: 0.9875\n[[148   0   0   0   0   0   0   0   0   0   0   0   0   0   0   0]\n [  0   0   0   0   0   0   0   0   0   0   0   0   0   0   0   0]\n [  0   0  15   0   0   0   0   0   0   0   0   0   0   0   0   0]\n [  0   0   0   2   0   0   0   0   0   0   0   0   0   0   0   0]\n [  0   0   1   0   5   0   0   0   0   0   0   0   0   0   0   0]\n [  0   0   0   0   0   1   0   0   0   0   0   0   0   0   0   0]\n [  0   0   0   0   0   0   5   0   0   0   0   0   0   0   0   0]\n [  0   0   0   0   0   0   0   1   0   0   0   0   0   0   0   0]\n [  0   0   0   1   0   0   0   0   5   0   0   0   0   0   0   0]\n [  0   0   0   0   0   0   0   0   0   3   0   0   0   0   0   0]\n [  0   0   0   0   0   0   0   0   0   0   7   0   0   0   0   0]\n [  0   0   0   0   0   0   0   0   0   0   0   4   0   0   0   0]\n [  0   0   0   0   0   0   0   0   0   0   0   0   1   0   0   0]\n [  0   0   0   0   0   0   0   0   0   0   0   0   0   1   0   0]\n [  0   0   0   0   0   0   0   0   0   0   0   0   0   0   0   0]\n [  0   0   0   0   0   0   0   0   0   0   0   0   0   0   0   0]]\n"
     ]
    },
    {
     "name": "stdout",
     "output_type": "stream",
     "text": [
      "77 Train accuracy: 0.985 Test accuracy: 0.979\n[[159   0   0   1   0   0   0   0   0   0   0   0   0   0   0   0]\n [  0   0   0   0   0   0   0   0   0   0   0   0   0   0   0   0]\n [  0   0   5   1   0   0   0   0   0   0   0   0   0   0   0   0]\n [  0   0   0   1   0   0   0   0   0   0   0   0   0   0   0   0]\n [  0   0   0   0   9   0   0   0   0   0   0   0   0   0   0   0]\n [  0   0   0   0   0   3   0   0   0   0   0   0   0   0   0   0]\n [  0   0   0   0   0   0   4   0   0   0   0   0   0   0   0   0]\n [  0   0   0   1   0   0   0   3   0   0   0   0   0   0   0   0]\n [  0   0   0   0   0   0   0   0   8   0   0   0   0   0   0   0]\n [  0   0   0   0   0   0   0   0   0   2   0   0   0   0   0   0]\n [  0   0   0   0   0   0   0   0   0   0   2   0   0   0   0   0]\n [  0   0   0   0   0   0   0   0   0   0   0   0   0   0   0   0]\n [  0   0   0   0   0   0   0   0   0   0   0   0   1   0   0   0]\n [  0   0   0   0   0   0   0   0   0   0   0   0   0   0   0   0]\n [  0   0   0   0   0   0   0   0   0   0   0   0   0   0   0   0]\n [  0   0   0   0   0   0   0   0   0   0   0   0   0   0   0   0]]\n"
     ]
    },
    {
     "name": "stdout",
     "output_type": "stream",
     "text": [
      "78 Train accuracy: 0.985 Test accuracy: 0.973\n[[148   0   0   1   0   0   0   0   0   0   0   0   0   0   0   0]\n [  0   0   0   0   0   0   0   0   0   0   0   0   0   0   0   0]\n [  0   0   7   1   0   1   0   0   0   0   0   0   0   0   0   0]\n [  0   0   0   0   0   0   0   0   0   0   0   0   0   0   0   0]\n [  0   0   0   0  11   0   0   0   0   0   0   0   0   0   0   0]\n [  0   0   0   0   0   4   0   0   0   0   0   0   0   0   0   0]\n [  0   0   0   0   0   0   8   0   0   0   0   0   0   0   0   0]\n [  0   0   0   0   0   0   0   0   0   0   0   0   0   0   0   0]\n [  0   0   0   0   0   0   0   0   5   0   0   0   0   0   0   0]\n [  0   0   0   0   0   0   0   0   0   0   0   0   0   0   0   0]\n [  0   0   0   0   0   0   0   0   0   0   5   0   0   0   0   0]\n [  0   0   0   0   0   0   0   0   0   0   0   6   0   0   0   0]\n [  0   0   0   0   0   0   0   0   0   0   0   0   3   0   0   0]\n [  0   0   0   0   0   0   0   0   0   0   0   0   0   0   0   0]\n [  0   0   0   0   0   0   0   0   0   0   0   0   0   0   0   0]\n [  0   0   0   0   0   0   0   0   0   0   0   0   0   0   0   0]]\n"
     ]
    },
    {
     "name": "stdout",
     "output_type": "stream",
     "text": [
      "79 Train accuracy: 0.96 Test accuracy: 0.975\n[[154   0   0   0   0   0   0   0   0   0   0   0   0   0   0   0]\n [  0   0   0   0   0   0   0   0   0   0   0   0   0   0   0   0]\n [  3   0   5   0   1   0   0   0   0   0   1   1   0   0   0   0]\n [  0   0   0   0   0   0   0   0   0   0   0   0   1   0   0   0]\n [  0   0   0   0   5   0   0   0   0   0   0   0   0   0   0   0]\n [  0   0   0   0   0   2   0   0   0   0   0   0   0   0   0   0]\n [  0   0   0   0   0   0   5   0   0   0   0   0   0   0   0   0]\n [  0   0   0   0   0   1   0   4   0   0   0   0   0   0   0   0]\n [  0   0   0   0   0   0   0   0   7   0   0   0   0   0   0   0]\n [  0   0   0   0   0   0   0   0   0   0   0   0   0   0   0   0]\n [  0   0   0   0   0   0   0   0   0   0   7   0   0   0   0   0]\n [  0   0   0   0   0   0   0   0   0   0   0   2   0   0   0   0]\n [  0   0   0   0   0   0   0   0   0   0   0   0   1   0   0   0]\n [  0   0   0   0   0   0   0   0   0   0   0   0   0   0   0   0]\n [  0   0   0   0   0   0   0   0   0   0   0   0   0   0   0   0]\n [  0   0   0   0   0   0   0   0   0   0   0   0   0   0   0   0]]\n"
     ]
    },
    {
     "name": "stdout",
     "output_type": "stream",
     "text": [
      "80 Train accuracy: 0.985 Test accuracy: 0.9875\n[[146   0   0   0   0   0   0   0   0   0   0   0   0   0   0   0]\n [  0   0   0   0   0   0   0   0   0   0   0   0   0   0   0   0]\n [  0   0  10   0   0   0   0   0   0   0   0   0   0   0   0   0]\n [  0   0   0   1   0   0   1   0   0   0   0   0   1   0   0   0]\n [  0   0   1   0  10   0   0   0   0   0   0   0   0   0   0   0]\n [  0   0   0   0   0   1   0   0   0   0   0   0   0   0   0   0]\n [  0   0   0   0   0   0   4   0   0   0   0   0   0   0   0   0]\n [  0   0   0   0   0   0   0   0   0   0   0   0   0   0   0   0]\n [  0   0   0   0   0   0   0   0   5   0   0   0   0   0   0   0]\n [  0   0   0   0   0   0   0   0   0   7   0   0   0   0   0   0]\n [  0   0   0   0   0   0   0   0   0   0   7   0   0   0   0   0]\n [  0   0   0   0   0   0   0   0   0   0   0   5   0   0   0   0]\n [  0   0   0   0   0   0   0   0   0   0   0   0   1   0   0   0]\n [  0   0   0   0   0   0   0   0   0   0   0   0   0   0   0   0]\n [  0   0   0   0   0   0   0   0   0   0   0   0   0   0   0   0]\n [  0   0   0   0   0   0   0   0   0   0   0   0   0   0   0   0]]\n"
     ]
    },
    {
     "name": "stdout",
     "output_type": "stream",
     "text": [
      "81 Train accuracy: 0.99 Test accuracy: 0.9845\n[[153   0   0   0   0   0   0   0   0   0   0   0   0   0   0   0]\n [  0   0   0   0   0   0   0   0   0   0   0   0   0   0   0   0]\n [  1   0  10   0   0   0   0   1   0   0   0   0   0   0   0   0]\n [  0   0   0   2   0   0   0   0   0   0   0   0   0   0   0   0]\n [  0   0   0   0   6   0   0   0   0   0   0   0   0   0   0   0]\n [  0   0   0   0   0   2   0   0   0   0   0   0   0   0   0   0]\n [  0   0   0   0   0   0  11   0   0   0   0   0   0   0   0   0]\n [  0   0   0   0   0   0   0   3   0   0   0   0   0   0   0   0]\n [  0   0   0   0   0   0   0   0   2   0   0   0   0   0   0   0]\n [  0   0   0   0   0   0   0   0   0   1   0   0   0   0   0   0]\n [  0   0   0   0   0   0   0   0   0   0   6   0   0   0   0   0]\n [  0   0   0   0   0   0   0   0   0   0   0   2   0   0   0   0]\n [  0   0   0   0   0   0   0   0   0   0   0   0   0   0   0   0]\n [  0   0   0   0   0   0   0   0   0   0   0   0   0   0   0   0]\n [  0   0   0   0   0   0   0   0   0   0   0   0   0   0   0   0]\n [  0   0   0   0   0   0   0   0   0   0   0   0   0   0   0   0]]\n"
     ]
    },
    {
     "name": "stdout",
     "output_type": "stream",
     "text": [
      "82 Train accuracy: 0.985 Test accuracy: 0.9855\n[[139   0   0   0   0   0   0   0   0   0   0   0   0   0   0   0]\n [  0   0   0   0   0   0   0   0   0   0   0   0   0   0   0   0]\n [  1   0   8   0   0   0   0   0   0   0   0   0   0   0   0   0]\n [  1   0   0   0   0   0   1   0   0   0   0   0   0   0   0   0]\n [  0   0   0   0  10   0   0   0   0   0   0   0   0   0   0   0]\n [  0   0   0   0   0   4   0   0   0   0   0   0   0   0   0   0]\n [  0   0   0   0   0   0  10   0   0   0   0   0   0   0   0   0]\n [  0   0   0   0   0   0   0   1   0   0   0   0   0   0   0   0]\n [  0   0   0   0   0   0   0   0   8   0   0   0   0   0   0   0]\n [  0   0   0   0   0   0   0   0   0   4   0   0   0   0   0   0]\n [  0   0   0   0   0   0   0   0   0   0   9   0   0   0   0   0]\n [  0   0   0   0   0   0   0   0   0   0   0   4   0   0   0   0]\n [  0   0   0   0   0   0   0   0   0   0   0   0   0   0   0   0]\n [  0   0   0   0   0   0   0   0   0   0   0   0   0   0   0   0]\n [  0   0   0   0   0   0   0   0   0   0   0   0   0   0   0   0]\n [  0   0   0   0   0   0   0   0   0   0   0   0   0   0   0   0]]\n"
     ]
    },
    {
     "name": "stdout",
     "output_type": "stream",
     "text": [
      "83 Train accuracy: 0.995 Test accuracy: 0.9885\n[[145   0   0   0   0   0   0   0   0   0   0   0   0   0   0   0]\n [  0   0   0   0   0   0   0   0   0   0   0   0   0   0   0   0]\n [  0   0  10   0   0   0   0   0   0   0   0   0   0   0   0   0]\n [  0   0   0   5   0   0   0   0   0   0   0   1   0   0   0   0]\n [  0   0   0   0   8   0   0   0   0   0   0   0   0   0   0   0]\n [  0   0   0   0   0   1   0   0   0   0   0   0   0   0   0   0]\n [  0   0   0   0   0   0  10   0   0   0   0   0   0   0   0   0]\n [  0   0   0   0   0   0   0   2   0   0   0   0   0   0   0   0]\n [  0   0   0   0   0   0   0   0   7   0   0   0   0   0   0   0]\n [  0   0   0   0   0   0   0   0   0   3   0   0   0   0   0   0]\n [  0   0   0   0   0   0   0   0   0   0   6   0   0   0   0   0]\n [  0   0   0   0   0   0   0   0   0   0   0   2   0   0   0   0]\n [  0   0   0   0   0   0   0   0   0   0   0   0   0   0   0   0]\n [  0   0   0   0   0   0   0   0   0   0   0   0   0   0   0   0]\n [  0   0   0   0   0   0   0   0   0   0   0   0   0   0   0   0]\n [  0   0   0   0   0   0   0   0   0   0   0   0   0   0   0   0]]\n"
     ]
    },
    {
     "name": "stdout",
     "output_type": "stream",
     "text": [
      "84 Train accuracy: 0.98 Test accuracy: 0.9855\n[[155   0   0   0   0   0   0   0   0   0   0   0   0   0   0   0]\n [  0   0   0   0   0   0   0   0   0   0   0   0   0   0   0   0]\n [  0   0   9   0   0   1   0   0   0   0   0   0   0   0   0   0]\n [  0   0   0   0   0   1   0   0   0   0   0   0   0   0   0   0]\n [  0   0   0   0   7   0   0   0   0   0   0   0   0   0   0   0]\n [  0   0   0   0   0   0   0   0   0   0   0   0   0   0   0   0]\n [  0   0   0   0   0   0   5   0   0   0   0   0   0   0   0   0]\n [  0   0   0   0   0   0   0   2   0   0   0   0   0   0   0   0]\n [  0   0   0   0   0   0   0   0   7   0   0   0   0   0   0   0]\n [  0   0   0   0   0   0   0   0   0   3   0   0   0   0   0   0]\n [  0   0   1   0   0   0   0   0   0   0   6   0   0   0   0   0]\n [  0   0   0   0   0   0   0   0   0   0   0   2   0   0   0   0]\n [  0   0   0   0   0   0   0   0   0   0   0   0   0   0   0   0]\n [  0   0   1   0   0   0   0   0   0   0   0   0   0   0   0   0]\n [  0   0   0   0   0   0   0   0   0   0   0   0   0   0   0   0]\n [  0   0   0   0   0   0   0   0   0   0   0   0   0   0   0   0]]\n"
     ]
    },
    {
     "name": "stdout",
     "output_type": "stream",
     "text": [
      "85 Train accuracy: 0.995 Test accuracy: 0.991\n[[159   0   0   0   0   0   0   0   0   0   0   0   0   0   0   0]\n [  0   0   0   0   0   0   0   0   0   0   0   0   0   0   0   0]\n [  0   0   7   0   0   0   0   0   0   0   0   1   0   0   0   0]\n [  0   0   0   1   0   0   0   0   0   0   0   0   0   0   0   0]\n [  0   0   0   0   8   0   0   0   0   0   0   0   0   0   0   0]\n [  0   0   0   0   0   1   0   0   0   0   0   0   0   0   0   0]\n [  0   0   0   0   0   0  10   0   0   0   0   0   0   0   0   0]\n [  0   0   0   0   0   0   0   2   0   0   0   0   0   0   0   0]\n [  0   0   0   0   0   0   0   0   5   0   0   0   0   0   0   0]\n [  0   0   0   0   0   0   0   0   0   0   0   0   0   0   0   0]\n [  0   0   0   0   0   0   0   0   0   0   4   0   0   0   0   0]\n [  0   0   0   0   0   0   0   0   0   0   0   1   0   0   0   0]\n [  0   0   0   0   0   0   0   0   0   0   0   0   1   0   0   0]\n [  0   0   0   0   0   0   0   0   0   0   0   0   0   0   0   0]\n [  0   0   0   0   0   0   0   0   0   0   0   0   0   0   0   0]\n [  0   0   0   0   0   0   0   0   0   0   0   0   0   0   0   0]]\n"
     ]
    },
    {
     "name": "stdout",
     "output_type": "stream",
     "text": [
      "86 Train accuracy: 1.0 Test accuracy: 0.9895\n[[161   0   0   0   0   0   0   0   0   0   0   0   0   0   0   0]\n [  0   0   0   0   0   0   0   0   0   0   0   0   0   0   0   0]\n [  0   0   8   0   0   0   0   0   0   0   0   0   0   0   0   0]\n [  0   0   0   2   0   0   0   0   0   0   0   0   0   0   0   0]\n [  0   0   0   0   6   0   0   0   0   0   0   0   0   0   0   0]\n [  0   0   0   0   0   1   0   0   0   0   0   0   0   0   0   0]\n [  0   0   0   0   0   0   6   0   0   0   0   0   0   0   0   0]\n [  0   0   0   0   0   0   0   4   0   0   0   0   0   0   0   0]\n [  0   0   0   0   0   0   0   0   6   0   0   0   0   0   0   0]\n [  0   0   0   0   0   0   0   0   0   2   0   0   0   0   0   0]\n [  0   0   0   0   0   0   0   0   0   0   3   0   0   0   0   0]\n [  0   0   0   0   0   0   0   0   0   0   0   1   0   0   0   0]\n [  0   0   0   0   0   0   0   0   0   0   0   0   0   0   0   0]\n [  0   0   0   0   0   0   0   0   0   0   0   0   0   0   0   0]\n [  0   0   0   0   0   0   0   0   0   0   0   0   0   0   0   0]\n [  0   0   0   0   0   0   0   0   0   0   0   0   0   0   0   0]]\n"
     ]
    },
    {
     "name": "stdout",
     "output_type": "stream",
     "text": [
      "87 Train accuracy: 0.99 Test accuracy: 0.9915\n[[152   0   0   0   0   0   0   0   0   0   0   0   0   0   0   0]\n [  0   0   0   0   0   0   0   0   0   0   0   0   0   0   0   0]\n [  0   0   7   0   1   0   0   0   0   0   0   0   0   0   0   0]\n [  1   0   0   0   0   0   0   0   0   0   0   0   0   0   0   0]\n [  0   0   0   0   8   0   0   0   0   0   0   0   0   0   0   0]\n [  0   0   0   0   0   2   0   0   0   0   0   0   0   0   0   0]\n [  0   0   0   0   0   0   7   0   0   0   0   0   0   0   0   0]\n [  0   0   0   0   0   0   0   4   0   0   0   0   0   0   0   0]\n [  0   0   0   0   0   0   0   0   6   0   0   0   0   0   0   0]\n [  0   0   0   0   0   0   0   0   0   2   0   0   0   0   0   0]\n [  0   0   0   0   0   0   0   0   0   0   4   0   0   0   0   0]\n [  0   0   0   0   0   0   0   0   0   0   0   3   0   0   0   0]\n [  0   0   0   0   0   0   0   0   0   0   0   0   2   0   0   0]\n [  0   0   0   0   0   0   0   0   0   0   0   0   0   1   0   0]\n [  0   0   0   0   0   0   0   0   0   0   0   0   0   0   0   0]\n [  0   0   0   0   0   0   0   0   0   0   0   0   0   0   0   0]]\n"
     ]
    },
    {
     "name": "stdout",
     "output_type": "stream",
     "text": [
      "88 Train accuracy: 1.0 Test accuracy: 0.986\n[[150   0   0   0   0   0   0   0   0   0   0   0   0   0   0   0]\n [  0   0   0   0   0   0   0   0   0   0   0   0   0   0   0   0]\n [  0   0   6   0   0   0   0   0   0   0   0   0   0   0   0   0]\n [  0   0   0   0   0   0   0   0   0   0   0   0   0   0   0   0]\n [  0   0   0   0   9   0   0   0   0   0   0   0   0   0   0   0]\n [  0   0   0   0   0   0   0   0   0   0   0   0   0   0   0   0]\n [  0   0   0   0   0   0  11   0   0   0   0   0   0   0   0   0]\n [  0   0   0   0   0   0   0   0   0   0   0   0   0   0   0   0]\n [  0   0   0   0   0   0   0   0  14   0   0   0   0   0   0   0]\n [  0   0   0   0   0   0   0   0   0   3   0   0   0   0   0   0]\n [  0   0   0   0   0   0   0   0   0   0   2   0   0   0   0   0]\n [  0   0   0   0   0   0   0   0   0   0   0   5   0   0   0   0]\n [  0   0   0   0   0   0   0   0   0   0   0   0   0   0   0   0]\n [  0   0   0   0   0   0   0   0   0   0   0   0   0   0   0   0]\n [  0   0   0   0   0   0   0   0   0   0   0   0   0   0   0   0]\n [  0   0   0   0   0   0   0   0   0   0   0   0   0   0   0   0]]\n"
     ]
    },
    {
     "name": "stdout",
     "output_type": "stream",
     "text": [
      "89 Train accuracy: 0.985 Test accuracy: 0.976\n[[156   0   0   0   0   0   0   0   0   0   0   0   0   0   0   0]\n [  0   0   0   0   0   0   0   0   0   0   0   0   0   0   0   0]\n [  0   0   9   0   1   0   0   0   0   0   0   0   0   0   0   0]\n [  0   0   0   0   0   0   0   1   0   0   0   0   0   0   0   0]\n [  0   0   0   0   1   0   0   0   0   0   0   0   0   0   0   0]\n [  0   0   0   0   0   0   0   1   0   0   0   0   0   0   0   0]\n [  0   0   0   0   0   0   6   0   0   0   0   0   0   0   0   0]\n [  0   0   0   0   0   0   0   1   0   0   0   0   0   0   0   0]\n [  0   0   0   0   0   0   0   0   8   0   0   0   0   0   0   0]\n [  0   0   0   0   0   0   0   0   0   4   0   0   0   0   0   0]\n [  0   0   0   0   0   0   0   0   0   0   7   0   0   0   0   0]\n [  0   0   0   0   0   0   0   0   0   0   0   2   0   0   0   0]\n [  0   0   0   0   0   0   0   0   0   0   0   0   3   0   0   0]\n [  0   0   0   0   0   0   0   0   0   0   0   0   0   0   0   0]\n [  0   0   0   0   0   0   0   0   0   0   0   0   0   0   0   0]\n [  0   0   0   0   0   0   0   0   0   0   0   0   0   0   0   0]]\n"
     ]
    },
    {
     "name": "stdout",
     "output_type": "stream",
     "text": [
      "90 Train accuracy: 0.99 Test accuracy: 0.9875\n[[144   0   0   0   0   0   0   0   0   0   0   0   0   0   0   0]\n [  0   0   0   0   0   0   0   0   0   0   0   0   0   0   0   0]\n [  0   0  12   0   1   0   0   0   0   0   0   0   0   0   0   0]\n [  0   0   0   0   0   0   0   0   0   0   0   1   0   0   0   0]\n [  0   0   0   0   9   0   0   0   0   0   0   0   0   0   0   0]\n [  0   0   0   0   0   4   0   0   0   0   0   0   0   0   0   0]\n [  0   0   0   0   0   0   7   0   0   0   0   0   0   0   0   0]\n [  0   0   0   0   0   0   0   2   0   0   0   0   0   0   0   0]\n [  0   0   0   0   0   0   0   0   8   0   0   0   0   0   0   0]\n [  0   0   0   0   0   0   0   0   0   1   0   0   0   0   0   0]\n [  0   0   0   0   0   0   0   0   0   0   7   0   0   0   0   0]\n [  0   0   0   0   0   0   0   0   0   0   0   3   0   0   0   0]\n [  0   0   0   0   0   0   0   0   0   0   0   0   1   0   0   0]\n [  0   0   0   0   0   0   0   0   0   0   0   0   0   0   0   0]\n [  0   0   0   0   0   0   0   0   0   0   0   0   0   0   0   0]\n [  0   0   0   0   0   0   0   0   0   0   0   0   0   0   0   0]]\n"
     ]
    },
    {
     "name": "stdout",
     "output_type": "stream",
     "text": [
      "91 Train accuracy: 0.96 Test accuracy: 0.9625\n[[149   0   0   0   0   0   0   0   0   0   0   0   0   0   0   0]\n [  0   0   0   0   0   0   0   0   0   0   0   0   0   0   0   0]\n [  1   0  13   0   0   0   0   0   0   0   0   0   0   0   0   0]\n [  0   0   0   0   0   0   0   0   0   0   0   0   0   0   0   0]\n [  0   0   0   0   5   0   0   0   0   0   0   0   0   0   0   0]\n [  0   0   0   0   0   3   0   0   0   0   0   0   0   0   0   0]\n [  0   0   0   0   0   1   3   0   1   0   0   0   0   0   0   0]\n [  2   0   0   0   0   0   0   1   0   0   0   0   0   0   0   0]\n [  0   0   0   0   0   0   0   0  12   0   0   0   0   0   0   0]\n [  0   0   0   0   0   0   0   0   0   0   0   0   0   0   0   0]\n [  0   0   0   0   0   0   0   0   0   0   4   0   0   0   0   0]\n [  3   0   0   0   0   0   0   0   0   0   0   1   0   0   0   0]\n [  0   0   0   0   0   0   0   0   0   0   0   0   1   0   0   0]\n [  0   0   0   0   0   0   0   0   0   0   0   0   0   0   0   0]\n [  0   0   0   0   0   0   0   0   0   0   0   0   0   0   0   0]\n [  0   0   0   0   0   0   0   0   0   0   0   0   0   0   0   0]]\n"
     ]
    },
    {
     "name": "stdout",
     "output_type": "stream",
     "text": [
      "92 Train accuracy: 0.985 Test accuracy: 0.98\n[[151   0   0   0   0   0   0   0   0   0   0   0   0   0   0   0]\n [  0   0   0   0   0   0   0   0   0   0   0   0   0   0   0   0]\n [  0   0  13   0   0   0   0   0   0   0   0   0   0   0   0   0]\n [  0   0   1   0   0   0   0   0   0   0   0   0   0   0   0   0]\n [  0   0   0   0   4   0   0   0   0   0   0   0   0   0   0   0]\n [  0   0   1   1   0   2   0   0   0   0   0   0   0   0   0   0]\n [  0   0   0   0   0   0   7   0   0   0   0   0   0   0   0   0]\n [  0   0   0   0   0   0   0   3   0   0   0   0   0   0   0   0]\n [  0   0   0   0   0   0   0   0   5   0   0   0   0   0   0   0]\n [  0   0   0   0   0   0   0   0   0   1   0   0   0   0   0   0]\n [  0   0   0   0   0   0   0   0   0   0   8   0   0   0   0   0]\n [  0   0   0   0   0   0   0   0   0   0   0   1   0   0   0   0]\n [  0   0   0   0   0   0   0   0   0   0   0   0   2   0   0   0]\n [  0   0   0   0   0   0   0   0   0   0   0   0   0   0   0   0]\n [  0   0   0   0   0   0   0   0   0   0   0   0   0   0   0   0]\n [  0   0   0   0   0   0   0   0   0   0   0   0   0   0   0   0]]\n"
     ]
    },
    {
     "name": "stdout",
     "output_type": "stream",
     "text": [
      "93 Train accuracy: 1.0 Test accuracy: 0.9925\n[[153   0   0   0   0   0   0   0   0   0   0   0   0   0   0   0]\n [  0   0   0   0   0   0   0   0   0   0   0   0   0   0   0   0]\n [  0   0  10   0   0   0   0   0   0   0   0   0   0   0   0   0]\n [  0   0   0   3   0   0   0   0   0   0   0   0   0   0   0   0]\n [  0   0   0   0   8   0   0   0   0   0   0   0   0   0   0   0]\n [  0   0   0   0   0   1   0   0   0   0   0   0   0   0   0   0]\n [  0   0   0   0   0   0   6   0   0   0   0   0   0   0   0   0]\n [  0   0   0   0   0   0   0   3   0   0   0   0   0   0   0   0]\n [  0   0   0   0   0   0   0   0   6   0   0   0   0   0   0   0]\n [  0   0   0   0   0   0   0   0   0   3   0   0   0   0   0   0]\n [  0   0   0   0   0   0   0   0   0   0   4   0   0   0   0   0]\n [  0   0   0   0   0   0   0   0   0   0   0   2   0   0   0   0]\n [  0   0   0   0   0   0   0   0   0   0   0   0   1   0   0   0]\n [  0   0   0   0   0   0   0   0   0   0   0   0   0   0   0   0]\n [  0   0   0   0   0   0   0   0   0   0   0   0   0   0   0   0]\n [  0   0   0   0   0   0   0   0   0   0   0   0   0   0   0   0]]\n"
     ]
    },
    {
     "name": "stdout",
     "output_type": "stream",
     "text": [
      "94 Train accuracy: 0.995 Test accuracy: 0.9935\n[[160   0   0   0   0   0   0   0   0   0   0   0   0   0   0   0]\n [  0   0   0   0   0   0   0   0   0   0   0   0   0   0   0   0]\n [  0   0  10   0   0   0   0   0   0   0   0   0   0   0   0   0]\n [  0   0   0   0   0   0   0   0   0   0   0   0   0   0   0   0]\n [  0   0   0   0   6   0   0   0   0   0   0   0   0   0   0   0]\n [  0   0   0   0   0   1   0   0   0   0   0   0   0   0   0   0]\n [  0   0   0   0   0   0   3   0   0   0   0   0   0   0   0   0]\n [  0   0   0   0   0   0   0   1   0   1   0   0   0   0   0   0]\n [  0   0   0   0   0   0   0   0   4   0   0   0   0   0   0   0]\n [  0   0   0   0   0   0   0   0   0   2   0   0   0   0   0   0]\n [  0   0   0   0   0   0   0   0   0   0   4   0   0   0   0   0]\n [  0   0   0   0   0   0   0   0   0   0   0   7   0   0   0   0]\n [  0   0   0   0   0   0   0   0   0   0   0   0   0   0   0   0]\n [  0   0   0   0   0   0   0   0   0   0   0   0   0   1   0   0]\n [  0   0   0   0   0   0   0   0   0   0   0   0   0   0   0   0]\n [  0   0   0   0   0   0   0   0   0   0   0   0   0   0   0   0]]\n"
     ]
    },
    {
     "name": "stdout",
     "output_type": "stream",
     "text": [
      "95 Train accuracy: 1.0 Test accuracy: 0.9915\n[[151   0   0   0   0   0   0   0   0   0   0   0   0   0   0   0]\n [  0   0   0   0   0   0   0   0   0   0   0   0   0   0   0   0]\n [  0   0  11   0   0   0   0   0   0   0   0   0   0   0   0   0]\n [  0   0   0   0   0   0   0   0   0   0   0   0   0   0   0   0]\n [  0   0   0   0   8   0   0   0   0   0   0   0   0   0   0   0]\n [  0   0   0   0   0   1   0   0   0   0   0   0   0   0   0   0]\n [  0   0   0   0   0   0  11   0   0   0   0   0   0   0   0   0]\n [  0   0   0   0   0   0   0   2   0   0   0   0   0   0   0   0]\n [  0   0   0   0   0   0   0   0   8   0   0   0   0   0   0   0]\n [  0   0   0   0   0   0   0   0   0   2   0   0   0   0   0   0]\n [  0   0   0   0   0   0   0   0   0   0   1   0   0   0   0   0]\n [  0   0   0   0   0   0   0   0   0   0   0   3   0   0   0   0]\n [  0   0   0   0   0   0   0   0   0   0   0   0   1   0   0   0]\n [  0   0   0   0   0   0   0   0   0   0   0   0   0   1   0   0]\n [  0   0   0   0   0   0   0   0   0   0   0   0   0   0   0   0]\n [  0   0   0   0   0   0   0   0   0   0   0   0   0   0   0   0]]\n"
     ]
    },
    {
     "name": "stdout",
     "output_type": "stream",
     "text": [
      "96 Train accuracy: 1.0 Test accuracy: 0.9945\n[[136   0   0   0   0   0   0   0   0   0   0   0   0   0   0   0]\n [  0   0   0   0   0   0   0   0   0   0   0   0   0   0   0   0]\n [  0   0  12   0   0   0   0   0   0   0   0   0   0   0   0   0]\n [  0   0   0   2   0   0   0   0   0   0   0   0   0   0   0   0]\n [  0   0   0   0  13   0   0   0   0   0   0   0   0   0   0   0]\n [  0   0   0   0   0   1   0   0   0   0   0   0   0   0   0   0]\n [  0   0   0   0   0   0   7   0   0   0   0   0   0   0   0   0]\n [  0   0   0   0   0   0   0   4   0   0   0   0   0   0   0   0]\n [  0   0   0   0   0   0   0   0  12   0   0   0   0   0   0   0]\n [  0   0   0   0   0   0   0   0   0   2   0   0   0   0   0   0]\n [  0   0   0   0   0   0   0   0   0   0   4   0   0   0   0   0]\n [  0   0   0   0   0   0   0   0   0   0   0   6   0   0   0   0]\n [  0   0   0   0   0   0   0   0   0   0   0   0   1   0   0   0]\n [  0   0   0   0   0   0   0   0   0   0   0   0   0   0   0   0]\n [  0   0   0   0   0   0   0   0   0   0   0   0   0   0   0   0]\n [  0   0   0   0   0   0   0   0   0   0   0   0   0   0   0   0]]\n"
     ]
    },
    {
     "name": "stdout",
     "output_type": "stream",
     "text": [
      "97 Train accuracy: 0.995 Test accuracy: 0.9895\n[[164   0   0   0   0   0   0   0   0   0   0   0   0   0   0   0]\n [  0   0   0   0   0   0   0   0   0   0   0   0   0   0   0   0]\n [  0   0   3   0   0   0   1   0   0   0   0   0   0   0   0   0]\n [  0   0   0   3   0   0   0   0   0   0   0   0   0   0   0   0]\n [  0   0   0   0   4   0   0   0   0   0   0   0   0   0   0   0]\n [  0   0   0   0   0   1   0   0   0   0   0   0   0   0   0   0]\n [  0   0   0   0   0   0   7   0   0   0   0   0   0   0   0   0]\n [  0   0   0   0   0   0   0   2   0   0   0   0   0   0   0   0]\n [  0   0   0   0   0   0   0   0   4   0   0   0   0   0   0   0]\n [  0   0   0   0   0   0   0   0   0   2   0   0   0   0   0   0]\n [  0   0   0   0   0   0   0   0   0   0   6   0   0   0   0   0]\n [  0   0   0   0   0   0   0   0   0   0   0   2   0   0   0   0]\n [  0   0   0   0   0   0   0   0   0   0   0   0   1   0   0   0]\n [  0   0   0   0   0   0   0   0   0   0   0   0   0   0   0   0]\n [  0   0   0   0   0   0   0   0   0   0   0   0   0   0   0   0]\n [  0   0   0   0   0   0   0   0   0   0   0   0   0   0   0   0]]\n"
     ]
    },
    {
     "name": "stdout",
     "output_type": "stream",
     "text": [
      "98 Train accuracy: 1.0 Test accuracy: 0.9935\n[[158   0   0   0   0   0   0   0   0   0   0   0   0   0   0   0]\n [  0   0   0   0   0   0   0   0   0   0   0   0   0   0   0   0]\n [  0   0   8   0   0   0   0   0   0   0   0   0   0   0   0   0]\n [  0   0   0   0   0   0   0   0   0   0   0   0   0   0   0   0]\n [  0   0   0   0   8   0   0   0   0   0   0   0   0   0   0   0]\n [  0   0   0   0   0   0   0   0   0   0   0   0   0   0   0   0]\n [  0   0   0   0   0   0   7   0   0   0   0   0   0   0   0   0]\n [  0   0   0   0   0   0   0   2   0   0   0   0   0   0   0   0]\n [  0   0   0   0   0   0   0   0   5   0   0   0   0   0   0   0]\n [  0   0   0   0   0   0   0   0   0   3   0   0   0   0   0   0]\n [  0   0   0   0   0   0   0   0   0   0   3   0   0   0   0   0]\n [  0   0   0   0   0   0   0   0   0   0   0   4   0   0   0   0]\n [  0   0   0   0   0   0   0   0   0   0   0   0   2   0   0   0]\n [  0   0   0   0   0   0   0   0   0   0   0   0   0   0   0   0]\n [  0   0   0   0   0   0   0   0   0   0   0   0   0   0   0   0]\n [  0   0   0   0   0   0   0   0   0   0   0   0   0   0   0   0]]\n"
     ]
    },
    {
     "name": "stdout",
     "output_type": "stream",
     "text": [
      "99 Train accuracy: 1.0 Test accuracy: 0.9885\n[[147   0   0   0   0   0   0   0   0   0   0   0   0   0   0   0]\n [  0   0   0   0   0   0   0   0   0   0   0   0   0   0   0   0]\n [  0   0  19   0   0   0   0   0   0   0   0   0   0   0   0   0]\n [  0   0   0   2   0   0   0   0   0   0   0   0   0   0   0   0]\n [  0   0   0   0   8   0   0   0   0   0   0   0   0   0   0   0]\n [  0   0   0   0   0   1   0   0   0   0   0   0   0   0   0   0]\n [  0   0   0   0   0   0   5   0   0   0   0   0   0   0   0   0]\n [  0   0   0   0   0   0   0   3   0   0   0   0   0   0   0   0]\n [  0   0   0   0   0   0   0   0   5   0   0   0   0   0   0   0]\n [  0   0   0   0   0   0   0   0   0   3   0   0   0   0   0   0]\n [  0   0   0   0   0   0   0   0   0   0   3   0   0   0   0   0]\n [  0   0   0   0   0   0   0   0   0   0   0   4   0   0   0   0]\n [  0   0   0   0   0   0   0   0   0   0   0   0   0   0   0   0]\n [  0   0   0   0   0   0   0   0   0   0   0   0   0   0   0   0]\n [  0   0   0   0   0   0   0   0   0   0   0   0   0   0   0   0]\n [  0   0   0   0   0   0   0   0   0   0   0   0   0   0   0   0]]\n"
     ]
    }
   ],
   "source": [
    "from sklearn.metrics import classification_report\n",
    "from sklearn.metrics import confusion_matrix\n",
    "\n",
    "n_epochs = 100\n",
    "batch_size = 200\n",
    "\n",
    "conf_labels = [i for i in range(max_policy_history_length)]\n",
    "\n",
    "train_data = sf.TrainDataSet(train_labels=train_labels, train_features=train_features, train_seq_lengths=train_seq_lengths)\n",
    "\n",
    "with tf.Session() as sess:\n",
    "    init.run()\n",
    "    for epoch in range(n_epochs):\n",
    "        for i in range(train_data.num_examples // batch_size):\n",
    "            y_batch, X_batch, seq_length_batch = train_data.next_batch(batch_size)\n",
    "            \n",
    "            sess.run(training_op, feed_dict={X: X_batch, y: y_batch, seq_length: seq_length_batch})\n",
    "\n",
    "        y_train_pred = y_pred.eval(feed_dict={X: X_batch, y: y_batch, seq_length: seq_length_batch})\n",
    "        acc_train = accuracy.eval(feed_dict={X: X_batch, y: y_batch, seq_length: seq_length_batch})\n",
    "        acc_test = accuracy.eval(feed_dict={X: test_features, y: test_labels, seq_length: test_seq_lengths})\n",
    "\n",
    "        print(epoch, \"Train accuracy:\", acc_train, \"Test accuracy:\", acc_test)\n",
    "        print(confusion_matrix(y_true=y_batch, y_pred=y_train_pred, labels=conf_labels))\n",
    "        #print(classification_report(y_batch, y_train_pred, target_names=['ok', 'troubled']))\n",
    "\n",
    "        loss_summary_str = loss_summary.eval(feed_dict={X: X_batch, y: y_batch, seq_length: seq_length_batch})\n",
    "        accuracy_summary_str = accuracy_summary.eval(feed_dict={X: test_features, y: test_labels, seq_length: test_seq_lengths})\n",
    "        file_writer.add_summary(loss_summary_str, epoch)\n",
    "        file_writer.add_summary(accuracy_summary_str, epoch)\n",
    "\n",
    "file_writer.close()"
   ]
  },
  {
   "cell_type": "code",
   "execution_count": null,
   "metadata": {},
   "outputs": [],
   "source": []
  }
 ],
 "metadata": {
  "kernelspec": {
   "display_name": "Python 2",
   "language": "python",
   "name": "python2"
  },
  "language_info": {
   "codemirror_mode": {
    "name": "ipython",
    "version": 2
   },
   "file_extension": ".py",
   "mimetype": "text/x-python",
   "name": "python",
   "nbconvert_exporter": "python",
   "pygments_lexer": "ipython2",
   "version": "2.7.6"
  }
 },
 "nbformat": 4,
 "nbformat_minor": 0
}
