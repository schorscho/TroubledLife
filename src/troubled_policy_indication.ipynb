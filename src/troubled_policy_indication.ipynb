{
 "cells": [
  {
   "cell_type": "markdown",
   "metadata": {
    "collapsed": true
   },
   "source": [
    "Generate, load and prepare policy histories"
   ]
  },
  {
   "cell_type": "code",
   "execution_count": 31,
   "metadata": {
    "collapsed": true
   },
   "outputs": [],
   "source": [
    "import os\n",
    "from datetime import datetime\n",
    "import support_functions as sf\n",
    "\n",
    "\n",
    "PROJECT_ROOT_DIR = \"/Users/gopora/MyStuff/Dev/Workspaces/Sandbox/TroubledLife\"\n",
    "DATASETS_DIR = os.path.join(PROJECT_ROOT_DIR, \"data\")\n",
    "TF_LOG_DIR = os.path.join(PROJECT_ROOT_DIR, \"tf_logs\")\n",
    "TRAINING_SET_DATA_FILE = \"troubled_life_policy_train_data.csv\"\n",
    "TEST_SET_DATA_FILE = \"troubled_life_policy_test_data.csv\"\n",
    "\n",
    "now = datetime.utcnow().strftime(\"%Y%m%d%H%M%S\")\n",
    "log_dir = \"{}/run-{}/\".format(TF_LOG_DIR, now)\n",
    "\n",
    "sf.generate_very_simple_troubled_life_policy_data(no_of_policies=10000, runtime=5, file_path=os.path.join(DATASETS_DIR, TRAINING_SET_DATA_FILE))\n",
    "policy_histories = sf.load_troubled_life_policy_data(file_path=os.path.join(DATASETS_DIR, TRAINING_SET_DATA_FILE))\n",
    "policy_histories, history_lengths, max_history_length = sf.pad_troubled_life_policy_histories(policy_histories=policy_histories)"
   ]
  },
  {
   "cell_type": "markdown",
   "metadata": {},
   "source": [
    "Prepare labels and features"
   ]
  },
  {
   "cell_type": "code",
   "execution_count": 32,
   "metadata": {},
   "outputs": [],
   "source": [
    "# Extract features and labels from dataset as numpy.ndarray(s)\n",
    "policy_histories_features = policy_histories[['premium', 'current_capital']].as_matrix()\n",
    "policy_histories_labels = policy_histories['troubled'].replace(to_replace=[False, True], value=[0, 1]).as_matrix()\n",
    "\n",
    "# Remove column with policy ids (history_lengths is a numpy.ndarray)\n",
    "policy_history_lengths =  history_lengths[:,1]\n",
    "\n",
    "# Reshape labels from (overall_no_of_histories) to (overall_no_of_policies, maximum_history_length) and take maximum of each row (0 or 1)\n",
    "policy_histories_labels = policy_histories_labels.reshape(policy_histories.index.levels[0].shape[0], -1).max(axis=1)\n",
    "\n",
    "# Reshape features from (overall_no_of_histories, 2) to (overall_no_of_policies, maximum_history_length, 2)\n",
    "policy_histories_features = policy_histories_features.reshape((policy_histories.index.levels[0].shape[0], max_history_length, -1))"
   ]
  },
  {
   "cell_type": "markdown",
   "metadata": {},
   "source": [
    "Build TensorFlow graph with RNN"
   ]
  },
  {
   "cell_type": "code",
   "execution_count": 33,
   "metadata": {},
   "outputs": [],
   "source": [
    "import tensorflow as tf\n",
    "\n",
    "tf.reset_default_graph()\n",
    "tf.set_random_seed(42)\n",
    "\n",
    "# Our hyperparameters\n",
    "n_steps = max_history_length\n",
    "n_inputs = 2\n",
    "n_neurons = 150\n",
    "n_outputs = 2\n",
    "learning_rate = 0.001\n",
    "\n",
    "# Placeholders for our input sequences\n",
    "seq_length = tf.placeholder(tf.int32, [None], name=\"seq_length\")\n",
    "X = tf.placeholder(tf.float32, [None, n_steps, n_inputs], name=\"X\")\n",
    "y = tf.placeholder(tf.int32, [None], name=\"y\")\n",
    "\n",
    "# A single RNN layer of n_neurons neurons\n",
    "basic_cell = tf.contrib.rnn.BasicRNNCell(num_units=n_neurons, activation=tf.nn.relu)\n",
    "outputs, states = tf.nn.dynamic_rnn(basic_cell, X, dtype=tf.float32, sequence_length=seq_length)\n",
    "\n",
    "# We feed the layer's output of the last timestep into a fully connected layer of 2 neurons\n",
    "# (1 per class, troubled or not). Softmax layer is next\n",
    "logits = tf.layers.dense(states, n_outputs)\n",
    "y_pred = tf.argmax(tf.nn.softmax(logits), axis=1)\n",
    "xentropy = tf.nn.sparse_softmax_cross_entropy_with_logits(labels=y, logits=logits)\n",
    "\n",
    "# Loss function and Adam Optimizer\n",
    "loss = tf.reduce_mean(tf.cast(xentropy, tf.float32))\n",
    "optimizer = tf.train.AdamOptimizer(learning_rate=learning_rate)\n",
    "training_op = optimizer.minimize(loss)\n",
    "\n",
    "correct = tf.nn.in_top_k(logits, y, 1)\n",
    "accuracy = tf.reduce_mean(tf.cast(correct, tf.float32))\n",
    "\n",
    "init = tf.global_variables_initializer()\n",
    "\n",
    "accuracy_summary = tf.summary.scalar('Accuracy', accuracy)\n",
    "loss_summary = tf.summary.scalar('Loss', loss)\n",
    "\n",
    "file_writer = tf.summary.FileWriter(log_dir, tf.get_default_graph())"
   ]
  },
  {
   "cell_type": "code",
   "execution_count": 34,
   "metadata": {},
   "outputs": [
    {
     "name": "stdout",
     "output_type": "stream",
     "text": [
      "0 Train accuracy: 0.85\n4.14799\n[[153   0]\n [ 30  17]]\n             precision    recall  f1-score   support\n\n         ok       0.84      1.00      0.91       153\n   troubled       1.00      0.36      0.53        47\n\navg / total       0.87      0.85      0.82       200\n\n"
     ]
    },
    {
     "name": "stdout",
     "output_type": "stream",
     "text": [
      "1 Train accuracy: 0.86\n4.82602\n[[153   0]\n [ 28  19]]\n             precision    recall  f1-score   support\n\n         ok       0.85      1.00      0.92       153\n   troubled       1.00      0.40      0.58        47\n\navg / total       0.88      0.86      0.84       200\n\n"
     ]
    },
    {
     "name": "stdout",
     "output_type": "stream",
     "text": [
      "2 Train accuracy: 0.835\n8.57811\n[[153   0]\n [ 33  14]]\n             precision    recall  f1-score   support\n\n         ok       0.82      1.00      0.90       153\n   troubled       1.00      0.30      0.46        47\n\navg / total       0.86      0.83      0.80       200\n\n"
     ]
    },
    {
     "name": "stdout",
     "output_type": "stream",
     "text": [
      "3 Train accuracy: 0.85\n7.82198\n[[153   0]\n [ 30  17]]\n             precision    recall  f1-score   support\n\n         ok       0.84      1.00      0.91       153\n   troubled       1.00      0.36      0.53        47\n\navg / total       0.87      0.85      0.82       200\n\n"
     ]
    },
    {
     "name": "stdout",
     "output_type": "stream",
     "text": [
      "4 Train accuracy: 0.955\n0.937053\n[[153   0]\n [  9  38]]\n             precision    recall  f1-score   support\n\n         ok       0.94      1.00      0.97       153\n   troubled       1.00      0.81      0.89        47\n\navg / total       0.96      0.95      0.95       200\n\n"
     ]
    },
    {
     "name": "stdout",
     "output_type": "stream",
     "text": [
      "5 Train accuracy: 0.945\n1.9014\n[[153   0]\n [ 11  36]]\n             precision    recall  f1-score   support\n\n         ok       0.93      1.00      0.97       153\n   troubled       1.00      0.77      0.87        47\n\navg / total       0.95      0.94      0.94       200\n\n"
     ]
    },
    {
     "name": "stdout",
     "output_type": "stream",
     "text": [
      "6 Train accuracy: 0.235\n16.9053\n[[  0 153]\n [  0  47]]\n             precision    recall  f1-score   support\n\n         ok       0.00      0.00      0.00       153\n   troubled       0.23      1.00      0.38        47\n\navg / total       0.06      0.23      0.09       200\n\n"
     ]
    },
    {
     "name": "stderr",
     "output_type": "stream",
     "text": [
      "/Users/gopora/MyStuff/Dev/miniconda3/envs/pie35/lib/python3.5/site-packages/sklearn/metrics/classification.py:1113: UndefinedMetricWarning: Precision and F-score are ill-defined and being set to 0.0 in labels with no predicted samples.\n  'precision', 'predicted', average, warn_for)\n"
     ]
    },
    {
     "name": "stdout",
     "output_type": "stream",
     "text": [
      "7 Train accuracy: 0.975\n0.391387\n[[153   0]\n [  5  42]]\n             precision    recall  f1-score   support\n\n         ok       0.97      1.00      0.98       153\n   troubled       1.00      0.89      0.94        47\n\navg / total       0.98      0.97      0.97       200\n\n"
     ]
    },
    {
     "name": "stdout",
     "output_type": "stream",
     "text": [
      "8 Train accuracy: 0.955\n2.30592\n[[153   0]\n [  9  38]]\n             precision    recall  f1-score   support\n\n         ok       0.94      1.00      0.97       153\n   troubled       1.00      0.81      0.89        47\n\navg / total       0.96      0.95      0.95       200\n\n"
     ]
    },
    {
     "name": "stdout",
     "output_type": "stream",
     "text": [
      "9 Train accuracy: 0.955\n1.47052\n[[153   0]\n [  9  38]]\n             precision    recall  f1-score   support\n\n         ok       0.94      1.00      0.97       153\n   troubled       1.00      0.81      0.89        47\n\navg / total       0.96      0.95      0.95       200\n\n"
     ]
    },
    {
     "name": "stdout",
     "output_type": "stream",
     "text": [
      "10 Train accuracy: 0.92\n4.05928\n[[153   0]\n [ 16  31]]\n             precision    recall  f1-score   support\n\n         ok       0.91      1.00      0.95       153\n   troubled       1.00      0.66      0.79        47\n\navg / total       0.93      0.92      0.91       200\n\n"
     ]
    },
    {
     "name": "stdout",
     "output_type": "stream",
     "text": [
      "11 Train accuracy: 0.92\n4.26186\n[[153   0]\n [ 16  31]]\n             precision    recall  f1-score   support\n\n         ok       0.91      1.00      0.95       153\n   troubled       1.00      0.66      0.79        47\n\navg / total       0.93      0.92      0.91       200\n\n"
     ]
    },
    {
     "name": "stdout",
     "output_type": "stream",
     "text": [
      "12 Train accuracy: 1.0\n0.00277786\n[[153   0]\n [  0  47]]\n             precision    recall  f1-score   support\n\n         ok       1.00      1.00      1.00       153\n   troubled       1.00      1.00      1.00        47\n\navg / total       1.00      1.00      1.00       200\n\n"
     ]
    },
    {
     "name": "stdout",
     "output_type": "stream",
     "text": [
      "13 Train accuracy: 1.0\n0.0\n[[153   0]\n [  0  47]]\n             precision    recall  f1-score   support\n\n         ok       1.00      1.00      1.00       153\n   troubled       1.00      1.00      1.00        47\n\navg / total       1.00      1.00      1.00       200\n\n"
     ]
    },
    {
     "name": "stdout",
     "output_type": "stream",
     "text": [
      "14 Train accuracy: 1.0\n0.0\n[[153   0]\n [  0  47]]\n             precision    recall  f1-score   support\n\n         ok       1.00      1.00      1.00       153\n   troubled       1.00      1.00      1.00        47\n\navg / total       1.00      1.00      1.00       200\n\n"
     ]
    },
    {
     "name": "stdout",
     "output_type": "stream",
     "text": [
      "15 Train accuracy: 1.0\n0.0\n[[153   0]\n [  0  47]]\n             precision    recall  f1-score   support\n\n         ok       1.00      1.00      1.00       153\n   troubled       1.00      1.00      1.00        47\n\navg / total       1.00      1.00      1.00       200\n\n"
     ]
    },
    {
     "name": "stdout",
     "output_type": "stream",
     "text": [
      "16 Train accuracy: 1.0\n0.0\n[[153   0]\n [  0  47]]\n             precision    recall  f1-score   support\n\n         ok       1.00      1.00      1.00       153\n   troubled       1.00      1.00      1.00        47\n\navg / total       1.00      1.00      1.00       200\n\n"
     ]
    },
    {
     "name": "stdout",
     "output_type": "stream",
     "text": [
      "17 Train accuracy: 1.0\n0.0\n[[153   0]\n [  0  47]]\n             precision    recall  f1-score   support\n\n         ok       1.00      1.00      1.00       153\n   troubled       1.00      1.00      1.00        47\n\navg / total       1.00      1.00      1.00       200\n\n"
     ]
    },
    {
     "name": "stdout",
     "output_type": "stream",
     "text": [
      "18 Train accuracy: 1.0\n0.0\n[[153   0]\n [  0  47]]\n             precision    recall  f1-score   support\n\n         ok       1.00      1.00      1.00       153\n   troubled       1.00      1.00      1.00        47\n\navg / total       1.00      1.00      1.00       200\n\n"
     ]
    },
    {
     "name": "stdout",
     "output_type": "stream",
     "text": [
      "19 Train accuracy: 1.0\n0.0\n[[153   0]\n [  0  47]]\n             precision    recall  f1-score   support\n\n         ok       1.00      1.00      1.00       153\n   troubled       1.00      1.00      1.00        47\n\navg / total       1.00      1.00      1.00       200\n\n"
     ]
    },
    {
     "name": "stdout",
     "output_type": "stream",
     "text": [
      "20 Train accuracy: 1.0\n0.0\n[[153   0]\n [  0  47]]\n             precision    recall  f1-score   support\n\n         ok       1.00      1.00      1.00       153\n   troubled       1.00      1.00      1.00        47\n\navg / total       1.00      1.00      1.00       200\n\n"
     ]
    },
    {
     "name": "stdout",
     "output_type": "stream",
     "text": [
      "21 Train accuracy: 1.0\n0.0\n[[153   0]\n [  0  47]]\n             precision    recall  f1-score   support\n\n         ok       1.00      1.00      1.00       153\n   troubled       1.00      1.00      1.00        47\n\navg / total       1.00      1.00      1.00       200\n\n"
     ]
    },
    {
     "name": "stdout",
     "output_type": "stream",
     "text": [
      "22 Train accuracy: 1.0\n0.0\n[[153   0]\n [  0  47]]\n             precision    recall  f1-score   support\n\n         ok       1.00      1.00      1.00       153\n   troubled       1.00      1.00      1.00        47\n\navg / total       1.00      1.00      1.00       200\n\n"
     ]
    },
    {
     "name": "stdout",
     "output_type": "stream",
     "text": [
      "23 Train accuracy: 1.0\n0.0\n[[153   0]\n [  0  47]]\n             precision    recall  f1-score   support\n\n         ok       1.00      1.00      1.00       153\n   troubled       1.00      1.00      1.00        47\n\navg / total       1.00      1.00      1.00       200\n\n"
     ]
    },
    {
     "name": "stdout",
     "output_type": "stream",
     "text": [
      "24 Train accuracy: 1.0\n0.0\n[[153   0]\n [  0  47]]\n             precision    recall  f1-score   support\n\n         ok       1.00      1.00      1.00       153\n   troubled       1.00      1.00      1.00        47\n\navg / total       1.00      1.00      1.00       200\n\n"
     ]
    },
    {
     "name": "stdout",
     "output_type": "stream",
     "text": [
      "25 Train accuracy: 1.0\n0.0\n[[153   0]\n [  0  47]]\n             precision    recall  f1-score   support\n\n         ok       1.00      1.00      1.00       153\n   troubled       1.00      1.00      1.00        47\n\navg / total       1.00      1.00      1.00       200\n\n"
     ]
    },
    {
     "name": "stdout",
     "output_type": "stream",
     "text": [
      "26 Train accuracy: 1.0\n0.0\n[[153   0]\n [  0  47]]\n             precision    recall  f1-score   support\n\n         ok       1.00      1.00      1.00       153\n   troubled       1.00      1.00      1.00        47\n\navg / total       1.00      1.00      1.00       200\n\n"
     ]
    },
    {
     "name": "stdout",
     "output_type": "stream",
     "text": [
      "27 Train accuracy: 1.0\n0.0\n[[153   0]\n [  0  47]]\n             precision    recall  f1-score   support\n\n         ok       1.00      1.00      1.00       153\n   troubled       1.00      1.00      1.00        47\n\navg / total       1.00      1.00      1.00       200\n\n"
     ]
    },
    {
     "name": "stdout",
     "output_type": "stream",
     "text": [
      "28 Train accuracy: 1.0\n0.0\n[[153   0]\n [  0  47]]\n             precision    recall  f1-score   support\n\n         ok       1.00      1.00      1.00       153\n   troubled       1.00      1.00      1.00        47\n\navg / total       1.00      1.00      1.00       200\n\n"
     ]
    },
    {
     "name": "stdout",
     "output_type": "stream",
     "text": [
      "29 Train accuracy: 1.0\n0.0\n[[153   0]\n [  0  47]]\n             precision    recall  f1-score   support\n\n         ok       1.00      1.00      1.00       153\n   troubled       1.00      1.00      1.00        47\n\navg / total       1.00      1.00      1.00       200\n\n"
     ]
    },
    {
     "name": "stdout",
     "output_type": "stream",
     "text": [
      "30 Train accuracy: 1.0\n0.0\n[[153   0]\n [  0  47]]\n             precision    recall  f1-score   support\n\n         ok       1.00      1.00      1.00       153\n   troubled       1.00      1.00      1.00        47\n\navg / total       1.00      1.00      1.00       200\n\n"
     ]
    },
    {
     "name": "stdout",
     "output_type": "stream",
     "text": [
      "31 Train accuracy: 1.0\n0.0\n[[153   0]\n [  0  47]]\n             precision    recall  f1-score   support\n\n         ok       1.00      1.00      1.00       153\n   troubled       1.00      1.00      1.00        47\n\navg / total       1.00      1.00      1.00       200\n\n"
     ]
    },
    {
     "name": "stdout",
     "output_type": "stream",
     "text": [
      "32 Train accuracy: 1.0\n0.0\n[[153   0]\n [  0  47]]\n             precision    recall  f1-score   support\n\n         ok       1.00      1.00      1.00       153\n   troubled       1.00      1.00      1.00        47\n\navg / total       1.00      1.00      1.00       200\n\n"
     ]
    },
    {
     "name": "stdout",
     "output_type": "stream",
     "text": [
      "33 Train accuracy: 1.0\n0.0\n[[153   0]\n [  0  47]]\n             precision    recall  f1-score   support\n\n         ok       1.00      1.00      1.00       153\n   troubled       1.00      1.00      1.00        47\n\navg / total       1.00      1.00      1.00       200\n\n"
     ]
    },
    {
     "name": "stdout",
     "output_type": "stream",
     "text": [
      "34 Train accuracy: 1.0\n0.0\n[[153   0]\n [  0  47]]\n             precision    recall  f1-score   support\n\n         ok       1.00      1.00      1.00       153\n   troubled       1.00      1.00      1.00        47\n\navg / total       1.00      1.00      1.00       200\n\n"
     ]
    },
    {
     "name": "stdout",
     "output_type": "stream",
     "text": [
      "35 Train accuracy: 1.0\n0.0\n[[153   0]\n [  0  47]]\n             precision    recall  f1-score   support\n\n         ok       1.00      1.00      1.00       153\n   troubled       1.00      1.00      1.00        47\n\navg / total       1.00      1.00      1.00       200\n\n"
     ]
    },
    {
     "name": "stdout",
     "output_type": "stream",
     "text": [
      "36 Train accuracy: 1.0\n0.0\n[[153   0]\n [  0  47]]\n             precision    recall  f1-score   support\n\n         ok       1.00      1.00      1.00       153\n   troubled       1.00      1.00      1.00        47\n\navg / total       1.00      1.00      1.00       200\n\n"
     ]
    },
    {
     "name": "stdout",
     "output_type": "stream",
     "text": [
      "37 Train accuracy: 1.0\n0.0\n[[153   0]\n [  0  47]]\n             precision    recall  f1-score   support\n\n         ok       1.00      1.00      1.00       153\n   troubled       1.00      1.00      1.00        47\n\navg / total       1.00      1.00      1.00       200\n\n"
     ]
    },
    {
     "name": "stdout",
     "output_type": "stream",
     "text": [
      "38 Train accuracy: 1.0\n0.0\n[[153   0]\n [  0  47]]\n             precision    recall  f1-score   support\n\n         ok       1.00      1.00      1.00       153\n   troubled       1.00      1.00      1.00        47\n\navg / total       1.00      1.00      1.00       200\n\n"
     ]
    },
    {
     "name": "stdout",
     "output_type": "stream",
     "text": [
      "39 Train accuracy: 1.0\n0.0\n[[153   0]\n [  0  47]]\n             precision    recall  f1-score   support\n\n         ok       1.00      1.00      1.00       153\n   troubled       1.00      1.00      1.00        47\n\navg / total       1.00      1.00      1.00       200\n\n"
     ]
    },
    {
     "name": "stdout",
     "output_type": "stream",
     "text": [
      "40 Train accuracy: 1.0\n0.0\n[[153   0]\n [  0  47]]\n             precision    recall  f1-score   support\n\n         ok       1.00      1.00      1.00       153\n   troubled       1.00      1.00      1.00        47\n\navg / total       1.00      1.00      1.00       200\n\n"
     ]
    },
    {
     "name": "stdout",
     "output_type": "stream",
     "text": [
      "41 Train accuracy: 1.0\n0.0\n[[153   0]\n [  0  47]]\n             precision    recall  f1-score   support\n\n         ok       1.00      1.00      1.00       153\n   troubled       1.00      1.00      1.00        47\n\navg / total       1.00      1.00      1.00       200\n\n"
     ]
    },
    {
     "name": "stdout",
     "output_type": "stream",
     "text": [
      "42 Train accuracy: 1.0\n0.0\n[[153   0]\n [  0  47]]\n             precision    recall  f1-score   support\n\n         ok       1.00      1.00      1.00       153\n   troubled       1.00      1.00      1.00        47\n\navg / total       1.00      1.00      1.00       200\n\n"
     ]
    },
    {
     "name": "stdout",
     "output_type": "stream",
     "text": [
      "43 Train accuracy: 1.0\n0.0\n[[153   0]\n [  0  47]]\n             precision    recall  f1-score   support\n\n         ok       1.00      1.00      1.00       153\n   troubled       1.00      1.00      1.00        47\n\navg / total       1.00      1.00      1.00       200\n\n"
     ]
    },
    {
     "name": "stdout",
     "output_type": "stream",
     "text": [
      "44 Train accuracy: 1.0\n0.0\n[[153   0]\n [  0  47]]\n             precision    recall  f1-score   support\n\n         ok       1.00      1.00      1.00       153\n   troubled       1.00      1.00      1.00        47\n\navg / total       1.00      1.00      1.00       200\n\n"
     ]
    },
    {
     "name": "stdout",
     "output_type": "stream",
     "text": [
      "45 Train accuracy: 1.0\n0.0\n[[153   0]\n [  0  47]]\n             precision    recall  f1-score   support\n\n         ok       1.00      1.00      1.00       153\n   troubled       1.00      1.00      1.00        47\n\navg / total       1.00      1.00      1.00       200\n\n"
     ]
    },
    {
     "name": "stdout",
     "output_type": "stream",
     "text": [
      "46 Train accuracy: 1.0\n0.0\n[[153   0]\n [  0  47]]\n             precision    recall  f1-score   support\n\n         ok       1.00      1.00      1.00       153\n   troubled       1.00      1.00      1.00        47\n\navg / total       1.00      1.00      1.00       200\n\n"
     ]
    },
    {
     "name": "stdout",
     "output_type": "stream",
     "text": [
      "47 Train accuracy: 1.0\n0.0\n[[153   0]\n [  0  47]]\n             precision    recall  f1-score   support\n\n         ok       1.00      1.00      1.00       153\n   troubled       1.00      1.00      1.00        47\n\navg / total       1.00      1.00      1.00       200\n\n"
     ]
    },
    {
     "name": "stdout",
     "output_type": "stream",
     "text": [
      "48 Train accuracy: 1.0\n0.0\n[[153   0]\n [  0  47]]\n             precision    recall  f1-score   support\n\n         ok       1.00      1.00      1.00       153\n   troubled       1.00      1.00      1.00        47\n\navg / total       1.00      1.00      1.00       200\n\n"
     ]
    },
    {
     "name": "stdout",
     "output_type": "stream",
     "text": [
      "49 Train accuracy: 1.0\n0.0\n[[153   0]\n [  0  47]]\n             precision    recall  f1-score   support\n\n         ok       1.00      1.00      1.00       153\n   troubled       1.00      1.00      1.00        47\n\navg / total       1.00      1.00      1.00       200\n\n"
     ]
    },
    {
     "name": "stdout",
     "output_type": "stream",
     "text": [
      "50 Train accuracy: 1.0\n0.0\n[[153   0]\n [  0  47]]\n             precision    recall  f1-score   support\n\n         ok       1.00      1.00      1.00       153\n   troubled       1.00      1.00      1.00        47\n\navg / total       1.00      1.00      1.00       200\n\n"
     ]
    },
    {
     "name": "stdout",
     "output_type": "stream",
     "text": [
      "51 Train accuracy: 1.0\n0.0\n[[153   0]\n [  0  47]]\n             precision    recall  f1-score   support\n\n         ok       1.00      1.00      1.00       153\n   troubled       1.00      1.00      1.00        47\n\navg / total       1.00      1.00      1.00       200\n\n"
     ]
    },
    {
     "name": "stdout",
     "output_type": "stream",
     "text": [
      "52 Train accuracy: 1.0\n0.0\n[[153   0]\n [  0  47]]\n             precision    recall  f1-score   support\n\n         ok       1.00      1.00      1.00       153\n   troubled       1.00      1.00      1.00        47\n\navg / total       1.00      1.00      1.00       200\n\n"
     ]
    },
    {
     "name": "stdout",
     "output_type": "stream",
     "text": [
      "53 Train accuracy: 1.0\n0.0\n[[153   0]\n [  0  47]]\n             precision    recall  f1-score   support\n\n         ok       1.00      1.00      1.00       153\n   troubled       1.00      1.00      1.00        47\n\navg / total       1.00      1.00      1.00       200\n\n"
     ]
    },
    {
     "name": "stdout",
     "output_type": "stream",
     "text": [
      "54 Train accuracy: 1.0\n0.0\n[[153   0]\n [  0  47]]\n             precision    recall  f1-score   support\n\n         ok       1.00      1.00      1.00       153\n   troubled       1.00      1.00      1.00        47\n\navg / total       1.00      1.00      1.00       200\n\n"
     ]
    },
    {
     "name": "stdout",
     "output_type": "stream",
     "text": [
      "55 Train accuracy: 1.0\n0.0\n[[153   0]\n [  0  47]]\n             precision    recall  f1-score   support\n\n         ok       1.00      1.00      1.00       153\n   troubled       1.00      1.00      1.00        47\n\navg / total       1.00      1.00      1.00       200\n\n"
     ]
    },
    {
     "name": "stdout",
     "output_type": "stream",
     "text": [
      "56 Train accuracy: 1.0\n0.0\n[[153   0]\n [  0  47]]\n             precision    recall  f1-score   support\n\n         ok       1.00      1.00      1.00       153\n   troubled       1.00      1.00      1.00        47\n\navg / total       1.00      1.00      1.00       200\n\n"
     ]
    },
    {
     "name": "stdout",
     "output_type": "stream",
     "text": [
      "57 Train accuracy: 1.0\n0.0\n[[153   0]\n [  0  47]]\n             precision    recall  f1-score   support\n\n         ok       1.00      1.00      1.00       153\n   troubled       1.00      1.00      1.00        47\n\navg / total       1.00      1.00      1.00       200\n\n"
     ]
    },
    {
     "name": "stdout",
     "output_type": "stream",
     "text": [
      "58 Train accuracy: 1.0\n0.0\n[[153   0]\n [  0  47]]\n             precision    recall  f1-score   support\n\n         ok       1.00      1.00      1.00       153\n   troubled       1.00      1.00      1.00        47\n\navg / total       1.00      1.00      1.00       200\n\n"
     ]
    },
    {
     "name": "stdout",
     "output_type": "stream",
     "text": [
      "59 Train accuracy: 1.0\n0.0\n[[153   0]\n [  0  47]]\n             precision    recall  f1-score   support\n\n         ok       1.00      1.00      1.00       153\n   troubled       1.00      1.00      1.00        47\n\navg / total       1.00      1.00      1.00       200\n\n"
     ]
    },
    {
     "name": "stdout",
     "output_type": "stream",
     "text": [
      "60 Train accuracy: 1.0\n0.0\n[[153   0]\n [  0  47]]\n             precision    recall  f1-score   support\n\n         ok       1.00      1.00      1.00       153\n   troubled       1.00      1.00      1.00        47\n\navg / total       1.00      1.00      1.00       200\n\n"
     ]
    },
    {
     "name": "stdout",
     "output_type": "stream",
     "text": [
      "61 Train accuracy: 1.0\n0.0\n[[153   0]\n [  0  47]]\n             precision    recall  f1-score   support\n\n         ok       1.00      1.00      1.00       153\n   troubled       1.00      1.00      1.00        47\n\navg / total       1.00      1.00      1.00       200\n\n"
     ]
    },
    {
     "name": "stdout",
     "output_type": "stream",
     "text": [
      "62 Train accuracy: 1.0\n0.0\n[[153   0]\n [  0  47]]\n             precision    recall  f1-score   support\n\n         ok       1.00      1.00      1.00       153\n   troubled       1.00      1.00      1.00        47\n\navg / total       1.00      1.00      1.00       200\n\n"
     ]
    },
    {
     "name": "stdout",
     "output_type": "stream",
     "text": [
      "63 Train accuracy: 1.0\n0.0\n[[153   0]\n [  0  47]]\n             precision    recall  f1-score   support\n\n         ok       1.00      1.00      1.00       153\n   troubled       1.00      1.00      1.00        47\n\navg / total       1.00      1.00      1.00       200\n\n"
     ]
    },
    {
     "name": "stdout",
     "output_type": "stream",
     "text": [
      "64 Train accuracy: 1.0\n0.0\n[[153   0]\n [  0  47]]\n             precision    recall  f1-score   support\n\n         ok       1.00      1.00      1.00       153\n   troubled       1.00      1.00      1.00        47\n\navg / total       1.00      1.00      1.00       200\n\n"
     ]
    },
    {
     "name": "stdout",
     "output_type": "stream",
     "text": [
      "65 Train accuracy: 1.0\n0.0\n[[153   0]\n [  0  47]]\n             precision    recall  f1-score   support\n\n         ok       1.00      1.00      1.00       153\n   troubled       1.00      1.00      1.00        47\n\navg / total       1.00      1.00      1.00       200\n\n"
     ]
    },
    {
     "name": "stdout",
     "output_type": "stream",
     "text": [
      "66 Train accuracy: 1.0\n0.0\n[[153   0]\n [  0  47]]\n             precision    recall  f1-score   support\n\n         ok       1.00      1.00      1.00       153\n   troubled       1.00      1.00      1.00        47\n\navg / total       1.00      1.00      1.00       200\n\n"
     ]
    },
    {
     "name": "stdout",
     "output_type": "stream",
     "text": [
      "67 Train accuracy: 1.0\n0.0\n[[153   0]\n [  0  47]]\n             precision    recall  f1-score   support\n\n         ok       1.00      1.00      1.00       153\n   troubled       1.00      1.00      1.00        47\n\navg / total       1.00      1.00      1.00       200\n\n"
     ]
    },
    {
     "name": "stdout",
     "output_type": "stream",
     "text": [
      "68 Train accuracy: 1.0\n0.0\n[[153   0]\n [  0  47]]\n             precision    recall  f1-score   support\n\n         ok       1.00      1.00      1.00       153\n   troubled       1.00      1.00      1.00        47\n\navg / total       1.00      1.00      1.00       200\n\n"
     ]
    },
    {
     "name": "stdout",
     "output_type": "stream",
     "text": [
      "69 Train accuracy: 1.0\n0.0\n[[153   0]\n [  0  47]]\n             precision    recall  f1-score   support\n\n         ok       1.00      1.00      1.00       153\n   troubled       1.00      1.00      1.00        47\n\navg / total       1.00      1.00      1.00       200\n\n"
     ]
    },
    {
     "name": "stdout",
     "output_type": "stream",
     "text": [
      "70 Train accuracy: 1.0\n0.0\n[[153   0]\n [  0  47]]\n             precision    recall  f1-score   support\n\n         ok       1.00      1.00      1.00       153\n   troubled       1.00      1.00      1.00        47\n\navg / total       1.00      1.00      1.00       200\n\n"
     ]
    },
    {
     "name": "stdout",
     "output_type": "stream",
     "text": [
      "71 Train accuracy: 1.0\n0.0\n[[153   0]\n [  0  47]]\n             precision    recall  f1-score   support\n\n         ok       1.00      1.00      1.00       153\n   troubled       1.00      1.00      1.00        47\n\navg / total       1.00      1.00      1.00       200\n\n"
     ]
    },
    {
     "name": "stdout",
     "output_type": "stream",
     "text": [
      "72 Train accuracy: 1.0\n0.0\n[[153   0]\n [  0  47]]\n             precision    recall  f1-score   support\n\n         ok       1.00      1.00      1.00       153\n   troubled       1.00      1.00      1.00        47\n\navg / total       1.00      1.00      1.00       200\n\n"
     ]
    },
    {
     "name": "stdout",
     "output_type": "stream",
     "text": [
      "73 Train accuracy: 1.0\n0.0\n[[153   0]\n [  0  47]]\n             precision    recall  f1-score   support\n\n         ok       1.00      1.00      1.00       153\n   troubled       1.00      1.00      1.00        47\n\navg / total       1.00      1.00      1.00       200\n\n"
     ]
    },
    {
     "name": "stdout",
     "output_type": "stream",
     "text": [
      "74 Train accuracy: 1.0\n0.0\n[[153   0]\n [  0  47]]\n             precision    recall  f1-score   support\n\n         ok       1.00      1.00      1.00       153\n   troubled       1.00      1.00      1.00        47\n\navg / total       1.00      1.00      1.00       200\n\n"
     ]
    },
    {
     "name": "stdout",
     "output_type": "stream",
     "text": [
      "75 Train accuracy: 1.0\n0.0\n[[153   0]\n [  0  47]]\n             precision    recall  f1-score   support\n\n         ok       1.00      1.00      1.00       153\n   troubled       1.00      1.00      1.00        47\n\navg / total       1.00      1.00      1.00       200\n\n"
     ]
    },
    {
     "name": "stdout",
     "output_type": "stream",
     "text": [
      "76 Train accuracy: 1.0\n0.0\n[[153   0]\n [  0  47]]\n             precision    recall  f1-score   support\n\n         ok       1.00      1.00      1.00       153\n   troubled       1.00      1.00      1.00        47\n\navg / total       1.00      1.00      1.00       200\n\n"
     ]
    },
    {
     "name": "stdout",
     "output_type": "stream",
     "text": [
      "77 Train accuracy: 1.0\n0.0\n[[153   0]\n [  0  47]]\n             precision    recall  f1-score   support\n\n         ok       1.00      1.00      1.00       153\n   troubled       1.00      1.00      1.00        47\n\navg / total       1.00      1.00      1.00       200\n\n"
     ]
    },
    {
     "name": "stdout",
     "output_type": "stream",
     "text": [
      "78 Train accuracy: 1.0\n0.0\n[[153   0]\n [  0  47]]\n             precision    recall  f1-score   support\n\n         ok       1.00      1.00      1.00       153\n   troubled       1.00      1.00      1.00        47\n\navg / total       1.00      1.00      1.00       200\n\n"
     ]
    },
    {
     "name": "stdout",
     "output_type": "stream",
     "text": [
      "79 Train accuracy: 1.0\n0.0\n[[153   0]\n [  0  47]]\n             precision    recall  f1-score   support\n\n         ok       1.00      1.00      1.00       153\n   troubled       1.00      1.00      1.00        47\n\navg / total       1.00      1.00      1.00       200\n\n"
     ]
    },
    {
     "name": "stdout",
     "output_type": "stream",
     "text": [
      "80 Train accuracy: 1.0\n0.0\n[[153   0]\n [  0  47]]\n             precision    recall  f1-score   support\n\n         ok       1.00      1.00      1.00       153\n   troubled       1.00      1.00      1.00        47\n\navg / total       1.00      1.00      1.00       200\n\n"
     ]
    },
    {
     "name": "stdout",
     "output_type": "stream",
     "text": [
      "81 Train accuracy: 1.0\n0.0\n[[153   0]\n [  0  47]]\n             precision    recall  f1-score   support\n\n         ok       1.00      1.00      1.00       153\n   troubled       1.00      1.00      1.00        47\n\navg / total       1.00      1.00      1.00       200\n\n"
     ]
    },
    {
     "name": "stdout",
     "output_type": "stream",
     "text": [
      "82 Train accuracy: 1.0\n0.0\n[[153   0]\n [  0  47]]\n             precision    recall  f1-score   support\n\n         ok       1.00      1.00      1.00       153\n   troubled       1.00      1.00      1.00        47\n\navg / total       1.00      1.00      1.00       200\n\n"
     ]
    },
    {
     "name": "stdout",
     "output_type": "stream",
     "text": [
      "83 Train accuracy: 1.0\n0.0\n[[153   0]\n [  0  47]]\n             precision    recall  f1-score   support\n\n         ok       1.00      1.00      1.00       153\n   troubled       1.00      1.00      1.00        47\n\navg / total       1.00      1.00      1.00       200\n\n"
     ]
    },
    {
     "name": "stdout",
     "output_type": "stream",
     "text": [
      "84 Train accuracy: 1.0\n0.0\n[[153   0]\n [  0  47]]\n             precision    recall  f1-score   support\n\n         ok       1.00      1.00      1.00       153\n   troubled       1.00      1.00      1.00        47\n\navg / total       1.00      1.00      1.00       200\n\n"
     ]
    },
    {
     "name": "stdout",
     "output_type": "stream",
     "text": [
      "85 Train accuracy: 1.0\n0.0\n[[153   0]\n [  0  47]]\n             precision    recall  f1-score   support\n\n         ok       1.00      1.00      1.00       153\n   troubled       1.00      1.00      1.00        47\n\navg / total       1.00      1.00      1.00       200\n\n"
     ]
    },
    {
     "name": "stdout",
     "output_type": "stream",
     "text": [
      "86 Train accuracy: 1.0\n0.0\n[[153   0]\n [  0  47]]\n             precision    recall  f1-score   support\n\n         ok       1.00      1.00      1.00       153\n   troubled       1.00      1.00      1.00        47\n\navg / total       1.00      1.00      1.00       200\n\n"
     ]
    },
    {
     "name": "stdout",
     "output_type": "stream",
     "text": [
      "87 Train accuracy: 1.0\n0.0\n[[153   0]\n [  0  47]]\n             precision    recall  f1-score   support\n\n         ok       1.00      1.00      1.00       153\n   troubled       1.00      1.00      1.00        47\n\navg / total       1.00      1.00      1.00       200\n\n"
     ]
    },
    {
     "name": "stdout",
     "output_type": "stream",
     "text": [
      "88 Train accuracy: 1.0\n0.0\n[[153   0]\n [  0  47]]\n             precision    recall  f1-score   support\n\n         ok       1.00      1.00      1.00       153\n   troubled       1.00      1.00      1.00        47\n\navg / total       1.00      1.00      1.00       200\n\n"
     ]
    },
    {
     "name": "stdout",
     "output_type": "stream",
     "text": [
      "89 Train accuracy: 1.0\n0.0\n[[153   0]\n [  0  47]]\n             precision    recall  f1-score   support\n\n         ok       1.00      1.00      1.00       153\n   troubled       1.00      1.00      1.00        47\n\navg / total       1.00      1.00      1.00       200\n\n"
     ]
    },
    {
     "name": "stdout",
     "output_type": "stream",
     "text": [
      "90 Train accuracy: 1.0\n0.0\n[[153   0]\n [  0  47]]\n             precision    recall  f1-score   support\n\n         ok       1.00      1.00      1.00       153\n   troubled       1.00      1.00      1.00        47\n\navg / total       1.00      1.00      1.00       200\n\n"
     ]
    },
    {
     "name": "stdout",
     "output_type": "stream",
     "text": [
      "91 Train accuracy: 1.0\n0.0\n[[153   0]\n [  0  47]]\n             precision    recall  f1-score   support\n\n         ok       1.00      1.00      1.00       153\n   troubled       1.00      1.00      1.00        47\n\navg / total       1.00      1.00      1.00       200\n\n"
     ]
    },
    {
     "name": "stdout",
     "output_type": "stream",
     "text": [
      "92 Train accuracy: 1.0\n0.0\n[[153   0]\n [  0  47]]\n             precision    recall  f1-score   support\n\n         ok       1.00      1.00      1.00       153\n   troubled       1.00      1.00      1.00        47\n\navg / total       1.00      1.00      1.00       200\n\n"
     ]
    },
    {
     "name": "stdout",
     "output_type": "stream",
     "text": [
      "93 Train accuracy: 1.0\n0.0\n[[153   0]\n [  0  47]]\n             precision    recall  f1-score   support\n\n         ok       1.00      1.00      1.00       153\n   troubled       1.00      1.00      1.00        47\n\navg / total       1.00      1.00      1.00       200\n\n"
     ]
    },
    {
     "name": "stdout",
     "output_type": "stream",
     "text": [
      "94 Train accuracy: 1.0\n0.0\n[[153   0]\n [  0  47]]\n             precision    recall  f1-score   support\n\n         ok       1.00      1.00      1.00       153\n   troubled       1.00      1.00      1.00        47\n\navg / total       1.00      1.00      1.00       200\n\n"
     ]
    },
    {
     "name": "stdout",
     "output_type": "stream",
     "text": [
      "95 Train accuracy: 1.0\n0.0\n[[153   0]\n [  0  47]]\n             precision    recall  f1-score   support\n\n         ok       1.00      1.00      1.00       153\n   troubled       1.00      1.00      1.00        47\n\navg / total       1.00      1.00      1.00       200\n\n"
     ]
    },
    {
     "name": "stdout",
     "output_type": "stream",
     "text": [
      "96 Train accuracy: 1.0\n0.0\n[[153   0]\n [  0  47]]\n             precision    recall  f1-score   support\n\n         ok       1.00      1.00      1.00       153\n   troubled       1.00      1.00      1.00        47\n\navg / total       1.00      1.00      1.00       200\n\n"
     ]
    },
    {
     "name": "stdout",
     "output_type": "stream",
     "text": [
      "97 Train accuracy: 1.0\n0.0\n[[153   0]\n [  0  47]]\n             precision    recall  f1-score   support\n\n         ok       1.00      1.00      1.00       153\n   troubled       1.00      1.00      1.00        47\n\navg / total       1.00      1.00      1.00       200\n\n"
     ]
    },
    {
     "name": "stdout",
     "output_type": "stream",
     "text": [
      "98 Train accuracy: 1.0\n0.0\n[[153   0]\n [  0  47]]\n             precision    recall  f1-score   support\n\n         ok       1.00      1.00      1.00       153\n   troubled       1.00      1.00      1.00        47\n\navg / total       1.00      1.00      1.00       200\n\n"
     ]
    },
    {
     "name": "stdout",
     "output_type": "stream",
     "text": [
      "99 Train accuracy: 1.0\n0.0\n[[153   0]\n [  0  47]]\n             precision    recall  f1-score   support\n\n         ok       1.00      1.00      1.00       153\n   troubled       1.00      1.00      1.00        47\n\navg / total       1.00      1.00      1.00       200\n\n"
     ]
    }
   ],
   "source": [
    "from sklearn.metrics import classification_report\n",
    "from sklearn.metrics import confusion_matrix\n",
    "\n",
    "n_epochs = 100\n",
    "batch_size = 200\n",
    "\n",
    "X_batch = policy_histories_features\n",
    "y_batch = policy_histories_labels\n",
    "seq_length_batch = policy_history_lengths\n",
    "\n",
    "with tf.Session() as sess:\n",
    "    init.run()\n",
    "    for epoch in range(n_epochs):\n",
    "        for i in range(policy_histories_labels.shape[0] // batch_size):\n",
    "            X_batch = policy_histories_features[i * batch_size : (i + 1) * batch_size]\n",
    "            y_batch = policy_histories_labels[i * batch_size : (i + 1) * batch_size]\n",
    "            seq_length_batch = policy_history_lengths[i * batch_size : (i + 1) * batch_size]\n",
    "            \n",
    "            sess.run(training_op, feed_dict={X: X_batch, y: y_batch, seq_length: seq_length_batch})\n",
    "\n",
    "        y_batch_pred = y_pred.eval(feed_dict={X: X_batch, y: y_batch, seq_length: seq_length_batch})\n",
    "        acc_train = accuracy.eval(feed_dict={X: X_batch, y: y_batch, seq_length: seq_length_batch})\n",
    "        #acc_test = accuracy.eval(feed_dict={X: X_test, y: y_test})\n",
    "\n",
    "        print(epoch, \"Train accuracy:\", acc_train)#, \"Test accuracy:\", acc_test)\n",
    "        print(loss.eval(feed_dict={X: X_batch, y: y_batch, seq_length: seq_length_batch}))\n",
    "        print(confusion_matrix(y_batch, y_batch_pred))\n",
    "        print(classification_report(y_batch, y_batch_pred, target_names=['ok', 'troubled']))\n",
    "\n",
    "        loss_summary_str = loss_summary.eval(feed_dict={X: X_batch, y: y_batch, seq_length: seq_length_batch})\n",
    "        accuracy_summary_str = accuracy_summary.eval(feed_dict={X: X_batch, y: y_batch, seq_length: seq_length_batch})\n",
    "        file_writer.add_summary(loss_summary_str, epoch)\n",
    "        file_writer.add_summary(accuracy_summary_str, epoch)\n",
    "\n",
    "file_writer.close()"
   ]
  },
  {
   "cell_type": "code",
   "execution_count": null,
   "metadata": {},
   "outputs": [],
   "source": []
  }
 ],
 "metadata": {
  "kernelspec": {
   "display_name": "Python 2",
   "language": "python",
   "name": "python2"
  },
  "language_info": {
   "codemirror_mode": {
    "name": "ipython",
    "version": 2
   },
   "file_extension": ".py",
   "mimetype": "text/x-python",
   "name": "python",
   "nbconvert_exporter": "python",
   "pygments_lexer": "ipython2",
   "version": "2.7.6"
  }
 },
 "nbformat": 4,
 "nbformat_minor": 0
}
