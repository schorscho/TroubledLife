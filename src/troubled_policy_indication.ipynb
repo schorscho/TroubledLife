{
 "cells": [
  {
   "cell_type": "markdown",
   "metadata": {
    "collapsed": true
   },
   "source": [
    "Generate, load and prepare policy histories"
   ]
  },
  {
   "cell_type": "code",
   "execution_count": 1,
   "metadata": {
    "collapsed": true
   },
   "outputs": [],
   "source": [
    "import os\n",
    "from datetime import datetime\n",
    "import support_functions as sf\n",
    "\n",
    "\n",
    "PROJECT_ROOT_DIR = \"/Users/gopora/MyStuff/Dev/Workspaces/Sandbox/TroubledLife\"\n",
    "DATASETS_DIR = os.path.join(PROJECT_ROOT_DIR, \"data\")\n",
    "TF_LOG_DIR = os.path.join(PROJECT_ROOT_DIR, \"tf_logs\")\n",
    "TRAINING_SET_DATA_FILE = \"troubled_life_policy_train_data.csv\"\n",
    "TEST_SET_DATA_FILE = \"troubled_life_policy_test_data.csv\"\n",
    "\n",
    "now = datetime.utcnow().strftime(\"%Y%m%d-%H%M%S\")\n",
    "log_dir = \"{}/run-{}/\".format(TF_LOG_DIR, now)\n",
    "\n",
    "sf.generate_troubled_life_policy_data(no_of_policies=10000, runtime=5, file_path=os.path.join(DATASETS_DIR, TRAINING_SET_DATA_FILE))\n",
    "\n",
    "policy_histories_train = \\\n",
    "    sf.load_troubled_life_policy_data(file_path=os.path.join(DATASETS_DIR, TRAINING_SET_DATA_FILE))\n",
    "policy_histories_length_train, max_policy_history_length_train = \\\n",
    "    sf.get_policy_history_lengths(policy_histories=policy_histories_train)\n",
    "\n",
    "sf.generate_troubled_life_policy_data(no_of_policies=2000, runtime=5, file_path=os.path.join(DATASETS_DIR, TEST_SET_DATA_FILE))\n",
    "\n",
    "policy_histories_test = \\\n",
    "    sf.load_troubled_life_policy_data(file_path=os.path.join(DATASETS_DIR, TEST_SET_DATA_FILE))\n",
    "policy_histories_length_test, max_policy_history_length_test = \\\n",
    "    sf.get_policy_history_lengths(policy_histories=policy_histories_test)\n",
    "\n",
    "# Pad the histories up to maximum length of both, train and test set\n",
    "max_policy_history_length = max(max_policy_history_length_train, max_policy_history_length_test)\n",
    "policy_histories_train = \\\n",
    "    sf.pad_troubled_life_policy_histories(policy_histories=policy_histories_train,\n",
    "                                          policy_histories_lengths=policy_histories_length_train,\n",
    "                                          max_policy_history_length=max_policy_history_length)\n",
    "policy_histories_test = \\\n",
    "    sf.pad_troubled_life_policy_histories(policy_histories=policy_histories_test,\n",
    "                                          policy_histories_lengths=policy_histories_length_test,\n",
    "                                          max_policy_history_length=max_policy_history_length)\n",
    "\n",
    "# Save padded data, since always generating and padding takes too long\n",
    "policy_histories_train.to_csv(path_or_buf=os.path.join(DATASETS_DIR, TRAINING_SET_DATA_FILE))\n",
    "policy_histories_test.to_csv(path_or_buf=os.path.join(DATASETS_DIR, TEST_SET_DATA_FILE))"
   ]
  },
  {
   "cell_type": "markdown",
   "metadata": {},
   "source": [
    "Prepare labels and features"
   ]
  },
  {
   "cell_type": "code",
   "execution_count": 2,
   "metadata": {},
   "outputs": [],
   "source": [
    "# Extract features and labels from dataset as numpy.ndarray(s)\n",
    "train_labels, train_features, train_seq_lengths =\\\n",
    "    sf.prepare_labels_features_lengths(policy_histories=policy_histories_train,\n",
    "                                       policy_histories_lengths=policy_histories_length_train, \n",
    "                                       max_policy_history_length=max_policy_history_length)\n",
    "test_labels, test_features, test_seq_lengths =\\\n",
    "    sf.prepare_labels_features_lengths(policy_histories=policy_histories_test,\n",
    "                                       policy_histories_lengths=policy_histories_length_test, \n",
    "                                       max_policy_history_length=max_policy_history_length)"
   ]
  },
  {
   "cell_type": "markdown",
   "metadata": {},
   "source": [
    "Build TensorFlow graph with RNN"
   ]
  },
  {
   "cell_type": "code",
   "execution_count": 3,
   "metadata": {},
   "outputs": [],
   "source": [
    "import tensorflow as tf\n",
    "\n",
    "tf.reset_default_graph()\n",
    "tf.set_random_seed(42)\n",
    "\n",
    "# Our hyperparameters\n",
    "n_steps = max_policy_history_length\n",
    "n_inputs = 2\n",
    "n_neurons = 20\n",
    "n_outputs = 2\n",
    "learning_rate = 0.001\n",
    "\n",
    "# Placeholders for our input sequences\n",
    "seq_length = tf.placeholder(tf.int32, [None], name=\"seq_length\")\n",
    "X = tf.placeholder(tf.float32, [None, n_steps, n_inputs], name=\"X\")\n",
    "y = tf.placeholder(tf.int32, [None], name=\"y\")\n",
    "\n",
    "# A single RNN layer of n_neurons neurons\n",
    "basic_cell = tf.contrib.rnn.BasicRNNCell(num_units=n_neurons, activation=tf.nn.relu)\n",
    "outputs, states = tf.nn.dynamic_rnn(basic_cell, X, dtype=tf.float32, sequence_length=seq_length)\n",
    "\n",
    "# We feed the layer's output of the last timestep into a fully connected layer of 2 neurons\n",
    "# (1 per class, troubled or not). Softmax layer is next\n",
    "logits = tf.layers.dense(states, n_outputs)\n",
    "y_pred = tf.argmax(tf.nn.softmax(logits), axis=1)\n",
    "xentropy = tf.nn.sparse_softmax_cross_entropy_with_logits(labels=y, logits=logits)\n",
    "\n",
    "# Loss function and Adam Optimizer\n",
    "loss = tf.reduce_mean(tf.cast(xentropy, tf.float32))\n",
    "optimizer = tf.train.AdamOptimizer(learning_rate=learning_rate)\n",
    "training_op = optimizer.minimize(loss)\n",
    "\n",
    "correct = tf.nn.in_top_k(logits, y, 1)\n",
    "accuracy = tf.reduce_mean(tf.cast(correct, tf.float32))\n",
    "\n",
    "init = tf.global_variables_initializer()\n",
    "\n",
    "accuracy_summary = tf.summary.scalar('Accuracy', accuracy)\n",
    "loss_summary = tf.summary.scalar('Loss', loss)\n",
    "\n",
    "file_writer = tf.summary.FileWriter(log_dir, tf.get_default_graph())"
   ]
  },
  {
   "cell_type": "code",
   "execution_count": null,
   "metadata": {},
   "outputs": [
    {
     "name": "stdout",
     "output_type": "stream",
     "text": [
      "0 Train accuracy: 0.2 Test accuracy: 0.177\n[[  0 148]\n [ 12  40]]\n             precision    recall  f1-score   support\n\n         ok       0.00      0.00      0.00       148\n   troubled       0.21      0.77      0.33        52\n\navg / total       0.06      0.20      0.09       200\n\n1"
     ]
    },
    {
     "name": "stdout",
     "output_type": "stream",
     "text": [
      " Train accuracy: 0.88 Test accuracy: 0.874\n[[158   0]\n [ 24  18]]\n             precision    recall  f1-score   support\n\n         ok       0.87      1.00      0.93       158\n   troubled       1.00      0.43      0.60        42\n\navg / total       0.90      0.88      0.86       200\n\n"
     ]
    },
    {
     "name": "stdout",
     "output_type": "stream",
     "text": [
      "2 Train accuracy: 0.88 Test accuracy: 0.894\n[[155   0]\n [ 24  21]]\n             precision    recall  f1-score   support\n\n         ok       0.87      1.00      0.93       155\n   troubled       1.00      0.47      0.64        45\n\navg / total       0.90      0.88      0.86       200\n\n"
     ]
    },
    {
     "name": "stdout",
     "output_type": "stream",
     "text": [
      "3 Train accuracy: 0.855 Test accuracy: 0.8895\n[[151   0]\n [ 29  20]]\n             precision    recall  f1-score   support\n\n         ok       0.84      1.00      0.91       151\n   troubled       1.00      0.41      0.58        49\n\navg / total       0.88      0.85      0.83       200\n\n4 Train accuracy: 0.92 Test accuracy: 0.9105\n[[162   0]\n [ 16  22]]\n             precision    recall  f1-score   support\n\n         ok       0.91      1.00      0.95       162\n   troubled       1.00      0.58      0.73        38\n\navg / total       0.93      0.92      0.91       200\n\n"
     ]
    },
    {
     "name": "stdout",
     "output_type": "stream",
     "text": [
      "5 Train accuracy: 0.925 Test accuracy: 0.9215\n[[155   0]\n [ 15  30]]\n             precision    recall  f1-score   support\n\n         ok       0.91      1.00      0.95       155\n   troubled       1.00      0.67      0.80        45\n\navg / total       0.93      0.93      0.92       200\n\n6 Train accuracy: 0.87 Test accuracy: 0.9005\n[[152   0]\n [ 26  22]]\n             precision    recall  f1-score   support\n\n         ok       0.85      1.00      0.92       152\n   troubled       1.00      0.46      0.63        48\n\navg / total       0.89      0.87      0.85       200\n\n"
     ]
    },
    {
     "name": "stdout",
     "output_type": "stream",
     "text": [
      "7 Train accuracy: 0.98 Test accuracy: 0.977\n[[154   0]\n [  4  42]]\n             precision    recall  f1-score   support\n\n         ok       0.97      1.00      0.99       154\n   troubled       1.00      0.91      0.95        46\n\navg / total       0.98      0.98      0.98       200\n\n8 Train accuracy: 1.0 Test accuracy: 0.9975\n[[146   0]\n [  0  54]]\n             precision    recall  f1-score   support\n\n         ok       1.00      1.00      1.00       146\n   troubled       1.00      1.00      1.00        54\n\navg / total       1.00      1.00      1.00       200\n\n"
     ]
    },
    {
     "name": "stdout",
     "output_type": "stream",
     "text": [
      "9 Train accuracy: 1.0 Test accuracy: 1.0\n[[158   0]\n [  0  42]]\n             precision    recall  f1-score   support\n\n         ok       1.00      1.00      1.00       158\n   troubled       1.00      1.00      1.00        42\n\navg / total       1.00      1.00      1.00       200\n\n10 Train accuracy: 1.0 Test accuracy: 1.0\n[[149   0]\n [  0  51]]\n             precision    recall  f1-score   support\n\n         ok       1.00      1.00      1.00       149\n   troubled       1.00      1.00      1.00        51\n\navg / total       1.00      1.00      1.00       200\n\n"
     ]
    },
    {
     "name": "stdout",
     "output_type": "stream",
     "text": [
      "11 Train accuracy: 1.0 Test accuracy: 1.0\n[[155   0]\n [  0  45]]\n             precision    recall  f1-score   support\n\n         ok       1.00      1.00      1.00       155\n   troubled       1.00      1.00      1.00        45\n\navg / total       1.00      1.00      1.00       200\n\n12 Train accuracy: 1.0 Test accuracy: 1.0\n[[167   0]\n [  0  33]]\n             precision    recall  f1-score   support\n\n         ok       1.00      1.00      1.00       167\n   troubled       1.00      1.00      1.00        33\n\navg / total       1.00      1.00      1.00       200\n\n"
     ]
    },
    {
     "name": "stdout",
     "output_type": "stream",
     "text": [
      "13 Train accuracy: 1.0 Test accuracy: 1.0\n[[152   0]\n [  0  48]]\n             precision    recall  f1-score   support\n\n         ok       1.00      1.00      1.00       152\n   troubled       1.00      1.00      1.00        48\n\navg / total       1.00      1.00      1.00       200\n\n14 Train accuracy: 1.0 Test accuracy: 1.0\n[[155   0]\n [  0  45]]\n             precision    recall  f1-score   support\n\n         ok       1.00      1.00      1.00       155\n   troubled       1.00      1.00      1.00        45\n\navg / total       1.00      1.00      1.00       200\n\n"
     ]
    },
    {
     "name": "stdout",
     "output_type": "stream",
     "text": [
      "15 Train accuracy: 1.0 Test accuracy: 1.0\n[[147   0]\n [  0  53]]\n             precision    recall  f1-score   support\n\n         ok       1.00      1.00      1.00       147\n   troubled       1.00      1.00      1.00        53\n\navg / total       1.00      1.00      1.00       200\n\n16 Train accuracy: 1.0 Test accuracy: 1.0\n[[159   0]\n [  0  41]]\n             precision    recall  f1-score   support\n\n         ok       1.00      1.00      1.00       159\n   troubled       1.00      1.00      1.00        41\n\navg / total       1.00      1.00      1.00       200\n\n"
     ]
    },
    {
     "name": "stdout",
     "output_type": "stream",
     "text": [
      "17 Train accuracy: 1.0 Test accuracy: 1.0\n[[156   0]\n [  0  44]]\n             precision    recall  f1-score   support\n\n         ok       1.00      1.00      1.00       156\n   troubled       1.00      1.00      1.00        44\n\navg / total       1.00      1.00      1.00       200\n\n18 Train accuracy: 1.0 Test accuracy: 1.0\n[[153   0]\n [  0  47]]\n             precision    recall  f1-score   support\n\n         ok       1.00      1.00      1.00       153\n   troubled       1.00      1.00      1.00        47\n\navg / total       1.00      1.00      1.00       200\n\n"
     ]
    },
    {
     "name": "stdout",
     "output_type": "stream",
     "text": [
      "19 Train accuracy: 1.0 Test accuracy: 1.0\n[[152   0]\n [  0  48]]\n             precision    recall  f1-score   support\n\n         ok       1.00      1.00      1.00       152\n   troubled       1.00      1.00      1.00        48\n\navg / total       1.00      1.00      1.00       200\n\n20 Train accuracy: 1.0 Test accuracy: 1.0\n[[159   0]\n [  0  41]]\n             precision    recall  f1-score   support\n\n         ok       1.00      1.00      1.00       159\n   troubled       1.00      1.00      1.00        41\n\navg / total       1.00      1.00      1.00       200\n\n"
     ]
    },
    {
     "name": "stdout",
     "output_type": "stream",
     "text": [
      "21 Train accuracy: 1.0 Test accuracy: 1.0\n[[168   0]\n [  0  32]]\n             precision    recall  f1-score   support\n\n         ok       1.00      1.00      1.00       168\n   troubled       1.00      1.00      1.00        32\n\navg / total       1.00      1.00      1.00       200\n\n22 Train accuracy: 1.0 Test accuracy: 1.0\n[[160   0]\n [  0  40]]\n             precision    recall  f1-score   support\n\n         ok       1.00      1.00      1.00       160\n   troubled       1.00      1.00      1.00        40\n\navg / total       1.00      1.00      1.00       200\n\n"
     ]
    },
    {
     "name": "stdout",
     "output_type": "stream",
     "text": [
      "23 Train accuracy: 1.0 Test accuracy: 1.0\n[[153   0]\n [  0  47]]\n             precision    recall  f1-score   support\n\n         ok       1.00      1.00      1.00       153\n   troubled       1.00      1.00      1.00        47\n\navg / total       1.00      1.00      1.00       200\n\n24 Train accuracy: 1.0 Test accuracy: 1.0\n[[150   0]\n [  0  50]]\n             precision    recall  f1-score   support\n\n         ok       1.00      1.00      1.00       150\n   troubled       1.00      1.00      1.00        50\n\navg / total       1.00      1.00      1.00       200\n\n"
     ]
    },
    {
     "name": "stdout",
     "output_type": "stream",
     "text": [
      "25 Train accuracy: 1.0 Test accuracy: 1.0\n[[159   0]\n [  0  41]]\n             precision    recall  f1-score   support\n\n         ok       1.00      1.00      1.00       159\n   troubled       1.00      1.00      1.00        41\n\navg / total       1.00      1.00      1.00       200\n\n26 Train accuracy: 1.0 Test accuracy: 1.0\n[[161   0]\n [  0  39]]\n             precision    recall  f1-score   support\n\n         ok       1.00      1.00      1.00       161\n   troubled       1.00      1.00      1.00        39\n\navg / total       1.00      1.00      1.00       200\n\n"
     ]
    },
    {
     "name": "stdout",
     "output_type": "stream",
     "text": [
      "27 Train accuracy: 1.0 Test accuracy: 1.0\n[[158   0]\n [  0  42]]\n             precision    recall  f1-score   support\n\n         ok       1.00      1.00      1.00       158\n   troubled       1.00      1.00      1.00        42\n\navg / total       1.00      1.00      1.00       200\n\n28 Train accuracy: 1.0 Test accuracy: 1.0\n[[158   0]\n [  0  42]]\n             precision    recall  f1-score   support\n\n         ok       1.00      1.00      1.00       158\n   troubled       1.00      1.00      1.00        42\n\navg / total       1.00      1.00      1.00       200\n\n"
     ]
    },
    {
     "name": "stdout",
     "output_type": "stream",
     "text": [
      "29 Train accuracy: 1.0 Test accuracy: 1.0\n[[160   0]\n [  0  40]]\n             precision    recall  f1-score   support\n\n         ok       1.00      1.00      1.00       160\n   troubled       1.00      1.00      1.00        40\n\navg / total       1.00      1.00      1.00       200\n\n30 Train accuracy: 1.0 Test accuracy: 1.0\n[[153   0]\n [  0  47]]\n             precision    recall  f1-score   support\n\n         ok       1.00      1.00      1.00       153\n   troubled       1.00      1.00      1.00        47\n\navg / total       1.00      1.00      1.00       200\n\n"
     ]
    },
    {
     "name": "stdout",
     "output_type": "stream",
     "text": [
      "31 Train accuracy: 1.0 Test accuracy: 1.0\n[[148   0]\n [  0  52]]\n             precision    recall  f1-score   support\n\n         ok       1.00      1.00      1.00       148\n   troubled       1.00      1.00      1.00        52\n\navg / total       1.00      1.00      1.00       200\n\n32 Train accuracy: 1.0 Test accuracy: 1.0\n[[159   0]\n [  0  41]]\n             precision    recall  f1-score   support\n\n         ok       1.00      1.00      1.00       159\n   troubled       1.00      1.00      1.00        41\n\navg / total       1.00      1.00      1.00       200\n\n"
     ]
    },
    {
     "name": "stdout",
     "output_type": "stream",
     "text": [
      "33 Train accuracy: 1.0 Test accuracy: 1.0\n[[158   0]\n [  0  42]]\n             precision    recall  f1-score   support\n\n         ok       1.00      1.00      1.00       158\n   troubled       1.00      1.00      1.00        42\n\navg / total       1.00      1.00      1.00       200\n\n34 Train accuracy: 1.0 Test accuracy: 1.0\n[[157   0]\n [  0  43]]\n             precision    recall  f1-score   support\n\n         ok       1.00      1.00      1.00       157\n   troubled       1.00      1.00      1.00        43\n\navg / total       1.00      1.00      1.00       200\n\n"
     ]
    },
    {
     "name": "stdout",
     "output_type": "stream",
     "text": [
      "35 Train accuracy: 1.0 Test accuracy: 1.0\n[[159   0]\n [  0  41]]\n             precision    recall  f1-score   support\n\n         ok       1.00      1.00      1.00       159\n   troubled       1.00      1.00      1.00        41\n\navg / total       1.00      1.00      1.00       200\n\n36 Train accuracy: 1.0 Test accuracy: 1.0\n[[155   0]\n [  0  45]]\n             precision    recall  f1-score   support\n\n         ok       1.00      1.00      1.00       155\n   troubled       1.00      1.00      1.00        45\n\navg / total       1.00      1.00      1.00       200\n\n"
     ]
    },
    {
     "name": "stdout",
     "output_type": "stream",
     "text": [
      "37 Train accuracy: 1.0 Test accuracy: 1.0\n[[157   0]\n [  0  43]]\n             precision    recall  f1-score   support\n\n         ok       1.00      1.00      1.00       157\n   troubled       1.00      1.00      1.00        43\n\navg / total       1.00      1.00      1.00       200\n\n38 Train accuracy: 1.0 Test accuracy: 1.0\n[[163   0]\n [  0  37]]\n             precision    recall  f1-score   support\n\n         ok       1.00      1.00      1.00       163\n   troubled       1.00      1.00      1.00        37\n\navg / total       1.00      1.00      1.00       200\n\n"
     ]
    },
    {
     "name": "stdout",
     "output_type": "stream",
     "text": [
      "39 Train accuracy: 1.0 Test accuracy: 1.0\n[[159   0]\n [  0  41]]\n             precision    recall  f1-score   support\n\n         ok       1.00      1.00      1.00       159\n   troubled       1.00      1.00      1.00        41\n\navg / total       1.00      1.00      1.00       200\n\n40 Train accuracy: 1.0 Test accuracy: 1.0\n[[150   0]\n [  0  50]]\n             precision    recall  f1-score   support\n\n         ok       1.00      1.00      1.00       150\n   troubled       1.00      1.00      1.00        50\n\navg / total       1.00      1.00      1.00       200\n\n"
     ]
    },
    {
     "name": "stdout",
     "output_type": "stream",
     "text": [
      "41 Train accuracy: 1.0 Test accuracy: 1.0\n[[169   0]\n [  0  31]]\n             precision    recall  f1-score   support\n\n         ok       1.00      1.00      1.00       169\n   troubled       1.00      1.00      1.00        31\n\navg / total       1.00      1.00      1.00       200\n\n42 Train accuracy: 1.0 Test accuracy: 1.0\n[[160   0]\n [  0  40]]\n             precision    recall  f1-score   support\n\n         ok       1.00      1.00      1.00       160\n   troubled       1.00      1.00      1.00        40\n\navg / total       1.00      1.00      1.00       200\n\n"
     ]
    },
    {
     "name": "stdout",
     "output_type": "stream",
     "text": [
      "43 Train accuracy: 1.0 Test accuracy: 1.0\n[[156   0]\n [  0  44]]\n             precision    recall  f1-score   support\n\n         ok       1.00      1.00      1.00       156\n   troubled       1.00      1.00      1.00        44\n\navg / total       1.00      1.00      1.00       200\n\n44 Train accuracy: 1.0 Test accuracy: 1.0\n[[156   0]\n [  0  44]]\n             precision    recall  f1-score   support\n\n         ok       1.00      1.00      1.00       156\n   troubled       1.00      1.00      1.00        44\n\navg / total       1.00      1.00      1.00       200\n\n"
     ]
    },
    {
     "name": "stdout",
     "output_type": "stream",
     "text": [
      "45 Train accuracy: 1.0 Test accuracy: 1.0\n[[158   0]\n [  0  42]]\n             precision    recall  f1-score   support\n\n         ok       1.00      1.00      1.00       158\n   troubled       1.00      1.00      1.00        42\n\navg / total       1.00      1.00      1.00       200\n\n46 Train accuracy: 1.0 Test accuracy: 1.0\n[[151   0]\n [  0  49]]\n             precision    recall  f1-score   support\n\n         ok       1.00      1.00      1.00       151\n   troubled       1.00      1.00      1.00        49\n\navg / total       1.00      1.00      1.00       200\n\n"
     ]
    },
    {
     "name": "stdout",
     "output_type": "stream",
     "text": [
      "47 Train accuracy: 1.0 Test accuracy: 1.0\n[[151   0]\n [  0  49]]\n             precision    recall  f1-score   support\n\n         ok       1.00      1.00      1.00       151\n   troubled       1.00      1.00      1.00        49\n\navg / total       1.00      1.00      1.00       200\n\n48 Train accuracy: 1.0 Test accuracy: 1.0\n[[145   0]\n [  0  55]]\n             precision    recall  f1-score   support\n\n         ok       1.00      1.00      1.00       145\n   troubled       1.00      1.00      1.00        55\n\navg / total       1.00      1.00      1.00       200\n\n"
     ]
    },
    {
     "name": "stdout",
     "output_type": "stream",
     "text": [
      "49 Train accuracy: 1.0 Test accuracy: 1.0\n[[158   0]\n [  0  42]]\n             precision    recall  f1-score   support\n\n         ok       1.00      1.00      1.00       158\n   troubled       1.00      1.00      1.00        42\n\navg / total       1.00      1.00      1.00       200\n\n50 Train accuracy: 1.0 Test accuracy: 1.0\n[[157   0]\n [  0  43]]\n             precision    recall  f1-score   support\n\n         ok       1.00      1.00      1.00       157\n   troubled       1.00      1.00      1.00        43\n\navg / total       1.00      1.00      1.00       200\n\n"
     ]
    },
    {
     "name": "stdout",
     "output_type": "stream",
     "text": [
      "51 Train accuracy: 1.0 Test accuracy: 1.0\n[[154   0]\n [  0  46]]\n             precision    recall  f1-score   support\n\n         ok       1.00      1.00      1.00       154\n   troubled       1.00      1.00      1.00        46\n\navg / total       1.00      1.00      1.00       200\n\n52 Train accuracy: 1.0 Test accuracy: 1.0\n[[155   0]\n [  0  45]]\n             precision    recall  f1-score   support\n\n         ok       1.00      1.00      1.00       155\n   troubled       1.00      1.00      1.00        45\n\navg / total       1.00      1.00      1.00       200\n\n"
     ]
    },
    {
     "name": "stdout",
     "output_type": "stream",
     "text": [
      "53 Train accuracy: 1.0 Test accuracy: 1.0\n[[151   0]\n [  0  49]]\n             precision    recall  f1-score   support\n\n         ok       1.00      1.00      1.00       151\n   troubled       1.00      1.00      1.00        49\n\navg / total       1.00      1.00      1.00       200\n\n54 Train accuracy: 1.0 Test accuracy: 1.0\n[[165   0]\n [  0  35]]\n             precision    recall  f1-score   support\n\n         ok       1.00      1.00      1.00       165\n   troubled       1.00      1.00      1.00        35\n\navg / total       1.00      1.00      1.00       200\n\n"
     ]
    },
    {
     "name": "stdout",
     "output_type": "stream",
     "text": [
      "55 Train accuracy: 1.0 Test accuracy: 1.0\n[[158   0]\n [  0  42]]\n             precision    recall  f1-score   support\n\n         ok       1.00      1.00      1.00       158\n   troubled       1.00      1.00      1.00        42\n\navg / total       1.00      1.00      1.00       200\n\n56 Train accuracy: 1.0 Test accuracy: 1.0\n[[159   0]\n [  0  41]]\n             precision    recall  f1-score   support\n\n         ok       1.00      1.00      1.00       159\n   troubled       1.00      1.00      1.00        41\n\navg / total       1.00      1.00      1.00       200\n\n"
     ]
    },
    {
     "name": "stdout",
     "output_type": "stream",
     "text": [
      "57 Train accuracy: 1.0 Test accuracy: 1.0\n[[149   0]\n [  0  51]]\n             precision    recall  f1-score   support\n\n         ok       1.00      1.00      1.00       149\n   troubled       1.00      1.00      1.00        51\n\navg / total       1.00      1.00      1.00       200\n\n58 Train accuracy: 1.0 Test accuracy: 1.0\n[[152   0]\n [  0  48]]\n             precision    recall  f1-score   support\n\n         ok       1.00      1.00      1.00       152\n   troubled       1.00      1.00      1.00        48\n\navg / total       1.00      1.00      1.00       200\n\n"
     ]
    },
    {
     "name": "stdout",
     "output_type": "stream",
     "text": [
      "59 Train accuracy: 1.0 Test accuracy: 1.0\n[[151   0]\n [  0  49]]\n             precision    recall  f1-score   support\n\n         ok       1.00      1.00      1.00       151\n   troubled       1.00      1.00      1.00        49\n\navg / total       1.00      1.00      1.00       200\n\n60 Train accuracy: 1.0 Test accuracy: 1.0\n[[155   0]\n [  0  45]]\n             precision    recall  f1-score   support\n\n         ok       1.00      1.00      1.00       155\n   troubled       1.00      1.00      1.00        45\n\navg / total       1.00      1.00      1.00       200\n\n"
     ]
    },
    {
     "name": "stdout",
     "output_type": "stream",
     "text": [
      "61 Train accuracy: 1.0 Test accuracy: 1.0\n[[159   0]\n [  0  41]]\n             precision    recall  f1-score   support\n\n         ok       1.00      1.00      1.00       159\n   troubled       1.00      1.00      1.00        41\n\navg / total       1.00      1.00      1.00       200\n\n62 Train accuracy: 1.0 Test accuracy: 1.0\n[[160   0]\n [  0  40]]\n             precision    recall  f1-score   support\n\n         ok       1.00      1.00      1.00       160\n   troubled       1.00      1.00      1.00        40\n\navg / total       1.00      1.00      1.00       200\n\n"
     ]
    },
    {
     "name": "stdout",
     "output_type": "stream",
     "text": [
      "63 Train accuracy: 1.0 Test accuracy: 1.0\n[[154   0]\n [  0  46]]\n             precision    recall  f1-score   support\n\n         ok       1.00      1.00      1.00       154\n   troubled       1.00      1.00      1.00        46\n\navg / total       1.00      1.00      1.00       200\n\n64 Train accuracy: 1.0 Test accuracy: 1.0\n[[161   0]\n [  0  39]]\n             precision    recall  f1-score   support\n\n         ok       1.00      1.00      1.00       161\n   troubled       1.00      1.00      1.00        39\n\navg / total       1.00      1.00      1.00       200\n\n"
     ]
    },
    {
     "name": "stdout",
     "output_type": "stream",
     "text": [
      "65 Train accuracy: 1.0 Test accuracy: 1.0\n[[156   0]\n [  0  44]]\n             precision    recall  f1-score   support\n\n         ok       1.00      1.00      1.00       156\n   troubled       1.00      1.00      1.00        44\n\navg / total       1.00      1.00      1.00       200\n\n66 Train accuracy: 1.0 Test accuracy: 1.0\n[[161   0]\n [  0  39]]\n             precision    recall  f1-score   support\n\n         ok       1.00      1.00      1.00       161\n   troubled       1.00      1.00      1.00        39\n\navg / total       1.00      1.00      1.00       200\n\n"
     ]
    },
    {
     "name": "stdout",
     "output_type": "stream",
     "text": [
      "67 Train accuracy: 1.0 Test accuracy: 1.0\n[[158   0]\n [  0  42]]\n             precision    recall  f1-score   support\n\n         ok       1.00      1.00      1.00       158\n   troubled       1.00      1.00      1.00        42\n\navg / total       1.00      1.00      1.00       200\n\n68 Train accuracy: 1.0 Test accuracy: 1.0\n[[145   0]\n [  0  55]]\n             precision    recall  f1-score   support\n\n         ok       1.00      1.00      1.00       145\n   troubled       1.00      1.00      1.00        55\n\navg / total       1.00      1.00      1.00       200\n\n"
     ]
    },
    {
     "name": "stdout",
     "output_type": "stream",
     "text": [
      "69 Train accuracy: 1.0 Test accuracy: 1.0\n[[164   0]\n [  0  36]]\n             precision    recall  f1-score   support\n\n         ok       1.00      1.00      1.00       164\n   troubled       1.00      1.00      1.00        36\n\navg / total       1.00      1.00      1.00       200\n\n70 Train accuracy: 1.0 Test accuracy: 1.0\n[[157   0]\n [  0  43]]\n             precision    recall  f1-score   support\n\n         ok       1.00      1.00      1.00       157\n   troubled       1.00      1.00      1.00        43\n\navg / total       1.00      1.00      1.00       200\n\n"
     ]
    },
    {
     "name": "stdout",
     "output_type": "stream",
     "text": [
      "71 Train accuracy: 1.0 Test accuracy: 1.0\n[[160   0]\n [  0  40]]\n             precision    recall  f1-score   support\n\n         ok       1.00      1.00      1.00       160\n   troubled       1.00      1.00      1.00        40\n\navg / total       1.00      1.00      1.00       200\n\n72 Train accuracy: 1.0 Test accuracy: 1.0\n[[157   0]\n [  0  43]]\n             precision    recall  f1-score   support\n\n         ok       1.00      1.00      1.00       157\n   troubled       1.00      1.00      1.00        43\n\navg / total       1.00      1.00      1.00       200\n\n"
     ]
    },
    {
     "name": "stdout",
     "output_type": "stream",
     "text": [
      "73 Train accuracy: 1.0 Test accuracy: 1.0\n[[154   0]\n [  0  46]]\n             precision    recall  f1-score   support\n\n         ok       1.00      1.00      1.00       154\n   troubled       1.00      1.00      1.00        46\n\navg / total       1.00      1.00      1.00       200\n\n74 Train accuracy: 1.0 Test accuracy: 1.0\n[[158   0]\n [  0  42]]\n             precision    recall  f1-score   support\n\n         ok       1.00      1.00      1.00       158\n   troubled       1.00      1.00      1.00        42\n\navg / total       1.00      1.00      1.00       200\n\n"
     ]
    },
    {
     "name": "stdout",
     "output_type": "stream",
     "text": [
      "75 Train accuracy: 1.0 Test accuracy: 1.0\n[[159   0]\n [  0  41]]\n             precision    recall  f1-score   support\n\n         ok       1.00      1.00      1.00       159\n   troubled       1.00      1.00      1.00        41\n\navg / total       1.00      1.00      1.00       200\n\n76 Train accuracy: 1.0 Test accuracy: 1.0\n[[167   0]\n [  0  33]]\n             precision    recall  f1-score   support\n\n         ok       1.00      1.00      1.00       167\n   troubled       1.00      1.00      1.00        33\n\navg / total       1.00      1.00      1.00       200\n\n"
     ]
    },
    {
     "name": "stdout",
     "output_type": "stream",
     "text": [
      "77 Train accuracy: 1.0 Test accuracy: 1.0\n[[157   0]\n [  0  43]]\n             precision    recall  f1-score   support\n\n         ok       1.00      1.00      1.00       157\n   troubled       1.00      1.00      1.00        43\n\navg / total       1.00      1.00      1.00       200\n\n78 Train accuracy: 1.0 Test accuracy: 1.0\n[[159   0]\n [  0  41]]\n             precision    recall  f1-score   support\n\n         ok       1.00      1.00      1.00       159\n   troubled       1.00      1.00      1.00        41\n\navg / total       1.00      1.00      1.00       200\n\n"
     ]
    },
    {
     "name": "stdout",
     "output_type": "stream",
     "text": [
      "79 Train accuracy: 1.0 Test accuracy: 1.0\n[[153   0]\n [  0  47]]\n             precision    recall  f1-score   support\n\n         ok       1.00      1.00      1.00       153\n   troubled       1.00      1.00      1.00        47\n\navg / total       1.00      1.00      1.00       200\n\n80 Train accuracy: 1.0 Test accuracy: 1.0\n[[152   0]\n [  0  48]]\n             precision    recall  f1-score   support\n\n         ok       1.00      1.00      1.00       152\n   troubled       1.00      1.00      1.00        48\n\navg / total       1.00      1.00      1.00       200\n\n"
     ]
    },
    {
     "name": "stdout",
     "output_type": "stream",
     "text": [
      "81 Train accuracy: 1.0 Test accuracy: 1.0\n[[159   0]\n [  0  41]]\n             precision    recall  f1-score   support\n\n         ok       1.00      1.00      1.00       159\n   troubled       1.00      1.00      1.00        41\n\navg / total       1.00      1.00      1.00       200\n\n82 Train accuracy: 1.0 Test accuracy: 1.0\n[[162   0]\n [  0  38]]\n             precision    recall  f1-score   support\n\n         ok       1.00      1.00      1.00       162\n   troubled       1.00      1.00      1.00        38\n\navg / total       1.00      1.00      1.00       200\n\n"
     ]
    },
    {
     "name": "stdout",
     "output_type": "stream",
     "text": [
      "83 Train accuracy: 1.0 Test accuracy: 1.0\n[[157   0]\n [  0  43]]\n             precision    recall  f1-score   support\n\n         ok       1.00      1.00      1.00       157\n   troubled       1.00      1.00      1.00        43\n\navg / total       1.00      1.00      1.00       200\n\n84 Train accuracy: 1.0 Test accuracy: 1.0\n[[150   0]\n [  0  50]]\n             precision    recall  f1-score   support\n\n         ok       1.00      1.00      1.00       150\n   troubled       1.00      1.00      1.00        50\n\navg / total       1.00      1.00      1.00       200\n\n"
     ]
    },
    {
     "name": "stdout",
     "output_type": "stream",
     "text": [
      "85 Train accuracy: 1.0 Test accuracy: 1.0\n[[159   0]\n [  0  41]]\n             precision    recall  f1-score   support\n\n         ok       1.00      1.00      1.00       159\n   troubled       1.00      1.00      1.00        41\n\navg / total       1.00      1.00      1.00       200\n\n86 Train accuracy: 1.0 Test accuracy: 1.0\n[[162   0]\n [  0  38]]\n             precision    recall  f1-score   support\n\n         ok       1.00      1.00      1.00       162\n   troubled       1.00      1.00      1.00        38\n\navg / total       1.00      1.00      1.00       200\n\n"
     ]
    },
    {
     "name": "stdout",
     "output_type": "stream",
     "text": [
      "87 Train accuracy: 1.0 Test accuracy: 1.0\n[[154   0]\n [  0  46]]\n             precision    recall  f1-score   support\n\n         ok       1.00      1.00      1.00       154\n   troubled       1.00      1.00      1.00        46\n\navg / total       1.00      1.00      1.00       200\n\n88 Train accuracy: 1.0 Test accuracy: 1.0\n[[151   0]\n [  0  49]]\n             precision    recall  f1-score   support\n\n         ok       1.00      1.00      1.00       151\n   troubled       1.00      1.00      1.00        49\n\navg / total       1.00      1.00      1.00       200\n\n"
     ]
    },
    {
     "name": "stdout",
     "output_type": "stream",
     "text": [
      "89 Train accuracy: 1.0 Test accuracy: 1.0\n[[150   0]\n [  0  50]]\n             precision    recall  f1-score   support\n\n         ok       1.00      1.00      1.00       150\n   troubled       1.00      1.00      1.00        50\n\navg / total       1.00      1.00      1.00       200\n\n90 Train accuracy: 1.0 Test accuracy: 1.0\n[[161   0]\n [  0  39]]\n             precision    recall  f1-score   support\n\n         ok       1.00      1.00      1.00       161\n   troubled       1.00      1.00      1.00        39\n\navg / total       1.00      1.00      1.00       200\n\n"
     ]
    },
    {
     "name": "stdout",
     "output_type": "stream",
     "text": [
      "91 Train accuracy: 1.0 Test accuracy: 1.0\n[[153   0]\n [  0  47]]\n             precision    recall  f1-score   support\n\n         ok       1.00      1.00      1.00       153\n   troubled       1.00      1.00      1.00        47\n\navg / total       1.00      1.00      1.00       200\n\n92 Train accuracy: 1.0 Test accuracy: 1.0\n[[157   0]\n [  0  43]]\n             precision    recall  f1-score   support\n\n         ok       1.00      1.00      1.00       157\n   troubled       1.00      1.00      1.00        43\n\navg / total       1.00      1.00      1.00       200\n\n"
     ]
    },
    {
     "name": "stdout",
     "output_type": "stream",
     "text": [
      "93 Train accuracy: 1.0 Test accuracy: 1.0\n[[145   0]\n [  0  55]]\n             precision    recall  f1-score   support\n\n         ok       1.00      1.00      1.00       145\n   troubled       1.00      1.00      1.00        55\n\navg / total       1.00      1.00      1.00       200\n\n94 Train accuracy: 1.0 Test accuracy: 1.0\n[[154   0]\n [  0  46]]\n             precision    recall  f1-score   support\n\n         ok       1.00      1.00      1.00       154\n   troubled       1.00      1.00      1.00        46\n\navg / total       1.00      1.00      1.00       200\n\n"
     ]
    },
    {
     "name": "stdout",
     "output_type": "stream",
     "text": [
      "95 Train accuracy: 1.0 Test accuracy: 1.0\n[[164   0]\n [  0  36]]\n             precision    recall  f1-score   support\n\n         ok       1.00      1.00      1.00       164\n   troubled       1.00      1.00      1.00        36\n\navg / total       1.00      1.00      1.00       200\n\n96 Train accuracy: 1.0 Test accuracy: 1.0\n[[154   0]\n [  0  46]]\n             precision    recall  f1-score   support\n\n         ok       1.00      1.00      1.00       154\n   troubled       1.00      1.00      1.00        46\n\navg / total       1.00      1.00      1.00       200\n\n"
     ]
    },
    {
     "name": "stdout",
     "output_type": "stream",
     "text": [
      "97 Train accuracy: 1.0 Test accuracy: 1.0\n[[161   0]\n [  0  39]]\n             precision    recall  f1-score   support\n\n         ok       1.00      1.00      1.00       161\n   troubled       1.00      1.00      1.00        39\n\navg / total       1.00      1.00      1.00       200\n\n98 Train accuracy: 1.0 Test accuracy: 1.0\n[[155   0]\n [  0  45]]\n             precision    recall  f1-score   support\n\n         ok       1.00      1.00      1.00       155\n   troubled       1.00      1.00      1.00        45\n\navg / total       1.00      1.00      1.00       200\n\n"
     ]
    },
    {
     "name": "stdout",
     "output_type": "stream",
     "text": [
      "99 Train accuracy: 1.0 Test accuracy: 1.0\n[[150   0]\n [  0  50]]\n             precision    recall  f1-score   support\n\n         ok       1.00      1.00      1.00       150\n   troubled       1.00      1.00      1.00        50\n\navg / total       1.00      1.00      1.00       200\n\n"
     ]
    }
   ],
   "source": [
    "from sklearn.metrics import classification_report\n",
    "from sklearn.metrics import confusion_matrix\n",
    "\n",
    "n_epochs = 100\n",
    "batch_size = 200\n",
    "\n",
    "train_data = sf.TrainDataSet(train_labels=train_labels, train_features=train_features, train_seq_lengths=train_seq_lengths)\n",
    "\n",
    "with tf.Session() as sess:\n",
    "    init.run()\n",
    "    for epoch in range(n_epochs):\n",
    "        for i in range(train_data.num_examples // batch_size):\n",
    "            y_batch, X_batch, seq_length_batch = train_data.next_batch(batch_size)\n",
    "            \n",
    "            sess.run(training_op, feed_dict={X: X_batch, y: y_batch, seq_length: seq_length_batch})\n",
    "\n",
    "        y_train_pred = y_pred.eval(feed_dict={X: X_batch, y: y_batch, seq_length: seq_length_batch})\n",
    "        y_test_pred = y_pred.eval(feed_dict={X: test_features, y: test_labels, seq_length: test_seq_lengths})\n",
    "        acc_train = accuracy.eval(feed_dict={X: X_batch, y: y_batch, seq_length: seq_length_batch})\n",
    "        acc_test = accuracy.eval(feed_dict={X: test_features, y: test_labels, seq_length: test_seq_lengths})\n",
    "\n",
    "        print(epoch, \"Train accuracy:\", acc_train, \"Test accuracy:\", acc_test)\n",
    "        print(confusion_matrix(y_batch, y_train_pred))\n",
    "        print(classification_report(y_batch, y_train_pred, target_names=['ok', 'troubled']))\n",
    "\n",
    "        loss_summary_str = loss_summary.eval(feed_dict={X: X_batch, y: y_batch, seq_length: seq_length_batch})\n",
    "        accuracy_summary_str = accuracy_summary.eval(feed_dict={X: X_batch, y: y_batch, seq_length: seq_length_batch})\n",
    "        file_writer.add_summary(loss_summary_str, epoch)\n",
    "        file_writer.add_summary(accuracy_summary_str, epoch)\n",
    "\n",
    "file_writer.close()"
   ]
  },
  {
   "cell_type": "code",
   "execution_count": null,
   "metadata": {},
   "outputs": [],
   "source": []
  }
 ],
 "metadata": {
  "kernelspec": {
   "display_name": "Python 2",
   "language": "python",
   "name": "python2"
  },
  "language_info": {
   "codemirror_mode": {
    "name": "ipython",
    "version": 2
   },
   "file_extension": ".py",
   "mimetype": "text/x-python",
   "name": "python",
   "nbconvert_exporter": "python",
   "pygments_lexer": "ipython2",
   "version": "2.7.6"
  }
 },
 "nbformat": 4,
 "nbformat_minor": 0
}
