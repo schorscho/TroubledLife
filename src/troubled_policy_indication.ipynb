{
 "cells": [
  {
   "cell_type": "code",
   "execution_count": 1,
   "metadata": {
    "collapsed": true
   },
   "outputs": [],
   "source": [
    "import support_functions as sf\n",
    "\n",
    "sf.generate_very_simple_portfolio_history(no_of_policies=10000, runtime=5)"
   ]
  },
  {
   "cell_type": "code",
   "execution_count": 2,
   "metadata": {},
   "outputs": [],
   "source": [
    "policy_histories = sf.load_troubled_life_policy_data()\n",
    "#po licy_histories"
   ]
  },
  {
   "cell_type": "code",
   "execution_count": 3,
   "metadata": {},
   "outputs": [],
   "source": [
    "policy_histories, history_lengths, max_history_length = sf.prepare_troubled_life_policy_data(policy_histories=policy_histories)\n",
    "#policy_histories\n"
   ]
  },
  {
   "cell_type": "code",
   "execution_count": 4,
   "metadata": {},
   "outputs": [],
   "source": [
    "# Extract features and labels from dataset as numpy.ndarray(s)\n",
    "policy_histories_labels = policy_histories['troubled'].as_matrix()\n",
    "policy_histories_features = policy_histories[['premium', 'current_capital']].as_matrix()\n",
    "\n",
    "# Reshape features from (overall_no_of_histories, 2) to (overall_no_of_policies, maximum_history_length, 2)\n",
    "policy_histories_features = policy_histories_features.reshape((policy_histories.index.levels[0].shape[0], max_history_length, -1))\n",
    "\n",
    "# Reshape labels from (overall_no_of_histories) to (overall_no_of_policies, maximum_history_length) and take maximum of each row (0 or 1)\n",
    "policy_histories_labels = policy_histories_labels.reshape(policy_histories.index.levels[0].shape[0], -1).max(axis=1)\n",
    "\n",
    "history_lengths = history_lengths[:,1]\n",
    "\n",
    "#policy_histories_features, policy_histories_labels, history_lengths"
   ]
  },
  {
   "cell_type": "code",
   "execution_count": 8,
   "metadata": {},
   "outputs": [],
   "source": [
    "import tensorflow as tf\n",
    "from datetime import datetime\n",
    "\n",
    "now = datetime.utcnow().strftime(\"%Y%m%d%H%M%S\")\n",
    "root_logdir = \"/Users/gopora/MyStuff/Dev/Workspaces/Sandbox/TroubledLife/tf_logs\"\n",
    "logdir = \"{}/run-{}/\".format(root_logdir, now)\n",
    "\n",
    "tf.reset_default_graph()\n",
    "tf.set_random_seed(42)\n",
    "\n",
    "n_steps = max_history_length\n",
    "n_inputs = 2\n",
    "\n",
    "n_neurons = 20\n",
    "n_outputs = 2\n",
    "\n",
    "learning_rate = 0.001\n",
    "\n",
    "# Placeholders for our input sequences\n",
    "seq_length = tf.placeholder(tf.int32, [None])\n",
    "X = tf.placeholder(tf.float32, [None, n_steps, n_inputs])\n",
    "y = tf.placeholder(tf.int32, [None])\n",
    "\n",
    "# A single RNN layer of n_neurons neurons\n",
    "basic_cell = tf.contrib.rnn.BasicRNNCell(num_units=n_neurons, activation=tf.nn.relu)\n",
    "outputs, states = tf.nn.dynamic_rnn(basic_cell, X, dtype=tf.float32, sequence_length=seq_length)\n",
    "\n",
    "# We feed the layer's output of the last timestep into a fully connected layer of 2 neurons\n",
    "# (1 per class, troubled or not). Softmax layer is next\n",
    "logits = tf.layers.dense(states, n_outputs)\n",
    "y_pred = tf.argmax(tf.nn.softmax(logits), axis=1)\n",
    "xentropy = tf.nn.sparse_softmax_cross_entropy_with_logits(labels=y, logits=logits)\n",
    "#xentropy = y - y_pred\n",
    "#xentropy = tf.abs(xentropy)\n",
    "\n",
    "# Loss function and Adam Optimizer\n",
    "loss = tf.reduce_mean(tf.cast(xentropy, tf.float32))\n",
    "optimizer = tf.train.AdamOptimizer(learning_rate=learning_rate)\n",
    "training_op = optimizer.minimize(loss)\n",
    "\n",
    "correct = tf.nn.in_top_k(logits, y, 1)\n",
    "accuracy = tf.reduce_mean(tf.cast(correct, tf.float32))\n",
    "\n",
    "init = tf.global_variables_initializer()\n",
    "\n",
    "loss_summary = tf.summary.scalar('Loss', loss)\n",
    "file_writer = tf.summary.FileWriter(logdir, tf.get_default_graph())"
   ]
  },
  {
   "cell_type": "code",
   "execution_count": 9,
   "metadata": {},
   "outputs": [
    {
     "name": "stdout",
     "output_type": "stream",
     "text": [
      "0 Train accuracy: 0.783\n349.036\n[[783   0]\n [217   0]]\n             precision    recall  f1-score   support\n\n         ok       0.78      1.00      0.88       783\n   troubled       0.00      0.00      0.00       217\n\navg / total       0.61      0.78      0.69      1000\n\n1 Train accuracy: 0.783\n48.8602\n[[783   0]\n [217   0]]\n             precision    recall  f1-score   support\n\n         ok       0.78      1.00      0.88       783\n   troubled       0.00      0.00      0.00       217\n\navg / total       0.61      0.78      0.69      1000\n\n"
     ]
    },
    {
     "name": "stderr",
     "output_type": "stream",
     "text": [
      "/Users/gopora/MyStuff/Dev/miniconda3/envs/pie35/lib/python3.5/site-packages/sklearn/metrics/classification.py:1113: UndefinedMetricWarning: Precision and F-score are ill-defined and being set to 0.0 in labels with no predicted samples.\n  'precision', 'predicted', average, warn_for)\n"
     ]
    },
    {
     "name": "stdout",
     "output_type": "stream",
     "text": [
      "2 Train accuracy: 0.783\n37.3777\n[[783   0]\n [217   0]]\n             precision    recall  f1-score   support\n\n         ok       0.78      1.00      0.88       783\n   troubled       0.00      0.00      0.00       217\n\navg / total       0.61      0.78      0.69      1000\n\n3 Train accuracy: 0.784\n15.3715\n[[783   0]\n [216   1]]\n             precision    recall  f1-score   support\n\n         ok       0.78      1.00      0.88       783\n   troubled       1.00      0.00      0.01       217\n\navg / total       0.83      0.78      0.69      1000\n\n"
     ]
    },
    {
     "name": "stdout",
     "output_type": "stream",
     "text": [
      "4 Train accuracy: 0.783\n20.9285\n[[783   0]\n [217   0]]\n             precision    recall  f1-score   support\n\n         ok       0.78      1.00      0.88       783\n   troubled       0.00      0.00      0.00       217\n\navg / total       0.61      0.78      0.69      1000\n\n5 Train accuracy: 0.862\n5.05843\n[[783   0]\n [138  79]]\n             precision    recall  f1-score   support\n\n         ok       0.85      1.00      0.92       783\n   troubled       1.00      0.36      0.53       217\n\navg / total       0.88      0.86      0.84      1000\n\n6 Train accuracy: 0.864\n3.45561\n[[783   0]\n [136  81]]\n             precision    recall  f1-score   support\n\n         ok       0.85      1.00      0.92       783\n   troubled       1.00      0.37      0.54       217\n\navg / total       0.88      0.86      0.84      1000\n\n"
     ]
    },
    {
     "name": "stdout",
     "output_type": "stream",
     "text": [
      "7 Train accuracy: 0.914\n2.88703\n[[783   0]\n [ 86 131]]\n             precision    recall  f1-score   support\n\n         ok       0.90      1.00      0.95       783\n   troubled       1.00      0.60      0.75       217\n\navg / total       0.92      0.91      0.91      1000\n\n8 Train accuracy: 0.853\n6.19828\n[[783   0]\n [147  70]]\n             precision    recall  f1-score   support\n\n         ok       0.84      1.00      0.91       783\n   troubled       1.00      0.32      0.49       217\n\navg / total       0.88      0.85      0.82      1000\n\n"
     ]
    },
    {
     "name": "stdout",
     "output_type": "stream",
     "text": [
      "9 Train accuracy: 0.912\n2.60568\n[[783   0]\n [ 88 129]]\n             precision    recall  f1-score   support\n\n         ok       0.90      1.00      0.95       783\n   troubled       1.00      0.59      0.75       217\n\navg / total       0.92      0.91      0.90      1000\n\n10 Train accuracy: 0.853\n6.03995\n[[783   0]\n [147  70]]\n             precision    recall  f1-score   support\n\n         ok       0.84      1.00      0.91       783\n   troubled       1.00      0.32      0.49       217\n\navg / total       0.88      0.85      0.82      1000\n\n11 Train accuracy: 0.864\n3.20887\n[[783   0]\n [136  81]]\n             precision    recall  f1-score   support\n\n         ok       0.85      1.00      0.92       783\n   troubled       1.00      0.37      0.54       217\n\navg / total       0.88      0.86      0.84      1000\n\n"
     ]
    },
    {
     "name": "stdout",
     "output_type": "stream",
     "text": [
      "12 Train accuracy: 0.852\n6.17494\n[[783   0]\n [148  69]]\n             precision    recall  f1-score   support\n\n         ok       0.84      1.00      0.91       783\n   troubled       1.00      0.32      0.48       217\n\navg / total       0.88      0.85      0.82      1000\n\n13 Train accuracy: 0.902\n2.48262\n[[783   0]\n [ 98 119]]\n             precision    recall  f1-score   support\n\n         ok       0.89      1.00      0.94       783\n   troubled       1.00      0.55      0.71       217\n\navg / total       0.91      0.90      0.89      1000\n\n14 Train accuracy: 0.864\n4.28019\n[[783   0]\n [136  81]]\n             precision    recall  f1-score   support\n\n         ok       0.85      1.00      0.92       783\n   troubled       1.00      0.37      0.54       217\n\navg / total       0.88      0.86      0.84      1000\n\n"
     ]
    },
    {
     "name": "stdout",
     "output_type": "stream",
     "text": [
      "15 Train accuracy: 0.176\n2.29298\n[[  0 783]\n [ 41 176]]\n             precision    recall  f1-score   support\n\n         ok       0.00      0.00      0.00       783\n   troubled       0.18      0.81      0.30       217\n\navg / total       0.04      0.18      0.06      1000\n\n16 Train accuracy: 0.864\n3.40703\n[[783   0]\n [136  81]]\n             precision    recall  f1-score   support\n\n         ok       0.85      1.00      0.92       783\n   troubled       1.00      0.37      0.54       217\n\navg / total       0.88      0.86      0.84      1000\n\n17 Train accuracy: 0.178\n5.18016\n[[  0 783]\n [ 39 178]]\n             precision    recall  f1-score   support\n\n         ok       0.00      0.00      0.00       783\n   troubled       0.19      0.82      0.30       217\n\navg / total       0.04      0.18      0.07      1000\n\n"
     ]
    },
    {
     "name": "stdout",
     "output_type": "stream",
     "text": [
      "18 Train accuracy: 0.877\n2.80248\n[[783   0]\n [123  94]]\n             precision    recall  f1-score   support\n\n         ok       0.86      1.00      0.93       783\n   troubled       1.00      0.43      0.60       217\n\navg / total       0.89      0.88      0.86      1000\n\n19 Train accuracy: 0.178\n6.2949\n[[  0 783]\n [ 39 178]]\n             precision    recall  f1-score   support\n\n         ok       0.00      0.00      0.00       783\n   troubled       0.19      0.82      0.30       217\n\navg / total       0.04      0.18      0.07      1000\n\n20 Train accuracy: 0.898\n2.10021\n[[783   0]\n [102 115]]\n             precision    recall  f1-score   support\n\n         ok       0.88      1.00      0.94       783\n   troubled       1.00      0.53      0.69       217\n\navg / total       0.91      0.90      0.89      1000\n\n"
     ]
    },
    {
     "name": "stdout",
     "output_type": "stream",
     "text": [
      "21 Train accuracy: 0.18\n3.67024\n[[  0 783]\n [ 37 180]]\n             precision    recall  f1-score   support\n\n         ok       0.00      0.00      0.00       783\n   troubled       0.19      0.83      0.31       217\n\navg / total       0.04      0.18      0.07      1000\n\n22 Train accuracy: 0.854\n4.48393\n[[783   0]\n [146  71]]\n             precision    recall  f1-score   support\n\n         ok       0.84      1.00      0.91       783\n   troubled       1.00      0.33      0.49       217\n\navg / total       0.88      0.85      0.82      1000\n\n23 Train accuracy: 0.891\n2.25013\n[[783   0]\n [109 108]]\n             precision    recall  f1-score   support\n\n         ok       0.88      1.00      0.93       783\n   troubled       1.00      0.50      0.66       217\n\navg / total       0.90      0.89      0.88      1000\n\n"
     ]
    },
    {
     "name": "stdout",
     "output_type": "stream",
     "text": [
      "24 Train accuracy: 0.958\n0.99298\n[[783   0]\n [ 42 175]]\n             precision    recall  f1-score   support\n\n         ok       0.95      1.00      0.97       783\n   troubled       1.00      0.81      0.89       217\n\navg / total       0.96      0.96      0.96      1000\n\n25 Train accuracy: 0.964\n0.934626\n[[783   0]\n [ 36 181]]\n             precision    recall  f1-score   support\n\n         ok       0.96      1.00      0.98       783\n   troubled       1.00      0.83      0.91       217\n\navg / total       0.97      0.96      0.96      1000\n\n26 Train accuracy: 0.965\n0.788016\n[[783   0]\n [ 35 182]]\n             precision    recall  f1-score   support\n\n         ok       0.96      1.00      0.98       783\n   troubled       1.00      0.84      0.91       217\n\navg / total       0.97      0.96      0.96      1000\n\n"
     ]
    },
    {
     "name": "stdout",
     "output_type": "stream",
     "text": [
      "27 Train accuracy: 0.862\n2.81678\n[[783   0]\n [138  79]]\n             precision    recall  f1-score   support\n\n         ok       0.85      1.00      0.92       783\n   troubled       1.00      0.36      0.53       217\n\navg / total       0.88      0.86      0.84      1000\n\n28 Train accuracy: 0.856\n3.66721\n[[783   0]\n [144  73]]\n             precision    recall  f1-score   support\n\n         ok       0.84      1.00      0.92       783\n   troubled       1.00      0.34      0.50       217\n\navg / total       0.88      0.86      0.83      1000\n\n29 Train accuracy: 0.966\n0.792124\n[[783   0]\n [ 34 183]]\n             precision    recall  f1-score   support\n\n         ok       0.96      1.00      0.98       783\n   troubled       1.00      0.84      0.92       217\n\navg / total       0.97      0.97      0.96      1000\n\n"
     ]
    },
    {
     "name": "stdout",
     "output_type": "stream",
     "text": [
      "30 Train accuracy: 0.966\n0.475591\n[[783   0]\n [ 34 183]]\n             precision    recall  f1-score   support\n\n         ok       0.96      1.00      0.98       783\n   troubled       1.00      0.84      0.92       217\n\navg / total       0.97      0.97      0.96      1000\n\n31 Train accuracy: 0.966\n0.396498\n[[783   0]\n [ 34 183]]\n             precision    recall  f1-score   support\n\n         ok       0.96      1.00      0.98       783\n   troubled       1.00      0.84      0.92       217\n\navg / total       0.97      0.97      0.96      1000\n\n32 Train accuracy: 0.966\n0.333308\n[[783   0]\n [ 34 183]]\n             precision    recall  f1-score   support\n\n         ok       0.96      1.00      0.98       783\n   troubled       1.00      0.84      0.92       217\n\navg / total       0.97      0.97      0.96      1000\n\n"
     ]
    },
    {
     "name": "stdout",
     "output_type": "stream",
     "text": [
      "33 Train accuracy: 0.966\n0.264409\n[[783   0]\n [ 34 183]]\n             precision    recall  f1-score   support\n\n         ok       0.96      1.00      0.98       783\n   troubled       1.00      0.84      0.92       217\n\navg / total       0.97      0.97      0.96      1000\n\n34 Train accuracy: 0.966\n0.234528\n[[783   0]\n [ 34 183]]\n             precision    recall  f1-score   support\n\n         ok       0.96      1.00      0.98       783\n   troubled       1.00      0.84      0.92       217\n\navg / total       0.97      0.97      0.96      1000\n\n35 Train accuracy: 0.94\n0.384414\n[[783   0]\n [ 60 157]]\n             precision    recall  f1-score   support\n\n         ok       0.93      1.00      0.96       783\n   troubled       1.00      0.72      0.84       217\n\navg / total       0.94      0.94      0.94      1000\n\n"
     ]
    },
    {
     "name": "stdout",
     "output_type": "stream",
     "text": [
      "36 Train accuracy: 0.217\n0.727444\n[[  0 783]\n [  0 217]]\n             precision    recall  f1-score   support\n\n         ok       0.00      0.00      0.00       783\n   troubled       0.22      1.00      0.36       217\n\navg / total       0.05      0.22      0.08      1000\n\n37 Train accuracy: 0.959\n0.138564\n[[783   0]\n [ 41 176]]\n             precision    recall  f1-score   support\n\n         ok       0.95      1.00      0.97       783\n   troubled       1.00      0.81      0.90       217\n\navg / total       0.96      0.96      0.96      1000\n\n38 Train accuracy: 0.967\n0.0706346\n[[783   0]\n [ 33 184]]\n             precision    recall  f1-score   support\n\n         ok       0.96      1.00      0.98       783\n   troubled       1.00      0.85      0.92       217\n\navg / total       0.97      0.97      0.97      1000\n\n"
     ]
    },
    {
     "name": "stdout",
     "output_type": "stream",
     "text": [
      "39 Train accuracy: 0.992\n0.0134887\n[[783   0]\n [  8 209]]\n             precision    recall  f1-score   support\n\n         ok       0.99      1.00      0.99       783\n   troubled       1.00      0.96      0.98       217\n\navg / total       0.99      0.99      0.99      1000\n\n40 Train accuracy: 1.0\n0.014766\n[[783   0]\n [  0 217]]\n             precision    recall  f1-score   support\n\n         ok       1.00      1.00      1.00       783\n   troubled       1.00      1.00      1.00       217\n\navg / total       1.00      1.00      1.00      1000\n\n41 Train accuracy: 1.0\n0.00839168\n[[783   0]\n [  0 217]]\n             precision    recall  f1-score   support\n\n         ok       1.00      1.00      1.00       783\n   troubled       1.00      1.00      1.00       217\n\navg / total       1.00      1.00      1.00      1000\n\n"
     ]
    },
    {
     "name": "stdout",
     "output_type": "stream",
     "text": [
      "42 Train accuracy: 1.0\n0.00630424\n[[783   0]\n [  0 217]]\n             precision    recall  f1-score   support\n\n         ok       1.00      1.00      1.00       783\n   troubled       1.00      1.00      1.00       217\n\navg / total       1.00      1.00      1.00      1000\n\n43 Train accuracy: 1.0\n0.0059703\n[[783   0]\n [  0 217]]\n             precision    recall  f1-score   support\n\n         ok       1.00      1.00      1.00       783\n   troubled       1.00      1.00      1.00       217\n\navg / total       1.00      1.00      1.00      1000\n\n44 Train accuracy: 1.0\n0.0057415\n[[783   0]\n [  0 217]]\n             precision    recall  f1-score   support\n\n         ok       1.00      1.00      1.00       783\n   troubled       1.00      1.00      1.00       217\n\navg / total       1.00      1.00      1.00      1000\n\n"
     ]
    },
    {
     "name": "stdout",
     "output_type": "stream",
     "text": [
      "45 Train accuracy: 1.0\n0.00552395\n[[783   0]\n [  0 217]]\n             precision    recall  f1-score   support\n\n         ok       1.00      1.00      1.00       783\n   troubled       1.00      1.00      1.00       217\n\navg / total       1.00      1.00      1.00      1000\n\n46 Train accuracy: 1.0\n0.0053831\n[[783   0]\n [  0 217]]\n             precision    recall  f1-score   support\n\n         ok       1.00      1.00      1.00       783\n   troubled       1.00      1.00      1.00       217\n\navg / total       1.00      1.00      1.00      1000\n\n47 Train accuracy: 1.0\n0.0052536\n[[783   0]\n [  0 217]]\n             precision    recall  f1-score   support\n\n         ok       1.00      1.00      1.00       783\n   troubled       1.00      1.00      1.00       217\n\navg / total       1.00      1.00      1.00      1000\n\n"
     ]
    },
    {
     "name": "stdout",
     "output_type": "stream",
     "text": [
      "48 Train accuracy: 1.0\n0.00510331\n[[783   0]\n [  0 217]]\n             precision    recall  f1-score   support\n\n         ok       1.00      1.00      1.00       783\n   troubled       1.00      1.00      1.00       217\n\navg / total       1.00      1.00      1.00      1000\n\n49 Train accuracy: 1.0\n0.00495214\n[[783   0]\n [  0 217]]\n             precision    recall  f1-score   support\n\n         ok       1.00      1.00      1.00       783\n   troubled       1.00      1.00      1.00       217\n\navg / total       1.00      1.00      1.00      1000\n\n50 Train accuracy: 1.0\n0.00481452\n[[783   0]\n [  0 217]]\n             precision    recall  f1-score   support\n\n         ok       1.00      1.00      1.00       783\n   troubled       1.00      1.00      1.00       217\n\navg / total       1.00      1.00      1.00      1000\n\n"
     ]
    },
    {
     "name": "stdout",
     "output_type": "stream",
     "text": [
      "51 Train accuracy: 1.0\n0.00469372\n[[783   0]\n [  0 217]]\n             precision    recall  f1-score   support\n\n         ok       1.00      1.00      1.00       783\n   troubled       1.00      1.00      1.00       217\n\navg / total       1.00      1.00      1.00      1000\n\n52 Train accuracy: 1.0\n0.00458179\n[[783   0]\n [  0 217]]\n             precision    recall  f1-score   support\n\n         ok       1.00      1.00      1.00       783\n   troubled       1.00      1.00      1.00       217\n\navg / total       1.00      1.00      1.00      1000\n\n53 Train accuracy: 1.0\n0.00447602\n[[783   0]\n [  0 217]]\n             precision    recall  f1-score   support\n\n         ok       1.00      1.00      1.00       783\n   troubled       1.00      1.00      1.00       217\n\navg / total       1.00      1.00      1.00      1000\n\n"
     ]
    },
    {
     "name": "stdout",
     "output_type": "stream",
     "text": [
      "54 Train accuracy: 1.0\n0.00437427\n[[783   0]\n [  0 217]]\n             precision    recall  f1-score   support\n\n         ok       1.00      1.00      1.00       783\n   troubled       1.00      1.00      1.00       217\n\navg / total       1.00      1.00      1.00      1000\n\n55 Train accuracy: 1.0\n0.00427767\n[[783   0]\n [  0 217]]\n             precision    recall  f1-score   support\n\n         ok       1.00      1.00      1.00       783\n   troubled       1.00      1.00      1.00       217\n\navg / total       1.00      1.00      1.00      1000\n\n56 Train accuracy: 1.0\n0.00418616\n[[783   0]\n [  0 217]]\n             precision    recall  f1-score   support\n\n         ok       1.00      1.00      1.00       783\n   troubled       1.00      1.00      1.00       217\n\navg / total       1.00      1.00      1.00      1000\n\n"
     ]
    },
    {
     "name": "stdout",
     "output_type": "stream",
     "text": [
      "57 Train accuracy: 1.0\n0.00409898\n[[783   0]\n [  0 217]]\n             precision    recall  f1-score   support\n\n         ok       1.00      1.00      1.00       783\n   troubled       1.00      1.00      1.00       217\n\navg / total       1.00      1.00      1.00      1000\n\n58 Train accuracy: 1.0\n0.004016\n[[783   0]\n [  0 217]]\n             precision    recall  f1-score   support\n\n         ok       1.00      1.00      1.00       783\n   troubled       1.00      1.00      1.00       217\n\navg / total       1.00      1.00      1.00      1000\n\n59 Train accuracy: 1.0\n0.00393591\n[[783   0]\n [  0 217]]\n             precision    recall  f1-score   support\n\n         ok       1.00      1.00      1.00       783\n   troubled       1.00      1.00      1.00       217\n\navg / total       1.00      1.00      1.00      1000\n\n"
     ]
    },
    {
     "name": "stdout",
     "output_type": "stream",
     "text": [
      "60 Train accuracy: 1.0\n0.00385961\n[[783   0]\n [  0 217]]\n             precision    recall  f1-score   support\n\n         ok       1.00      1.00      1.00       783\n   troubled       1.00      1.00      1.00       217\n\navg / total       1.00      1.00      1.00      1000\n\n61 Train accuracy: 1.0\n0.00378658\n[[783   0]\n [  0 217]]\n             precision    recall  f1-score   support\n\n         ok       1.00      1.00      1.00       783\n   troubled       1.00      1.00      1.00       217\n\navg / total       1.00      1.00      1.00      1000\n\n62 Train accuracy: 1.0\n0.00371625\n[[783   0]\n [  0 217]]\n             precision    recall  f1-score   support\n\n         ok       1.00      1.00      1.00       783\n   troubled       1.00      1.00      1.00       217\n\navg / total       1.00      1.00      1.00      1000\n\n"
     ]
    },
    {
     "name": "stdout",
     "output_type": "stream",
     "text": [
      "63 Train accuracy: 1.0\n0.00364777\n[[783   0]\n [  0 217]]\n             precision    recall  f1-score   support\n\n         ok       1.00      1.00      1.00       783\n   troubled       1.00      1.00      1.00       217\n\navg / total       1.00      1.00      1.00      1000\n\n64 Train accuracy: 1.0\n0.00358308\n[[783   0]\n [  0 217]]\n             precision    recall  f1-score   support\n\n         ok       1.00      1.00      1.00       783\n   troubled       1.00      1.00      1.00       217\n\navg / total       1.00      1.00      1.00      1000\n\n65 Train accuracy: 1.0\n0.00352016\n[[783   0]\n [  0 217]]\n             precision    recall  f1-score   support\n\n         ok       1.00      1.00      1.00       783\n   troubled       1.00      1.00      1.00       217\n\navg / total       1.00      1.00      1.00      1000\n\n"
     ]
    },
    {
     "name": "stdout",
     "output_type": "stream",
     "text": [
      "66 Train accuracy: 1.0\n0.0034591\n[[783   0]\n [  0 217]]\n             precision    recall  f1-score   support\n\n         ok       1.00      1.00      1.00       783\n   troubled       1.00      1.00      1.00       217\n\navg / total       1.00      1.00      1.00      1000\n\n67 Train accuracy: 1.0\n0.00340026\n[[783   0]\n [  0 217]]\n             precision    recall  f1-score   support\n\n         ok       1.00      1.00      1.00       783\n   troubled       1.00      1.00      1.00       217\n\navg / total       1.00      1.00      1.00      1000\n\n68 Train accuracy: 1.0\n0.00334386\n[[783   0]\n [  0 217]]\n             precision    recall  f1-score   support\n\n         ok       1.00      1.00      1.00       783\n   troubled       1.00      1.00      1.00       217\n\navg / total       1.00      1.00      1.00      1000\n\n"
     ]
    },
    {
     "name": "stdout",
     "output_type": "stream",
     "text": [
      "69 Train accuracy: 1.0\n0.00328861\n[[783   0]\n [  0 217]]\n             precision    recall  f1-score   support\n\n         ok       1.00      1.00      1.00       783\n   troubled       1.00      1.00      1.00       217\n\navg / total       1.00      1.00      1.00      1000\n\n70 Train accuracy: 1.0\n0.0032351\n[[783   0]\n [  0 217]]\n             precision    recall  f1-score   support\n\n         ok       1.00      1.00      1.00       783\n   troubled       1.00      1.00      1.00       217\n\navg / total       1.00      1.00      1.00      1000\n\n71 Train accuracy: 1.0\n0.00318389\n[[783   0]\n [  0 217]]\n             precision    recall  f1-score   support\n\n         ok       1.00      1.00      1.00       783\n   troubled       1.00      1.00      1.00       217\n\navg / total       1.00      1.00      1.00      1000\n\n"
     ]
    },
    {
     "name": "stdout",
     "output_type": "stream",
     "text": [
      "72 Train accuracy: 1.0\n0.00313317\n[[783   0]\n [  0 217]]\n             precision    recall  f1-score   support\n\n         ok       1.00      1.00      1.00       783\n   troubled       1.00      1.00      1.00       217\n\navg / total       1.00      1.00      1.00      1000\n\n73 Train accuracy: 1.0\n0.00308394\n[[783   0]\n [  0 217]]\n             precision    recall  f1-score   support\n\n         ok       1.00      1.00      1.00       783\n   troubled       1.00      1.00      1.00       217\n\navg / total       1.00      1.00      1.00      1000\n\n74 Train accuracy: 1.0\n0.00303596\n[[783   0]\n [  0 217]]\n             precision    recall  f1-score   support\n\n         ok       1.00      1.00      1.00       783\n   troubled       1.00      1.00      1.00       217\n\navg / total       1.00      1.00      1.00      1000\n\n"
     ]
    },
    {
     "name": "stdout",
     "output_type": "stream",
     "text": [
      "75 Train accuracy: 1.0\n0.00299412\n[[783   0]\n [  0 217]]\n             precision    recall  f1-score   support\n\n         ok       1.00      1.00      1.00       783\n   troubled       1.00      1.00      1.00       217\n\navg / total       1.00      1.00      1.00      1000\n\n76 Train accuracy: 1.0\n0.00295549\n[[783   0]\n [  0 217]]\n             precision    recall  f1-score   support\n\n         ok       1.00      1.00      1.00       783\n   troubled       1.00      1.00      1.00       217\n\navg / total       1.00      1.00      1.00      1000\n\n77 Train accuracy: 1.0\n0.00291692\n[[783   0]\n [  0 217]]\n             precision    recall  f1-score   support\n\n         ok       1.00      1.00      1.00       783\n   troubled       1.00      1.00      1.00       217\n\navg / total       1.00      1.00      1.00      1000\n\n"
     ]
    },
    {
     "name": "stdout",
     "output_type": "stream",
     "text": [
      "78 Train accuracy: 1.0\n0.00287776\n[[783   0]\n [  0 217]]\n             precision    recall  f1-score   support\n\n         ok       1.00      1.00      1.00       783\n   troubled       1.00      1.00      1.00       217\n\navg / total       1.00      1.00      1.00      1000\n\n79 Train accuracy: 1.0\n0.0028415\n[[783   0]\n [  0 217]]\n             precision    recall  f1-score   support\n\n         ok       1.00      1.00      1.00       783\n   troubled       1.00      1.00      1.00       217\n\navg / total       1.00      1.00      1.00      1000\n\n80 Train accuracy: 1.0\n0.00280591\n[[783   0]\n [  0 217]]\n             precision    recall  f1-score   support\n\n         ok       1.00      1.00      1.00       783\n   troubled       1.00      1.00      1.00       217\n\navg / total       1.00      1.00      1.00      1000\n\n"
     ]
    },
    {
     "name": "stdout",
     "output_type": "stream",
     "text": [
      "81 Train accuracy: 1.0\n0.0027694\n[[783   0]\n [  0 217]]\n             precision    recall  f1-score   support\n\n         ok       1.00      1.00      1.00       783\n   troubled       1.00      1.00      1.00       217\n\navg / total       1.00      1.00      1.00      1000\n\n82 Train accuracy: 1.0\n0.00273581\n[[783   0]\n [  0 217]]\n             precision    recall  f1-score   support\n\n         ok       1.00      1.00      1.00       783\n   troubled       1.00      1.00      1.00       217\n\navg / total       1.00      1.00      1.00      1000\n\n83 Train accuracy: 1.0\n0.00270197\n[[783   0]\n [  0 217]]\n             precision    recall  f1-score   support\n\n         ok       1.00      1.00      1.00       783\n   troubled       1.00      1.00      1.00       217\n\navg / total       1.00      1.00      1.00      1000\n\n"
     ]
    },
    {
     "name": "stdout",
     "output_type": "stream",
     "text": [
      "84 Train accuracy: 1.0\n0.00266953\n[[783   0]\n [  0 217]]\n             precision    recall  f1-score   support\n\n         ok       1.00      1.00      1.00       783\n   troubled       1.00      1.00      1.00       217\n\navg / total       1.00      1.00      1.00      1000\n\n85 Train accuracy: 1.0\n0.00263673\n[[783   0]\n [  0 217]]\n             precision    recall  f1-score   support\n\n         ok       1.00      1.00      1.00       783\n   troubled       1.00      1.00      1.00       217\n\navg / total       1.00      1.00      1.00      1000\n\n86 Train accuracy: 1.0\n0.002606\n[[783   0]\n [  0 217]]\n             precision    recall  f1-score   support\n\n         ok       1.00      1.00      1.00       783\n   troubled       1.00      1.00      1.00       217\n\navg / total       1.00      1.00      1.00      1000\n\n"
     ]
    },
    {
     "name": "stdout",
     "output_type": "stream",
     "text": [
      "87 Train accuracy: 1.0\n0.00257494\n[[783   0]\n [  0 217]]\n             precision    recall  f1-score   support\n\n         ok       1.00      1.00      1.00       783\n   troubled       1.00      1.00      1.00       217\n\navg / total       1.00      1.00      1.00      1000\n\n88 Train accuracy: 1.0\n0.00254463\n[[783   0]\n [  0 217]]\n             precision    recall  f1-score   support\n\n         ok       1.00      1.00      1.00       783\n   troubled       1.00      1.00      1.00       217\n\navg / total       1.00      1.00      1.00      1000\n\n89 Train accuracy: 1.0\n0.00251554\n[[783   0]\n [  0 217]]\n             precision    recall  f1-score   support\n\n         ok       1.00      1.00      1.00       783\n   troubled       1.00      1.00      1.00       217\n\navg / total       1.00      1.00      1.00      1000\n\n"
     ]
    },
    {
     "name": "stdout",
     "output_type": "stream",
     "text": [
      "90 Train accuracy: 1.0\n0.00248696\n[[783   0]\n [  0 217]]\n             precision    recall  f1-score   support\n\n         ok       1.00      1.00      1.00       783\n   troubled       1.00      1.00      1.00       217\n\navg / total       1.00      1.00      1.00      1000\n\n91 Train accuracy: 1.0\n0.00245772\n[[783   0]\n [  0 217]]\n             precision    recall  f1-score   support\n\n         ok       1.00      1.00      1.00       783\n   troubled       1.00      1.00      1.00       217\n\navg / total       1.00      1.00      1.00      1000\n\n92 Train accuracy: 1.0\n0.00243077\n[[783   0]\n [  0 217]]\n             precision    recall  f1-score   support\n\n         ok       1.00      1.00      1.00       783\n   troubled       1.00      1.00      1.00       217\n\navg / total       1.00      1.00      1.00      1000\n\n"
     ]
    },
    {
     "name": "stdout",
     "output_type": "stream",
     "text": [
      "93 Train accuracy: 1.0\n0.00240257\n[[783   0]\n [  0 217]]\n             precision    recall  f1-score   support\n\n         ok       1.00      1.00      1.00       783\n   troubled       1.00      1.00      1.00       217\n\navg / total       1.00      1.00      1.00      1000\n\n94 Train accuracy: 1.0\n0.00237608\n[[783   0]\n [  0 217]]\n             precision    recall  f1-score   support\n\n         ok       1.00      1.00      1.00       783\n   troubled       1.00      1.00      1.00       217\n\navg / total       1.00      1.00      1.00      1000\n\n95 Train accuracy: 1.0\n0.00234905\n[[783   0]\n [  0 217]]\n             precision    recall  f1-score   support\n\n         ok       1.00      1.00      1.00       783\n   troubled       1.00      1.00      1.00       217\n\navg / total       1.00      1.00      1.00      1000\n\n"
     ]
    },
    {
     "name": "stdout",
     "output_type": "stream",
     "text": [
      "96 Train accuracy: 1.0\n0.00232308\n[[783   0]\n [  0 217]]\n             precision    recall  f1-score   support\n\n         ok       1.00      1.00      1.00       783\n   troubled       1.00      1.00      1.00       217\n\navg / total       1.00      1.00      1.00      1000\n\n97 Train accuracy: 1.0\n0.00229802\n[[783   0]\n [  0 217]]\n             precision    recall  f1-score   support\n\n         ok       1.00      1.00      1.00       783\n   troubled       1.00      1.00      1.00       217\n\navg / total       1.00      1.00      1.00      1000\n\n98 Train accuracy: 1.0\n0.00227236\n[[783   0]\n [  0 217]]\n             precision    recall  f1-score   support\n\n         ok       1.00      1.00      1.00       783\n   troubled       1.00      1.00      1.00       217\n\navg / total       1.00      1.00      1.00      1000\n\n"
     ]
    },
    {
     "name": "stdout",
     "output_type": "stream",
     "text": [
      "99 Train accuracy: 1.0\n0.00224822\n[[783   0]\n [  0 217]]\n             precision    recall  f1-score   support\n\n         ok       1.00      1.00      1.00       783\n   troubled       1.00      1.00      1.00       217\n\navg / total       1.00      1.00      1.00      1000\n\n"
     ]
    }
   ],
   "source": [
    "from sklearn.metrics import classification_report\n",
    "from sklearn.metrics import confusion_matrix\n",
    "\n",
    "n_epochs = 100\n",
    "batch_size = 1000\n",
    "\n",
    "X_batch = policy_histories_features\n",
    "y_batch = policy_histories_labels\n",
    "seq_length_batch = history_lengths\n",
    "\n",
    "with tf.Session() as sess:\n",
    "    init.run()\n",
    "    for epoch in range(n_epochs):\n",
    "        for i in range(policy_histories_labels.shape[0] // batch_size):\n",
    "            X_batch = policy_histories_features[i * batch_size : (i + 1) * batch_size]\n",
    "            y_batch = policy_histories_labels[i * batch_size : (i + 1) * batch_size]\n",
    "            seq_length_batch = history_lengths[i * batch_size : (i + 1) * batch_size]\n",
    "            \n",
    "            sess.run(training_op, feed_dict={X: X_batch, y: y_batch, seq_length: seq_length_batch})\n",
    "            #print(outputs.eval(feed_dict={X: X_batch, y: y_batch, seq_length: seq_length_batch}))\n",
    "        #print(logits.eval(feed_dict={X: X_batch, y: y_batch, seq_length: seq_length_batch}))\n",
    "        y_batch_pred = y_pred.eval(feed_dict={X: X_batch, y: y_batch, seq_length: seq_length_batch})\n",
    "        acc_train = accuracy.eval(feed_dict={X: X_batch, y: y_batch, seq_length: seq_length_batch})\n",
    "        #acc_test = accuracy.eval(feed_dict={X: X_test, y: y_test})\n",
    "        print(epoch, \"Train accuracy:\", acc_train)#, \"Test accuracy:\", acc_test)\n",
    "        print(loss.eval(feed_dict={X: X_batch, y: y_batch, seq_length: seq_length_batch}))\n",
    "        print(confusion_matrix(y_batch, y_batch_pred))\n",
    "        print(classification_report(y_batch, y_batch_pred, target_names=['ok', 'troubled']))\n",
    "\n",
    "        summary_str = loss_summary.eval(feed_dict={X: X_batch, y: y_batch, seq_length: seq_length_batch})\n",
    "        file_writer.add_summary(summary_str, epoch)\n",
    "\n",
    "file_writer.close()"
   ]
  },
  {
   "cell_type": "code",
   "execution_count": null,
   "metadata": {},
   "outputs": [],
   "source": []
  }
 ],
 "metadata": {
  "kernelspec": {
   "display_name": "Python 2",
   "language": "python",
   "name": "python2"
  },
  "language_info": {
   "codemirror_mode": {
    "name": "ipython",
    "version": 2
   },
   "file_extension": ".py",
   "mimetype": "text/x-python",
   "name": "python",
   "nbconvert_exporter": "python",
   "pygments_lexer": "ipython2",
   "version": "2.7.6"
  }
 },
 "nbformat": 4,
 "nbformat_minor": 0
}
