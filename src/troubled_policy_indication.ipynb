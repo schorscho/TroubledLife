{
 "cells": [
  {
   "cell_type": "markdown",
   "metadata": {
    "collapsed": true
   },
   "source": [
    "Generate, load and prepare policy histories"
   ]
  },
  {
   "cell_type": "code",
   "execution_count": 1,
   "metadata": {
    "collapsed": true
   },
   "outputs": [],
   "source": [
    "import os\n",
    "from datetime import datetime\n",
    "import support_functions as sf\n",
    "\n",
    "\n",
    "PROJECT_ROOT_DIR = \"/Users/gopora/MyStuff/Dev/Workspaces/Sandbox/TroubledLife\"\n",
    "DATASETS_DIR = os.path.join(PROJECT_ROOT_DIR, \"data\")\n",
    "TF_LOG_DIR = os.path.join(PROJECT_ROOT_DIR, \"tf_logs\")\n",
    "TRAINING_SET_DATA_FILE = \"troubled_life_policy_train_data.csv\"\n",
    "TEST_SET_DATA_FILE = \"troubled_life_policy_test_data.csv\"\n",
    "\n",
    "now = datetime.utcnow().strftime(\"%Y%m%d-%H%M%S\")\n",
    "log_dir = \"{}/run-{}/\".format(TF_LOG_DIR, now)"
   ]
  },
  {
   "cell_type": "code",
   "execution_count": 2,
   "metadata": {
    "collapsed": true
   },
   "outputs": [],
   "source": [
    "#sf.generate_troubled_life_policy_data(no_of_policies=10000, runtime=5, file_path=os.path.join(DATASETS_DIR, TRAINING_SET_DATA_FILE))\n",
    "\n",
    "#sf.generate_troubled_life_policy_data(no_of_policies=2000, runtime=5, file_path=os.path.join(DATASETS_DIR, TEST_SET_DATA_FILE))\n",
    "\n",
    "policy_histories_train = \\\n",
    "    sf.load_troubled_life_policy_data(file_path=os.path.join(DATASETS_DIR, TRAINING_SET_DATA_FILE))\n",
    "\n",
    "policy_histories_test = \\\n",
    "    sf.load_troubled_life_policy_data(file_path=os.path.join(DATASETS_DIR, TEST_SET_DATA_FILE))\n",
    "\n",
    "policy_histories_length_train, max_policy_history_length_train = \\\n",
    "    sf.get_policy_history_lengths(policy_histories=policy_histories_train)\n",
    "\n",
    "policy_histories_length_test, max_policy_history_length_test = \\\n",
    "    sf.get_policy_history_lengths(policy_histories=policy_histories_test)\n",
    "\n",
    "max_policy_history_length = max(max_policy_history_length_train, max_policy_history_length_test)"
   ]
  },
  {
   "cell_type": "code",
   "execution_count": 3,
   "metadata": {
    "collapsed": true
   },
   "outputs": [],
   "source": [
    "# Pad the histories up to maximum length of both, train and test set\n",
    "\n",
    "# policy_histories_train = \\\n",
    "#     sf.pad_troubled_life_policy_histories(policy_histories=policy_histories_train,\n",
    "#                                           policy_histories_lengths=policy_histories_length_train,\n",
    "#                                           max_policy_history_length=max_policy_history_length)\n",
    "\n",
    "# policy_histories_test = \\\n",
    "#     sf.pad_troubled_life_policy_histories(policy_histories=policy_histories_test,\n",
    "#                                           policy_histories_lengths=policy_histories_length_test,\n",
    "#                                           max_policy_history_length=max_policy_history_length)\n",
    "\n",
    "# Save padded data, since always generating and padding takes too long\n",
    "#policy_histories_train.to_csv(path_or_buf=os.path.join(DATASETS_DIR, TRAINING_SET_DATA_FILE))\n",
    "#policy_histories_test.to_csv(path_or_buf=os.path.join(DATASETS_DIR, TEST_SET_DATA_FILE))"
   ]
  },
  {
   "cell_type": "markdown",
   "metadata": {},
   "source": [
    "Prepare labels and features"
   ]
  },
  {
   "cell_type": "code",
   "execution_count": 4,
   "metadata": {},
   "outputs": [],
   "source": [
    "# Extract features and labels from dataset as numpy.ndarray(s)\n",
    "train_labels, train_features, train_seq_lengths =\\\n",
    "    sf.prepare_labels_features_lengths(policy_histories=policy_histories_train,\n",
    "                                       policy_histories_lengths=policy_histories_length_train, \n",
    "                                       max_policy_history_length=max_policy_history_length)\n",
    "test_labels, test_features, test_seq_lengths =\\\n",
    "    sf.prepare_labels_features_lengths(policy_histories=policy_histories_test,\n",
    "                                       policy_histories_lengths=policy_histories_length_test, \n",
    "                                       max_policy_history_length=max_policy_history_length)\n"
   ]
  },
  {
   "cell_type": "markdown",
   "metadata": {},
   "source": [
    "Build TensorFlow graph with RNN"
   ]
  },
  {
   "cell_type": "code",
   "execution_count": 5,
   "metadata": {},
   "outputs": [],
   "source": [
    "import tensorflow as tf\n",
    "\n",
    "tf.reset_default_graph()\n",
    "tf.set_random_seed(42)\n",
    "\n",
    "# Our hyperparameters\n",
    "n_steps = max_policy_history_length\n",
    "n_inputs = 2\n",
    "n_layers = 3\n",
    "n_neurons = 100\n",
    "n_outputs = 2\n",
    "learning_rate = 0.0001\n",
    "\n",
    "# Placeholders for our input sequences\n",
    "seq_length = tf.placeholder(tf.int32, [None], name=\"seq_length\")\n",
    "X = tf.placeholder(tf.float32, [None, n_steps, n_inputs], name=\"X\")\n",
    "y = tf.placeholder(tf.int32, [None], name=\"y\")\n",
    "\n",
    "layers = [tf.contrib.rnn.BasicRNNCell(num_units=n_neurons,\n",
    "                                      activation=tf.nn.relu)\n",
    "          for layer in range(n_layers)]\n",
    "multi_layer_cell = tf.contrib.rnn.MultiRNNCell(layers, state_is_tuple=False)\n",
    "outputs, states = tf.nn.dynamic_rnn(multi_layer_cell, X, dtype=tf.float32)\n",
    "\n",
    "# We feed all layers' states (after the last timestep) into a fully connected layer of 2 neurons\n",
    "# (1 per class, troubled or not). Softmax layer is next\n",
    "logits = tf.layers.dense(states, n_outputs)\n",
    "y_pred = tf.argmax(tf.nn.softmax(logits), axis=1)\n",
    "xentropy = tf.nn.sparse_softmax_cross_entropy_with_logits(labels=y, logits=logits)\n",
    "\n",
    "# Loss function and Adam Optimizer\n",
    "loss = tf.reduce_mean(tf.cast(xentropy, tf.float32))\n",
    "optimizer = tf.train.AdamOptimizer(learning_rate=learning_rate)\n",
    "training_op = optimizer.minimize(loss)\n",
    "\n",
    "correct = tf.nn.in_top_k(logits, y, 1)\n",
    "accuracy = tf.reduce_mean(tf.cast(correct, tf.float32))\n",
    "\n",
    "init = tf.global_variables_initializer()\n",
    "\n",
    "accuracy_summary = tf.summary.scalar('Accuracy', accuracy)\n",
    "loss_summary = tf.summary.scalar('Loss', loss)\n",
    "\n",
    "file_writer = tf.summary.FileWriter(log_dir, tf.get_default_graph())"
   ]
  },
  {
   "cell_type": "code",
   "execution_count": null,
   "metadata": {},
   "outputs": [
    {
     "name": "stdout",
     "output_type": "stream",
     "text": [
      "0 Train accuracy: 0.45 Test accuracy: 0.4445\n[[51 92]\n [18 39]]\n             precision    recall  f1-score   support\n\n         ok       0.74      0.36      0.48       143\n   troubled       0.30      0.68      0.41        57\n\navg / total       0.61      0.45      0.46       200\n\n"
     ]
    },
    {
     "name": "stdout",
     "output_type": "stream",
     "text": [
      "1 Train accuracy: 0.95 Test accuracy: 0.951\n[[146   1]\n [  9  44]]\n             precision    recall  f1-score   support\n\n         ok       0.94      0.99      0.97       147\n   troubled       0.98      0.83      0.90        53\n\navg / total       0.95      0.95      0.95       200\n\n"
     ]
    },
    {
     "name": "stdout",
     "output_type": "stream",
     "text": [
      "2 Train accuracy: 0.93 Test accuracy: 0.933\n[[149   0]\n [ 14  37]]\n             precision    recall  f1-score   support\n\n         ok       0.91      1.00      0.96       149\n   troubled       1.00      0.73      0.84        51\n\navg / total       0.94      0.93      0.93       200\n\n"
     ]
    },
    {
     "name": "stdout",
     "output_type": "stream",
     "text": [
      "3 Train accuracy: 0.96 Test accuracy: 0.9685\n[[153   0]\n [  8  39]]\n             precision    recall  f1-score   support\n\n         ok       0.95      1.00      0.97       153\n   troubled       1.00      0.83      0.91        47\n\navg / total       0.96      0.96      0.96       200\n\n"
     ]
    },
    {
     "name": "stdout",
     "output_type": "stream",
     "text": [
      "4 Train accuracy: 0.945 Test accuracy: 0.926\n[[154   3]\n [  8  35]]\n             precision    recall  f1-score   support\n\n         ok       0.95      0.98      0.97       157\n   troubled       0.92      0.81      0.86        43\n\navg / total       0.94      0.94      0.94       200\n\n"
     ]
    },
    {
     "name": "stdout",
     "output_type": "stream",
     "text": [
      "5 Train accuracy: 0.985 Test accuracy: 0.963\n[[150   1]\n [  2  47]]\n             precision    recall  f1-score   support\n\n         ok       0.99      0.99      0.99       151\n   troubled       0.98      0.96      0.97        49\n\navg / total       0.98      0.98      0.98       200\n\n"
     ]
    },
    {
     "name": "stdout",
     "output_type": "stream",
     "text": [
      "6 Train accuracy: 0.975 Test accuracy: 0.9685\n[[145   0]\n [  5  50]]\n             precision    recall  f1-score   support\n\n         ok       0.97      1.00      0.98       145\n   troubled       1.00      0.91      0.95        55\n\navg / total       0.98      0.97      0.97       200\n\n"
     ]
    },
    {
     "name": "stdout",
     "output_type": "stream",
     "text": [
      "7 Train accuracy: 0.985 Test accuracy: 0.969\n[[159   0]\n [  3  38]]\n             precision    recall  f1-score   support\n\n         ok       0.98      1.00      0.99       159\n   troubled       1.00      0.93      0.96        41\n\navg / total       0.99      0.98      0.98       200\n\n"
     ]
    },
    {
     "name": "stdout",
     "output_type": "stream",
     "text": [
      "8 Train accuracy: 0.965 Test accuracy: 0.9815\n[[150   3]\n [  4  43]]\n             precision    recall  f1-score   support\n\n         ok       0.97      0.98      0.98       153\n   troubled       0.93      0.91      0.92        47\n\navg / total       0.96      0.96      0.96       200\n\n"
     ]
    },
    {
     "name": "stdout",
     "output_type": "stream",
     "text": [
      "9 Train accuracy: 0.98 Test accuracy: 0.9905\n[[162   1]\n [  3  34]]\n             precision    recall  f1-score   support\n\n         ok       0.98      0.99      0.99       163\n   troubled       0.97      0.92      0.94        37\n\navg / total       0.98      0.98      0.98       200\n\n"
     ]
    },
    {
     "name": "stdout",
     "output_type": "stream",
     "text": [
      "10 Train accuracy: 0.98 Test accuracy: 0.984\n[[154   0]\n [  4  42]]\n             precision    recall  f1-score   support\n\n         ok       0.97      1.00      0.99       154\n   troubled       1.00      0.91      0.95        46\n\navg / total       0.98      0.98      0.98       200\n\n"
     ]
    },
    {
     "name": "stdout",
     "output_type": "stream",
     "text": [
      "11 Train accuracy: 0.965 Test accuracy: 0.969\n[[157   0]\n [  7  36]]\n             precision    recall  f1-score   support\n\n         ok       0.96      1.00      0.98       157\n   troubled       1.00      0.84      0.91        43\n\navg / total       0.97      0.96      0.96       200\n\n"
     ]
    },
    {
     "name": "stdout",
     "output_type": "stream",
     "text": [
      "12 Train accuracy: 0.985 Test accuracy: 0.9895\n[[153   0]\n [  3  44]]\n             precision    recall  f1-score   support\n\n         ok       0.98      1.00      0.99       153\n   troubled       1.00      0.94      0.97        47\n\navg / total       0.99      0.98      0.98       200\n\n"
     ]
    },
    {
     "name": "stdout",
     "output_type": "stream",
     "text": [
      "13 Train accuracy: 0.97 Test accuracy: 0.964\n[[151   0]\n [  6  43]]\n             precision    recall  f1-score   support\n\n         ok       0.96      1.00      0.98       151\n   troubled       1.00      0.88      0.93        49\n\navg / total       0.97      0.97      0.97       200\n\n"
     ]
    },
    {
     "name": "stdout",
     "output_type": "stream",
     "text": [
      "14 Train accuracy: 1.0 Test accuracy: 0.9915\n[[154   0]\n [  0  46]]\n             precision    recall  f1-score   support\n\n         ok       1.00      1.00      1.00       154\n   troubled       1.00      1.00      1.00        46\n\navg / total       1.00      1.00      1.00       200\n\n"
     ]
    },
    {
     "name": "stdout",
     "output_type": "stream",
     "text": [
      "15 Train accuracy: 0.975 Test accuracy: 0.974\n[[156   1]\n [  4  39]]\n             precision    recall  f1-score   support\n\n         ok       0.97      0.99      0.98       157\n   troubled       0.97      0.91      0.94        43\n\navg / total       0.97      0.97      0.97       200\n\n"
     ]
    },
    {
     "name": "stdout",
     "output_type": "stream",
     "text": [
      "16 Train accuracy: 0.84 Test accuracy: 0.848\n[[145   0]\n [ 32  23]]\n             precision    recall  f1-score   support\n\n         ok       0.82      1.00      0.90       145\n   troubled       1.00      0.42      0.59        55\n\navg / total       0.87      0.84      0.82       200\n\n"
     ]
    },
    {
     "name": "stdout",
     "output_type": "stream",
     "text": [
      "17 Train accuracy: 0.935 Test accuracy: 0.949\n[[143   2]\n [ 11  44]]\n             precision    recall  f1-score   support\n\n         ok       0.93      0.99      0.96       145\n   troubled       0.96      0.80      0.87        55\n\navg / total       0.94      0.94      0.93       200\n\n"
     ]
    },
    {
     "name": "stdout",
     "output_type": "stream",
     "text": [
      "18 Train accuracy: 0.97 Test accuracy: 0.9715\n[[152   2]\n [  4  42]]\n             precision    recall  f1-score   support\n\n         ok       0.97      0.99      0.98       154\n   troubled       0.95      0.91      0.93        46\n\navg / total       0.97      0.97      0.97       200\n\n"
     ]
    },
    {
     "name": "stdout",
     "output_type": "stream",
     "text": [
      "19 Train accuracy: 0.98 Test accuracy: 0.973\n[[150   3]\n [  1  46]]\n             precision    recall  f1-score   support\n\n         ok       0.99      0.98      0.99       153\n   troubled       0.94      0.98      0.96        47\n\navg / total       0.98      0.98      0.98       200\n\n"
     ]
    },
    {
     "name": "stdout",
     "output_type": "stream",
     "text": [
      "20 Train accuracy: 0.97 Test accuracy: 0.979\n[[150   0]\n [  6  44]]\n             precision    recall  f1-score   support\n\n         ok       0.96      1.00      0.98       150\n   troubled       1.00      0.88      0.94        50\n\navg / total       0.97      0.97      0.97       200\n\n"
     ]
    },
    {
     "name": "stdout",
     "output_type": "stream",
     "text": [
      "21 Train accuracy: 0.975 Test accuracy: 0.9895\n[[149   1]\n [  4  46]]\n             precision    recall  f1-score   support\n\n         ok       0.97      0.99      0.98       150\n   troubled       0.98      0.92      0.95        50\n\navg / total       0.98      0.97      0.97       200\n\n"
     ]
    },
    {
     "name": "stdout",
     "output_type": "stream",
     "text": [
      "22 Train accuracy: 0.995 Test accuracy: 0.9945\n[[155   0]\n [  1  44]]\n             precision    recall  f1-score   support\n\n         ok       0.99      1.00      1.00       155\n   troubled       1.00      0.98      0.99        45\n\navg / total       1.00      0.99      0.99       200\n\n"
     ]
    },
    {
     "name": "stdout",
     "output_type": "stream",
     "text": [
      "23 Train accuracy: 0.985 Test accuracy: 0.9895\n[[164   1]\n [  2  33]]\n             precision    recall  f1-score   support\n\n         ok       0.99      0.99      0.99       165\n   troubled       0.97      0.94      0.96        35\n\navg / total       0.98      0.98      0.98       200\n\n"
     ]
    },
    {
     "name": "stdout",
     "output_type": "stream",
     "text": [
      "24 Train accuracy: 0.99 Test accuracy: 0.9845\n[[150   0]\n [  2  48]]\n             precision    recall  f1-score   support\n\n         ok       0.99      1.00      0.99       150\n   troubled       1.00      0.96      0.98        50\n\navg / total       0.99      0.99      0.99       200\n\n"
     ]
    },
    {
     "name": "stdout",
     "output_type": "stream",
     "text": [
      "25 Train accuracy: 1.0 Test accuracy: 0.982\n[[149   0]\n [  0  51]]\n             precision    recall  f1-score   support\n\n         ok       1.00      1.00      1.00       149\n   troubled       1.00      1.00      1.00        51\n\navg / total       1.00      1.00      1.00       200\n\n"
     ]
    },
    {
     "name": "stdout",
     "output_type": "stream",
     "text": [
      "26 Train accuracy: 0.545 Test accuracy: 0.5145\n[[65 89]\n [ 2 44]]\n             precision    recall  f1-score   support\n\n         ok       0.97      0.42      0.59       154\n   troubled       0.33      0.96      0.49        46\n\navg / total       0.82      0.55      0.57       200\n\n"
     ]
    },
    {
     "name": "stdout",
     "output_type": "stream",
     "text": [
      "27 Train accuracy: 0.995 Test accuracy: 0.99\n[[147   1]\n [  0  52]]\n             precision    recall  f1-score   support\n\n         ok       1.00      0.99      1.00       148\n   troubled       0.98      1.00      0.99        52\n\navg / total       1.00      0.99      1.00       200\n\n"
     ]
    },
    {
     "name": "stdout",
     "output_type": "stream",
     "text": [
      "28 Train accuracy: 1.0 Test accuracy: 0.9945\n[[154   0]\n [  0  46]]\n             precision    recall  f1-score   support\n\n         ok       1.00      1.00      1.00       154\n   troubled       1.00      1.00      1.00        46\n\navg / total       1.00      1.00      1.00       200\n\n"
     ]
    },
    {
     "name": "stdout",
     "output_type": "stream",
     "text": [
      "29 Train accuracy: 1.0 Test accuracy: 0.9985\n[[148   0]\n [  0  52]]\n             precision    recall  f1-score   support\n\n         ok       1.00      1.00      1.00       148\n   troubled       1.00      1.00      1.00        52\n\navg / total       1.00      1.00      1.00       200\n\n"
     ]
    },
    {
     "name": "stdout",
     "output_type": "stream",
     "text": [
      "30 Train accuracy: 1.0 Test accuracy: 0.996\n[[153   0]\n [  0  47]]\n             precision    recall  f1-score   support\n\n         ok       1.00      1.00      1.00       153\n   troubled       1.00      1.00      1.00        47\n\navg / total       1.00      1.00      1.00       200\n\n"
     ]
    },
    {
     "name": "stdout",
     "output_type": "stream",
     "text": [
      "31 Train accuracy: 0.995 Test accuracy: 0.9975\n[[151   0]\n [  1  48]]\n             precision    recall  f1-score   support\n\n         ok       0.99      1.00      1.00       151\n   troubled       1.00      0.98      0.99        49\n\navg / total       1.00      0.99      0.99       200\n\n"
     ]
    },
    {
     "name": "stdout",
     "output_type": "stream",
     "text": [
      "32 Train accuracy: 1.0 Test accuracy: 0.9965\n[[154   0]\n [  0  46]]\n             precision    recall  f1-score   support\n\n         ok       1.00      1.00      1.00       154\n   troubled       1.00      1.00      1.00        46\n\navg / total       1.00      1.00      1.00       200\n\n"
     ]
    },
    {
     "name": "stdout",
     "output_type": "stream",
     "text": [
      "33 Train accuracy: 1.0 Test accuracy: 0.996\n[[153   0]\n [  0  47]]\n             precision    recall  f1-score   support\n\n         ok       1.00      1.00      1.00       153\n   troubled       1.00      1.00      1.00        47\n\navg / total       1.00      1.00      1.00       200\n\n"
     ]
    },
    {
     "name": "stdout",
     "output_type": "stream",
     "text": [
      "34 Train accuracy: 1.0 Test accuracy: 0.9965\n[[152   0]\n [  0  48]]\n             precision    recall  f1-score   support\n\n         ok       1.00      1.00      1.00       152\n   troubled       1.00      1.00      1.00        48\n\navg / total       1.00      1.00      1.00       200\n\n"
     ]
    },
    {
     "name": "stdout",
     "output_type": "stream",
     "text": [
      "35 Train accuracy: 1.0 Test accuracy: 0.9985\n[[158   0]\n [  0  42]]\n             precision    recall  f1-score   support\n\n         ok       1.00      1.00      1.00       158\n   troubled       1.00      1.00      1.00        42\n\navg / total       1.00      1.00      1.00       200\n\n"
     ]
    },
    {
     "name": "stdout",
     "output_type": "stream",
     "text": [
      "36 Train accuracy: 0.995 Test accuracy: 0.998\n[[164   1]\n [  0  35]]\n             precision    recall  f1-score   support\n\n         ok       1.00      0.99      1.00       165\n   troubled       0.97      1.00      0.99        35\n\navg / total       1.00      0.99      1.00       200\n\n"
     ]
    },
    {
     "name": "stdout",
     "output_type": "stream",
     "text": [
      "37 Train accuracy: 1.0 Test accuracy: 0.9985\n[[152   0]\n [  0  48]]\n             precision    recall  f1-score   support\n\n         ok       1.00      1.00      1.00       152\n   troubled       1.00      1.00      1.00        48\n\navg / total       1.00      1.00      1.00       200\n\n"
     ]
    },
    {
     "name": "stdout",
     "output_type": "stream",
     "text": [
      "38 Train accuracy: 0.995 Test accuracy: 0.9985\n[[151   0]\n [  1  48]]\n             precision    recall  f1-score   support\n\n         ok       0.99      1.00      1.00       151\n   troubled       1.00      0.98      0.99        49\n\navg / total       1.00      0.99      0.99       200\n\n"
     ]
    },
    {
     "name": "stdout",
     "output_type": "stream",
     "text": [
      "39 Train accuracy: 1.0 Test accuracy: 0.999\n[[148   0]\n [  0  52]]\n             precision    recall  f1-score   support\n\n         ok       1.00      1.00      1.00       148\n   troubled       1.00      1.00      1.00        52\n\navg / total       1.00      1.00      1.00       200\n\n"
     ]
    },
    {
     "name": "stdout",
     "output_type": "stream",
     "text": [
      "40 Train accuracy: 1.0 Test accuracy: 0.998\n[[156   0]\n [  0  44]]\n             precision    recall  f1-score   support\n\n         ok       1.00      1.00      1.00       156\n   troubled       1.00      1.00      1.00        44\n\navg / total       1.00      1.00      1.00       200\n\n"
     ]
    },
    {
     "name": "stdout",
     "output_type": "stream",
     "text": [
      "41 Train accuracy: 0.995 Test accuracy: 0.996\n[[154   1]\n [  0  45]]\n             precision    recall  f1-score   support\n\n         ok       1.00      0.99      1.00       155\n   troubled       0.98      1.00      0.99        45\n\navg / total       1.00      0.99      1.00       200\n\n"
     ]
    },
    {
     "name": "stdout",
     "output_type": "stream",
     "text": [
      "42 Train accuracy: 0.995 Test accuracy: 0.9985\n[[158   0]\n [  1  41]]\n             precision    recall  f1-score   support\n\n         ok       0.99      1.00      1.00       158\n   troubled       1.00      0.98      0.99        42\n\navg / total       1.00      0.99      0.99       200\n\n"
     ]
    },
    {
     "name": "stdout",
     "output_type": "stream",
     "text": [
      "43 Train accuracy: 0.97 Test accuracy: 0.97\n[[128   6]\n [  0  66]]\n             precision    recall  f1-score   support\n\n         ok       1.00      0.96      0.98       134\n   troubled       0.92      1.00      0.96        66\n\navg / total       0.97      0.97      0.97       200\n\n"
     ]
    },
    {
     "name": "stdout",
     "output_type": "stream",
     "text": [
      "44 Train accuracy: 1.0 Test accuracy: 0.9935\n[[157   0]\n [  0  43]]\n             precision    recall  f1-score   support\n\n         ok       1.00      1.00      1.00       157\n   troubled       1.00      1.00      1.00        43\n\navg / total       1.00      1.00      1.00       200\n\n"
     ]
    },
    {
     "name": "stdout",
     "output_type": "stream",
     "text": [
      "45 Train accuracy: 0.99 Test accuracy: 0.9885\n[[147   1]\n [  1  51]]\n             precision    recall  f1-score   support\n\n         ok       0.99      0.99      0.99       148\n   troubled       0.98      0.98      0.98        52\n\navg / total       0.99      0.99      0.99       200\n\n"
     ]
    },
    {
     "name": "stdout",
     "output_type": "stream",
     "text": [
      "46 Train accuracy: 0.995 Test accuracy: 0.997\n[[149   0]\n [  1  50]]\n             precision    recall  f1-score   support\n\n         ok       0.99      1.00      1.00       149\n   troubled       1.00      0.98      0.99        51\n\navg / total       1.00      0.99      0.99       200\n\n"
     ]
    },
    {
     "name": "stdout",
     "output_type": "stream",
     "text": [
      "47 Train accuracy: 1.0 Test accuracy: 0.9985\n[[152   0]\n [  0  48]]\n             precision    recall  f1-score   support\n\n         ok       1.00      1.00      1.00       152\n   troubled       1.00      1.00      1.00        48\n\navg / total       1.00      1.00      1.00       200\n\n"
     ]
    },
    {
     "name": "stdout",
     "output_type": "stream",
     "text": [
      "48 Train accuracy: 1.0 Test accuracy: 0.9985\n[[160   0]\n [  0  40]]\n             precision    recall  f1-score   support\n\n         ok       1.00      1.00      1.00       160\n   troubled       1.00      1.00      1.00        40\n\navg / total       1.00      1.00      1.00       200\n\n"
     ]
    },
    {
     "name": "stdout",
     "output_type": "stream",
     "text": [
      "49 Train accuracy: 1.0 Test accuracy: 0.9975\n[[161   0]\n [  0  39]]\n             precision    recall  f1-score   support\n\n         ok       1.00      1.00      1.00       161\n   troubled       1.00      1.00      1.00        39\n\navg / total       1.00      1.00      1.00       200\n\n"
     ]
    },
    {
     "name": "stdout",
     "output_type": "stream",
     "text": [
      "50 Train accuracy: 1.0 Test accuracy: 0.9985\n[[158   0]\n [  0  42]]\n             precision    recall  f1-score   support\n\n         ok       1.00      1.00      1.00       158\n   troubled       1.00      1.00      1.00        42\n\navg / total       1.00      1.00      1.00       200\n\n"
     ]
    },
    {
     "name": "stdout",
     "output_type": "stream",
     "text": [
      "51 Train accuracy: 0.99 Test accuracy: 0.994\n[[148   2]\n [  0  50]]\n             precision    recall  f1-score   support\n\n         ok       1.00      0.99      0.99       150\n   troubled       0.96      1.00      0.98        50\n\navg / total       0.99      0.99      0.99       200\n\n"
     ]
    },
    {
     "name": "stdout",
     "output_type": "stream",
     "text": [
      "52 Train accuracy: 0.99 Test accuracy: 0.999\n[[148   0]\n [  2  50]]\n             precision    recall  f1-score   support\n\n         ok       0.99      1.00      0.99       148\n   troubled       1.00      0.96      0.98        52\n\navg / total       0.99      0.99      0.99       200\n\n"
     ]
    },
    {
     "name": "stdout",
     "output_type": "stream",
     "text": [
      "53 Train accuracy: 0.995 Test accuracy: 0.9945\n[[152   0]\n [  1  47]]\n             precision    recall  f1-score   support\n\n         ok       0.99      1.00      1.00       152\n   troubled       1.00      0.98      0.99        48\n\navg / total       1.00      0.99      0.99       200\n\n"
     ]
    },
    {
     "name": "stdout",
     "output_type": "stream",
     "text": [
      "54 Train accuracy: 1.0 Test accuracy: 0.999\n[[151   0]\n [  0  49]]\n             precision    recall  f1-score   support\n\n         ok       1.00      1.00      1.00       151\n   troubled       1.00      1.00      1.00        49\n\navg / total       1.00      1.00      1.00       200\n\n"
     ]
    },
    {
     "name": "stdout",
     "output_type": "stream",
     "text": [
      "55 Train accuracy: 1.0 Test accuracy: 0.999\n[[154   0]\n [  0  46]]\n             precision    recall  f1-score   support\n\n         ok       1.00      1.00      1.00       154\n   troubled       1.00      1.00      1.00        46\n\navg / total       1.00      1.00      1.00       200\n\n"
     ]
    },
    {
     "name": "stdout",
     "output_type": "stream",
     "text": [
      "56 Train accuracy: 0.815 Test accuracy: 0.7985\n[[159   0]\n [ 37   4]]\n             precision    recall  f1-score   support\n\n         ok       0.81      1.00      0.90       159\n   troubled       1.00      0.10      0.18        41\n\navg / total       0.85      0.81      0.75       200\n\n"
     ]
    },
    {
     "name": "stdout",
     "output_type": "stream",
     "text": [
      "57 Train accuracy: 1.0 Test accuracy: 0.9865\n[[153   0]\n [  0  47]]\n             precision    recall  f1-score   support\n\n         ok       1.00      1.00      1.00       153\n   troubled       1.00      1.00      1.00        47\n\navg / total       1.00      1.00      1.00       200\n\n"
     ]
    },
    {
     "name": "stdout",
     "output_type": "stream",
     "text": [
      "58 Train accuracy: 0.995 Test accuracy: 0.9975\n[[144   0]\n [  1  55]]\n             precision    recall  f1-score   support\n\n         ok       0.99      1.00      1.00       144\n   troubled       1.00      0.98      0.99        56\n\navg / total       1.00      0.99      0.99       200\n\n"
     ]
    },
    {
     "name": "stdout",
     "output_type": "stream",
     "text": [
      "59 Train accuracy: 1.0 Test accuracy: 0.998\n[[161   0]\n [  0  39]]\n             precision    recall  f1-score   support\n\n         ok       1.00      1.00      1.00       161\n   troubled       1.00      1.00      1.00        39\n\navg / total       1.00      1.00      1.00       200\n\n"
     ]
    },
    {
     "name": "stdout",
     "output_type": "stream",
     "text": [
      "60 Train accuracy: 1.0 Test accuracy: 0.9985\n[[158   0]\n [  0  42]]\n             precision    recall  f1-score   support\n\n         ok       1.00      1.00      1.00       158\n   troubled       1.00      1.00      1.00        42\n\navg / total       1.00      1.00      1.00       200\n\n"
     ]
    },
    {
     "name": "stdout",
     "output_type": "stream",
     "text": [
      "61 Train accuracy: 1.0 Test accuracy: 0.9935\n[[154   0]\n [  0  46]]\n             precision    recall  f1-score   support\n\n         ok       1.00      1.00      1.00       154\n   troubled       1.00      1.00      1.00        46\n\navg / total       1.00      1.00      1.00       200\n\n"
     ]
    },
    {
     "name": "stdout",
     "output_type": "stream",
     "text": [
      "62 Train accuracy: 0.995 Test accuracy: 0.996\n[[148   1]\n [  0  51]]\n             precision    recall  f1-score   support\n\n         ok       1.00      0.99      1.00       149\n   troubled       0.98      1.00      0.99        51\n\navg / total       1.00      0.99      1.00       200\n\n"
     ]
    },
    {
     "name": "stdout",
     "output_type": "stream",
     "text": [
      "63 Train accuracy: 1.0 Test accuracy: 0.9985\n[[149   0]\n [  0  51]]\n             precision    recall  f1-score   support\n\n         ok       1.00      1.00      1.00       149\n   troubled       1.00      1.00      1.00        51\n\navg / total       1.00      1.00      1.00       200\n\n"
     ]
    },
    {
     "name": "stdout",
     "output_type": "stream",
     "text": [
      "64 Train accuracy: 1.0 Test accuracy: 0.9965\n[[152   0]\n [  0  48]]\n             precision    recall  f1-score   support\n\n         ok       1.00      1.00      1.00       152\n   troubled       1.00      1.00      1.00        48\n\navg / total       1.00      1.00      1.00       200\n\n"
     ]
    },
    {
     "name": "stdout",
     "output_type": "stream",
     "text": [
      "65 Train accuracy: 0.99 Test accuracy: 0.997\n[[160   0]\n [  2  38]]\n             precision    recall  f1-score   support\n\n         ok       0.99      1.00      0.99       160\n   troubled       1.00      0.95      0.97        40\n\navg / total       0.99      0.99      0.99       200\n\n"
     ]
    },
    {
     "name": "stdout",
     "output_type": "stream",
     "text": [
      "66 Train accuracy: 1.0 Test accuracy: 0.9995\n[[158   0]\n [  0  42]]\n             precision    recall  f1-score   support\n\n         ok       1.00      1.00      1.00       158\n   troubled       1.00      1.00      1.00        42\n\navg / total       1.00      1.00      1.00       200\n\n"
     ]
    },
    {
     "name": "stdout",
     "output_type": "stream",
     "text": [
      "67 Train accuracy: 1.0 Test accuracy: 0.9995\n[[169   0]\n [  0  31]]\n             precision    recall  f1-score   support\n\n         ok       1.00      1.00      1.00       169\n   troubled       1.00      1.00      1.00        31\n\navg / total       1.00      1.00      1.00       200\n\n"
     ]
    },
    {
     "name": "stdout",
     "output_type": "stream",
     "text": [
      "68 Train accuracy: 1.0 Test accuracy: 0.999\n[[153   0]\n [  0  47]]\n             precision    recall  f1-score   support\n\n         ok       1.00      1.00      1.00       153\n   troubled       1.00      1.00      1.00        47\n\navg / total       1.00      1.00      1.00       200\n\n"
     ]
    },
    {
     "name": "stdout",
     "output_type": "stream",
     "text": [
      "69 Train accuracy: 1.0 Test accuracy: 0.9985\n[[154   0]\n [  0  46]]\n             precision    recall  f1-score   support\n\n         ok       1.00      1.00      1.00       154\n   troubled       1.00      1.00      1.00        46\n\navg / total       1.00      1.00      1.00       200\n\n"
     ]
    },
    {
     "name": "stdout",
     "output_type": "stream",
     "text": [
      "70 Train accuracy: 1.0 Test accuracy: 0.999\n[[154   0]\n [  0  46]]\n             precision    recall  f1-score   support\n\n         ok       1.00      1.00      1.00       154\n   troubled       1.00      1.00      1.00        46\n\navg / total       1.00      1.00      1.00       200\n\n"
     ]
    },
    {
     "name": "stdout",
     "output_type": "stream",
     "text": [
      "71 Train accuracy: 1.0 Test accuracy: 0.999\n[[150   0]\n [  0  50]]\n             precision    recall  f1-score   support\n\n         ok       1.00      1.00      1.00       150\n   troubled       1.00      1.00      1.00        50\n\navg / total       1.00      1.00      1.00       200\n\n"
     ]
    },
    {
     "name": "stdout",
     "output_type": "stream",
     "text": [
      "72 Train accuracy: 1.0 Test accuracy: 0.9965\n[[153   0]\n [  0  47]]\n             precision    recall  f1-score   support\n\n         ok       1.00      1.00      1.00       153\n   troubled       1.00      1.00      1.00        47\n\navg / total       1.00      1.00      1.00       200\n\n"
     ]
    },
    {
     "name": "stdout",
     "output_type": "stream",
     "text": [
      "73 Train accuracy: 1.0 Test accuracy: 0.9985\n[[145   0]\n [  0  55]]\n             precision    recall  f1-score   support\n\n         ok       1.00      1.00      1.00       145\n   troubled       1.00      1.00      1.00        55\n\navg / total       1.00      1.00      1.00       200\n\n"
     ]
    },
    {
     "name": "stdout",
     "output_type": "stream",
     "text": [
      "74 Train accuracy: 1.0 Test accuracy: 0.9995\n[[154   0]\n [  0  46]]\n             precision    recall  f1-score   support\n\n         ok       1.00      1.00      1.00       154\n   troubled       1.00      1.00      1.00        46\n\navg / total       1.00      1.00      1.00       200\n\n"
     ]
    },
    {
     "name": "stdout",
     "output_type": "stream",
     "text": [
      "75 Train accuracy: 1.0 Test accuracy: 0.999\n[[159   0]\n [  0  41]]\n             precision    recall  f1-score   support\n\n         ok       1.00      1.00      1.00       159\n   troubled       1.00      1.00      1.00        41\n\navg / total       1.00      1.00      1.00       200\n\n"
     ]
    },
    {
     "name": "stdout",
     "output_type": "stream",
     "text": [
      "76 Train accuracy: 1.0 Test accuracy: 0.9995\n[[153   0]\n [  0  47]]\n             precision    recall  f1-score   support\n\n         ok       1.00      1.00      1.00       153\n   troubled       1.00      1.00      1.00        47\n\navg / total       1.00      1.00      1.00       200\n\n"
     ]
    },
    {
     "name": "stdout",
     "output_type": "stream",
     "text": [
      "77 Train accuracy: 1.0 Test accuracy: 0.9975\n[[153   0]\n [  0  47]]\n             precision    recall  f1-score   support\n\n         ok       1.00      1.00      1.00       153\n   troubled       1.00      1.00      1.00        47\n\navg / total       1.00      1.00      1.00       200\n\n"
     ]
    },
    {
     "name": "stdout",
     "output_type": "stream",
     "text": [
      "78 Train accuracy: 0.77 Test accuracy: 0.8\n[[115  44]\n [  2  39]]\n             precision    recall  f1-score   support\n\n         ok       0.98      0.72      0.83       159\n   troubled       0.47      0.95      0.63        41\n\navg / total       0.88      0.77      0.79       200\n\n"
     ]
    },
    {
     "name": "stdout",
     "output_type": "stream",
     "text": [
      "79 Train accuracy: 1.0 Test accuracy: 0.9935\n[[154   0]\n [  0  46]]\n             precision    recall  f1-score   support\n\n         ok       1.00      1.00      1.00       154\n   troubled       1.00      1.00      1.00        46\n\navg / total       1.00      1.00      1.00       200\n\n"
     ]
    },
    {
     "name": "stdout",
     "output_type": "stream",
     "text": [
      "80 Train accuracy: 0.945 Test accuracy: 0.9375\n[[158   0]\n [ 11  31]]\n             precision    recall  f1-score   support\n\n         ok       0.93      1.00      0.97       158\n   troubled       1.00      0.74      0.85        42\n\navg / total       0.95      0.94      0.94       200\n\n"
     ]
    },
    {
     "name": "stdout",
     "output_type": "stream",
     "text": [
      "81 Train accuracy: 1.0 Test accuracy: 0.9945\n[[155   0]\n [  0  45]]\n             precision    recall  f1-score   support\n\n         ok       1.00      1.00      1.00       155\n   troubled       1.00      1.00      1.00        45\n\navg / total       1.00      1.00      1.00       200\n\n"
     ]
    },
    {
     "name": "stdout",
     "output_type": "stream",
     "text": [
      "82 Train accuracy: 0.99 Test accuracy: 0.9965\n[[151   2]\n [  0  47]]\n             precision    recall  f1-score   support\n\n         ok       1.00      0.99      0.99       153\n   troubled       0.96      1.00      0.98        47\n\navg / total       0.99      0.99      0.99       200\n\n"
     ]
    },
    {
     "name": "stdout",
     "output_type": "stream",
     "text": [
      "83 Train accuracy: 0.995 Test accuracy: 0.999\n[[162   0]\n [  1  37]]\n             precision    recall  f1-score   support\n\n         ok       0.99      1.00      1.00       162\n   troubled       1.00      0.97      0.99        38\n\navg / total       1.00      0.99      0.99       200\n\n"
     ]
    },
    {
     "name": "stdout",
     "output_type": "stream",
     "text": [
      "84 Train accuracy: 1.0 Test accuracy: 0.9975\n[[157   0]\n [  0  43]]\n             precision    recall  f1-score   support\n\n         ok       1.00      1.00      1.00       157\n   troubled       1.00      1.00      1.00        43\n\navg / total       1.00      1.00      1.00       200\n\n"
     ]
    },
    {
     "name": "stdout",
     "output_type": "stream",
     "text": [
      "85 Train accuracy: 1.0 Test accuracy: 0.9985\n[[155   0]\n [  0  45]]\n             precision    recall  f1-score   support\n\n         ok       1.00      1.00      1.00       155\n   troubled       1.00      1.00      1.00        45\n\navg / total       1.00      1.00      1.00       200\n\n"
     ]
    },
    {
     "name": "stdout",
     "output_type": "stream",
     "text": [
      "86 Train accuracy: 1.0 Test accuracy: 0.9995\n[[150   0]\n [  0  50]]\n             precision    recall  f1-score   support\n\n         ok       1.00      1.00      1.00       150\n   troubled       1.00      1.00      1.00        50\n\navg / total       1.00      1.00      1.00       200\n\n"
     ]
    },
    {
     "name": "stdout",
     "output_type": "stream",
     "text": [
      "87 Train accuracy: 1.0 Test accuracy: 0.9985\n[[162   0]\n [  0  38]]\n             precision    recall  f1-score   support\n\n         ok       1.00      1.00      1.00       162\n   troubled       1.00      1.00      1.00        38\n\navg / total       1.00      1.00      1.00       200\n\n"
     ]
    },
    {
     "name": "stdout",
     "output_type": "stream",
     "text": [
      "88 Train accuracy: 1.0 Test accuracy: 0.9995\n[[149   0]\n [  0  51]]\n             precision    recall  f1-score   support\n\n         ok       1.00      1.00      1.00       149\n   troubled       1.00      1.00      1.00        51\n\navg / total       1.00      1.00      1.00       200\n\n"
     ]
    },
    {
     "name": "stdout",
     "output_type": "stream",
     "text": [
      "89 Train accuracy: 1.0 Test accuracy: 0.996\n[[154   0]\n [  0  46]]\n             precision    recall  f1-score   support\n\n         ok       1.00      1.00      1.00       154\n   troubled       1.00      1.00      1.00        46\n\navg / total       1.00      1.00      1.00       200\n\n"
     ]
    },
    {
     "name": "stdout",
     "output_type": "stream",
     "text": [
      "90 Train accuracy: 1.0 Test accuracy: 0.9995\n[[145   0]\n [  0  55]]\n             precision    recall  f1-score   support\n\n         ok       1.00      1.00      1.00       145\n   troubled       1.00      1.00      1.00        55\n\navg / total       1.00      1.00      1.00       200\n\n"
     ]
    },
    {
     "name": "stdout",
     "output_type": "stream",
     "text": [
      "91 Train accuracy: 0.995 Test accuracy: 0.998\n[[154   1]\n [  0  45]]\n             precision    recall  f1-score   support\n\n         ok       1.00      0.99      1.00       155\n   troubled       0.98      1.00      0.99        45\n\navg / total       1.00      0.99      1.00       200\n\n"
     ]
    },
    {
     "name": "stdout",
     "output_type": "stream",
     "text": [
      "92 Train accuracy: 1.0 Test accuracy: 0.997\n[[159   0]\n [  0  41]]\n             precision    recall  f1-score   support\n\n         ok       1.00      1.00      1.00       159\n   troubled       1.00      1.00      1.00        41\n\navg / total       1.00      1.00      1.00       200\n\n"
     ]
    },
    {
     "name": "stdout",
     "output_type": "stream",
     "text": [
      "93 Train accuracy: 1.0 Test accuracy: 0.9995\n[[156   0]\n [  0  44]]\n             precision    recall  f1-score   support\n\n         ok       1.00      1.00      1.00       156\n   troubled       1.00      1.00      1.00        44\n\navg / total       1.00      1.00      1.00       200\n\n"
     ]
    },
    {
     "name": "stdout",
     "output_type": "stream",
     "text": [
      "94 Train accuracy: 1.0 Test accuracy: 0.997\n[[142   0]\n [  0  58]]\n             precision    recall  f1-score   support\n\n         ok       1.00      1.00      1.00       142\n   troubled       1.00      1.00      1.00        58\n\navg / total       1.00      1.00      1.00       200\n\n"
     ]
    },
    {
     "name": "stdout",
     "output_type": "stream",
     "text": [
      "95 Train accuracy: 1.0 Test accuracy: 0.9985\n[[155   0]\n [  0  45]]\n             precision    recall  f1-score   support\n\n         ok       1.00      1.00      1.00       155\n   troubled       1.00      1.00      1.00        45\n\navg / total       1.00      1.00      1.00       200\n\n"
     ]
    },
    {
     "name": "stdout",
     "output_type": "stream",
     "text": [
      "96 Train accuracy: 1.0 Test accuracy: 0.9995\n[[151   0]\n [  0  49]]\n             precision    recall  f1-score   support\n\n         ok       1.00      1.00      1.00       151\n   troubled       1.00      1.00      1.00        49\n\navg / total       1.00      1.00      1.00       200\n\n"
     ]
    },
    {
     "name": "stdout",
     "output_type": "stream",
     "text": [
      "97 Train accuracy: 1.0 Test accuracy: 0.9995\n[[149   0]\n [  0  51]]\n             precision    recall  f1-score   support\n\n         ok       1.00      1.00      1.00       149\n   troubled       1.00      1.00      1.00        51\n\navg / total       1.00      1.00      1.00       200\n\n"
     ]
    },
    {
     "name": "stdout",
     "output_type": "stream",
     "text": [
      "98 Train accuracy: 1.0 Test accuracy: 0.999\n[[162   0]\n [  0  38]]\n             precision    recall  f1-score   support\n\n         ok       1.00      1.00      1.00       162\n   troubled       1.00      1.00      1.00        38\n\navg / total       1.00      1.00      1.00       200\n\n"
     ]
    },
    {
     "name": "stdout",
     "output_type": "stream",
     "text": [
      "99 Train accuracy: 1.0 Test accuracy: 0.999\n[[151   0]\n [  0  49]]\n             precision    recall  f1-score   support\n\n         ok       1.00      1.00      1.00       151\n   troubled       1.00      1.00      1.00        49\n\navg / total       1.00      1.00      1.00       200\n\n"
     ]
    }
   ],
   "source": [
    "from sklearn.metrics import classification_report\n",
    "from sklearn.metrics import confusion_matrix\n",
    "\n",
    "n_epochs = 100\n",
    "batch_size = 200\n",
    "\n",
    "train_data = sf.TrainDataSet(train_labels=train_labels, train_features=train_features, train_seq_lengths=train_seq_lengths)\n",
    "\n",
    "with tf.Session() as sess:\n",
    "    init.run()\n",
    "    for epoch in range(n_epochs):\n",
    "        for i in range(train_data.num_examples // batch_size):\n",
    "            y_batch, X_batch, seq_length_batch = train_data.next_batch(batch_size)\n",
    "            \n",
    "            sess.run(training_op, feed_dict={X: X_batch, y: y_batch, seq_length: seq_length_batch})\n",
    "\n",
    "        y_train_pred = y_pred.eval(feed_dict={X: X_batch, y: y_batch, seq_length: seq_length_batch})\n",
    "        y_test_pred = y_pred.eval(feed_dict={X: test_features, y: test_labels, seq_length: test_seq_lengths})\n",
    "        acc_train = accuracy.eval(feed_dict={X: X_batch, y: y_batch, seq_length: seq_length_batch})\n",
    "        acc_test = accuracy.eval(feed_dict={X: test_features, y: test_labels, seq_length: test_seq_lengths})\n",
    "\n",
    "        print(epoch, \"Train accuracy:\", acc_train, \"Test accuracy:\", acc_test)\n",
    "        print(confusion_matrix(y_batch, y_train_pred))\n",
    "        print(classification_report(y_batch, y_train_pred, target_names=['ok', 'troubled']))\n",
    "\n",
    "        loss_summary_str = loss_summary.eval(feed_dict={X: X_batch, y: y_batch, seq_length: seq_length_batch})\n",
    "        accuracy_summary_str = accuracy_summary.eval(feed_dict={X: test_features, y: test_labels, seq_length: test_seq_lengths})\n",
    "        file_writer.add_summary(loss_summary_str, epoch)\n",
    "        file_writer.add_summary(accuracy_summary_str, epoch)\n",
    "\n",
    "file_writer.close()"
   ]
  },
  {
   "cell_type": "code",
   "execution_count": null,
   "metadata": {},
   "outputs": [],
   "source": []
  }
 ],
 "metadata": {
  "kernelspec": {
   "display_name": "Python 2",
   "language": "python",
   "name": "python2"
  },
  "language_info": {
   "codemirror_mode": {
    "name": "ipython",
    "version": 2
   },
   "file_extension": ".py",
   "mimetype": "text/x-python",
   "name": "python",
   "nbconvert_exporter": "python",
   "pygments_lexer": "ipython2",
   "version": "2.7.6"
  }
 },
 "nbformat": 4,
 "nbformat_minor": 0
}
