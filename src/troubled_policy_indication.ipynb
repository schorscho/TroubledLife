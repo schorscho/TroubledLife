{
 "cells": [
  {
   "cell_type": "code",
   "execution_count": 13,
   "metadata": {
    "collapsed": true
   },
   "outputs": [],
   "source": [
    "import support_functions as sf\n",
    "\n",
    "sf.generate_very_simple_portfolio_history(no_of_policies=10000, runtime=5)"
   ]
  },
  {
   "cell_type": "code",
   "execution_count": 14,
   "metadata": {},
   "outputs": [],
   "source": [
    "policy_histories = sf.load_troubled_life_policy_data()\n",
    "#policy_histories"
   ]
  },
  {
   "cell_type": "code",
   "execution_count": 15,
   "metadata": {},
   "outputs": [],
   "source": [
    "policy_histories, history_lengths, max_history_length = sf.prepare_troubled_life_policy_data(policy_histories=policy_histories)\n",
    "#policy_histories\n"
   ]
  },
  {
   "cell_type": "code",
   "execution_count": 16,
   "metadata": {},
   "outputs": [],
   "source": [
    "# Extract features and labels from dataset as numpy.ndarray(s)\n",
    "policy_histories_labels = policy_histories['troubled'].as_matrix()\n",
    "policy_histories_features = policy_histories[['premium', 'current_capital']].as_matrix()\n",
    "\n",
    "# Reshape features from (overall_no_of_histories, 2) to (overall_no_of_policies, maximum_history_length, 2)\n",
    "policy_histories_features = policy_histories_features.reshape((policy_histories.index.levels[0].shape[0], max_history_length, -1))\n",
    "\n",
    "# Reshape labels from (overall_no_of_histories) to (overall_no_of_policies, maximum_history_length) and take maximum of each row (0 or 1)\n",
    "policy_histories_labels = policy_histories_labels.reshape(policy_histories.index.levels[0].shape[0], -1).max(axis=1)\n",
    "\n",
    "history_lengths = history_lengths[:,1]\n",
    "\n",
    "#policy_histories_features, policy_histories_labels, history_lengths"
   ]
  },
  {
   "cell_type": "code",
   "execution_count": 17,
   "metadata": {},
   "outputs": [],
   "source": [
    "import tensorflow as tf\n",
    "\n",
    "tf.reset_default_graph()\n",
    "tf.set_random_seed(42)\n",
    "\n",
    "n_steps = max_history_length\n",
    "n_inputs = 2\n",
    "\n",
    "n_neurons = 100\n",
    "n_outputs = 2\n",
    "\n",
    "learning_rate = 0.001\n",
    "\n",
    "# Placeholders for our input sequences\n",
    "seq_length = tf.placeholder(tf.int32, [None])\n",
    "X = tf.placeholder(tf.float32, [None, n_steps, n_inputs])\n",
    "y = tf.placeholder(tf.int32, [None])\n",
    "\n",
    "# A single RNN layer of n_neurons neurons\n",
    "basic_cell = tf.contrib.rnn.BasicRNNCell(num_units=n_neurons, activation=tf.nn.relu)\n",
    "outputs, states = tf.nn.dynamic_rnn(basic_cell, X, dtype=tf.float32, sequence_length=seq_length)\n",
    "\n",
    "# We feed the layer's output of the last timestep into a fully connected layer of 2 neurons\n",
    "# (1 per class, troubled or not). Softmax layer is next\n",
    "logits = tf.layers.dense(states, n_outputs)\n",
    "y_pred = tf.argmax(tf.nn.softmax(logits), axis=1)\n",
    "xentropy = tf.nn.sparse_softmax_cross_entropy_with_logits(labels=y, logits=logits)\n",
    "#xentropy = y - y_pred\n",
    "#xentropy = tf.abs(xentropy)\n",
    "\n",
    "# Loss function and Adam Optimizer\n",
    "loss = tf.reduce_mean(tf.cast(xentropy, tf.float32))\n",
    "optimizer = tf.train.AdamOptimizer(learning_rate=learning_rate)\n",
    "training_op = optimizer.minimize(loss)\n",
    "\n",
    "correct = tf.nn.in_top_k(logits, y, 1)\n",
    "accuracy = tf.reduce_mean(tf.cast(correct, tf.float32))\n",
    "\n",
    "init = tf.global_variables_initializer()\n"
   ]
  },
  {
   "cell_type": "code",
   "execution_count": 19,
   "metadata": {},
   "outputs": [
    {
     "name": "stdout",
     "output_type": "stream",
     "text": [
      "0 Train accuracy: 0.776\n358.37\n[[776   0]\n [224   0]]\n             precision    recall  f1-score   support\n\n         ok       0.78      1.00      0.87       776\n   troubled       0.00      0.00      0.00       224\n\navg / total       0.60      0.78      0.68      1000\n\n1 Train accuracy: 0.776\n50.6838\n[[776   0]\n [224   0]]\n             precision    recall  f1-score   support\n\n         ok       0.78      1.00      0.87       776\n   troubled       0.00      0.00      0.00       224\n\navg / total       0.60      0.78      0.68      1000\n\n"
     ]
    },
    {
     "name": "stderr",
     "output_type": "stream",
     "text": [
      "/Users/gopora/MyStuff/Dev/miniconda3/envs/pie35/lib/python3.5/site-packages/sklearn/metrics/classification.py:1113: UndefinedMetricWarning: Precision and F-score are ill-defined and being set to 0.0 in labels with no predicted samples.\n  'precision', 'predicted', average, warn_for)\n"
     ]
    },
    {
     "name": "stdout",
     "output_type": "stream",
     "text": [
      "2 Train accuracy: 0.776\n29.3997\n[[776   0]\n [224   0]]\n             precision    recall  f1-score   support\n\n         ok       0.78      1.00      0.87       776\n   troubled       0.00      0.00      0.00       224\n\navg / total       0.60      0.78      0.68      1000\n\n3 Train accuracy: 0.179\n25.724\n[[  0 776]\n [ 45 179]]\n             precision    recall  f1-score   support\n\n         ok       0.00      0.00      0.00       776\n   troubled       0.19      0.80      0.30       224\n\navg / total       0.04      0.18      0.07      1000\n\n4 Train accuracy: 0.866\n3.6167\n[[776   0]\n [134  90]]\n             precision    recall  f1-score   support\n\n         ok       0.85      1.00      0.92       776\n   troubled       1.00      0.40      0.57       224\n\navg / total       0.89      0.87      0.84      1000\n\n"
     ]
    },
    {
     "name": "stdout",
     "output_type": "stream",
     "text": [
      "5 Train accuracy: 0.866\n3.85846\n[[776   0]\n [134  90]]\n             precision    recall  f1-score   support\n\n         ok       0.85      1.00      0.92       776\n   troubled       1.00      0.40      0.57       224\n\navg / total       0.89      0.87      0.84      1000\n\n6 Train accuracy: 0.868\n3.10776\n[[776   0]\n [132  92]]\n             precision    recall  f1-score   support\n\n         ok       0.85      1.00      0.92       776\n   troubled       1.00      0.41      0.58       224\n\navg / total       0.89      0.87      0.85      1000\n\n7 Train accuracy: 0.867\n3.49948\n[[776   0]\n [133  91]]\n             precision    recall  f1-score   support\n\n         ok       0.85      1.00      0.92       776\n   troubled       1.00      0.41      0.58       224\n\navg / total       0.89      0.87      0.84      1000\n\n"
     ]
    },
    {
     "name": "stdout",
     "output_type": "stream",
     "text": [
      "8 Train accuracy: 0.868\n3.33258\n[[776   0]\n [132  92]]\n             precision    recall  f1-score   support\n\n         ok       0.85      1.00      0.92       776\n   troubled       1.00      0.41      0.58       224\n\navg / total       0.89      0.87      0.85      1000\n\n9 Train accuracy: 0.868\n3.1688\n[[776   0]\n [132  92]]\n             precision    recall  f1-score   support\n\n         ok       0.85      1.00      0.92       776\n   troubled       1.00      0.41      0.58       224\n\navg / total       0.89      0.87      0.85      1000\n\n10 Train accuracy: 0.868\n3.22825\n[[776   0]\n [132  92]]\n             precision    recall  f1-score   support\n\n         ok       0.85      1.00      0.92       776\n   troubled       1.00      0.41      0.58       224\n\navg / total       0.89      0.87      0.85      1000\n\n"
     ]
    },
    {
     "name": "stdout",
     "output_type": "stream",
     "text": [
      "11 Train accuracy: 0.878\n3.06236\n[[776   0]\n [122 102]]\n             precision    recall  f1-score   support\n\n         ok       0.86      1.00      0.93       776\n   troubled       1.00      0.46      0.63       224\n\navg / total       0.89      0.88      0.86      1000\n\n12 Train accuracy: 0.878\n3.05842\n[[776   0]\n [122 102]]\n             precision    recall  f1-score   support\n\n         ok       0.86      1.00      0.93       776\n   troubled       1.00      0.46      0.63       224\n\navg / total       0.89      0.88      0.86      1000\n\n13 Train accuracy: 0.883\n2.96118\n[[776   0]\n [117 107]]\n             precision    recall  f1-score   support\n\n         ok       0.87      1.00      0.93       776\n   troubled       1.00      0.48      0.65       224\n\navg / total       0.90      0.88      0.87      1000\n\n"
     ]
    },
    {
     "name": "stdout",
     "output_type": "stream",
     "text": [
      "14 Train accuracy: 0.885\n2.91054\n[[776   0]\n [115 109]]\n             precision    recall  f1-score   support\n\n         ok       0.87      1.00      0.93       776\n   troubled       1.00      0.49      0.65       224\n\navg / total       0.90      0.89      0.87      1000\n\n15 Train accuracy: 0.892\n2.78367\n[[776   0]\n [108 116]]\n             precision    recall  f1-score   support\n\n         ok       0.88      1.00      0.93       776\n   troubled       1.00      0.52      0.68       224\n\navg / total       0.91      0.89      0.88      1000\n\n16 Train accuracy: 0.897\n2.63098\n[[776   0]\n [103 121]]\n             precision    recall  f1-score   support\n\n         ok       0.88      1.00      0.94       776\n   troubled       1.00      0.54      0.70       224\n\navg / total       0.91      0.90      0.88      1000\n\n"
     ]
    },
    {
     "name": "stdout",
     "output_type": "stream",
     "text": [
      "17 Train accuracy: 0.91\n2.37216\n[[776   0]\n [ 90 134]]\n             precision    recall  f1-score   support\n\n         ok       0.90      1.00      0.95       776\n   troubled       1.00      0.60      0.75       224\n\navg / total       0.92      0.91      0.90      1000\n\n18 Train accuracy: 0.91\n2.35139\n[[776   0]\n [ 90 134]]\n             precision    recall  f1-score   support\n\n         ok       0.90      1.00      0.95       776\n   troubled       1.00      0.60      0.75       224\n\navg / total       0.92      0.91      0.90      1000\n\n19 Train accuracy: 0.924\n1.71045\n[[776   0]\n [ 76 148]]\n             precision    recall  f1-score   support\n\n         ok       0.91      1.00      0.95       776\n   troubled       1.00      0.66      0.80       224\n\navg / total       0.93      0.92      0.92      1000\n\n"
     ]
    },
    {
     "name": "stdout",
     "output_type": "stream",
     "text": [
      "20 Train accuracy: 0.886\n2.91571\n[[776   0]\n [114 110]]\n             precision    recall  f1-score   support\n\n         ok       0.87      1.00      0.93       776\n   troubled       1.00      0.49      0.66       224\n\navg / total       0.90      0.89      0.87      1000\n\n21 Train accuracy: 0.179\n3.12331\n[[  0 776]\n [ 45 179]]\n             precision    recall  f1-score   support\n\n         ok       0.00      0.00      0.00       776\n   troubled       0.19      0.80      0.30       224\n\navg / total       0.04      0.18      0.07      1000\n\n22 Train accuracy: 0.871\n3.40806\n[[776   0]\n [129  95]]\n             precision    recall  f1-score   support\n\n         ok       0.86      1.00      0.92       776\n   troubled       1.00      0.42      0.60       224\n\navg / total       0.89      0.87      0.85      1000\n\n"
     ]
    },
    {
     "name": "stdout",
     "output_type": "stream",
     "text": [
      "23 Train accuracy: 0.884\n2.94106\n[[776   0]\n [116 108]]\n             precision    recall  f1-score   support\n\n         ok       0.87      1.00      0.93       776\n   troubled       1.00      0.48      0.65       224\n\navg / total       0.90      0.88      0.87      1000\n\n24 Train accuracy: 0.955\n1.18609\n[[776   0]\n [ 45 179]]\n             precision    recall  f1-score   support\n\n         ok       0.95      1.00      0.97       776\n   troubled       1.00      0.80      0.89       224\n\navg / total       0.96      0.95      0.95      1000\n\n25 Train accuracy: 0.955\n1.10846\n[[776   0]\n [ 45 179]]\n             precision    recall  f1-score   support\n\n         ok       0.95      1.00      0.97       776\n   troubled       1.00      0.80      0.89       224\n\navg / total       0.96      0.95      0.95      1000\n\n"
     ]
    },
    {
     "name": "stdout",
     "output_type": "stream",
     "text": [
      "26 Train accuracy: 0.956\n1.0561\n[[776   0]\n [ 44 180]]\n             precision    recall  f1-score   support\n\n         ok       0.95      1.00      0.97       776\n   troubled       1.00      0.80      0.89       224\n\navg / total       0.96      0.96      0.95      1000\n\n27 Train accuracy: 0.956\n0.971642\n[[776   0]\n [ 44 180]]\n             precision    recall  f1-score   support\n\n         ok       0.95      1.00      0.97       776\n   troubled       1.00      0.80      0.89       224\n\navg / total       0.96      0.96      0.95      1000\n\n28 Train accuracy: 0.956\n0.878584\n[[776   0]\n [ 44 180]]\n             precision    recall  f1-score   support\n\n         ok       0.95      1.00      0.97       776\n   troubled       1.00      0.80      0.89       224\n\navg / total       0.96      0.96      0.95      1000\n\n"
     ]
    },
    {
     "name": "stdout",
     "output_type": "stream",
     "text": [
      "29 Train accuracy: 0.956\n0.990622\n[[776   0]\n [ 44 180]]\n             precision    recall  f1-score   support\n\n         ok       0.95      1.00      0.97       776\n   troubled       1.00      0.80      0.89       224\n\navg / total       0.96      0.96      0.95      1000\n\n30 Train accuracy: 0.904\n1.79946\n[[776   0]\n [ 96 128]]\n             precision    recall  f1-score   support\n\n         ok       0.89      1.00      0.94       776\n   troubled       1.00      0.57      0.73       224\n\navg / total       0.91      0.90      0.89      1000\n\n31 Train accuracy: 0.934\n0.870133\n[[776   0]\n [ 66 158]]\n             precision    recall  f1-score   support\n\n         ok       0.92      1.00      0.96       776\n   troubled       1.00      0.71      0.83       224\n\navg / total       0.94      0.93      0.93      1000\n\n"
     ]
    },
    {
     "name": "stdout",
     "output_type": "stream",
     "text": [
      "32 Train accuracy: 0.924\n0.890159\n[[776   0]\n [ 76 148]]\n             precision    recall  f1-score   support\n\n         ok       0.91      1.00      0.95       776\n   troubled       1.00      0.66      0.80       224\n\navg / total       0.93      0.92      0.92      1000\n\n33 Train accuracy: 0.886\n2.28091\n[[776   0]\n [114 110]]\n             precision    recall  f1-score   support\n\n         ok       0.87      1.00      0.93       776\n   troubled       1.00      0.49      0.66       224\n\navg / total       0.90      0.89      0.87      1000\n\n34 Train accuracy: 0.872\n3.02159\n[[776   0]\n [128  96]]\n             precision    recall  f1-score   support\n\n         ok       0.86      1.00      0.92       776\n   troubled       1.00      0.43      0.60       224\n\navg / total       0.89      0.87      0.85      1000\n\n"
     ]
    },
    {
     "name": "stdout",
     "output_type": "stream",
     "text": [
      "35 Train accuracy: 0.958\n0.324869\n[[776   0]\n [ 42 182]]\n             precision    recall  f1-score   support\n\n         ok       0.95      1.00      0.97       776\n   troubled       1.00      0.81      0.90       224\n\navg / total       0.96      0.96      0.96      1000\n\n36 Train accuracy: 0.958\n0.271443\n[[776   0]\n [ 42 182]]\n             precision    recall  f1-score   support\n\n         ok       0.95      1.00      0.97       776\n   troubled       1.00      0.81      0.90       224\n\navg / total       0.96      0.96      0.96      1000\n\n37 Train accuracy: 0.953\n0.312197\n[[776   0]\n [ 47 177]]\n             precision    recall  f1-score   support\n\n         ok       0.94      1.00      0.97       776\n   troubled       1.00      0.79      0.88       224\n\navg / total       0.96      0.95      0.95      1000\n\n"
     ]
    },
    {
     "name": "stdout",
     "output_type": "stream",
     "text": [
      "38 Train accuracy: 0.949\n0.29612\n[[776   0]\n [ 51 173]]\n             precision    recall  f1-score   support\n\n         ok       0.94      1.00      0.97       776\n   troubled       1.00      0.77      0.87       224\n\navg / total       0.95      0.95      0.95      1000\n\n39 Train accuracy: 0.863\n3.72581\n[[776   0]\n [137  87]]\n             precision    recall  f1-score   support\n\n         ok       0.85      1.00      0.92       776\n   troubled       1.00      0.39      0.56       224\n\navg / total       0.88      0.86      0.84      1000\n\n40 Train accuracy: 1.0\n0.19144\n[[776   0]\n [  0 224]]\n             precision    recall  f1-score   support\n\n         ok       1.00      1.00      1.00       776\n   troubled       1.00      1.00      1.00       224\n\navg / total       1.00      1.00      1.00      1000\n\n"
     ]
    },
    {
     "name": "stdout",
     "output_type": "stream",
     "text": [
      "41 Train accuracy: 0.955\n0.109645\n[[776   0]\n [ 45 179]]\n             precision    recall  f1-score   support\n\n         ok       0.95      1.00      0.97       776\n   troubled       1.00      0.80      0.89       224\n\navg / total       0.96      0.95      0.95      1000\n\n42 Train accuracy: 1.0\n0.017172\n[[776   0]\n [  0 224]]\n             precision    recall  f1-score   support\n\n         ok       1.00      1.00      1.00       776\n   troubled       1.00      1.00      1.00       224\n\navg / total       1.00      1.00      1.00      1000\n\n43 Train accuracy: 1.0\n0.0194433\n[[776   0]\n [  0 224]]\n             precision    recall  f1-score   support\n\n         ok       1.00      1.00      1.00       776\n   troubled       1.00      1.00      1.00       224\n\navg / total       1.00      1.00      1.00      1000\n\n"
     ]
    },
    {
     "name": "stdout",
     "output_type": "stream",
     "text": [
      "44 Train accuracy: 1.0\n0.0146619\n[[776   0]\n [  0 224]]\n             precision    recall  f1-score   support\n\n         ok       1.00      1.00      1.00       776\n   troubled       1.00      1.00      1.00       224\n\navg / total       1.00      1.00      1.00      1000\n\n45 Train accuracy: 1.0\n0.0127665\n[[776   0]\n [  0 224]]\n             precision    recall  f1-score   support\n\n         ok       1.00      1.00      1.00       776\n   troubled       1.00      1.00      1.00       224\n\navg / total       1.00      1.00      1.00      1000\n\n46 Train accuracy: 1.0\n0.0119356\n[[776   0]\n [  0 224]]\n             precision    recall  f1-score   support\n\n         ok       1.00      1.00      1.00       776\n   troubled       1.00      1.00      1.00       224\n\navg / total       1.00      1.00      1.00      1000\n\n"
     ]
    },
    {
     "name": "stdout",
     "output_type": "stream",
     "text": [
      "47 Train accuracy: 1.0\n0.0114036\n[[776   0]\n [  0 224]]\n             precision    recall  f1-score   support\n\n         ok       1.00      1.00      1.00       776\n   troubled       1.00      1.00      1.00       224\n\navg / total       1.00      1.00      1.00      1000\n\n48 Train accuracy: 1.0\n0.0109893\n[[776   0]\n [  0 224]]\n             precision    recall  f1-score   support\n\n         ok       1.00      1.00      1.00       776\n   troubled       1.00      1.00      1.00       224\n\navg / total       1.00      1.00      1.00      1000\n\n49 Train accuracy: 1.0\n0.0106336\n[[776   0]\n [  0 224]]\n             precision    recall  f1-score   support\n\n         ok       1.00      1.00      1.00       776\n   troubled       1.00      1.00      1.00       224\n\navg / total       1.00      1.00      1.00      1000\n\n"
     ]
    },
    {
     "name": "stdout",
     "output_type": "stream",
     "text": [
      "50 Train accuracy: 1.0\n0.0103027\n[[776   0]\n [  0 224]]\n             precision    recall  f1-score   support\n\n         ok       1.00      1.00      1.00       776\n   troubled       1.00      1.00      1.00       224\n\navg / total       1.00      1.00      1.00      1000\n\n51 Train accuracy: 1.0\n0.00997372\n[[776   0]\n [  0 224]]\n             precision    recall  f1-score   support\n\n         ok       1.00      1.00      1.00       776\n   troubled       1.00      1.00      1.00       224\n\navg / total       1.00      1.00      1.00      1000\n\n52 Train accuracy: 1.0\n0.00965496\n[[776   0]\n [  0 224]]\n             precision    recall  f1-score   support\n\n         ok       1.00      1.00      1.00       776\n   troubled       1.00      1.00      1.00       224\n\navg / total       1.00      1.00      1.00      1000\n\n"
     ]
    },
    {
     "name": "stdout",
     "output_type": "stream",
     "text": [
      "53 Train accuracy: 1.0\n0.00934614\n[[776   0]\n [  0 224]]\n             precision    recall  f1-score   support\n\n         ok       1.00      1.00      1.00       776\n   troubled       1.00      1.00      1.00       224\n\navg / total       1.00      1.00      1.00      1000\n\n54 Train accuracy: 1.0\n0.00905427\n[[776   0]\n [  0 224]]\n             precision    recall  f1-score   support\n\n         ok       1.00      1.00      1.00       776\n   troubled       1.00      1.00      1.00       224\n\navg / total       1.00      1.00      1.00      1000\n\n55 Train accuracy: 1.0\n0.0087881\n[[776   0]\n [  0 224]]\n             precision    recall  f1-score   support\n\n         ok       1.00      1.00      1.00       776\n   troubled       1.00      1.00      1.00       224\n\navg / total       1.00      1.00      1.00      1000\n\n"
     ]
    },
    {
     "name": "stdout",
     "output_type": "stream",
     "text": [
      "56 Train accuracy: 1.0\n0.00854725\n[[776   0]\n [  0 224]]\n             precision    recall  f1-score   support\n\n         ok       1.00      1.00      1.00       776\n   troubled       1.00      1.00      1.00       224\n\navg / total       1.00      1.00      1.00      1000\n\n57 Train accuracy: 1.0\n0.00833005\n[[776   0]\n [  0 224]]\n             precision    recall  f1-score   support\n\n         ok       1.00      1.00      1.00       776\n   troubled       1.00      1.00      1.00       224\n\navg / total       1.00      1.00      1.00      1000\n\n58 Train accuracy: 1.0\n0.00813412\n[[776   0]\n [  0 224]]\n             precision    recall  f1-score   support\n\n         ok       1.00      1.00      1.00       776\n   troubled       1.00      1.00      1.00       224\n\navg / total       1.00      1.00      1.00      1000\n\n"
     ]
    },
    {
     "name": "stdout",
     "output_type": "stream",
     "text": [
      "59 Train accuracy: 1.0\n0.00795363\n[[776   0]\n [  0 224]]\n             precision    recall  f1-score   support\n\n         ok       1.00      1.00      1.00       776\n   troubled       1.00      1.00      1.00       224\n\navg / total       1.00      1.00      1.00      1000\n\n60 Train accuracy: 1.0\n0.00779141\n[[776   0]\n [  0 224]]\n             precision    recall  f1-score   support\n\n         ok       1.00      1.00      1.00       776\n   troubled       1.00      1.00      1.00       224\n\navg / total       1.00      1.00      1.00      1000\n\n61 Train accuracy: 1.0\n0.00763917\n[[776   0]\n [  0 224]]\n             precision    recall  f1-score   support\n\n         ok       1.00      1.00      1.00       776\n   troubled       1.00      1.00      1.00       224\n\navg / total       1.00      1.00      1.00      1000\n\n"
     ]
    },
    {
     "name": "stdout",
     "output_type": "stream",
     "text": [
      "62 Train accuracy: 1.0\n0.0074956\n[[776   0]\n [  0 224]]\n             precision    recall  f1-score   support\n\n         ok       1.00      1.00      1.00       776\n   troubled       1.00      1.00      1.00       224\n\navg / total       1.00      1.00      1.00      1000\n\n63 Train accuracy: 1.0\n0.0073638\n[[776   0]\n [  0 224]]\n             precision    recall  f1-score   support\n\n         ok       1.00      1.00      1.00       776\n   troubled       1.00      1.00      1.00       224\n\navg / total       1.00      1.00      1.00      1000\n\n64 Train accuracy: 1.0\n0.00723669\n[[776   0]\n [  0 224]]\n             precision    recall  f1-score   support\n\n         ok       1.00      1.00      1.00       776\n   troubled       1.00      1.00      1.00       224\n\navg / total       1.00      1.00      1.00      1000\n\n"
     ]
    },
    {
     "name": "stdout",
     "output_type": "stream",
     "text": [
      "65 Train accuracy: 1.0\n0.007118\n[[776   0]\n [  0 224]]\n             precision    recall  f1-score   support\n\n         ok       1.00      1.00      1.00       776\n   troubled       1.00      1.00      1.00       224\n\navg / total       1.00      1.00      1.00      1000\n\n66 Train accuracy: 1.0\n0.00700494\n[[776   0]\n [  0 224]]\n             precision    recall  f1-score   support\n\n         ok       1.00      1.00      1.00       776\n   troubled       1.00      1.00      1.00       224\n\navg / total       1.00      1.00      1.00      1000\n\n67 Train accuracy: 1.0\n0.00689528\n[[776   0]\n [  0 224]]\n             precision    recall  f1-score   support\n\n         ok       1.00      1.00      1.00       776\n   troubled       1.00      1.00      1.00       224\n\navg / total       1.00      1.00      1.00      1000\n\n"
     ]
    },
    {
     "name": "stdout",
     "output_type": "stream",
     "text": [
      "68 Train accuracy: 1.0\n0.00677445\n[[776   0]\n [  0 224]]\n             precision    recall  f1-score   support\n\n         ok       1.00      1.00      1.00       776\n   troubled       1.00      1.00      1.00       224\n\navg / total       1.00      1.00      1.00      1000\n\n69 Train accuracy: 1.0\n0.00665112\n[[776   0]\n [  0 224]]\n             precision    recall  f1-score   support\n\n         ok       1.00      1.00      1.00       776\n   troubled       1.00      1.00      1.00       224\n\navg / total       1.00      1.00      1.00      1000\n\n70 Train accuracy: 1.0\n0.00653018\n[[776   0]\n [  0 224]]\n             precision    recall  f1-score   support\n\n         ok       1.00      1.00      1.00       776\n   troubled       1.00      1.00      1.00       224\n\navg / total       1.00      1.00      1.00      1000\n\n"
     ]
    },
    {
     "name": "stdout",
     "output_type": "stream",
     "text": [
      "71 Train accuracy: 1.0\n0.00641083\n[[776   0]\n [  0 224]]\n             precision    recall  f1-score   support\n\n         ok       1.00      1.00      1.00       776\n   troubled       1.00      1.00      1.00       224\n\navg / total       1.00      1.00      1.00      1000\n\n72 Train accuracy: 1.0\n0.00629711\n[[776   0]\n [  0 224]]\n             precision    recall  f1-score   support\n\n         ok       1.00      1.00      1.00       776\n   troubled       1.00      1.00      1.00       224\n\navg / total       1.00      1.00      1.00      1000\n\n73 Train accuracy: 1.0\n0.0061872\n[[776   0]\n [  0 224]]\n             precision    recall  f1-score   support\n\n         ok       1.00      1.00      1.00       776\n   troubled       1.00      1.00      1.00       224\n\navg / total       1.00      1.00      1.00      1000\n\n"
     ]
    },
    {
     "name": "stdout",
     "output_type": "stream",
     "text": [
      "74 Train accuracy: 1.0\n0.00608185\n[[776   0]\n [  0 224]]\n             precision    recall  f1-score   support\n\n         ok       1.00      1.00      1.00       776\n   troubled       1.00      1.00      1.00       224\n\navg / total       1.00      1.00      1.00      1000\n\n75 Train accuracy: 1.0\n0.00597834\n[[776   0]\n [  0 224]]\n             precision    recall  f1-score   support\n\n         ok       1.00      1.00      1.00       776\n   troubled       1.00      1.00      1.00       224\n\navg / total       1.00      1.00      1.00      1000\n\n76 Train accuracy: 1.0\n0.00587884\n[[776   0]\n [  0 224]]\n             precision    recall  f1-score   support\n\n         ok       1.00      1.00      1.00       776\n   troubled       1.00      1.00      1.00       224\n\navg / total       1.00      1.00      1.00      1000\n\n"
     ]
    },
    {
     "name": "stdout",
     "output_type": "stream",
     "text": [
      "77 Train accuracy: 1.0\n0.00578162\n[[776   0]\n [  0 224]]\n             precision    recall  f1-score   support\n\n         ok       1.00      1.00      1.00       776\n   troubled       1.00      1.00      1.00       224\n\navg / total       1.00      1.00      1.00      1000\n\n78 Train accuracy: 1.0\n0.00568924\n[[776   0]\n [  0 224]]\n             precision    recall  f1-score   support\n\n         ok       1.00      1.00      1.00       776\n   troubled       1.00      1.00      1.00       224\n\navg / total       1.00      1.00      1.00      1000\n\n79 Train accuracy: 1.0\n0.00559857\n[[776   0]\n [  0 224]]\n             precision    recall  f1-score   support\n\n         ok       1.00      1.00      1.00       776\n   troubled       1.00      1.00      1.00       224\n\navg / total       1.00      1.00      1.00      1000\n\n"
     ]
    },
    {
     "name": "stdout",
     "output_type": "stream",
     "text": [
      "80 Train accuracy: 1.0\n0.00551062\n[[776   0]\n [  0 224]]\n             precision    recall  f1-score   support\n\n         ok       1.00      1.00      1.00       776\n   troubled       1.00      1.00      1.00       224\n\navg / total       1.00      1.00      1.00      1000\n\n81 Train accuracy: 1.0\n0.00542527\n[[776   0]\n [  0 224]]\n             precision    recall  f1-score   support\n\n         ok       1.00      1.00      1.00       776\n   troubled       1.00      1.00      1.00       224\n\navg / total       1.00      1.00      1.00      1000\n\n82 Train accuracy: 1.0\n0.00534218\n[[776   0]\n [  0 224]]\n             precision    recall  f1-score   support\n\n         ok       1.00      1.00      1.00       776\n   troubled       1.00      1.00      1.00       224\n\navg / total       1.00      1.00      1.00      1000\n\n"
     ]
    },
    {
     "name": "stdout",
     "output_type": "stream",
     "text": [
      "83 Train accuracy: 1.0\n0.00526163\n[[776   0]\n [  0 224]]\n             precision    recall  f1-score   support\n\n         ok       1.00      1.00      1.00       776\n   troubled       1.00      1.00      1.00       224\n\navg / total       1.00      1.00      1.00      1000\n\n84 Train accuracy: 1.0\n0.00518299\n[[776   0]\n [  0 224]]\n             precision    recall  f1-score   support\n\n         ok       1.00      1.00      1.00       776\n   troubled       1.00      1.00      1.00       224\n\navg / total       1.00      1.00      1.00      1000\n\n85 Train accuracy: 1.0\n0.00510604\n[[776   0]\n [  0 224]]\n             precision    recall  f1-score   support\n\n         ok       1.00      1.00      1.00       776\n   troubled       1.00      1.00      1.00       224\n\navg / total       1.00      1.00      1.00      1000\n\n"
     ]
    },
    {
     "name": "stdout",
     "output_type": "stream",
     "text": [
      "86 Train accuracy: 1.0\n0.00503089\n[[776   0]\n [  0 224]]\n             precision    recall  f1-score   support\n\n         ok       1.00      1.00      1.00       776\n   troubled       1.00      1.00      1.00       224\n\navg / total       1.00      1.00      1.00      1000\n\n87 Train accuracy: 1.0\n0.00495793\n[[776   0]\n [  0 224]]\n             precision    recall  f1-score   support\n\n         ok       1.00      1.00      1.00       776\n   troubled       1.00      1.00      1.00       224\n\navg / total       1.00      1.00      1.00      1000\n\n88 Train accuracy: 1.0\n0.00488637\n[[776   0]\n [  0 224]]\n             precision    recall  f1-score   support\n\n         ok       1.00      1.00      1.00       776\n   troubled       1.00      1.00      1.00       224\n\navg / total       1.00      1.00      1.00      1000\n\n"
     ]
    },
    {
     "name": "stdout",
     "output_type": "stream",
     "text": [
      "89 Train accuracy: 1.0\n0.00481696\n[[776   0]\n [  0 224]]\n             precision    recall  f1-score   support\n\n         ok       1.00      1.00      1.00       776\n   troubled       1.00      1.00      1.00       224\n\navg / total       1.00      1.00      1.00      1000\n\n90 Train accuracy: 1.0\n0.00474887\n[[776   0]\n [  0 224]]\n             precision    recall  f1-score   support\n\n         ok       1.00      1.00      1.00       776\n   troubled       1.00      1.00      1.00       224\n\navg / total       1.00      1.00      1.00      1000\n\n91 Train accuracy: 1.0\n0.00468215\n[[776   0]\n [  0 224]]\n             precision    recall  f1-score   support\n\n         ok       1.00      1.00      1.00       776\n   troubled       1.00      1.00      1.00       224\n\navg / total       1.00      1.00      1.00      1000\n\n"
     ]
    },
    {
     "name": "stdout",
     "output_type": "stream",
     "text": [
      "92 Train accuracy: 1.0\n0.00461738\n[[776   0]\n [  0 224]]\n             precision    recall  f1-score   support\n\n         ok       1.00      1.00      1.00       776\n   troubled       1.00      1.00      1.00       224\n\navg / total       1.00      1.00      1.00      1000\n\n93 Train accuracy: 1.0\n0.00455308\n[[776   0]\n [  0 224]]\n             precision    recall  f1-score   support\n\n         ok       1.00      1.00      1.00       776\n   troubled       1.00      1.00      1.00       224\n\navg / total       1.00      1.00      1.00      1000\n\n94 Train accuracy: 1.0\n0.00449156\n[[776   0]\n [  0 224]]\n             precision    recall  f1-score   support\n\n         ok       1.00      1.00      1.00       776\n   troubled       1.00      1.00      1.00       224\n\navg / total       1.00      1.00      1.00      1000\n\n"
     ]
    },
    {
     "name": "stdout",
     "output_type": "stream",
     "text": [
      "95 Train accuracy: 1.0\n0.00442987\n[[776   0]\n [  0 224]]\n             precision    recall  f1-score   support\n\n         ok       1.00      1.00      1.00       776\n   troubled       1.00      1.00      1.00       224\n\navg / total       1.00      1.00      1.00      1000\n\n96 Train accuracy: 1.0\n0.00437049\n[[776   0]\n [  0 224]]\n             precision    recall  f1-score   support\n\n         ok       1.00      1.00      1.00       776\n   troubled       1.00      1.00      1.00       224\n\navg / total       1.00      1.00      1.00      1000\n\n97 Train accuracy: 1.0\n0.00431163\n[[776   0]\n [  0 224]]\n             precision    recall  f1-score   support\n\n         ok       1.00      1.00      1.00       776\n   troubled       1.00      1.00      1.00       224\n\navg / total       1.00      1.00      1.00      1000\n\n"
     ]
    },
    {
     "name": "stdout",
     "output_type": "stream",
     "text": [
      "98 Train accuracy: 1.0\n0.004255\n[[776   0]\n [  0 224]]\n             precision    recall  f1-score   support\n\n         ok       1.00      1.00      1.00       776\n   troubled       1.00      1.00      1.00       224\n\navg / total       1.00      1.00      1.00      1000\n\n99 Train accuracy: 1.0\n0.00419869\n[[776   0]\n [  0 224]]\n             precision    recall  f1-score   support\n\n         ok       1.00      1.00      1.00       776\n   troubled       1.00      1.00      1.00       224\n\navg / total       1.00      1.00      1.00      1000\n\n"
     ]
    }
   ],
   "source": [
    "from sklearn.metrics import classification_report\n",
    "from sklearn.metrics import confusion_matrix\n",
    "\n",
    "n_epochs = 100\n",
    "batch_size = 1000\n",
    "\n",
    "X_batch = policy_histories_features\n",
    "y_batch = policy_histories_labels\n",
    "seq_length_batch = history_lengths\n",
    "\n",
    "with tf.Session() as sess:\n",
    "    init.run()\n",
    "    for epoch in range(n_epochs):\n",
    "        for i in range(policy_histories_labels.shape[0] // batch_size):\n",
    "            X_batch = policy_histories_features[i * batch_size : (i + 1) * batch_size]\n",
    "            y_batch = policy_histories_labels[i * batch_size : (i + 1) * batch_size]\n",
    "            seq_length_batch = history_lengths[i * batch_size : (i + 1) * batch_size]\n",
    "            \n",
    "            sess.run(training_op, feed_dict={X: X_batch, y: y_batch, seq_length: seq_length_batch})\n",
    "            #print(outputs.eval(feed_dict={X: X_batch, y: y_batch, seq_length: seq_length_batch}))\n",
    "        #print(logits.eval(feed_dict={X: X_batch, y: y_batch, seq_length: seq_length_batch}))\n",
    "        y_batch_pred = y_pred.eval(feed_dict={X: X_batch, y: y_batch, seq_length: seq_length_batch})\n",
    "        acc_train = accuracy.eval(feed_dict={X: X_batch, y: y_batch, seq_length: seq_length_batch})\n",
    "        #acc_test = accuracy.eval(feed_dict={X: X_test, y: y_test})\n",
    "        print(epoch, \"Train accuracy:\", acc_train)#, \"Test accuracy:\", acc_test)\n",
    "        print(loss.eval(feed_dict={X: X_batch, y: y_batch, seq_length: seq_length_batch}))\n",
    "        print(confusion_matrix(y_batch, y_batch_pred))\n",
    "        print(classification_report(y_batch, y_batch_pred, target_names=['ok', 'troubled']))\n",
    "\n",
    "\n"
   ]
  },
  {
   "cell_type": "code",
   "execution_count": null,
   "metadata": {},
   "outputs": [],
   "source": []
  }
 ],
 "metadata": {
  "kernelspec": {
   "display_name": "Python 2",
   "language": "python",
   "name": "python2"
  },
  "language_info": {
   "codemirror_mode": {
    "name": "ipython",
    "version": 2
   },
   "file_extension": ".py",
   "mimetype": "text/x-python",
   "name": "python",
   "nbconvert_exporter": "python",
   "pygments_lexer": "ipython2",
   "version": "2.7.6"
  }
 },
 "nbformat": 4,
 "nbformat_minor": 0
}
