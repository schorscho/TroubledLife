{
 "cells": [
  {
   "cell_type": "code",
   "execution_count": 1,
   "metadata": {},
   "outputs": [],
   "source": [
    "import os\n",
    "from datetime import datetime\n",
    "\n",
    "#PROJECT_ROOT_DIR = \"/home/ubuntu/TroubledLife\"\n",
    "PROJECT_ROOT_DIR = \"/Users/gopora/MyStuff/Dev/Workspaces/Sandbox/TroubledLife\"\n",
    "TF_LOG_DIR = os.path.join(PROJECT_ROOT_DIR, \"tf_logs\")\n",
    "MODEL_CHECKPOINTS_DIR = os.path.join(PROJECT_ROOT_DIR, \"model_checkpoints\")\n",
    "\n",
    "now = datetime.now().strftime(\"%Y%m%d-%H%M%S\")\n",
    "log_dir = \"{}/run-{}/\".format(TF_LOG_DIR, now)\n",
    "\n",
    "\n",
    "import data_preparation as dp\n",
    "\n",
    "runtime = 5\n",
    "\n",
    "\n",
    "def generator_loss(Gz, init_z):\n",
    "    premium = init_z[:, 0]\n",
    "    interest = init_z[:, 1] * 0.03 + init_z[:, 2] * 0.04 + init_z[:, 3] * 0.05 + init_z[:, 4] * 0.06\n",
    "    \n",
    "    k1 = premium\n",
    "    k1v = k1 * (1 + interest)\n",
    "    k2 = premium + k1v\n",
    "    k2v = k2 * (1 + interest)\n",
    "    k3 = premium + k2v\n",
    "    k3v = k3 * (1 + interest)\n",
    "    k4 = premium + k3v\n",
    "    k4v = k4 * (1 + interest)\n",
    "    k5 = premium + k4v\n",
    "    k5v = k5 * (1 + interest)\n",
    "    \n",
    "    # loss = (tf.abs(Gz[:, 0, 0] - premium) + tf.abs(Gz[:, 0, 1]) +\n",
    "    #                        tf.abs(Gz[:, 1, 0] - premium) + tf.abs(Gz[:, 1, 1] - k1) +\n",
    "    #                        tf.abs(Gz[:, 2, 0] - premium) + tf.abs(Gz[:, 2, 1] - k1v) +\n",
    "    #                        tf.abs(Gz[:, 3, 0] - premium) + tf.abs(Gz[:, 3, 1] - k2) +\n",
    "    #                        tf.abs(Gz[:, 4, 0] - premium) + tf.abs(Gz[:, 4, 1] - k2v) +\n",
    "    #                        tf.abs(Gz[:, 5, 0] - premium) + tf.abs(Gz[:, 5, 1] - k3) +\n",
    "    #                        tf.abs(Gz[:, 6, 0] - premium) + tf.abs(Gz[:, 6, 1] - k3v) +\n",
    "    #                        tf.abs(Gz[:, 7, 0] - premium) + tf.abs(Gz[:, 7, 1] - k4) +\n",
    "    #                        tf.abs(Gz[:, 8, 0] - premium) + tf.abs(Gz[:, 8, 1] - k4v) +\n",
    "    #                        tf.abs(Gz[:, 9, 0] - premium) + tf.abs(Gz[:, 9, 1] - k5) +\n",
    "    #                        tf.abs(Gz[:, 10, 0] - premium) + tf.abs(Gz[:, 10, 1] - k5v)\n",
    "    #                        )\n",
    "    \n",
    "    boost = 1\n",
    "\n",
    "    loss = (tf.pow(boost * (Gz[:, 0, 0] - premium), 2) + tf.pow(Gz[:, 0, 1], 2) +\n",
    "                           tf.pow(boost * (Gz[:, 1, 0] - premium), 2) + tf.pow(boost * (Gz[:, 1, 1] - k1), 2) +\n",
    "                           tf.pow(boost * (Gz[:, 2, 0] - premium), 2) + tf.pow(boost * (Gz[:, 2, 1] - k1v), 2) +\n",
    "                           tf.pow(boost * (Gz[:, 3, 0] - premium), 2) + tf.pow(boost * (Gz[:, 3, 1] - k2), 2) +\n",
    "                           tf.pow(boost * (Gz[:, 4, 0] - premium), 2) + tf.pow(boost * (Gz[:, 4, 1] - k2v), 2) +\n",
    "                           tf.pow(boost * (Gz[:, 5, 0] - premium), 2) + tf.pow(boost * (Gz[:, 5, 1] - k3), 2) +\n",
    "                           tf.pow(boost * (Gz[:, 6, 0] - premium), 2) + tf.pow(boost * (Gz[:, 6, 1] - k3v), 2) +\n",
    "                           tf.pow(boost * (Gz[:, 7, 0] - premium), 2) + tf.pow(boost * (Gz[:, 7, 1] - k4), 2) +\n",
    "                           tf.pow(boost * (Gz[:, 8, 0] - premium), 2) + tf.pow(boost * (Gz[:, 8, 1] - k4v), 2) +\n",
    "                           tf.pow(boost * (Gz[:, 9, 0] - premium), 2) + tf.pow(boost * (Gz[:, 9, 1] - k5), 2) +\n",
    "                           tf.pow(boost * (Gz[:, 10, 0] - premium), 2) + tf.pow(boost * (Gz[:, 10, 1] - k5v), 2)\n",
    "                           )\n",
    "    loss_mean = tf.reduce_mean(loss) + tf.reduce_mean(tf.abs(tf.abs(1250 - premium) - 250))\n",
    "                           \n",
    "    # loss_mean = tf.reduce_mean(tf.abs(Gz[:, 0, 0] - premium)) + tf.reduce_mean(tf.abs(Gz[:, 0, 1])) + \\\n",
    "    #             tf.reduce_mean(tf.abs(Gz[:, 1, 0] - premium)) + tf.reduce_mean(tf.abs(Gz[:, 1, 1] - k1)) + \\\n",
    "    #             tf.reduce_mean(tf.abs(Gz[:, 2, 0] - premium)) + tf.reduce_mean(tf.abs(Gz[:, 2, 1] - k1v)) + \\\n",
    "    #             tf.reduce_mean(tf.abs(Gz[:, 3, 0] - premium)) + tf.reduce_mean(tf.abs(Gz[:, 3, 1] - k2)) + \\\n",
    "    #             tf.reduce_mean(tf.abs(Gz[:, 4, 0] - premium)) + tf.reduce_mean(tf.abs(Gz[:, 4, 1] - k2v)) + \\\n",
    "    #             tf.reduce_mean(tf.abs(Gz[:, 5, 0] - premium)) + tf.reduce_mean(tf.abs(Gz[:, 5, 1] - k3)) + \\\n",
    "    #             tf.reduce_mean(tf.abs(Gz[:, 6, 0] - premium)) + tf.reduce_mean(tf.abs(Gz[:, 6, 1] - k3v)) + \\\n",
    "    #             tf.reduce_mean(tf.abs(Gz[:, 7, 0] - premium)) + tf.reduce_mean(tf.abs(Gz[:, 7, 1] - k4)) + \\\n",
    "    #             tf.reduce_mean(tf.abs(Gz[:, 8, 0] - premium)) + tf.reduce_mean(tf.abs(Gz[:, 8, 1] - k4v)) + \\\n",
    "    #             tf.reduce_mean(tf.abs(Gz[:, 9, 0] - premium)) + tf.reduce_mean(tf.abs(Gz[:, 9, 1] - k5)) + \\\n",
    "    #             tf.reduce_mean(tf.abs(Gz[:, 10, 0] - premium)) + tf.reduce_mean(tf.abs(Gz[:, 10, 1] - k5v))\n",
    "\n",
    "    #loss_mean = tf.reduce_mean(loss)\n",
    "    \n",
    "    return loss_mean, loss\n",
    "\n",
    "def numpy_correct(init_z, gData):\n",
    "    correct = np.full(shape=(size_batch, max_length_policy_history, 2), fill_value=0.0)\n",
    "    \n",
    "    premium = init_z[:, 0]\n",
    "    interest = init_z[:, 1] * 0.03 + init_z[:, 2] * 0.04 + init_z[:, 3] * 0.05 + init_z[:, 4] * 0.06\n",
    "\n",
    "    k1 = premium\n",
    "    k1v = k1 * (1 + interest)\n",
    "    k2 = premium + k1v\n",
    "    k2v = k2 * (1 + interest)\n",
    "    k3 = premium + k2v\n",
    "    k3v = k3 * (1 + interest)\n",
    "    k4 = premium + k3v\n",
    "    k4v = k4 * (1 + interest)\n",
    "    k5 = premium + k4v\n",
    "    k5v = k5 * (1 + interest)\n",
    "    \n",
    "    correct[:, 0, 0] = premium\n",
    "    correct[:, 0, 1] = 0.0\n",
    "    correct[:, 1, 0] = premium\n",
    "    correct[:, 1, 1] = k1\n",
    "    correct[:, 2, 0] = premium\n",
    "    correct[:, 2, 1] = k1v\n",
    "    correct[:, 3, 0] = premium\n",
    "    correct[:, 3, 1] = k2\n",
    "    correct[:, 4, 0] = premium\n",
    "    correct[:, 4, 1] = k2v\n",
    "    correct[:, 5, 0] = premium\n",
    "    correct[:, 5, 1] = k3\n",
    "    correct[:, 6, 0] = premium\n",
    "    correct[:, 6, 1] = k3v\n",
    "    correct[:, 7, 0] = premium\n",
    "    correct[:, 7, 1] = k4\n",
    "    correct[:, 8, 0] = premium\n",
    "    correct[:, 8, 1] = k4v\n",
    "    correct[:, 9, 0] = premium\n",
    "    correct[:, 9, 1] = k5\n",
    "    correct[:, 10, 0] = premium\n",
    "    correct[:, 10, 1] = k5v\n",
    " \n",
    "    np_loss = (np.fabs(gData[:, 0, 0] - premium) + np.fabs(gData[:, 0, 1]) +\n",
    "                           np.fabs(gData[:, 1, 0] - premium) + np.fabs(gData[:, 1, 1] - k1) +\n",
    "                           np.fabs(gData[:, 2, 0] - premium) + np.fabs(gData[:, 2, 1] - k1v) +\n",
    "                           np.fabs(gData[:, 3, 0] - premium) + np.fabs(gData[:, 3, 1] - k2) +\n",
    "                           np.fabs(gData[:, 4, 0] - premium) + np.fabs(gData[:, 4, 1] - k2v) +\n",
    "                           np.fabs(gData[:, 5, 0] - premium) + np.fabs(gData[:, 5, 1] - k3) +\n",
    "                           np.fabs(gData[:, 6, 0] - premium) + np.fabs(gData[:, 6, 1] - k3v) +\n",
    "                           np.fabs(gData[:, 7, 0] - premium) + np.fabs(gData[:, 7, 1] - k4) +\n",
    "                           np.fabs(gData[:, 8, 0] - premium) + np.fabs(gData[:, 8, 1] - k4v) +\n",
    "                           np.fabs(gData[:, 9, 0] - premium) + np.fabs(gData[:, 9, 1] - k5) +\n",
    "                           np.fabs(gData[:, 10, 0] - premium) + np.fabs(gData[:, 10, 1] - k5v)\n",
    "                           )\n",
    "   \n",
    "    return np_loss\n"
   ]
  },
  {
   "cell_type": "code",
   "execution_count": 2,
   "metadata": {},
   "outputs": [
    {
     "name": "stdout",
     "output_type": "stream",
     "text": [
      "Tensor(\"t_generator/rnn/transpose:0\", shape=(?, 15, 100), dtype=float64)\n(<tf.Tensor 't_generator/rnn/while/Exit_2:0' shape=(?, 100) dtype=float64>, <tf.Tensor 't_generator/rnn/while/Exit_3:0' shape=(?, 100) dtype=float64>, <tf.Tensor 't_generator/rnn/while/Exit_4:0' shape=(?, 100) dtype=float64>)\nTensor(\"t_generator/dense/BiasAdd:0\", shape=(?, 15, 2), dtype=float64)\n"
     ]
    }
   ],
   "source": [
    "import tensorflow as tf\n",
    "import gan as gan\n",
    "\n",
    "size_batch = 200\n",
    "max_length_policy_history=15\n",
    "\n",
    "# Generator hyperparameters\n",
    "gru_g=False\n",
    "leaky_g=False\n",
    "n_inputs_g = 5\n",
    "n_layers_g = 3\n",
    "n_neurons_g = 100\n",
    "n_outputs_g = 2\n",
    "input_keep_prob_g = 0.9\n",
    "learning_rate_g = 1e-7\n",
    "beta1_g=0.99\n",
    "beta2_g=0.999\n",
    "epsilon_g=1e-08\n",
    "clip_g=True\n",
    "threshold_g = 1.0\n",
    "\n",
    "tf.reset_default_graph()\n",
    "tf.set_random_seed(42)\n",
    "\n",
    "Z = tf.placeholder(tf.float64, [None, max_length_policy_history, n_inputs_g], name='Z')\n",
    "init_z = tf.placeholder(tf.float64, [None, n_inputs_g], name='init_z')\n",
    "seq_length_z = tf.placeholder(tf.int64, [None], name='seq_length_z')\n",
    "\n",
    "Gz = gan.generator(Z=Z, n_outputs=n_outputs_g, seq_length_max=max_length_policy_history,\n",
    "                   n_layers=n_layers_g, n_neurons=n_neurons_g, \n",
    "                   seq_length=seq_length_z, gru=gru_g, leaky=leaky_g, input_keep_prob=input_keep_prob_g)\n",
    "\n",
    "loss_mean_g, loss_g = generator_loss(Gz=Gz, init_z=init_z)\n",
    "\n",
    "g_trainer = gan.generator_trainer(learning_rate=learning_rate_g, beta1=beta1_g, beta2=beta2_g, epsilon=epsilon_g, \n",
    "                                  clip=clip_g, threshold=threshold_g, loss=loss_mean_g)\n",
    "\n",
    "tf.summary.scalar('Generator_loss', loss_mean_g)\n",
    "\n",
    "merged = tf.summary.merge_all()\n",
    "writer = tf.summary.FileWriter(log_dir, tf.get_default_graph())\n",
    "\n",
    "tvars = tf.trainable_variables()\n",
    "\n",
    "g_saver = tf.train.Saver(var_list=[var for var in tvars if \"t_generator\" in var.name])"
   ]
  },
  {
   "cell_type": "code",
   "execution_count": 29,
   "metadata": {},
   "outputs": [],
   "source": [
    "import numpy as np\n",
    "\n",
    "np.set_printoptions(formatter={'float_kind': (lambda x: \"%.2f\" % x)})\n",
    "\n",
    "sess = tf.Session()\n",
    "\n",
    "sess.run(tf.global_variables_initializer())\n",
    "sess.run(tf.local_variables_initializer())"
   ]
  },
  {
   "cell_type": "code",
   "execution_count": 30,
   "metadata": {},
   "outputs": [
    {
     "name": "stdout",
     "output_type": "stream",
     "text": [
      "INFO:tensorflow:Restoring parameters from /Users/gopora/MyStuff/Dev/Workspaces/Sandbox/TroubledLife/model_checkpoints/generator.ckpt\n"
     ]
    },
    {
     "name": "stdout",
     "output_type": "stream",
     "text": [
      "Epoch: 0 lossG: 26996344.3541\n3247845.2668\n[1112.15 0.00 0.00 1.00 0.00]\n[[1194.12 -5.28]\n [1289.39 1326.48]\n [1457.62 1402.73]\n [1208.52 2692.67]\n [916.37 2952.19]\n [1163.62 4002.72]\n [1363.91 4263.80]\n [1072.60 5307.65]\n [1404.10 5835.40]\n [1060.23 6416.96]\n [1419.54 7253.84]\n [0.02 0.01]\n [0.02 0.01]\n [0.02 0.01]\n [0.02 0.01]]\n"
     ]
    },
    {
     "name": "stdout",
     "output_type": "stream",
     "text": [
      "Epoch: 1 lossG: 28089604.7694\n2953689.63995\n[1305.50 0.00 0.00 1.00 0.00]\n[[1317.88 -37.87]\n [1571.04 1386.81]\n [1579.62 1497.43]\n [1451.07 2879.77]\n [1510.80 3257.36]\n [1210.56 4507.66]\n [1519.54 4564.14]\n [1739.62 5885.48]\n [1720.21 6232.85]\n [1916.10 7686.62]\n [1840.32 8466.70]\n [0.02 0.01]\n [0.02 0.01]\n [0.02 0.01]\n [0.02 0.01]]\n"
     ]
    },
    {
     "name": "stdout",
     "output_type": "stream",
     "text": [
      "Epoch: 2 lossG: 23389055.235\n3753553.86075\n[1208.56 0.00 0.00 1.00 0.00]\n[[1358.73 -58.02]\n [1427.37 1281.58]\n [1583.47 1541.59]\n [1385.51 2779.08]\n [1299.60 3117.14]\n [1343.79 4364.69]\n [1293.49 4382.65]\n [1294.40 5945.96]\n [1051.97 6386.60]\n [1246.98 7332.95]\n [1453.22 7835.00]\n [0.02 0.01]\n [0.02 0.01]\n [0.02 0.01]\n [0.02 0.01]]\n"
     ]
    },
    {
     "name": "stdout",
     "output_type": "stream",
     "text": [
      "Epoch: 3 lossG: 29800949.1984\n5562811.55759\n[1269.83 0.00 1.00 0.00 0.00]\n[[1497.68 -56.40]\n [1445.12 1564.78]\n [1293.67 1644.93]\n [1461.83 2885.98]\n [1448.54 3318.98]\n [1205.38 4825.19]\n [1496.25 4803.26]\n [1261.63 6439.32]\n [1332.95 6666.83]\n [1668.18 6597.22]\n [1742.69 8044.27]\n [0.02 0.01]\n [0.02 0.01]\n [0.02 0.01]\n [0.02 0.01]]\n"
     ]
    },
    {
     "ename": "KeyboardInterrupt",
     "evalue": "",
     "traceback": [
      "\u001b[0;31m---------------------------------------------------------------------------\u001b[0m",
      "\u001b[0;31mKeyboardInterrupt\u001b[0m                         Traceback (most recent call last)",
      "\u001b[0;32m<ipython-input-30-50247a033d83>\u001b[0m in \u001b[0;36m<module>\u001b[0;34m()\u001b[0m\n\u001b[1;32m     11\u001b[0m \u001b[0;34m\u001b[0m\u001b[0m\n\u001b[1;32m     12\u001b[0m         _, lossMeanG, lossG, gData =             sess.run([g_trainer, loss_mean_g, loss_g, Gz], \n\u001b[0;32m---> 13\u001b[0;31m                      feed_dict={Z: Z_batch, seq_length_z: seq_length_z_batch, init_z: init_z_batch})\n\u001b[0m\u001b[1;32m     14\u001b[0m \u001b[0;34m\u001b[0m\u001b[0m\n\u001b[1;32m     15\u001b[0m     \u001b[0msummary\u001b[0m \u001b[0;34m=\u001b[0m \u001b[0msess\u001b[0m\u001b[0;34m.\u001b[0m\u001b[0mrun\u001b[0m\u001b[0;34m(\u001b[0m\u001b[0mmerged\u001b[0m\u001b[0;34m,\u001b[0m \u001b[0mfeed_dict\u001b[0m\u001b[0;34m=\u001b[0m\u001b[0;34m{\u001b[0m\u001b[0mZ\u001b[0m\u001b[0;34m:\u001b[0m \u001b[0mZ_batch\u001b[0m\u001b[0;34m,\u001b[0m \u001b[0mseq_length_z\u001b[0m\u001b[0;34m:\u001b[0m \u001b[0mseq_length_z_batch\u001b[0m\u001b[0;34m,\u001b[0m \u001b[0minit_z\u001b[0m\u001b[0;34m:\u001b[0m \u001b[0minit_z_batch\u001b[0m\u001b[0;34m}\u001b[0m\u001b[0;34m)\u001b[0m\u001b[0;34m\u001b[0m\u001b[0m\n",
      "\u001b[0;32m~/MyStuff/Dev/python-virtual-envs/pie36-tf13/lib/python3.6/site-packages/tensorflow/python/client/session.py\u001b[0m in \u001b[0;36mrun\u001b[0;34m(self, fetches, feed_dict, options, run_metadata)\u001b[0m\n\u001b[1;32m    893\u001b[0m     \u001b[0;32mtry\u001b[0m\u001b[0;34m:\u001b[0m\u001b[0;34m\u001b[0m\u001b[0m\n\u001b[1;32m    894\u001b[0m       result = self._run(None, fetches, feed_dict, options_ptr,\n\u001b[0;32m--> 895\u001b[0;31m                          run_metadata_ptr)\n\u001b[0m\u001b[1;32m    896\u001b[0m       \u001b[0;32mif\u001b[0m \u001b[0mrun_metadata\u001b[0m\u001b[0;34m:\u001b[0m\u001b[0;34m\u001b[0m\u001b[0m\n\u001b[1;32m    897\u001b[0m         \u001b[0mproto_data\u001b[0m \u001b[0;34m=\u001b[0m \u001b[0mtf_session\u001b[0m\u001b[0;34m.\u001b[0m\u001b[0mTF_GetBuffer\u001b[0m\u001b[0;34m(\u001b[0m\u001b[0mrun_metadata_ptr\u001b[0m\u001b[0;34m)\u001b[0m\u001b[0;34m\u001b[0m\u001b[0m\n",
      "\u001b[0;32m~/MyStuff/Dev/python-virtual-envs/pie36-tf13/lib/python3.6/site-packages/tensorflow/python/client/session.py\u001b[0m in \u001b[0;36m_run\u001b[0;34m(self, handle, fetches, feed_dict, options, run_metadata)\u001b[0m\n\u001b[1;32m   1122\u001b[0m     \u001b[0;32mif\u001b[0m \u001b[0mfinal_fetches\u001b[0m \u001b[0;32mor\u001b[0m \u001b[0mfinal_targets\u001b[0m \u001b[0;32mor\u001b[0m \u001b[0;34m(\u001b[0m\u001b[0mhandle\u001b[0m \u001b[0;32mand\u001b[0m \u001b[0mfeed_dict_tensor\u001b[0m\u001b[0;34m)\u001b[0m\u001b[0;34m:\u001b[0m\u001b[0;34m\u001b[0m\u001b[0m\n\u001b[1;32m   1123\u001b[0m       results = self._do_run(handle, final_targets, final_fetches,\n\u001b[0;32m-> 1124\u001b[0;31m                              feed_dict_tensor, options, run_metadata)\n\u001b[0m\u001b[1;32m   1125\u001b[0m     \u001b[0;32melse\u001b[0m\u001b[0;34m:\u001b[0m\u001b[0;34m\u001b[0m\u001b[0m\n\u001b[1;32m   1126\u001b[0m       \u001b[0mresults\u001b[0m \u001b[0;34m=\u001b[0m \u001b[0;34m[\u001b[0m\u001b[0;34m]\u001b[0m\u001b[0;34m\u001b[0m\u001b[0m\n",
      "\u001b[0;32m~/MyStuff/Dev/python-virtual-envs/pie36-tf13/lib/python3.6/site-packages/tensorflow/python/client/session.py\u001b[0m in \u001b[0;36m_do_run\u001b[0;34m(self, handle, target_list, fetch_list, feed_dict, options, run_metadata)\u001b[0m\n\u001b[1;32m   1319\u001b[0m     \u001b[0;32mif\u001b[0m \u001b[0mhandle\u001b[0m \u001b[0;32mis\u001b[0m \u001b[0;32mNone\u001b[0m\u001b[0;34m:\u001b[0m\u001b[0;34m\u001b[0m\u001b[0m\n\u001b[1;32m   1320\u001b[0m       return self._do_call(_run_fn, self._session, feeds, fetches, targets,\n\u001b[0;32m-> 1321\u001b[0;31m                            options, run_metadata)\n\u001b[0m\u001b[1;32m   1322\u001b[0m     \u001b[0;32melse\u001b[0m\u001b[0;34m:\u001b[0m\u001b[0;34m\u001b[0m\u001b[0m\n\u001b[1;32m   1323\u001b[0m       \u001b[0;32mreturn\u001b[0m \u001b[0mself\u001b[0m\u001b[0;34m.\u001b[0m\u001b[0m_do_call\u001b[0m\u001b[0;34m(\u001b[0m\u001b[0m_prun_fn\u001b[0m\u001b[0;34m,\u001b[0m \u001b[0mself\u001b[0m\u001b[0;34m.\u001b[0m\u001b[0m_session\u001b[0m\u001b[0;34m,\u001b[0m \u001b[0mhandle\u001b[0m\u001b[0;34m,\u001b[0m \u001b[0mfeeds\u001b[0m\u001b[0;34m,\u001b[0m \u001b[0mfetches\u001b[0m\u001b[0;34m)\u001b[0m\u001b[0;34m\u001b[0m\u001b[0m\n",
      "\u001b[0;32m~/MyStuff/Dev/python-virtual-envs/pie36-tf13/lib/python3.6/site-packages/tensorflow/python/client/session.py\u001b[0m in \u001b[0;36m_do_call\u001b[0;34m(self, fn, *args)\u001b[0m\n\u001b[1;32m   1325\u001b[0m   \u001b[0;32mdef\u001b[0m \u001b[0m_do_call\u001b[0m\u001b[0;34m(\u001b[0m\u001b[0mself\u001b[0m\u001b[0;34m,\u001b[0m \u001b[0mfn\u001b[0m\u001b[0;34m,\u001b[0m \u001b[0;34m*\u001b[0m\u001b[0margs\u001b[0m\u001b[0;34m)\u001b[0m\u001b[0;34m:\u001b[0m\u001b[0;34m\u001b[0m\u001b[0m\n\u001b[1;32m   1326\u001b[0m     \u001b[0;32mtry\u001b[0m\u001b[0;34m:\u001b[0m\u001b[0;34m\u001b[0m\u001b[0m\n\u001b[0;32m-> 1327\u001b[0;31m       \u001b[0;32mreturn\u001b[0m \u001b[0mfn\u001b[0m\u001b[0;34m(\u001b[0m\u001b[0;34m*\u001b[0m\u001b[0margs\u001b[0m\u001b[0;34m)\u001b[0m\u001b[0;34m\u001b[0m\u001b[0m\n\u001b[0m\u001b[1;32m   1328\u001b[0m     \u001b[0;32mexcept\u001b[0m \u001b[0merrors\u001b[0m\u001b[0;34m.\u001b[0m\u001b[0mOpError\u001b[0m \u001b[0;32mas\u001b[0m \u001b[0me\u001b[0m\u001b[0;34m:\u001b[0m\u001b[0;34m\u001b[0m\u001b[0m\n\u001b[1;32m   1329\u001b[0m       \u001b[0mmessage\u001b[0m \u001b[0;34m=\u001b[0m \u001b[0mcompat\u001b[0m\u001b[0;34m.\u001b[0m\u001b[0mas_text\u001b[0m\u001b[0;34m(\u001b[0m\u001b[0me\u001b[0m\u001b[0;34m.\u001b[0m\u001b[0mmessage\u001b[0m\u001b[0;34m)\u001b[0m\u001b[0;34m\u001b[0m\u001b[0m\n",
      "\u001b[0;32m~/MyStuff/Dev/python-virtual-envs/pie36-tf13/lib/python3.6/site-packages/tensorflow/python/client/session.py\u001b[0m in \u001b[0;36m_run_fn\u001b[0;34m(session, feed_dict, fetch_list, target_list, options, run_metadata)\u001b[0m\n\u001b[1;32m   1304\u001b[0m           return tf_session.TF_Run(session, options,\n\u001b[1;32m   1305\u001b[0m                                    \u001b[0mfeed_dict\u001b[0m\u001b[0;34m,\u001b[0m \u001b[0mfetch_list\u001b[0m\u001b[0;34m,\u001b[0m \u001b[0mtarget_list\u001b[0m\u001b[0;34m,\u001b[0m\u001b[0;34m\u001b[0m\u001b[0m\n\u001b[0;32m-> 1306\u001b[0;31m                                    status, run_metadata)\n\u001b[0m\u001b[1;32m   1307\u001b[0m \u001b[0;34m\u001b[0m\u001b[0m\n\u001b[1;32m   1308\u001b[0m     \u001b[0;32mdef\u001b[0m \u001b[0m_prun_fn\u001b[0m\u001b[0;34m(\u001b[0m\u001b[0msession\u001b[0m\u001b[0;34m,\u001b[0m \u001b[0mhandle\u001b[0m\u001b[0;34m,\u001b[0m \u001b[0mfeed_dict\u001b[0m\u001b[0;34m,\u001b[0m \u001b[0mfetch_list\u001b[0m\u001b[0;34m)\u001b[0m\u001b[0;34m:\u001b[0m\u001b[0;34m\u001b[0m\u001b[0m\n",
      "\u001b[0;31mKeyboardInterrupt\u001b[0m: "
     ],
     "output_type": "error"
    }
   ],
   "source": [
    "g_saver.restore(sess, os.path.join(MODEL_CHECKPOINTS_DIR, \"generator.ckpt\"))\n",
    "\n",
    "n_epochs = 400\n",
    "num_examples = 10000\n",
    "\n",
    "for epoch in range(n_epochs):\n",
    "    for batch in range(num_examples // size_batch):\n",
    "        Z_batch, seq_length_z_batch, init_z_batch = dp.generate_Z_batch(\n",
    "            size_batch=size_batch, max_length_policy_history=max_length_policy_history, \n",
    "            n_inputs = n_inputs_g, runtime=runtime)\n",
    "\n",
    "        _, lossMeanG, lossG, gData = \\\n",
    "            sess.run([g_trainer, loss_mean_g, loss_g, Gz], \n",
    "                     feed_dict={Z: Z_batch, seq_length_z: seq_length_z_batch, init_z: init_z_batch})\n",
    "\n",
    "    summary = sess.run(merged, feed_dict={Z: Z_batch, seq_length_z: seq_length_z_batch, init_z: init_z_batch})\n",
    "    writer.add_summary(summary, epoch)\n",
    "\n",
    "    print(\"Epoch:\", epoch, \"lossG:\", lossMeanG)\n",
    "    \n",
    "    np_loss = numpy_correct(init_z=init_z_batch, gData=gData)\n",
    "    print(lossG[0])\n",
    "    #print(np_loss[0])\n",
    "    print(Z_batch[0, 0])\n",
    "    print(gData[0])\n",
    "    \n",
    "g_saver.save(sess, os.path.join(MODEL_CHECKPOINTS_DIR, \"generator3.ckpt\"))    "
   ]
  },
  {
   "cell_type": "code",
   "execution_count": 20,
   "metadata": {},
   "outputs": [
    {
     "data": {
      "text/plain": [
       "'/Users/gopora/MyStuff/Dev/Workspaces/Sandbox/TroubledLife/model_checkpoints/generator.ckpt'"
      ]
     },
     "execution_count": 20,
     "metadata": {},
     "output_type": "execute_result"
    }
   ],
   "source": [
    "g_saver.save(sess, os.path.join(MODEL_CHECKPOINTS_DIR, \"generator.ckpt\"))\n",
    "\n",
    " "
   ]
  },
  {
   "cell_type": "code",
   "execution_count": null,
   "metadata": {},
   "outputs": [],
   "source": []
  }
 ],
 "metadata": {
  "kernelspec": {
   "display_name": "Python 3",
   "language": "python",
   "name": "python3"
  },
  "language_info": {
   "codemirror_mode": {
    "name": "ipython",
    "version": 3
   },
   "file_extension": ".py",
   "mimetype": "text/x-python",
   "name": "python",
   "nbconvert_exporter": "python",
   "pygments_lexer": "ipython3",
   "version": "3.5.2"
  }
 },
 "nbformat": 4,
 "nbformat_minor": 1
}
