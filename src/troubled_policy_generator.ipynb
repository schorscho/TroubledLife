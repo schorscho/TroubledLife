{
 "cells": [
  {
   "cell_type": "code",
   "execution_count": 1,
   "metadata": {},
   "outputs": [],
   "source": [
    "import os\n",
    "from datetime import datetime\n",
    "\n",
    "#PROJECT_ROOT_DIR = \"/home/ubuntu/TroubledLife\"\n",
    "PROJECT_ROOT_DIR = \"/Users/gopora/MyStuff/Dev/Workspaces/Sandbox/TroubledLife\"\n",
    "TF_LOG_DIR = os.path.join(PROJECT_ROOT_DIR, \"tf_logs\")\n",
    "MODEL_CHECKPOINTS_DIR = os.path.join(PROJECT_ROOT_DIR, \"model_checkpoints\")\n",
    "\n",
    "now = datetime.now().strftime(\"%Y%m%d-%H%M%S\")\n",
    "log_dir = \"{}/run-{}/\".format(TF_LOG_DIR, now)\n",
    "\n",
    "\n",
    "import data_preparation as dp\n",
    "\n",
    "runtime = 5\n",
    "\n",
    "\n",
    "def generator_loss(Gz, init_z):\n",
    "    premium = init_z[:, 0]\n",
    "    interest = init_z[:, 1] * 0.03 + init_z[:, 2] * 0.04 + init_z[:, 3] * 0.05 + init_z[:, 4] * 0.06\n",
    "    \n",
    "    k1 = premium\n",
    "    k1v = k1 * (1 + interest)\n",
    "    k2 = premium + k1v\n",
    "    k2v = k2 * (1 + interest)\n",
    "    k3 = premium + k2v\n",
    "    k3v = k3 * (1 + interest)\n",
    "    k4 = premium + k3v\n",
    "    k4v = k4 * (1 + interest)\n",
    "    k5 = premium + k4v\n",
    "    k5v = k5 * (1 + interest)\n",
    "    \n",
    "    # loss = (tf.abs(Gz[:, 0, 0] - premium) + tf.abs(Gz[:, 0, 1]) +\n",
    "    #                        tf.abs(Gz[:, 1, 0] - premium) + tf.abs(Gz[:, 1, 1] - k1) +\n",
    "    #                        tf.abs(Gz[:, 2, 0] - premium) + tf.abs(Gz[:, 2, 1] - k1v) +\n",
    "    #                        tf.abs(Gz[:, 3, 0] - premium) + tf.abs(Gz[:, 3, 1] - k2) +\n",
    "    #                        tf.abs(Gz[:, 4, 0] - premium) + tf.abs(Gz[:, 4, 1] - k2v) +\n",
    "    #                        tf.abs(Gz[:, 5, 0] - premium) + tf.abs(Gz[:, 5, 1] - k3) +\n",
    "    #                        tf.abs(Gz[:, 6, 0] - premium) + tf.abs(Gz[:, 6, 1] - k3v) +\n",
    "    #                        tf.abs(Gz[:, 7, 0] - premium) + tf.abs(Gz[:, 7, 1] - k4) +\n",
    "    #                        tf.abs(Gz[:, 8, 0] - premium) + tf.abs(Gz[:, 8, 1] - k4v) +\n",
    "    #                        tf.abs(Gz[:, 9, 0] - premium) + tf.abs(Gz[:, 9, 1] - k5) +\n",
    "    #                        tf.abs(Gz[:, 10, 0] - premium) + tf.abs(Gz[:, 10, 1] - k5v)\n",
    "    #                        )\n",
    "    \n",
    "    boost = 1\n",
    "\n",
    "    loss = (tf.pow(boost * (Gz[:, 0, 0] - premium), 2) + tf.pow(Gz[:, 0, 1], 2) +\n",
    "                           tf.pow(boost * (Gz[:, 1, 0] - premium), 2) + tf.pow(boost * (Gz[:, 1, 1] - k1), 2) +\n",
    "                           tf.pow(boost * (Gz[:, 2, 0] - premium), 2) + tf.pow(boost * (Gz[:, 2, 1] - k1v), 2) +\n",
    "                           tf.pow(boost * (Gz[:, 3, 0] - premium), 2) + tf.pow(boost * (Gz[:, 3, 1] - k2), 2) +\n",
    "                           tf.pow(boost * (Gz[:, 4, 0] - premium), 2) + tf.pow(boost * (Gz[:, 4, 1] - k2v), 2) +\n",
    "                           tf.pow(boost * (Gz[:, 5, 0] - premium), 2) + tf.pow(boost * (Gz[:, 5, 1] - k3), 2) +\n",
    "                           tf.pow(boost * (Gz[:, 6, 0] - premium), 2) + tf.pow(boost * (Gz[:, 6, 1] - k3v), 2) +\n",
    "                           tf.pow(boost * (Gz[:, 7, 0] - premium), 2) + tf.pow(boost * (Gz[:, 7, 1] - k4), 2) +\n",
    "                           tf.pow(boost * (Gz[:, 8, 0] - premium), 2) + tf.pow(boost * (Gz[:, 8, 1] - k4v), 2) +\n",
    "                           tf.pow(boost * (Gz[:, 9, 0] - premium), 2) + tf.pow(boost * (Gz[:, 9, 1] - k5), 2) +\n",
    "                           tf.pow(boost * (Gz[:, 10, 0] - premium), 2) + tf.pow(boost * (Gz[:, 10, 1] - k5v), 2)\n",
    "                           )\n",
    "    loss_mean = tf.reduce_mean(tf.sqrt(loss))\n",
    "                           \n",
    "    # loss_mean = tf.reduce_mean(tf.abs(Gz[:, 0, 0] - premium)) + tf.reduce_mean(tf.abs(Gz[:, 0, 1])) + \\\n",
    "    #             tf.reduce_mean(tf.abs(Gz[:, 1, 0] - premium)) + tf.reduce_mean(tf.abs(Gz[:, 1, 1] - k1)) + \\\n",
    "    #             tf.reduce_mean(tf.abs(Gz[:, 2, 0] - premium)) + tf.reduce_mean(tf.abs(Gz[:, 2, 1] - k1v)) + \\\n",
    "    #             tf.reduce_mean(tf.abs(Gz[:, 3, 0] - premium)) + tf.reduce_mean(tf.abs(Gz[:, 3, 1] - k2)) + \\\n",
    "    #             tf.reduce_mean(tf.abs(Gz[:, 4, 0] - premium)) + tf.reduce_mean(tf.abs(Gz[:, 4, 1] - k2v)) + \\\n",
    "    #             tf.reduce_mean(tf.abs(Gz[:, 5, 0] - premium)) + tf.reduce_mean(tf.abs(Gz[:, 5, 1] - k3)) + \\\n",
    "    #             tf.reduce_mean(tf.abs(Gz[:, 6, 0] - premium)) + tf.reduce_mean(tf.abs(Gz[:, 6, 1] - k3v)) + \\\n",
    "    #             tf.reduce_mean(tf.abs(Gz[:, 7, 0] - premium)) + tf.reduce_mean(tf.abs(Gz[:, 7, 1] - k4)) + \\\n",
    "    #             tf.reduce_mean(tf.abs(Gz[:, 8, 0] - premium)) + tf.reduce_mean(tf.abs(Gz[:, 8, 1] - k4v)) + \\\n",
    "    #             tf.reduce_mean(tf.abs(Gz[:, 9, 0] - premium)) + tf.reduce_mean(tf.abs(Gz[:, 9, 1] - k5)) + \\\n",
    "    #             tf.reduce_mean(tf.abs(Gz[:, 10, 0] - premium)) + tf.reduce_mean(tf.abs(Gz[:, 10, 1] - k5v))\n",
    "\n",
    "    #loss_mean = tf.reduce_mean(loss)\n",
    "    \n",
    "    return loss_mean, loss\n",
    "\n"
   ]
  },
  {
   "cell_type": "code",
   "execution_count": 6,
   "metadata": {},
   "outputs": [],
   "source": [
    "import tensorflow as tf\n",
    "import gan as gan\n",
    "\n",
    "size_batch = 200\n",
    "max_length_policy_history=15\n",
    "\n",
    "# Generator hyperparameters\n",
    "cell_type_g=\"LayerNormLSTM\"\n",
    "leaky_g=False\n",
    "n_inputs_g = 5\n",
    "n_layers_g = 2\n",
    "n_neurons_g = 40\n",
    "n_outputs_g = 2\n",
    "input_keep_prob_g = 1.0\n",
    "learning_rate_g = 1e-04\n",
    "beta1_g=0.9\n",
    "beta2_g=0.999\n",
    "epsilon_g=1e-08\n",
    "clip_g=True\n",
    "threshold_g = 1.0\n",
    "\n",
    "tf.reset_default_graph()\n",
    "tf.set_random_seed(42)\n",
    "\n",
    "Z = tf.placeholder(tf.float32, [None, max_length_policy_history, n_inputs_g], name='Z')\n",
    "init_z = tf.placeholder(tf.float32, [None, n_inputs_g], name='init_z')\n",
    "seq_length_z = tf.placeholder(tf.int32, [None], name='seq_length_z')\n",
    "\n",
    "Gz = gan.generator(Z=Z, n_outputs=n_outputs_g, \n",
    "                   n_layers=n_layers_g, n_neurons=n_neurons_g, \n",
    "                   seq_length=seq_length_z, cell_type=cell_type_g, leaky=leaky_g, input_keep_prob=input_keep_prob_g)\n",
    "\n",
    "loss_mean_g, loss_g = generator_loss(Gz=Gz, init_z=init_z)\n",
    "\n",
    "g_trainer = gan.generator_trainer(learning_rate=learning_rate_g, beta1=beta1_g, beta2=beta2_g, epsilon=epsilon_g, \n",
    "                                  clip=clip_g, threshold=threshold_g, loss=loss_mean_g)\n",
    "\n",
    "tf.summary.scalar('Generator_loss', loss_mean_g)\n",
    "\n",
    "merged = tf.summary.merge_all()\n",
    "writer = tf.summary.FileWriter(log_dir, tf.get_default_graph())\n",
    "\n",
    "tvars = tf.trainable_variables()\n",
    "\n",
    "g_saver = tf.train.Saver(var_list=[var for var in tvars if \"t_generator\" in var.name])"
   ]
  },
  {
   "cell_type": "code",
   "execution_count": 7,
   "metadata": {},
   "outputs": [],
   "source": [
    "import numpy as np\n",
    "\n",
    "np.set_printoptions(formatter={'float_kind': (lambda x: \"%.2f\" % x)})\n",
    "\n",
    "sess = tf.Session()\n",
    "\n",
    "sess.run(tf.global_variables_initializer())\n",
    "sess.run(tf.local_variables_initializer())"
   ]
  },
  {
   "cell_type": "code",
   "execution_count": 10,
   "metadata": {},
   "outputs": [
    {
     "name": "stdout",
     "output_type": "stream",
     "text": [
      "INFO:tensorflow:Restoring parameters from /Users/gopora/MyStuff/Dev/Workspaces/Sandbox/TroubledLife/model_checkpoints/generator.ckpt\n"
     ]
    },
    {
     "name": "stdout",
     "output_type": "stream",
     "text": [
      "Epoch: 0 lossG: 1531.19\n[1239.07 1.00 0.00 0.00 0.00]\n[[1255.46 -0.22]\n [1265.42 1280.47]\n [1273.87 1336.63]\n [1260.38 2601.33]\n [1278.40 2740.29]\n [1258.17 3931.17]\n [1269.28 4014.84]\n [1248.97 5238.22]\n [1234.34 5427.68]\n [1234.90 6695.07]\n [1230.51 6912.21]\n [5.59 11.89]\n [5.59 11.89]\n [5.59 11.89]\n [5.59 11.89]]\n"
     ]
    },
    {
     "name": "stdout",
     "output_type": "stream",
     "text": [
      "Epoch: 1 lossG: 1491.95\n[1356.38 1.00 0.00 0.00 0.00]\n[[1245.89 -0.12]\n [1257.14 1245.07]\n [1245.65 1283.04]\n [1251.72 2493.19]\n [1240.30 2566.58]\n [1237.99 3789.91]\n [1251.80 3909.95]\n [1233.29 5141.86]\n [1224.12 5286.45]\n [1250.08 6565.60]\n [1239.31 6796.13]\n [5.58 11.87]\n [5.58 11.87]\n [5.58 11.87]\n [5.58 11.87]]\n"
     ]
    },
    {
     "name": "stdout",
     "output_type": "stream",
     "text": [
      "Epoch: 2 lossG: 1500.38\n[1288.53 1.00 0.00 0.00 0.00]\n[[1238.87 8.42]\n [1235.43 1230.84]\n [1232.08 1264.24]\n [1257.98 2492.71]\n [1230.65 2553.77]\n [1223.46 3807.84]\n [1227.94 3894.13]\n [1218.00 5123.53]\n [1239.33 5263.23]\n [1229.91 6514.03]\n [1241.65 6751.96]\n [5.57 11.88]\n [5.57 11.88]\n [5.57 11.88]\n [5.57 11.88]]\n"
     ]
    },
    {
     "name": "stdout",
     "output_type": "stream",
     "text": [
      "Epoch: 3 lossG: 1407.86\n[1161.72 1.00 0.00 0.00 0.00]\n[[1238.25 -9.23]\n [1245.08 1217.12]\n [1233.01 1234.67]\n [1248.97 2475.80]\n [1241.39 2511.23]\n [1240.59 3830.41]\n [1241.13 3941.95]\n [1271.02 5215.66]\n [1255.63 5346.96]\n [1257.32 6599.93]\n [1260.86 6809.25]\n [5.59 11.86]\n [5.59 11.86]\n [5.59 11.86]\n [5.59 11.86]]\n"
     ]
    },
    {
     "name": "stdout",
     "output_type": "stream",
     "text": [
      "Epoch: 4 lossG: 1410.49\n[1073.91 1.00 0.00 0.00 0.00]\n[[1250.37 4.85]\n [1252.84 1242.27]\n [1244.67 1244.54]\n [1273.21 2465.20]\n [1245.51 2466.59]\n [1234.32 3772.36]\n [1244.24 3890.42]\n [1254.57 5194.05]\n [1266.03 5371.59]\n [1275.52 6643.84]\n [1268.13 6854.88]\n [5.59 11.86]\n [5.59 11.86]\n [5.59 11.86]\n [5.59 11.86]]\n"
     ]
    },
    {
     "name": "stdout",
     "output_type": "stream",
     "text": [
      "Epoch: 5 lossG: 1492.75\n[1486.19 1.00 0.00 0.00 0.00]\n[[1237.65 3.46]\n [1241.09 1224.83]\n [1241.93 1244.69]\n [1237.56 2491.13]\n [1243.87 2546.72]\n [1232.64 3812.27]\n [1246.62 3976.20]\n [1249.72 5198.46]\n [1253.38 5367.80]\n [1240.81 6606.49]\n [1251.34 6816.73]\n [5.60 11.86]\n [5.60 11.86]\n [5.60 11.86]\n [5.60 11.86]]\n"
     ]
    },
    {
     "name": "stdout",
     "output_type": "stream",
     "text": [
      "Epoch: 6 lossG: 1458.94\n[1428.82 1.00 0.00 0.00 0.00]\n[[1244.51 -4.86]\n [1238.86 1240.89]\n [1238.34 1299.67]\n [1241.59 2544.71]\n [1250.98 2639.81]\n [1255.32 3857.66]\n [1251.26 3979.15]\n [1248.14 5201.76]\n [1252.84 5364.98]\n [1242.09 6602.77]\n [1239.10 6798.35]\n [5.60 11.88]\n [5.60 11.88]\n [5.60 11.88]\n [5.60 11.88]]\n"
     ]
    },
    {
     "name": "stdout",
     "output_type": "stream",
     "text": [
      "Epoch: 7 lossG: 1632.89\n[1196.90 1.00 0.00 0.00 0.00]\n[[1262.19 9.90]\n [1257.13 1263.39]\n [1259.95 1291.92]\n [1275.79 2560.32]\n [1259.07 2617.44]\n [1272.60 3955.12]\n [1268.82 4052.54]\n [1277.25 5379.49]\n [1281.11 5515.42]\n [1266.87 6780.62]\n [1265.75 6927.48]\n [5.61 11.89]\n [5.61 11.89]\n [5.61 11.89]\n [5.61 11.89]]\n"
     ]
    },
    {
     "name": "stdout",
     "output_type": "stream",
     "text": [
      "Epoch: 8 lossG: 1423.85\n[1383.32 1.00 0.00 0.00 0.00]\n[[1240.81 -3.18]\n [1252.63 1269.95]\n [1251.78 1321.72]\n [1250.36 2591.44]\n [1242.85 2685.02]\n [1250.03 3887.25]\n [1248.51 3998.44]\n [1240.70 5212.51]\n [1246.44 5378.71]\n [1236.37 6630.63]\n [1240.94 6841.69]\n [5.62 11.87]\n [5.62 11.87]\n [5.62 11.87]\n [5.62 11.87]]\n"
     ]
    },
    {
     "name": "stdout",
     "output_type": "stream",
     "text": [
      "Epoch: 9 lossG: 1413.52\n[1336.97 1.00 0.00 0.00 0.00]\n[[1254.68 14.09]\n [1254.84 1289.12]\n [1256.35 1332.84]\n [1254.21 2639.73]\n [1262.94 2744.24]\n [1265.63 3966.16]\n [1265.87 4088.32]\n [1266.57 5301.11]\n [1266.47 5449.88]\n [1257.46 6686.51]\n [1258.88 6874.70]\n [5.62 11.87]\n [5.62 11.87]\n [5.62 11.87]\n [5.62 11.87]]\n"
     ]
    },
    {
     "name": "stdout",
     "output_type": "stream",
     "text": [
      "Epoch: 10 lossG: 1450.5\n[1071.53 1.00 0.00 0.00 0.00]\n[[1244.45 -9.05]\n [1249.40 1242.80]\n [1247.04 1297.87]\n [1254.48 2554.37]\n [1247.63 2626.61]\n [1259.43 3872.22]\n [1255.07 3984.42]\n [1252.22 5226.74]\n [1260.85 5396.08]\n [1253.41 6643.95]\n [1252.95 6847.43]\n [5.63 11.88]\n [5.63 11.88]\n [5.63 11.88]\n [5.63 11.88]]\n"
     ]
    },
    {
     "name": "stdout",
     "output_type": "stream",
     "text": [
      "Epoch: 11 lossG: 1407.43\n[1128.11 1.00 0.00 0.00 0.00]\n[[1251.54 -8.64]\n [1255.94 1248.79]\n [1255.57 1293.11]\n [1263.10 2530.02]\n [1247.46 2612.80]\n [1248.59 3881.25]\n [1249.19 3995.51]\n [1247.79 5243.67]\n [1245.62 5411.58]\n [1254.38 6674.20]\n [1254.71 6877.21]\n [5.63 11.88]\n [5.63 11.88]\n [5.63 11.88]\n [5.63 11.88]]\n"
     ]
    },
    {
     "name": "stdout",
     "output_type": "stream",
     "text": [
      "Epoch: 12 lossG: 1443.16\n[1352.05 1.00 0.00 0.00 0.00]\n[[1253.14 3.38]\n [1248.11 1273.66]\n [1247.82 1328.53]\n [1240.32 2587.21]\n [1242.14 2699.43]\n [1248.46 3897.45]\n [1242.27 4027.96]\n [1239.96 5220.92]\n [1237.94 5376.00]\n [1226.87 6597.37]\n [1228.31 6800.57]\n [5.63 11.88]\n [5.63 11.88]\n [5.63 11.88]\n [5.63 11.88]]\n"
     ]
    },
    {
     "name": "stdout",
     "output_type": "stream",
     "text": [
      "Epoch: 13 lossG: 1512.58\n[1155.61 1.00 0.00 0.00 0.00]\n[[1256.92 2.96]\n [1251.86 1246.66]\n [1248.65 1272.53]\n [1245.14 2506.14]\n [1258.39 2553.62]\n [1248.68 3823.66]\n [1243.10 3928.93]\n [1249.90 5216.62]\n [1251.91 5386.38]\n [1254.74 6653.18]\n [1249.42 6851.41]\n [5.64 11.89]\n [5.64 11.89]\n [5.64 11.89]\n [5.64 11.89]]\n"
     ]
    },
    {
     "name": "stdout",
     "output_type": "stream",
     "text": [
      "Epoch: 14 lossG: 1597.1\n[1072.35 1.00 0.00 0.00 0.00]\n[[1247.95 0.41]\n [1253.26 1266.70]\n [1255.50 1305.31]\n [1246.79 2558.78]\n [1248.90 2650.69]\n [1244.64 3886.62]\n [1248.53 4002.77]\n [1252.56 5234.89]\n [1250.42 5391.66]\n [1234.63 6652.09]\n [1241.05 6847.02]\n [5.64 11.88]\n [5.64 11.88]\n [5.64 11.88]\n [5.64 11.88]]\n"
     ]
    },
    {
     "name": "stdout",
     "output_type": "stream",
     "text": [
      "Epoch: 15 lossG: 1478.48\n[1097.58 1.00 0.00 0.00 0.00]\n[[1244.54 -2.40]\n [1238.48 1240.57]\n [1234.08 1275.84]\n [1235.55 2527.78]\n [1234.93 2592.55]\n [1236.06 3838.30]\n [1237.74 3959.45]\n [1237.31 5211.92]\n [1235.02 5371.45]\n [1240.56 6618.67]\n [1240.34 6827.51]\n [5.63 11.87]\n [5.63 11.87]\n [5.63 11.87]\n [5.63 11.87]]\n"
     ]
    },
    {
     "name": "stdout",
     "output_type": "stream",
     "text": [
      "Epoch: 16 lossG: 1502.43\n[1449.56 1.00 0.00 0.00 0.00]\n[[1257.15 5.63]\n [1249.96 1278.39]\n [1249.00 1308.98]\n [1233.93 2590.64]\n [1249.55 2674.73]\n [1254.67 3896.40]\n [1248.89 4005.49]\n [1252.71 5235.94]\n [1252.15 5387.64]\n [1248.66 6631.71]\n [1238.94 6824.73]\n [5.62 11.89]\n [5.62 11.89]\n [5.62 11.89]\n [5.62 11.89]]\n"
     ]
    },
    {
     "ename": "KeyboardInterrupt",
     "evalue": "",
     "traceback": [
      "\u001b[0;31m---------------------------------------------------------------------------\u001b[0m",
      "\u001b[0;31mKeyboardInterrupt\u001b[0m                         Traceback (most recent call last)",
      "\u001b[0;32m<ipython-input-10-e88d8eeea05c>\u001b[0m in \u001b[0;36m<module>\u001b[0;34m()\u001b[0m\n\u001b[1;32m     11\u001b[0m \u001b[0;34m\u001b[0m\u001b[0m\n\u001b[1;32m     12\u001b[0m         _, lossMeanG, lossG, gData =             sess.run([g_trainer, loss_mean_g, loss_g, Gz], \n\u001b[0;32m---> 13\u001b[0;31m                      feed_dict={Z: Z_batch, seq_length_z: seq_length_z_batch, init_z: init_z_batch})\n\u001b[0m\u001b[1;32m     14\u001b[0m \u001b[0;34m\u001b[0m\u001b[0m\n\u001b[1;32m     15\u001b[0m     \u001b[0msummary\u001b[0m \u001b[0;34m=\u001b[0m \u001b[0msess\u001b[0m\u001b[0;34m.\u001b[0m\u001b[0mrun\u001b[0m\u001b[0;34m(\u001b[0m\u001b[0mmerged\u001b[0m\u001b[0;34m,\u001b[0m \u001b[0mfeed_dict\u001b[0m\u001b[0;34m=\u001b[0m\u001b[0;34m{\u001b[0m\u001b[0mZ\u001b[0m\u001b[0;34m:\u001b[0m \u001b[0mZ_batch\u001b[0m\u001b[0;34m,\u001b[0m \u001b[0mseq_length_z\u001b[0m\u001b[0;34m:\u001b[0m \u001b[0mseq_length_z_batch\u001b[0m\u001b[0;34m,\u001b[0m \u001b[0minit_z\u001b[0m\u001b[0;34m:\u001b[0m \u001b[0minit_z_batch\u001b[0m\u001b[0;34m}\u001b[0m\u001b[0;34m)\u001b[0m\u001b[0;34m\u001b[0m\u001b[0m\n",
      "\u001b[0;32m~/MyStuff/Dev/python-virtual-envs/pie36-tf13/lib/python3.6/site-packages/tensorflow/python/client/session.py\u001b[0m in \u001b[0;36mrun\u001b[0;34m(self, fetches, feed_dict, options, run_metadata)\u001b[0m\n\u001b[1;32m    893\u001b[0m     \u001b[0;32mtry\u001b[0m\u001b[0;34m:\u001b[0m\u001b[0;34m\u001b[0m\u001b[0m\n\u001b[1;32m    894\u001b[0m       result = self._run(None, fetches, feed_dict, options_ptr,\n\u001b[0;32m--> 895\u001b[0;31m                          run_metadata_ptr)\n\u001b[0m\u001b[1;32m    896\u001b[0m       \u001b[0;32mif\u001b[0m \u001b[0mrun_metadata\u001b[0m\u001b[0;34m:\u001b[0m\u001b[0;34m\u001b[0m\u001b[0m\n\u001b[1;32m    897\u001b[0m         \u001b[0mproto_data\u001b[0m \u001b[0;34m=\u001b[0m \u001b[0mtf_session\u001b[0m\u001b[0;34m.\u001b[0m\u001b[0mTF_GetBuffer\u001b[0m\u001b[0;34m(\u001b[0m\u001b[0mrun_metadata_ptr\u001b[0m\u001b[0;34m)\u001b[0m\u001b[0;34m\u001b[0m\u001b[0m\n",
      "\u001b[0;32m~/MyStuff/Dev/python-virtual-envs/pie36-tf13/lib/python3.6/site-packages/tensorflow/python/client/session.py\u001b[0m in \u001b[0;36m_run\u001b[0;34m(self, handle, fetches, feed_dict, options, run_metadata)\u001b[0m\n\u001b[1;32m   1122\u001b[0m     \u001b[0;32mif\u001b[0m \u001b[0mfinal_fetches\u001b[0m \u001b[0;32mor\u001b[0m \u001b[0mfinal_targets\u001b[0m \u001b[0;32mor\u001b[0m \u001b[0;34m(\u001b[0m\u001b[0mhandle\u001b[0m \u001b[0;32mand\u001b[0m \u001b[0mfeed_dict_tensor\u001b[0m\u001b[0;34m)\u001b[0m\u001b[0;34m:\u001b[0m\u001b[0;34m\u001b[0m\u001b[0m\n\u001b[1;32m   1123\u001b[0m       results = self._do_run(handle, final_targets, final_fetches,\n\u001b[0;32m-> 1124\u001b[0;31m                              feed_dict_tensor, options, run_metadata)\n\u001b[0m\u001b[1;32m   1125\u001b[0m     \u001b[0;32melse\u001b[0m\u001b[0;34m:\u001b[0m\u001b[0;34m\u001b[0m\u001b[0m\n\u001b[1;32m   1126\u001b[0m       \u001b[0mresults\u001b[0m \u001b[0;34m=\u001b[0m \u001b[0;34m[\u001b[0m\u001b[0;34m]\u001b[0m\u001b[0;34m\u001b[0m\u001b[0m\n",
      "\u001b[0;32m~/MyStuff/Dev/python-virtual-envs/pie36-tf13/lib/python3.6/site-packages/tensorflow/python/client/session.py\u001b[0m in \u001b[0;36m_do_run\u001b[0;34m(self, handle, target_list, fetch_list, feed_dict, options, run_metadata)\u001b[0m\n\u001b[1;32m   1319\u001b[0m     \u001b[0;32mif\u001b[0m \u001b[0mhandle\u001b[0m \u001b[0;32mis\u001b[0m \u001b[0;32mNone\u001b[0m\u001b[0;34m:\u001b[0m\u001b[0;34m\u001b[0m\u001b[0m\n\u001b[1;32m   1320\u001b[0m       return self._do_call(_run_fn, self._session, feeds, fetches, targets,\n\u001b[0;32m-> 1321\u001b[0;31m                            options, run_metadata)\n\u001b[0m\u001b[1;32m   1322\u001b[0m     \u001b[0;32melse\u001b[0m\u001b[0;34m:\u001b[0m\u001b[0;34m\u001b[0m\u001b[0m\n\u001b[1;32m   1323\u001b[0m       \u001b[0;32mreturn\u001b[0m \u001b[0mself\u001b[0m\u001b[0;34m.\u001b[0m\u001b[0m_do_call\u001b[0m\u001b[0;34m(\u001b[0m\u001b[0m_prun_fn\u001b[0m\u001b[0;34m,\u001b[0m \u001b[0mself\u001b[0m\u001b[0;34m.\u001b[0m\u001b[0m_session\u001b[0m\u001b[0;34m,\u001b[0m \u001b[0mhandle\u001b[0m\u001b[0;34m,\u001b[0m \u001b[0mfeeds\u001b[0m\u001b[0;34m,\u001b[0m \u001b[0mfetches\u001b[0m\u001b[0;34m)\u001b[0m\u001b[0;34m\u001b[0m\u001b[0m\n",
      "\u001b[0;32m~/MyStuff/Dev/python-virtual-envs/pie36-tf13/lib/python3.6/site-packages/tensorflow/python/client/session.py\u001b[0m in \u001b[0;36m_do_call\u001b[0;34m(self, fn, *args)\u001b[0m\n\u001b[1;32m   1325\u001b[0m   \u001b[0;32mdef\u001b[0m \u001b[0m_do_call\u001b[0m\u001b[0;34m(\u001b[0m\u001b[0mself\u001b[0m\u001b[0;34m,\u001b[0m \u001b[0mfn\u001b[0m\u001b[0;34m,\u001b[0m \u001b[0;34m*\u001b[0m\u001b[0margs\u001b[0m\u001b[0;34m)\u001b[0m\u001b[0;34m:\u001b[0m\u001b[0;34m\u001b[0m\u001b[0m\n\u001b[1;32m   1326\u001b[0m     \u001b[0;32mtry\u001b[0m\u001b[0;34m:\u001b[0m\u001b[0;34m\u001b[0m\u001b[0m\n\u001b[0;32m-> 1327\u001b[0;31m       \u001b[0;32mreturn\u001b[0m \u001b[0mfn\u001b[0m\u001b[0;34m(\u001b[0m\u001b[0;34m*\u001b[0m\u001b[0margs\u001b[0m\u001b[0;34m)\u001b[0m\u001b[0;34m\u001b[0m\u001b[0m\n\u001b[0m\u001b[1;32m   1328\u001b[0m     \u001b[0;32mexcept\u001b[0m \u001b[0merrors\u001b[0m\u001b[0;34m.\u001b[0m\u001b[0mOpError\u001b[0m \u001b[0;32mas\u001b[0m \u001b[0me\u001b[0m\u001b[0;34m:\u001b[0m\u001b[0;34m\u001b[0m\u001b[0m\n\u001b[1;32m   1329\u001b[0m       \u001b[0mmessage\u001b[0m \u001b[0;34m=\u001b[0m \u001b[0mcompat\u001b[0m\u001b[0;34m.\u001b[0m\u001b[0mas_text\u001b[0m\u001b[0;34m(\u001b[0m\u001b[0me\u001b[0m\u001b[0;34m.\u001b[0m\u001b[0mmessage\u001b[0m\u001b[0;34m)\u001b[0m\u001b[0;34m\u001b[0m\u001b[0m\n",
      "\u001b[0;32m~/MyStuff/Dev/python-virtual-envs/pie36-tf13/lib/python3.6/site-packages/tensorflow/python/client/session.py\u001b[0m in \u001b[0;36m_run_fn\u001b[0;34m(session, feed_dict, fetch_list, target_list, options, run_metadata)\u001b[0m\n\u001b[1;32m   1304\u001b[0m           return tf_session.TF_Run(session, options,\n\u001b[1;32m   1305\u001b[0m                                    \u001b[0mfeed_dict\u001b[0m\u001b[0;34m,\u001b[0m \u001b[0mfetch_list\u001b[0m\u001b[0;34m,\u001b[0m \u001b[0mtarget_list\u001b[0m\u001b[0;34m,\u001b[0m\u001b[0;34m\u001b[0m\u001b[0m\n\u001b[0;32m-> 1306\u001b[0;31m                                    status, run_metadata)\n\u001b[0m\u001b[1;32m   1307\u001b[0m \u001b[0;34m\u001b[0m\u001b[0m\n\u001b[1;32m   1308\u001b[0m     \u001b[0;32mdef\u001b[0m \u001b[0m_prun_fn\u001b[0m\u001b[0;34m(\u001b[0m\u001b[0msession\u001b[0m\u001b[0;34m,\u001b[0m \u001b[0mhandle\u001b[0m\u001b[0;34m,\u001b[0m \u001b[0mfeed_dict\u001b[0m\u001b[0;34m,\u001b[0m \u001b[0mfetch_list\u001b[0m\u001b[0;34m)\u001b[0m\u001b[0;34m:\u001b[0m\u001b[0;34m\u001b[0m\u001b[0m\n",
      "\u001b[0;31mKeyboardInterrupt\u001b[0m: "
     ],
     "output_type": "error"
    }
   ],
   "source": [
    "g_saver.restore(sess, os.path.join(MODEL_CHECKPOINTS_DIR, \"generator.ckpt\"))\n",
    "\n",
    "n_epochs = 400\n",
    "num_examples = 10000\n",
    "\n",
    "for epoch in range(n_epochs):\n",
    "    for batch in range(num_examples // size_batch):\n",
    "        Z_batch, seq_length_z_batch, init_z_batch = dp.generate_Z_batch(\n",
    "            size_batch=size_batch, max_length_policy_history=max_length_policy_history, \n",
    "            n_inputs = n_inputs_g, runtime=runtime)\n",
    "\n",
    "        _, lossMeanG, lossG, gData = \\\n",
    "            sess.run([g_trainer, loss_mean_g, loss_g, Gz], \n",
    "                     feed_dict={Z: Z_batch, seq_length_z: seq_length_z_batch, init_z: init_z_batch})\n",
    "\n",
    "    summary = sess.run(merged, feed_dict={Z: Z_batch, seq_length_z: seq_length_z_batch, init_z: init_z_batch})\n",
    "    writer.add_summary(summary, epoch)\n",
    "\n",
    "    print(\"Epoch:\", epoch, \"lossG:\", lossMeanG)\n",
    "    \n",
    "#    print(lossMeanG[0])\n",
    "    print(Z_batch[0, 0])\n",
    "    print(gData[0])\n",
    "    \n",
    "g_saver.save(sess, os.path.join(MODEL_CHECKPOINTS_DIR, \"generator3.ckpt\"))    "
   ]
  },
  {
   "cell_type": "code",
   "execution_count": 9,
   "metadata": {},
   "outputs": [
    {
     "data": {
      "text/plain": [
       "'/Users/gopora/MyStuff/Dev/Workspaces/Sandbox/TroubledLife/model_checkpoints/generator.ckpt'"
      ]
     },
     "execution_count": 9,
     "metadata": {},
     "output_type": "execute_result"
    }
   ],
   "source": [
    "g_saver.save(sess, os.path.join(MODEL_CHECKPOINTS_DIR, \"generator.ckpt\"))\n",
    "\n",
    " "
   ]
  },
  {
   "cell_type": "code",
   "execution_count": null,
   "metadata": {},
   "outputs": [],
   "source": []
  }
 ],
 "metadata": {
  "kernelspec": {
   "display_name": "Python 3",
   "language": "python",
   "name": "python3"
  },
  "language_info": {
   "codemirror_mode": {
    "name": "ipython",
    "version": 3
   },
   "file_extension": ".py",
   "mimetype": "text/x-python",
   "name": "python",
   "nbconvert_exporter": "python",
   "pygments_lexer": "ipython3",
   "version": "3.5.2"
  }
 },
 "nbformat": 4,
 "nbformat_minor": 1
}
