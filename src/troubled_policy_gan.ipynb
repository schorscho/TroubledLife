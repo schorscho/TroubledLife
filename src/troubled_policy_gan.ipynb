{
 "cells": [
  {
   "cell_type": "code",
   "execution_count": 1,
   "metadata": {
    "collapsed": true
   },
   "outputs": [],
   "source": [
    "import os\n",
    "from datetime import datetime\n",
    "\n",
    "PROJECT_ROOT_DIR = \"/Users/gopora/MyStuff/Dev/Workspaces/Sandbox/TroubledLife\"\n",
    "DATASETS_DIR = os.path.join(PROJECT_ROOT_DIR, \"data\")\n",
    "TF_LOG_DIR = os.path.join(PROJECT_ROOT_DIR, \"tf_logs\")\n",
    "MODEL_CHECKPOINTS_DIR = os.path.join(PROJECT_ROOT_DIR, \"model_checkpoints\")\n",
    "TRAINING_SET_DATA_FILE = \"troubled_life_policy_train_data.csv\"\n",
    "TEST_SET_DATA_FILE = \"troubled_life_policy_test_data.csv\"\n",
    "\n",
    "now = datetime.now().strftime(\"%Y%m%d-%H%M%S\")\n",
    "log_dir = \"{}/run-{}/\".format(TF_LOG_DIR, now)\n",
    "\n",
    "\n",
    "import data_preparation as dp\n",
    "\n",
    "#dp.generate_troubled_life_policy_data(no_of_policies=10000, runtime=5, file_path=os.path.join(DATASETS_DIR, TRAINING_SET_DATA_FILE))\n",
    "\n",
    "#dp.generate_troubled_life_policy_data(no_of_policies=2000, runtime=5, file_path=os.path.join(DATASETS_DIR, TEST_SET_DATA_FILE))\n",
    "\n",
    "policy_histories_train = \\\n",
    "    dp.load_troubled_life_policy_data(file_path=os.path.join(DATASETS_DIR, TRAINING_SET_DATA_FILE))\n",
    "\n",
    "policy_histories_test = \\\n",
    "    dp.load_troubled_life_policy_data(file_path=os.path.join(DATASETS_DIR, TEST_SET_DATA_FILE))\n",
    "\n",
    "policy_histories_length_train, max_policy_history_length_train = \\\n",
    "    dp.get_policy_history_lengths(policy_histories=policy_histories_train)\n",
    "\n",
    "policy_histories_length_test, max_policy_history_length_test = \\\n",
    "    dp.get_policy_history_lengths(policy_histories=policy_histories_test)\n",
    "\n",
    "max_policy_history_length = max(max_policy_history_length_train, max_policy_history_length_test)\n",
    "\n",
    "\n",
    "\n",
    "# Pad the histories up to maximum length of both, train and test set\n",
    "\n",
    "# policy_histories_train = \\\n",
    "#     dp.pad_troubled_life_policy_histories(policy_histories=policy_histories_train,\n",
    "#                                           policy_histories_lengths=policy_histories_length_train,\n",
    "#                                           max_policy_history_length=max_policy_history_length)\n",
    "# \n",
    "# policy_histories_test = \\\n",
    "#     dp.pad_troubled_life_policy_histories(policy_histories=policy_histories_test,\n",
    "#                                           policy_histories_lengths=policy_histories_length_test,\n",
    "#                                           max_policy_history_length=max_policy_history_length)\n",
    "# \n",
    "# # # Save padded data, since always generating and padding takes too long\n",
    "# policy_histories_train.to_csv(path_or_buf=os.path.join(DATASETS_DIR, TRAINING_SET_DATA_FILE))\n",
    "# policy_histories_test.to_csv(path_or_buf=os.path.join(DATASETS_DIR, TEST_SET_DATA_FILE))\n",
    "\n",
    "# Extract features and labels from dataset as numpy.ndarray(s)\n",
    "binary_classification = True\n",
    "\n",
    "train_labels, train_features, train_seq_lengths =\\\n",
    "    dp.prepare_labels_features_lengths(policy_histories=policy_histories_train,\n",
    "                                       policy_histories_lengths=policy_histories_length_train, \n",
    "                                       max_policy_history_length=max_policy_history_length,\n",
    "                                       binary_classification=binary_classification)\n",
    "test_labels, test_features, test_seq_lengths =\\\n",
    "    dp.prepare_labels_features_lengths(policy_histories=policy_histories_test,\n",
    "                                       policy_histories_lengths=policy_histories_length_test, \n",
    "                                       max_policy_history_length=max_policy_history_length,\n",
    "                                       binary_classification=binary_classification)\n",
    "\n",
    "train_data = dp.TrainDataSet(train_labels=train_labels, train_features=train_features, train_seq_lengths=train_seq_lengths)"
   ]
  },
  {
   "cell_type": "code",
   "execution_count": 5,
   "metadata": {
    "collapsed": true
   },
   "outputs": [],
   "source": [
    "import tensorflow as tf\n",
    "import gan as gan\n",
    "\n",
    "\n",
    "g_learning_rate = 0.0001\n",
    "d_real_learning_rate = 0.0001\n",
    "d_fake_learning_rate = 0.0001\n",
    "noise_dimensions = 10\n",
    "batch_size = 200\n",
    "g_n_outputs = 2\n",
    "d_n_inputs = 2\n",
    "d_n_outputs = 2 if binary_classification else max_policy_history_length\n",
    "\n",
    "tf.reset_default_graph()\n",
    "tf.set_random_seed(42)\n",
    "\n",
    "noise = tf.placeholder(tf.float32, [batch_size, max_policy_history_length, noise_dimensions], name='noise')\n",
    "noise_seq_length = tf.placeholder(tf.int32, [None], name='noise_seq_length')\n",
    "\n",
    "X = tf.placeholder(tf.float32, [None, max_policy_history_length, d_n_inputs], name=\"X\")\n",
    "y = tf.placeholder(tf.int32, [None], name=\"y\")\n",
    "X_seq_length = tf.placeholder(tf.int32, [None], name=\"X_seq_length\")\n",
    "\n",
    "g_data = gan.generator(noise=noise, batch_size=batch_size, n_outputs=g_n_outputs, \n",
    "                       max_seq_length=max_policy_history_length, seq_length=noise_seq_length)\n",
    "\n",
    "# Let's make sure the initial value at [:, 0, 1] is 0 (current capital at policy inception)\n",
    "flat = tf.reshape(tensor=g_data, shape=[batch_size * max_policy_history_length * g_n_outputs])\n",
    "flat2 = tf.Variable(initial_value=tf.zeros_like(flat), trainable=False, name=\"xyFlat\")\n",
    "flat3 = tf.assign(ref=flat2, value=flat)\n",
    "flat4 = tf.scatter_update(flat3, [1 + i * max_policy_history_length * g_n_outputs for i in range(batch_size)],\n",
    "                                 [0 for j in range(batch_size)])\n",
    "g_ms_data = tf.reshape(tensor=flat4, shape=[batch_size, max_policy_history_length, g_n_outputs])\n",
    "\n",
    "logits_d_for_X, y_pred_X = gan.discriminator(X=X, seq_length=X_seq_length, n_outputs=d_n_outputs)\n",
    "logits_d_for_g, y_pred_g = gan.discriminator(X=g_ms_data, seq_length=noise_seq_length, n_outputs=d_n_outputs, reuse=True)\n",
    "\n",
    "g_loss, accuracy_g = gan.generator_loss(batch_size=batch_size, logits_d=logits_d_for_g, logits_g = g_data)\n",
    "d_loss_real, accuracy_d_real = gan.discriminator_loss_real(logits=logits_d_for_X, y=y)\n",
    "d_loss_fake, accuracy_d_fake = gan.discriminator_loss_fake(batch_size=batch_size, logits=logits_d_for_g)\n",
    "\n",
    "g_trainer = gan.generator_trainer(g_learning_rate, g_loss)\n",
    "d_trainer_real = gan.discriminator_trainer_real(d_real_learning_rate, d_loss_real)\n",
    "d_trainer_fake = gan.discriminator_trainer_fake(d_fake_learning_rate, d_loss_fake)\n",
    "\n",
    "tf.summary.scalar('Generator_loss', g_loss)\n",
    "tf.summary.scalar('Discriminator_loss_real', d_loss_real)\n",
    "tf.summary.scalar('Discriminator_loss_fake', d_loss_fake)\n",
    "\n",
    "merged = tf.summary.merge_all()\n",
    "writer = tf.summary.FileWriter(log_dir, tf.get_default_graph())"
   ]
  },
  {
   "cell_type": "code",
   "execution_count": 6,
   "metadata": {},
   "outputs": [],
   "source": [
    "import numpy as np\n",
    "\n",
    "np.set_printoptions(formatter={'float_kind': (lambda x: \"%.2f\" % x)})\n",
    "\n",
    "sess = tf.Session()\n",
    "\n",
    "sess.run(tf.global_variables_initializer())\n",
    "sess.run(tf.local_variables_initializer())\n",
    "\n",
    "saver = tf.train.Saver()\n",
    "\n",
    "# n_epochs = 100\n",
    "# \n",
    "# # Pre-train discriminator\n",
    "# for epoch in range(n_epochs):\n",
    "#     for batch in range(train_data.num_examples // batch_size):\n",
    "#         noise_batch = np.random.normal(0, 1, size=[batch_size, max_policy_history_length, noise_dimensions])\n",
    "#         noise_seq_length_batch = np.full(batch_size, max_policy_history_length)\n",
    "# \n",
    "#         y_batch, X_batch, X_seq_length_batch = train_data.next_batch(batch_size)\n",
    "# \n",
    "#         _, __, dLossReal, dLossFake, acc_real_train, acc_fake_train = \\\n",
    "#             sess.run([d_trainer_real, d_trainer_fake, d_loss_real, d_loss_fake, accuracy_d_real, accuracy_d_fake],\n",
    "#                      {X: X_batch, y: y_batch, X_seq_length: X_seq_length_batch,\n",
    "#                       noise: noise_batch, noise_seq_length: noise_seq_length_batch})\n",
    "# \n",
    "#     print(\"Epoch:\", epoch, \"dLossReal:\", dLossReal, \"acc_real_train:\", acc_real_train,\n",
    "#           \"dLossFake:\", dLossFake, \"acc_fake_train:\", acc_fake_train)\n",
    "# \n",
    "# saver.save(sess, os.path.join(MODEL_CHECKPOINTS_DIR, \"discriminator.ckpt\"))"
   ]
  },
  {
   "cell_type": "code",
   "execution_count": 7,
   "metadata": {},
   "outputs": [
    {
     "name": "stdout",
     "output_type": "stream",
     "text": [
      "Epoch: 0 dLossFake: 0.6986 acc_fake_train: 0.225 gLoss: 2497.9 acc_g: 0.775\n[[0.76 0.00]\n [0.94 -0.06]\n [1.12 0.04]\n [1.69 0.19]\n [1.33 0.12]\n [1.26 0.16]\n [1.37 0.17]\n [1.55 0.13]\n [1.71 0.21]\n [1.38 0.09]\n [1.48 0.09]\n [1.43 0.17]\n [1.74 0.16]\n [1.44 -0.01]\n [1.75 0.03]]\n"
     ]
    },
    {
     "name": "stdout",
     "output_type": "stream",
     "text": [
      "Epoch: 1 dLossFake: 0.718764 acc_fake_train: 0.165 gLoss: 2489.18 acc_g: 0.835\n[[4.60 0.00]\n [5.85 0.10]\n [6.34 0.08]\n [5.87 0.22]\n [6.37 0.17]\n [6.23 0.40]\n [7.86 0.47]\n [7.76 0.31]\n [8.73 0.23]\n [8.16 0.58]\n [7.36 0.57]\n [5.82 0.79]\n [6.78 0.49]\n [6.84 0.61]\n [6.60 0.62]]\n"
     ]
    },
    {
     "name": "stdout",
     "output_type": "stream",
     "text": [
      "Epoch: 2 dLossFake: 0.794291 acc_fake_train: 0.12 gLoss: 2463.0 acc_g: 0.88\n[[21.53 0.00]\n [21.03 0.57]\n [19.98 0.89]\n [30.12 1.05]\n [26.66 0.97]\n [27.09 1.20]\n [28.31 1.96]\n [24.69 1.57]\n [23.37 1.89]\n [27.33 1.92]\n [23.37 1.87]\n [26.18 1.58]\n [28.87 1.74]\n [27.53 1.52]\n [24.29 1.74]]\n"
     ]
    },
    {
     "name": "stdout",
     "output_type": "stream",
     "text": [
      "Epoch: 3 dLossFake: 1.09009 acc_fake_train: 0.025 gLoss: 2397.72 acc_g: 0.975\n[[46.55 0.00]\n [57.57 0.86]\n [43.07 1.58]\n [51.68 2.28]\n [69.36 1.81]\n [76.89 2.03]\n [76.25 2.91]\n [68.07 3.35]\n [61.74 2.85]\n [65.78 3.31]\n [69.38 2.89]\n [58.11 2.20]\n [62.36 2.98]\n [68.55 2.74]\n [72.45 2.35]]\n"
     ]
    },
    {
     "name": "stdout",
     "output_type": "stream",
     "text": [
      "Epoch: 4 dLossFake: 1.81224 acc_fake_train: 0.025 gLoss: 2282.75 acc_g: 0.975\n[[112.60 0.00]\n [110.27 1.30]\n [127.84 3.17]\n [137.65 4.34]\n [144.23 4.01]\n [118.78 4.22]\n [156.17 5.57]\n [126.01 3.38]\n [171.97 4.83]\n [157.69 4.01]\n [135.15 4.54]\n [139.03 4.97]\n [157.33 4.42]\n [147.90 3.75]\n [127.33 4.07]]\n"
     ]
    },
    {
     "name": "stdout",
     "output_type": "stream",
     "text": [
      "Epoch: 5 dLossFake: 3.03648 acc_fake_train: 0.025 gLoss: 2066.94 acc_g: 0.975\n[[145.22 0.00]\n [145.08 1.27]\n [237.38 2.38]\n [284.94 6.11]\n [256.09 5.27]\n [260.28 7.06]\n [243.07 7.45]\n [247.91 5.97]\n [281.00 6.80]\n [282.45 6.48]\n [238.19 5.77]\n [223.93 6.96]\n [229.41 5.88]\n [235.39 4.30]\n [245.15 4.98]]\n"
     ]
    },
    {
     "name": "stdout",
     "output_type": "stream",
     "text": [
      "Epoch: 6 dLossFake: 5.71803 acc_fake_train: 0.02 gLoss: 1757.15 acc_g: 0.98\n[[456.19 0.00]\n [376.23 2.86]\n [425.15 8.11]\n [451.34 12.76]\n [410.66 8.18]\n [416.77 9.05]\n [407.79 9.72]\n [457.41 8.64]\n [389.15 7.51]\n [456.54 9.51]\n [511.34 8.74]\n [454.77 7.14]\n [528.11 10.54]\n [505.29 8.33]\n [482.63 8.31]]\n"
     ]
    },
    {
     "name": "stdout",
     "output_type": "stream",
     "text": [
      "Epoch: 7 dLossFake: 9.64194 acc_fake_train: 0.005 gLoss: 1286.89 acc_g: 0.995\n[[708.31 0.00]\n [784.01 4.84]\n [762.97 9.88]\n [696.68 19.92]\n [711.43 16.71]\n [656.86 12.96]\n [857.81 16.51]\n [693.02 10.33]\n [694.43 14.46]\n [911.62 16.40]\n [915.16 9.32]\n [887.01 12.76]\n [772.40 15.44]\n [764.28 12.44]\n [835.69 12.33]]\n"
     ]
    },
    {
     "name": "stdout",
     "output_type": "stream",
     "text": [
      "Epoch: 8 dLossFake: 15.9625 acc_fake_train: 0.0 gLoss: 629.902 acc_g: 1.0\n[[696.14 0.00]\n [854.58 3.78]\n [984.46 7.65]\n [1046.64 20.69]\n [1125.83 18.45]\n [1082.29 17.07]\n [1091.37 19.33]\n [1059.14 17.13]\n [1167.03 17.35]\n [1218.38 16.98]\n [1112.97 15.19]\n [1257.04 17.87]\n [1201.64 14.08]\n [1291.40 16.23]\n [1136.64 14.99]]\n"
     ]
    },
    {
     "name": "stdout",
     "output_type": "stream",
     "text": [
      "Epoch: 9 dLossFake: 18.4107 acc_fake_train: 0.0 gLoss: 369.718 acc_g: 1.0\n[[1395.65 0.00]\n [1100.55 2.91]\n [1014.62 19.29]\n [1590.79 30.15]\n [1717.48 16.08]\n [1490.32 18.37]\n [1463.07 31.35]\n [1306.29 22.97]\n [1530.32 20.71]\n [1380.75 16.78]\n [1428.18 20.16]\n [1599.65 21.02]\n [1560.39 15.31]\n [1784.81 20.98]\n [1607.93 17.86]]\n"
     ]
    },
    {
     "name": "stdout",
     "output_type": "stream",
     "text": [
      "Epoch: 10 dLossFake: 20.4845 acc_fake_train: 0.0 gLoss: 341.2 acc_g: 1.0\n[[1353.67 0.00]\n [1304.53 3.88]\n [1361.67 15.48]\n [1598.28 34.71]\n [1853.39 23.93]\n [1859.38 21.79]\n [1922.50 30.35]\n [1649.61 27.43]\n [1606.74 27.06]\n [1566.64 22.60]\n [1714.45 21.08]\n [1649.80 19.08]\n [1610.08 20.38]\n [1514.75 18.91]\n [1513.37 17.05]]\n"
     ]
    },
    {
     "name": "stdout",
     "output_type": "stream",
     "text": [
      "Epoch: 11 dLossFake: 19.1641 acc_fake_train: 0.0 gLoss: 341.547 acc_g: 1.0\n[[1433.37 0.00]\n [1318.51 4.11]\n [1483.40 17.34]\n [1743.33 36.85]\n [1602.71 20.29]\n [1562.40 24.48]\n [1529.47 27.71]\n [1467.98 21.65]\n [1695.39 22.48]\n [1719.86 21.13]\n [1705.96 20.20]\n [1653.83 21.57]\n [1513.14 19.49]\n [1513.97 18.83]\n [1719.74 19.82]]\n"
     ]
    },
    {
     "name": "stdout",
     "output_type": "stream",
     "text": [
      "Epoch: 12 dLossFake: 19.4693 acc_fake_train: 0.0 gLoss: 343.21 acc_g: 1.0\n[[1213.92 0.00]\n [1375.19 6.26]\n [1600.68 12.40]\n [1834.98 36.05]\n [1923.87 27.24]\n [1633.53 26.06]\n [1474.77 31.51]\n [1408.14 24.46]\n [1370.98 18.85]\n [1465.71 20.50]\n [1507.20 18.55]\n [1485.48 16.27]\n [1498.67 18.32]\n [1477.68 17.90]\n [1622.95 18.69]]\n"
     ]
    },
    {
     "name": "stdout",
     "output_type": "stream",
     "text": [
      "Epoch: 13 dLossFake: 19.4113 acc_fake_train: 0.0 gLoss: 293.357 acc_g: 1.0\n[[1352.36 0.00]\n [1180.57 3.22]\n [1456.00 16.03]\n [1429.12 30.56]\n [1674.92 24.59]\n [1572.01 21.22]\n [1542.04 25.03]\n [1309.24 22.42]\n [1223.74 21.13]\n [1289.57 19.16]\n [1343.52 15.44]\n [1563.52 16.89]\n [1787.04 18.71]\n [1691.08 16.42]\n [1756.74 22.76]]\n"
     ]
    },
    {
     "name": "stdout",
     "output_type": "stream",
     "text": [
      "Epoch: 14 dLossFake: 19.6915 acc_fake_train: 0.0 gLoss: 291.586 acc_g: 1.0\n[[1349.46 0.00]\n [1471.96 5.83]\n [1296.17 13.86]\n [1618.27 36.46]\n [1435.49 19.01]\n [1536.44 21.69]\n [1647.02 26.00]\n [1732.40 22.88]\n [1449.08 20.82]\n [1478.01 25.55]\n [1473.37 18.88]\n [1501.07 15.43]\n [1443.95 17.84]\n [1628.59 20.62]\n [1481.09 14.15]]\n"
     ]
    },
    {
     "name": "stdout",
     "output_type": "stream",
     "text": [
      "Epoch: 15 dLossFake: 19.9302 acc_fake_train: 0.0 gLoss: 311.191 acc_g: 1.0\n[[1245.22 0.00]\n [1407.07 5.89]\n [1407.19 13.39]\n [1512.43 32.36]\n [1786.39 28.39]\n [1703.04 20.46]\n [1638.45 27.18]\n [1632.59 26.06]\n [1734.25 23.94]\n [1782.87 23.23]\n [1660.81 22.69]\n [1475.98 21.33]\n [1619.49 21.15]\n [1719.45 18.39]\n [1880.94 19.27]]\n"
     ]
    },
    {
     "name": "stdout",
     "output_type": "stream",
     "text": [
      "Epoch: 16 dLossFake: 18.9785 acc_fake_train: 0.0 gLoss: 327.263 acc_g: 1.0\n[[1157.69 0.00]\n [1292.15 5.16]\n [1488.79 12.40]\n [1549.14 31.44]\n [1484.07 23.73]\n [1532.75 24.32]\n [1533.99 24.09]\n [1544.46 21.06]\n [1499.30 22.71]\n [1439.17 21.56]\n [1507.24 20.58]\n [1610.34 19.26]\n [1790.32 19.01]\n [1814.68 18.94]\n [1728.07 20.63]]\n"
     ]
    },
    {
     "name": "stdout",
     "output_type": "stream",
     "text": [
      "Epoch: 17 dLossFake: 19.9807 acc_fake_train: 0.0 gLoss: 298.979 acc_g: 1.0\n[[1116.24 0.00]\n [1249.35 5.47]\n [1290.70 11.93]\n [1427.39 30.47]\n [1524.22 22.80]\n [1437.70 20.09]\n [1644.44 26.25]\n [1480.16 19.78]\n [1476.34 23.10]\n [1788.67 26.33]\n [1584.26 14.67]\n [1623.90 21.54]\n [1594.02 21.76]\n [1870.54 21.40]\n [1732.10 17.15]]\n"
     ]
    },
    {
     "name": "stdout",
     "output_type": "stream",
     "text": [
      "Epoch: 18 dLossFake: 19.8971 acc_fake_train: 0.0 gLoss: 306.249 acc_g: 1.0\n[[1048.93 0.00]\n [1159.37 5.06]\n [1240.40 11.81]\n [1547.82 30.90]\n [1615.24 21.32]\n [1763.30 22.42]\n [1662.39 27.25]\n [1695.31 27.01]\n [1568.12 22.72]\n [1449.29 23.10]\n [1559.59 21.61]\n [1533.74 18.16]\n [1464.40 17.14]\n [1601.16 21.07]\n [1498.20 14.97]]\n"
     ]
    },
    {
     "name": "stdout",
     "output_type": "stream",
     "text": [
      "Epoch: 19 dLossFake: 18.9517 acc_fake_train: 0.0 gLoss: 312.116 acc_g: 1.0\n[[1080.70 0.00]\n [1090.77 3.65]\n [1260.84 12.31]\n [1421.42 29.30]\n [1623.11 22.55]\n [1663.11 20.38]\n [1683.03 25.86]\n [1615.58 25.46]\n [1957.34 28.56]\n [1761.25 19.94]\n [1713.40 25.29]\n [1648.13 23.67]\n [1576.32 19.00]\n [1430.17 17.52]\n [1476.66 19.19]]\n"
     ]
    },
    {
     "name": "stdout",
     "output_type": "stream",
     "text": [
      "Epoch: 20 dLossFake: 20.0313 acc_fake_train: 0.0 gLoss: 301.812 acc_g: 1.0\n[[1457.68 0.00]\n [1329.30 4.54]\n [1410.40 17.15]\n [1652.30 36.64]\n [1800.26 23.41]\n [1740.62 22.39]\n [1723.06 30.25]\n [1585.14 25.47]\n [1474.62 22.60]\n [1563.72 23.01]\n [1672.84 20.28]\n [1733.22 19.18]\n [1913.72 23.30]\n [1729.51 18.83]\n [1589.47 22.35]]\n"
     ]
    },
    {
     "name": "stdout",
     "output_type": "stream",
     "text": [
      "Epoch: 21 dLossFake: 19.365 acc_fake_train: 0.0 gLoss: 268.635 acc_g: 1.0\n[[982.82 0.00]\n [1176.68 5.25]\n [1393.75 9.75]\n [1507.84 28.64]\n [1728.46 26.42]\n [1723.04 23.17]\n [1782.87 28.81]\n [1695.55 26.51]\n [1607.08 25.17]\n [1634.28 24.44]\n [1582.65 20.88]\n [1705.62 22.81]\n [1636.99 19.59]\n [1458.35 18.83]\n [1451.67 19.36]]\n"
     ]
    },
    {
     "name": "stdout",
     "output_type": "stream",
     "text": [
      "Epoch: 22 dLossFake: 19.2481 acc_fake_train: 0.0 gLoss: 304.989 acc_g: 1.0\n[[1111.37 0.00]\n [1151.44 4.54]\n [1410.49 11.96]\n [1696.76 32.52]\n [1628.56 20.04]\n [1537.31 25.11]\n [1737.05 29.78]\n [1542.28 20.25]\n [1905.49 27.71]\n [1642.30 21.76]\n [1579.41 23.35]\n [1691.91 24.47]\n [1544.27 16.29]\n [1455.40 18.26]\n [1725.28 23.43]]\n"
     ]
    },
    {
     "name": "stdout",
     "output_type": "stream",
     "text": [
      "Epoch: 23 dLossFake: 19.4241 acc_fake_train: 0.0 gLoss: 283.904 acc_g: 1.0\n[[1174.20 0.00]\n [1236.96 5.33]\n [1631.97 11.89]\n [1426.47 27.89]\n [1534.22 27.65]\n [1584.57 26.06]\n [1883.54 27.85]\n [1826.62 22.16]\n [1739.06 27.79]\n [1695.90 26.77]\n [1553.58 21.13]\n [1550.83 20.41]\n [1536.83 19.12]\n [1493.37 16.82]\n [1399.70 16.98]]\n"
     ]
    },
    {
     "name": "stdout",
     "output_type": "stream",
     "text": [
      "Epoch: 24 dLossFake: 18.6933 acc_fake_train: 0.0 gLoss: 272.621 acc_g: 1.0\n[[1172.27 0.00]\n [1256.57 5.07]\n [1374.65 12.93]\n [1651.72 33.29]\n [1494.84 21.21]\n [1404.59 23.35]\n [1556.94 28.06]\n [1702.46 22.66]\n [1755.31 20.86]\n [1814.69 25.41]\n [1687.98 22.82]\n [1643.52 23.28]\n [1648.71 21.68]\n [1699.22 19.56]\n [1605.15 18.85]]\n"
     ]
    },
    {
     "name": "stdout",
     "output_type": "stream",
     "text": [
      "Epoch: 25 dLossFake: 19.6232 acc_fake_train: 0.0 gLoss: 278.619 acc_g: 1.0\n[[900.70 0.00]\n [1097.04 4.76]\n [1213.43 9.19]\n [1850.89 27.44]\n [1724.14 18.90]\n [1592.15 26.02]\n [1587.50 33.78]\n [1488.07 22.50]\n [1515.01 20.34]\n [1516.25 22.93]\n [1470.22 20.25]\n [1729.89 22.87]\n [1543.90 16.11]\n [1335.32 18.38]\n [1595.81 22.99]]\n"
     ]
    },
    {
     "name": "stdout",
     "output_type": "stream",
     "text": [
      "Epoch: 26 dLossFake: 18.7194 acc_fake_train: 0.0 gLoss: 270.926 acc_g: 1.0\n[[1272.29 0.00]\n [1410.39 6.17]\n [1634.06 13.32]\n [1682.88 33.81]\n [1549.47 26.47]\n [1492.60 26.62]\n [1593.14 27.19]\n [1548.95 20.69]\n [1711.94 25.00]\n [1823.70 24.92]\n [1685.25 20.15]\n [1618.77 23.00]\n [1887.20 24.47]\n [1869.97 18.27]\n [1734.71 21.81]]\n"
     ]
    },
    {
     "name": "stdout",
     "output_type": "stream",
     "text": [
      "Epoch: 27 dLossFake: 19.5274 acc_fake_train: 0.0 gLoss: 269.92 acc_g: 1.0\n[[1146.50 0.00]\n [1173.18 4.22]\n [1310.09 12.50]\n [1400.06 29.77]\n [1455.12 21.22]\n [1526.99 21.11]\n [1755.18 26.95]\n [1685.93 22.11]\n [1643.72 25.19]\n [1683.76 25.89]\n [1503.65 20.46]\n [1488.22 21.72]\n [1616.58 20.96]\n [1554.15 15.16]\n [1562.21 19.30]]\n"
     ]
    },
    {
     "name": "stdout",
     "output_type": "stream",
     "text": [
      "Epoch: 28 dLossFake: 19.2213 acc_fake_train: 0.0 gLoss: 251.923 acc_g: 1.0\n[[1297.37 0.00]\n [1304.20 4.55]\n [1280.42 14.20]\n [1528.97 33.94]\n [1427.27 19.36]\n [1519.82 21.61]\n [1561.55 25.46]\n [1438.49 21.66]\n [1706.72 25.51]\n [1762.90 21.18]\n [1589.70 19.94]\n [1583.77 24.12]\n [1622.16 20.34]\n [1570.81 16.64]\n [1838.17 23.79]]\n"
     ]
    },
    {
     "name": "stdout",
     "output_type": "stream",
     "text": [
      "Epoch: 29 dLossFake: 19.778 acc_fake_train: 0.0 gLoss: 279.467 acc_g: 1.0\n[[1135.89 0.00]\n [1028.89 3.28]\n [1496.36 13.07]\n [1579.62 30.09]\n [1753.95 23.44]\n [1520.55 24.24]\n [1678.08 31.36]\n [1659.08 23.34]\n [1714.70 23.67]\n [1692.68 24.15]\n [1493.31 22.04]\n [1558.72 21.67]\n [1490.04 17.74]\n [1619.84 19.10]\n [1646.36 19.17]]\n"
     ]
    },
    {
     "name": "stdout",
     "output_type": "stream",
     "text": [
      "Epoch: 30 dLossFake: 18.7897 acc_fake_train: 0.0 gLoss: 253.8 acc_g: 1.0\n[[1160.33 0.00]\n [1107.47 3.91]\n [1426.28 13.47]\n [1450.10 29.77]\n [1585.11 22.38]\n [1467.47 22.86]\n [1496.27 26.30]\n [1477.83 22.15]\n [1818.10 25.74]\n [1652.79 18.83]\n [1672.97 24.56]\n [1717.92 24.75]\n [1670.08 18.92]\n [1443.34 19.22]\n [1592.71 22.75]]\n"
     ]
    },
    {
     "name": "stdout",
     "output_type": "stream",
     "text": [
      "Epoch: 31 dLossFake: 19.5539 acc_fake_train: 0.0 gLoss: 268.767 acc_g: 1.0\n[[1224.62 0.00]\n [1298.78 5.71]\n [1326.35 13.45]\n [1473.19 32.85]\n [1515.07 22.83]\n [1474.01 21.50]\n [1400.19 25.63]\n [1601.78 24.23]\n [1512.46 18.15]\n [1511.70 22.69]\n [1601.28 23.48]\n [1769.61 20.36]\n [1778.33 20.01]\n [1631.86 22.02]\n [1578.45 22.72]]\n"
     ]
    },
    {
     "name": "stdout",
     "output_type": "stream",
     "text": [
      "Epoch: 32 dLossFake: 18.3422 acc_fake_train: 0.0 gLoss: 265.211 acc_g: 1.0\n[[1353.77 0.00]\n [1228.96 4.17]\n [1384.95 16.28]\n [1512.04 33.23]\n [1567.51 21.10]\n [1514.34 21.61]\n [1705.77 28.05]\n [1574.60 21.98]\n [1564.60 25.01]\n [1736.37 25.46]\n [1478.50 16.38]\n [1383.99 20.96]\n [1522.61 21.93]\n [1418.83 13.30]\n [1512.18 17.37]]\n"
     ]
    },
    {
     "name": "stdout",
     "output_type": "stream",
     "text": [
      "Epoch: 33 dLossFake: 19.4057 acc_fake_train: 0.0 gLoss: 267.531 acc_g: 1.0\n[[1009.99 0.00]\n [1183.30 5.52]\n [1407.69 10.35]\n [1424.60 27.66]\n [1428.76 24.43]\n [1599.26 24.48]\n [1605.97 23.51]\n [1590.64 24.56]\n [1670.42 25.12]\n [1518.71 21.59]\n [1604.23 23.84]\n [1656.10 21.56]\n [1589.95 19.71]\n [1507.54 20.25]\n [1483.45 19.36]]\n"
     ]
    },
    {
     "name": "stdout",
     "output_type": "stream",
     "text": [
      "Epoch: 34 dLossFake: 19.4135 acc_fake_train: 0.0 gLoss: 229.548 acc_g: 1.0\n[[1252.32 0.00]\n [1085.87 3.04]\n [1313.72 15.11]\n [1452.32 31.02]\n [1509.38 19.94]\n [1500.95 22.06]\n [1738.92 29.02]\n [1776.42 22.42]\n [1550.63 23.10]\n [1709.83 27.75]\n [1602.38 20.12]\n [1509.41 19.79]\n [1656.19 23.40]\n [1563.05 16.75]\n [1655.43 19.39]]\n"
     ]
    },
    {
     "name": "stdout",
     "output_type": "stream",
     "text": [
      "Epoch: 35 dLossFake: 19.864 acc_fake_train: 0.0 gLoss: 248.49 acc_g: 1.0\n[[1408.63 0.00]\n [1341.46 4.87]\n [1395.63 17.17]\n [1504.38 35.11]\n [1426.35 21.52]\n [1652.81 23.72]\n [1566.66 23.59]\n [1581.29 24.79]\n [1531.36 23.52]\n [1385.43 21.21]\n [1551.66 21.44]\n [1581.84 18.60]\n [1603.59 18.27]\n [1595.84 20.87]\n [1695.19 21.77]]\n"
     ]
    },
    {
     "ename": "KeyboardInterrupt",
     "evalue": "",
     "traceback": [
      "\u001b[0;31m---------------------------------------------------------------------------\u001b[0m",
      "\u001b[0;31mKeyboardInterrupt\u001b[0m                         Traceback (most recent call last)",
      "\u001b[0;32m<ipython-input-7-030339fbe02c>\u001b[0m in \u001b[0;36m<module>\u001b[0;34m()\u001b[0m\n\u001b[1;32m     22\u001b[0m         _, dLossFake, acc_d_fake, gLoss, acc_g, gData = sess.run([g_trainer, d_loss_fake, accuracy_d_fake,\n\u001b[1;32m     23\u001b[0m                                                                          g_loss, accuracy_g, g_ms_data],\n\u001b[0;32m---> 24\u001b[0;31m                                           feed_dict={noise: noise_batch, noise_seq_length: noise_seq_length_batch})\n\u001b[0m\u001b[1;32m     25\u001b[0m \u001b[0;34m\u001b[0m\u001b[0m\n\u001b[1;32m     26\u001b[0m     print(\"Epoch:\", epoch, \n",
      "\u001b[0;32m~/MyStuff/Dev/python-virtual-envs/pie36-tf13/lib/python3.6/site-packages/tensorflow/python/client/session.py\u001b[0m in \u001b[0;36mrun\u001b[0;34m(self, fetches, feed_dict, options, run_metadata)\u001b[0m\n\u001b[1;32m    893\u001b[0m     \u001b[0;32mtry\u001b[0m\u001b[0;34m:\u001b[0m\u001b[0;34m\u001b[0m\u001b[0m\n\u001b[1;32m    894\u001b[0m       result = self._run(None, fetches, feed_dict, options_ptr,\n\u001b[0;32m--> 895\u001b[0;31m                          run_metadata_ptr)\n\u001b[0m\u001b[1;32m    896\u001b[0m       \u001b[0;32mif\u001b[0m \u001b[0mrun_metadata\u001b[0m\u001b[0;34m:\u001b[0m\u001b[0;34m\u001b[0m\u001b[0m\n\u001b[1;32m    897\u001b[0m         \u001b[0mproto_data\u001b[0m \u001b[0;34m=\u001b[0m \u001b[0mtf_session\u001b[0m\u001b[0;34m.\u001b[0m\u001b[0mTF_GetBuffer\u001b[0m\u001b[0;34m(\u001b[0m\u001b[0mrun_metadata_ptr\u001b[0m\u001b[0;34m)\u001b[0m\u001b[0;34m\u001b[0m\u001b[0m\n",
      "\u001b[0;32m~/MyStuff/Dev/python-virtual-envs/pie36-tf13/lib/python3.6/site-packages/tensorflow/python/client/session.py\u001b[0m in \u001b[0;36m_run\u001b[0;34m(self, handle, fetches, feed_dict, options, run_metadata)\u001b[0m\n\u001b[1;32m   1122\u001b[0m     \u001b[0;32mif\u001b[0m \u001b[0mfinal_fetches\u001b[0m \u001b[0;32mor\u001b[0m \u001b[0mfinal_targets\u001b[0m \u001b[0;32mor\u001b[0m \u001b[0;34m(\u001b[0m\u001b[0mhandle\u001b[0m \u001b[0;32mand\u001b[0m \u001b[0mfeed_dict_tensor\u001b[0m\u001b[0;34m)\u001b[0m\u001b[0;34m:\u001b[0m\u001b[0;34m\u001b[0m\u001b[0m\n\u001b[1;32m   1123\u001b[0m       results = self._do_run(handle, final_targets, final_fetches,\n\u001b[0;32m-> 1124\u001b[0;31m                              feed_dict_tensor, options, run_metadata)\n\u001b[0m\u001b[1;32m   1125\u001b[0m     \u001b[0;32melse\u001b[0m\u001b[0;34m:\u001b[0m\u001b[0;34m\u001b[0m\u001b[0m\n\u001b[1;32m   1126\u001b[0m       \u001b[0mresults\u001b[0m \u001b[0;34m=\u001b[0m \u001b[0;34m[\u001b[0m\u001b[0;34m]\u001b[0m\u001b[0;34m\u001b[0m\u001b[0m\n",
      "\u001b[0;32m~/MyStuff/Dev/python-virtual-envs/pie36-tf13/lib/python3.6/site-packages/tensorflow/python/client/session.py\u001b[0m in \u001b[0;36m_do_run\u001b[0;34m(self, handle, target_list, fetch_list, feed_dict, options, run_metadata)\u001b[0m\n\u001b[1;32m   1319\u001b[0m     \u001b[0;32mif\u001b[0m \u001b[0mhandle\u001b[0m \u001b[0;32mis\u001b[0m \u001b[0;32mNone\u001b[0m\u001b[0;34m:\u001b[0m\u001b[0;34m\u001b[0m\u001b[0m\n\u001b[1;32m   1320\u001b[0m       return self._do_call(_run_fn, self._session, feeds, fetches, targets,\n\u001b[0;32m-> 1321\u001b[0;31m                            options, run_metadata)\n\u001b[0m\u001b[1;32m   1322\u001b[0m     \u001b[0;32melse\u001b[0m\u001b[0;34m:\u001b[0m\u001b[0;34m\u001b[0m\u001b[0m\n\u001b[1;32m   1323\u001b[0m       \u001b[0;32mreturn\u001b[0m \u001b[0mself\u001b[0m\u001b[0;34m.\u001b[0m\u001b[0m_do_call\u001b[0m\u001b[0;34m(\u001b[0m\u001b[0m_prun_fn\u001b[0m\u001b[0;34m,\u001b[0m \u001b[0mself\u001b[0m\u001b[0;34m.\u001b[0m\u001b[0m_session\u001b[0m\u001b[0;34m,\u001b[0m \u001b[0mhandle\u001b[0m\u001b[0;34m,\u001b[0m \u001b[0mfeeds\u001b[0m\u001b[0;34m,\u001b[0m \u001b[0mfetches\u001b[0m\u001b[0;34m)\u001b[0m\u001b[0;34m\u001b[0m\u001b[0m\n",
      "\u001b[0;32m~/MyStuff/Dev/python-virtual-envs/pie36-tf13/lib/python3.6/site-packages/tensorflow/python/client/session.py\u001b[0m in \u001b[0;36m_do_call\u001b[0;34m(self, fn, *args)\u001b[0m\n\u001b[1;32m   1325\u001b[0m   \u001b[0;32mdef\u001b[0m \u001b[0m_do_call\u001b[0m\u001b[0;34m(\u001b[0m\u001b[0mself\u001b[0m\u001b[0;34m,\u001b[0m \u001b[0mfn\u001b[0m\u001b[0;34m,\u001b[0m \u001b[0;34m*\u001b[0m\u001b[0margs\u001b[0m\u001b[0;34m)\u001b[0m\u001b[0;34m:\u001b[0m\u001b[0;34m\u001b[0m\u001b[0m\n\u001b[1;32m   1326\u001b[0m     \u001b[0;32mtry\u001b[0m\u001b[0;34m:\u001b[0m\u001b[0;34m\u001b[0m\u001b[0m\n\u001b[0;32m-> 1327\u001b[0;31m       \u001b[0;32mreturn\u001b[0m \u001b[0mfn\u001b[0m\u001b[0;34m(\u001b[0m\u001b[0;34m*\u001b[0m\u001b[0margs\u001b[0m\u001b[0;34m)\u001b[0m\u001b[0;34m\u001b[0m\u001b[0m\n\u001b[0m\u001b[1;32m   1328\u001b[0m     \u001b[0;32mexcept\u001b[0m \u001b[0merrors\u001b[0m\u001b[0;34m.\u001b[0m\u001b[0mOpError\u001b[0m \u001b[0;32mas\u001b[0m \u001b[0me\u001b[0m\u001b[0;34m:\u001b[0m\u001b[0;34m\u001b[0m\u001b[0m\n\u001b[1;32m   1329\u001b[0m       \u001b[0mmessage\u001b[0m \u001b[0;34m=\u001b[0m \u001b[0mcompat\u001b[0m\u001b[0;34m.\u001b[0m\u001b[0mas_text\u001b[0m\u001b[0;34m(\u001b[0m\u001b[0me\u001b[0m\u001b[0;34m.\u001b[0m\u001b[0mmessage\u001b[0m\u001b[0;34m)\u001b[0m\u001b[0;34m\u001b[0m\u001b[0m\n",
      "\u001b[0;32m~/MyStuff/Dev/python-virtual-envs/pie36-tf13/lib/python3.6/site-packages/tensorflow/python/client/session.py\u001b[0m in \u001b[0;36m_run_fn\u001b[0;34m(session, feed_dict, fetch_list, target_list, options, run_metadata)\u001b[0m\n\u001b[1;32m   1304\u001b[0m           return tf_session.TF_Run(session, options,\n\u001b[1;32m   1305\u001b[0m                                    \u001b[0mfeed_dict\u001b[0m\u001b[0;34m,\u001b[0m \u001b[0mfetch_list\u001b[0m\u001b[0;34m,\u001b[0m \u001b[0mtarget_list\u001b[0m\u001b[0;34m,\u001b[0m\u001b[0;34m\u001b[0m\u001b[0m\n\u001b[0;32m-> 1306\u001b[0;31m                                    status, run_metadata)\n\u001b[0m\u001b[1;32m   1307\u001b[0m \u001b[0;34m\u001b[0m\u001b[0m\n\u001b[1;32m   1308\u001b[0m     \u001b[0;32mdef\u001b[0m \u001b[0m_prun_fn\u001b[0m\u001b[0;34m(\u001b[0m\u001b[0msession\u001b[0m\u001b[0;34m,\u001b[0m \u001b[0mhandle\u001b[0m\u001b[0;34m,\u001b[0m \u001b[0mfeed_dict\u001b[0m\u001b[0;34m,\u001b[0m \u001b[0mfetch_list\u001b[0m\u001b[0;34m)\u001b[0m\u001b[0;34m:\u001b[0m\u001b[0;34m\u001b[0m\u001b[0m\n",
      "\u001b[0;31mKeyboardInterrupt\u001b[0m: "
     ],
     "output_type": "error"
    }
   ],
   "source": [
    "#saver.restore(sess, os.path.join(MODEL_CHECKPOINTS_DIR, \"discriminator.ckpt\"))\n",
    "\n",
    "#Train generator and discriminator together\n",
    "n_epochs = 200\n",
    "\n",
    "for epoch in range(n_epochs):\n",
    "    for batch in range(train_data.num_examples // batch_size):\n",
    "        noise_batch = np.random.normal(0, 1, size=[batch_size, max_policy_history_length, noise_dimensions])\n",
    "        noise_seq_length_batch = np.full(batch_size, max_policy_history_length)\n",
    "        \n",
    "        # y_batch, X_batch, X_seq_length_batch = train_data.next_batch(batch_size)\n",
    "        # \n",
    "        # # Train discriminator on both real and fake data\n",
    "        # _, __, dLossReal, dLossFake, acc_real_train, acc_fake_train = \\\n",
    "        #     sess.run([d_trainer_real, d_trainer_fake, d_loss_real, d_loss_fake, accuracy_d_real, accuracy_d_fake],\n",
    "        #              {X: X_batch, y: y_batch, X_seq_length: X_seq_length_batch,\n",
    "        #               noise: noise_batch, noise_seq_length: noise_seq_length_batch})\n",
    "        # \n",
    "        # # Train generator\n",
    "        # noise_batch = np.random.normal(0, 1, size=[batch_size, max_policy_history_length, noise_dimensions])\n",
    "    \n",
    "        _, dLossFake, acc_d_fake, gLoss, acc_g, gData = sess.run([g_trainer, d_loss_fake, accuracy_d_fake,\n",
    "                                                                         g_loss, accuracy_g, g_ms_data],\n",
    "                                          feed_dict={noise: noise_batch, noise_seq_length: noise_seq_length_batch})\n",
    "\n",
    "    print(\"Epoch:\", epoch, \n",
    "          \"dLossFake:\", dLossFake, \"acc_fake_train:\", acc_d_fake,\n",
    "          \"gLoss:\", gLoss, \"acc_g:\", acc_g)\n",
    "\n",
    "    print(gData[0])\n"
   ]
  },
  {
   "cell_type": "code",
   "execution_count": null,
   "metadata": {},
   "outputs": [],
   "source": []
  }
 ],
 "metadata": {
  "kernelspec": {
   "display_name": "Python 2",
   "language": "python",
   "name": "python2"
  },
  "language_info": {
   "codemirror_mode": {
    "name": "ipython",
    "version": 2
   },
   "file_extension": ".py",
   "mimetype": "text/x-python",
   "name": "python",
   "nbconvert_exporter": "python",
   "pygments_lexer": "ipython2",
   "version": "2.7.6"
  }
 },
 "nbformat": 4,
 "nbformat_minor": 0
}
