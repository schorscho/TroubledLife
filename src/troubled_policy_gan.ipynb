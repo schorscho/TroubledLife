{
 "cells": [
  {
   "cell_type": "code",
   "execution_count": 1,
   "metadata": {
    "collapsed": true
   },
   "outputs": [],
   "source": [
    "import os\n",
    "from datetime import datetime\n",
    "\n",
    "PROJECT_ROOT_DIR = \"/Users/gopora/MyStuff/Dev/Workspaces/Sandbox/TroubledLife\"\n",
    "DATASETS_DIR = os.path.join(PROJECT_ROOT_DIR, \"data\")\n",
    "TF_LOG_DIR = os.path.join(PROJECT_ROOT_DIR, \"tf_logs\")\n",
    "MODEL_CHECKPOINTS_DIR = os.path.join(PROJECT_ROOT_DIR, \"model_checkpoints\")\n",
    "TRAINING_SET_DATA_FILE = \"troubled_life_policy_train_data.csv\"\n",
    "TEST_SET_DATA_FILE = \"troubled_life_policy_test_data.csv\"\n",
    "\n",
    "now = datetime.now().strftime(\"%Y%m%d-%H%M%S\")\n",
    "log_dir = \"{}/run-{}/\".format(TF_LOG_DIR, now)\n",
    "\n",
    "\n",
    "import data_preparation as dp\n",
    "\n",
    "#dp.generate_troubled_life_policy_data(no_of_policies=10000, runtime=5, file_path=os.path.join(DATASETS_DIR, TRAINING_SET_DATA_FILE))\n",
    "\n",
    "#dp.generate_troubled_life_policy_data(no_of_policies=2000, runtime=5, file_path=os.path.join(DATASETS_DIR, TEST_SET_DATA_FILE))\n",
    "\n",
    "policy_histories_train = \\\n",
    "    dp.load_troubled_life_policy_data(file_path=os.path.join(DATASETS_DIR, TRAINING_SET_DATA_FILE))\n",
    "\n",
    "policy_histories_test = \\\n",
    "    dp.load_troubled_life_policy_data(file_path=os.path.join(DATASETS_DIR, TEST_SET_DATA_FILE))\n",
    "\n",
    "policy_histories_length_train, max_policy_history_length_train = \\\n",
    "    dp.get_policy_history_lengths(policy_histories=policy_histories_train)\n",
    "\n",
    "policy_histories_length_test, max_policy_history_length_test = \\\n",
    "    dp.get_policy_history_lengths(policy_histories=policy_histories_test)\n",
    "\n",
    "max_policy_history_length = max(max_policy_history_length_train, max_policy_history_length_test)\n",
    "\n",
    "\n",
    "\n",
    "# Pad the histories up to maximum length of both, train and test set\n",
    "\n",
    "# policy_histories_train = \\\n",
    "#     dp.pad_troubled_life_policy_histories(policy_histories=policy_histories_train,\n",
    "#                                           policy_histories_lengths=policy_histories_length_train,\n",
    "#                                           max_policy_history_length=max_policy_history_length)\n",
    "# \n",
    "# policy_histories_test = \\\n",
    "#     dp.pad_troubled_life_policy_histories(policy_histories=policy_histories_test,\n",
    "#                                           policy_histories_lengths=policy_histories_length_test,\n",
    "#                                           max_policy_history_length=max_policy_history_length)\n",
    "# \n",
    "# # # Save padded data, since always generating and padding takes too long\n",
    "# policy_histories_train.to_csv(path_or_buf=os.path.join(DATASETS_DIR, TRAINING_SET_DATA_FILE))\n",
    "# policy_histories_test.to_csv(path_or_buf=os.path.join(DATASETS_DIR, TEST_SET_DATA_FILE))\n",
    "\n",
    "# Extract features and labels from dataset as numpy.ndarray(s)\n",
    "binary_classification = True\n",
    "\n",
    "train_labels, train_features, train_seq_lengths =\\\n",
    "    dp.prepare_labels_features_lengths(policy_histories=policy_histories_train,\n",
    "                                       policy_histories_lengths=policy_histories_length_train, \n",
    "                                       max_policy_history_length=max_policy_history_length,\n",
    "                                       binary_classification=binary_classification)\n",
    "test_labels, test_features, test_seq_lengths =\\\n",
    "    dp.prepare_labels_features_lengths(policy_histories=policy_histories_test,\n",
    "                                       policy_histories_lengths=policy_histories_length_test, \n",
    "                                       max_policy_history_length=max_policy_history_length,\n",
    "                                       binary_classification=binary_classification)\n",
    "\n",
    "train_data = dp.TrainDataSet(train_labels=train_labels, train_features=train_features, train_seq_lengths=train_seq_lengths)"
   ]
  },
  {
   "cell_type": "code",
   "execution_count": 2,
   "metadata": {
    "collapsed": true
   },
   "outputs": [],
   "source": [
    "import tensorflow as tf\n",
    "import gan as gan\n",
    "\n",
    "\n",
    "g_learning_rate = 0.01\n",
    "d_real_learning_rate = 0.0001\n",
    "d_fake_learning_rate = 0.0001\n",
    "noise_dimensions = 2\n",
    "batch_size = 200\n",
    "g_n_outputs = 2\n",
    "d_n_inputs = 2\n",
    "d_n_outputs = 2 if binary_classification else max_policy_history_length\n",
    "\n",
    "tf.reset_default_graph()\n",
    "tf.set_random_seed(42)\n",
    "\n",
    "noise = tf.placeholder(tf.float32, [batch_size, max_policy_history_length, noise_dimensions], name='noise')\n",
    "noise_seq_length = tf.placeholder(tf.int32, [None], name='noise_seq_length')\n",
    "\n",
    "X = tf.placeholder(tf.float32, [None, max_policy_history_length, d_n_inputs], name=\"X\")\n",
    "y = tf.placeholder(tf.int32, [None], name=\"y\")\n",
    "X_seq_length = tf.placeholder(tf.int32, [None], name=\"X_seq_length\")\n",
    "\n",
    "g_data = gan.generator(noise=noise, batch_size=batch_size, n_outputs=g_n_outputs, \n",
    "                       max_seq_length=max_policy_history_length, seq_length=noise_seq_length)\n",
    "\n",
    "# # Let's make sure the initial value at [:, 0, 1] is 0 (current capital at policy inception)\n",
    "# flat = tf.reshape(tensor=g_data, shape=[batch_size * max_policy_history_length * g_n_outputs])\n",
    "# flat2 = tf.Variable(initial_value=tf.zeros_like(flat), trainable=False, name=\"xyFlat\")\n",
    "# flat3 = tf.assign(ref=flat2, value=flat)\n",
    "# flat4 = tf.scatter_update(flat3, [1 + i * max_policy_history_length * g_n_outputs for i in range(batch_size)],\n",
    "#                                  [0 for j in range(batch_size)])\n",
    "# g_ms_data = tf.reshape(tensor=flat4, shape=[batch_size, max_policy_history_length, g_n_outputs])\n",
    "\n",
    "logits_d_for_X, y_pred_X = gan.discriminator(X=X, seq_length=X_seq_length, n_outputs=d_n_outputs)\n",
    "logits_d_for_g, y_pred_g = gan.discriminator(X=g_data, seq_length=noise_seq_length, n_outputs=d_n_outputs, reuse=True)\n",
    "\n",
    "g_loss, accuracy_g = gan.generator_loss(batch_size=batch_size, logits_d=logits_d_for_g)\n",
    "d_loss_real, accuracy_d_real = gan.discriminator_loss_real(logits=logits_d_for_X, y=y)\n",
    "d_loss_fake, accuracy_d_fake = gan.discriminator_loss_fake(batch_size=batch_size, logits=logits_d_for_g)\n",
    "\n",
    "g_trainer = gan.generator_trainer(g_learning_rate, g_loss)\n",
    "d_trainer_real = gan.discriminator_trainer_real(d_real_learning_rate, d_loss_real + d_loss_fake)\n",
    "#d_trainer_fake = gan.discriminator_trainer_fake(d_fake_learning_rate, d_loss_fake)\n",
    "\n",
    "tf.summary.scalar('Generator_loss', g_loss)\n",
    "tf.summary.scalar('Discriminator_loss_real', d_loss_real)\n",
    "tf.summary.scalar('Discriminator_loss_fake', d_loss_fake)\n",
    "\n",
    "merged = tf.summary.merge_all()\n",
    "writer = tf.summary.FileWriter(log_dir, tf.get_default_graph())\n",
    "\n",
    "tvars = tf.trainable_variables()\n",
    "\n",
    "d_saver = tf.train.Saver(var_list=[var for var in tvars if \"t_discriminator\" in var.name])\n",
    "g_saver = tf.train.Saver(var_list=[var for var in tvars if \"t_generator\" in var.name])"
   ]
  },
  {
   "cell_type": "code",
   "execution_count": 3,
   "metadata": {},
   "outputs": [],
   "source": [
    "import numpy as np\n",
    "\n",
    "np.set_printoptions(formatter={'float_kind': (lambda x: \"%.2f\" % x)})\n",
    "\n",
    "sess = tf.Session()\n",
    "\n",
    "sess.run(tf.global_variables_initializer())\n",
    "sess.run(tf.local_variables_initializer())\n",
    "\n",
    "# n_epochs = 100\n",
    "# \n",
    "# # Pre-train discriminator\n",
    "# for epoch in range(n_epochs):\n",
    "#     for batch in range(train_data.num_examples // batch_size):\n",
    "#         noise_batch = np.random.normal(0, 1, size=[batch_size, max_policy_history_length, noise_dimensions])\n",
    "#         noise_seq_length_batch = np.full(batch_size, max_policy_history_length)\n",
    "# \n",
    "#         y_batch, X_batch, X_seq_length_batch = train_data.next_batch(batch_size)\n",
    "# \n",
    "#         _, dLossReal, dLossFake, acc_real_train, acc_fake_train = \\\n",
    "#             sess.run([d_trainer_real, d_loss_real, d_loss_fake, accuracy_d_real, accuracy_d_fake],\n",
    "#                      {X: X_batch, y: y_batch, X_seq_length: X_seq_length_batch,\n",
    "#                       noise: noise_batch, noise_seq_length: noise_seq_length_batch})\n",
    "# \n",
    "#     print(\"Epoch:\", epoch, \"dLossReal:\", dLossReal, \"acc_real_train:\", acc_real_train,\n",
    "#           \"dLossFake:\", dLossFake, \"acc_fake_train:\", acc_fake_train)\n",
    "# \n",
    "# d_saver.save(sess, os.path.join(MODEL_CHECKPOINTS_DIR, \"discriminator.ckpt\"))"
   ]
  },
  {
   "cell_type": "code",
   "execution_count": 5,
   "metadata": {},
   "outputs": [
    {
     "name": "stdout",
     "output_type": "stream",
     "text": [
      "INFO:tensorflow:Restoring parameters from /Users/gopora/MyStuff/Dev/Workspaces/Sandbox/TroubledLife/model_checkpoints/discriminator.ckpt\n"
     ]
    },
    {
     "name": "stdout",
     "output_type": "stream",
     "text": [
      "Epoch: 0 dLossFake: 0.17438 acc_fake_train: 1.0 gLoss: 1.83245 acc_g: 0.0\n[[65.65 118.47]\n [111.03 302.92]\n [41.70 233.71]\n [67.19 135.30]\n [59.82 97.27]\n [27.55 65.47]\n [20.22 52.06]\n [19.23 51.36]\n [18.18 51.21]\n [16.75 49.42]\n [15.55 47.00]\n [14.50 45.50]\n [13.73 44.19]\n [13.12 43.12]\n [12.66 41.79]]\n"
     ]
    },
    {
     "name": "stdout",
     "output_type": "stream",
     "text": [
      "Epoch: 1 dLossFake: 0.268625 acc_fake_train: 1.0 gLoss: 1.44576 acc_g: 0.0\n[[4.44 2.27]\n [4.84 4.45]\n [4.09 8.43]\n [5.05 9.05]\n [5.32 9.85]\n [4.49 10.91]\n [4.60 11.66]\n [3.85 10.75]\n [4.03 11.80]\n [3.97 11.76]\n [3.96 11.77]\n [3.95 11.66]\n [3.88 11.57]\n [3.92 11.70]\n [3.91 11.71]]\n"
     ]
    },
    {
     "name": "stdout",
     "output_type": "stream",
     "text": [
      "Epoch: 2 dLossFake: 0.0518422 acc_fake_train: 1.0 gLoss: 2.98573 acc_g: 0.0\n[[4.48 4.01]\n [4.14 5.54]\n [4.43 6.33]\n [7.41 11.57]\n [5.67 12.34]\n [6.84 14.56]\n [9.52 15.13]\n [10.38 18.76]\n [8.00 21.14]\n [7.13 26.44]\n [7.72 32.88]\n [8.87 39.03]\n [9.42 38.11]\n [8.44 33.10]\n [7.06 29.39]]\n"
     ]
    },
    {
     "name": "stdout",
     "output_type": "stream",
     "text": [
      "Epoch: 3 dLossFake: 0.602505 acc_fake_train: 1.0 gLoss: 0.792848 acc_g: 0.0\n[[13.74 20.41]\n [18.93 27.08]\n [16.41 24.08]\n [17.25 14.64]\n [10.59 33.85]\n [19.96 39.88]\n [22.20 47.11]\n [28.74 71.21]\n [9.30 88.34]\n [25.48 73.33]\n [20.96 89.79]\n [33.41 107.17]\n [-4.10 11.41]\n [-4.97 -6.71]\n [-1.15 -3.97]]\n"
     ]
    },
    {
     "name": "stdout",
     "output_type": "stream",
     "text": [
      "Epoch: 4 dLossFake: 0.176063 acc_fake_train: 1.0 gLoss: 1.8238 acc_g: 0.0\n[[38.83 66.82]\n [42.46 79.73]\n [43.51 82.48]\n [118.78 204.91]\n [67.01 169.78]\n [57.35 132.66]\n [53.20 98.30]\n [54.01 210.89]\n [71.96 211.13]\n [59.10 222.96]\n [65.41 240.68]\n [53.19 260.35]\n [6.83 4.02]\n [7.63 29.45]\n [1.01 5.39]]\n"
     ]
    },
    {
     "name": "stdout",
     "output_type": "stream",
     "text": [
      "Epoch: 5 dLossFake: 0.668123 acc_fake_train: 1.0 gLoss: 0.718818 acc_g: 0.0\n[[140.06 108.89]\n [123.80 158.18]\n [76.34 160.53]\n [148.65 258.45]\n [109.49 256.18]\n [146.57 359.34]\n [190.79 406.03]\n [237.36 640.24]\n [160.16 617.57]\n [190.43 801.96]\n [177.06 832.53]\n [144.46 876.21]\n [-26.61 26.25]\n [16.05 18.59]\n [13.41 30.86]]\n"
     ]
    },
    {
     "name": "stdout",
     "output_type": "stream",
     "text": [
      "Epoch: 6 dLossFake: 0.26438 acc_fake_train: 1.0 gLoss: 1.45965 acc_g: 0.0\n[[165.55 27.86]\n [130.05 108.67]\n [93.81 153.17]\n [112.97 172.17]\n [113.78 237.09]\n [121.35 335.56]\n [122.45 332.13]\n [120.90 374.52]\n [131.32 490.06]\n [119.57 475.83]\n [129.36 607.25]\n [135.16 626.59]\n [1.72 19.24]\n [2.87 4.26]\n [1.50 1.63]]\n"
     ]
    },
    {
     "name": "stdout",
     "output_type": "stream",
     "text": [
      "Epoch: 7 dLossFake: 0.234922 acc_fake_train: 1.0 gLoss: 1.56367 acc_g: 0.0\n[[128.70 53.98]\n [149.45 112.20]\n [143.89 202.44]\n [180.12 241.70]\n [189.38 341.32]\n [176.02 372.99]\n [163.56 482.03]\n [157.70 482.15]\n [157.59 672.57]\n [144.35 659.72]\n [150.60 768.29]\n [168.23 836.59]\n [6.27 6.66]\n [1.60 7.51]\n [3.95 13.25]]\n"
     ]
    },
    {
     "name": "stdout",
     "output_type": "stream",
     "text": [
      "Epoch: 8 dLossFake: 0.28144 acc_fake_train: 1.0 gLoss: 1.40526 acc_g: 0.0\n[[121.58 30.52]\n [110.20 68.48]\n [108.14 130.66]\n [117.48 171.09]\n [133.62 222.04]\n [110.80 323.01]\n [98.35 362.70]\n [133.73 428.39]\n [155.05 482.95]\n [139.30 500.12]\n [161.27 650.55]\n [102.02 657.77]\n [2.92 -3.67]\n [-4.99 1.30]\n [-1.97 -3.45]]\n"
     ]
    },
    {
     "name": "stdout",
     "output_type": "stream",
     "text": [
      "Epoch: 9 dLossFake: 0.00948589 acc_fake_train: 1.0 gLoss: 4.66273 acc_g: 0.0\n[[72.75 59.77]\n [148.99 166.90]\n [136.63 259.34]\n [192.82 303.73]\n [220.93 383.43]\n [244.25 501.32]\n [225.49 571.79]\n [226.29 608.94]\n [247.00 800.83]\n [230.14 809.75]\n [199.42 1039.39]\n [189.59 1086.80]\n [0.28 0.11]\n [0.80 -8.88]\n [-10.56 -17.58]]\n"
     ]
    },
    {
     "name": "stdout",
     "output_type": "stream",
     "text": [
      "Epoch: 10 dLossFake: 0.169909 acc_fake_train: 1.0 gLoss: 1.85632 acc_g: 0.0\n[[152.28 12.77]\n [114.92 110.41]\n [87.32 136.51]\n [91.76 191.02]\n [96.54 205.60]\n [100.10 294.89]\n [89.74 306.85]\n [81.66 387.98]\n [87.28 367.17]\n [91.46 490.10]\n [115.68 477.86]\n [104.52 495.52]\n [0.28 0.08]\n [0.44 0.36]\n [0.29 0.42]]\n"
     ]
    },
    {
     "name": "stdout",
     "output_type": "stream",
     "text": [
      "Epoch: 11 dLossFake: 0.310806 acc_fake_train: 1.0 gLoss: 1.31997 acc_g: 0.0\n[[110.96 -1.95]\n [102.99 106.06]\n [95.59 119.24]\n [108.17 228.71]\n [112.75 244.93]\n [121.31 330.64]\n [96.50 322.20]\n [104.77 432.48]\n [107.09 468.01]\n [107.94 571.72]\n [127.95 557.79]\n [124.16 576.91]\n [0.28 0.02]\n [-0.07 -0.03]\n [-1.39 -0.52]]\n"
     ]
    },
    {
     "name": "stdout",
     "output_type": "stream",
     "text": [
      "Epoch: 12 dLossFake: 0.0804361 acc_fake_train: 1.0 gLoss: 2.56025 acc_g: 0.0\n[[131.22 16.29]\n [130.33 124.55]\n [144.98 152.20]\n [137.01 287.37]\n [143.82 318.01]\n [142.26 430.31]\n [134.82 451.95]\n [137.03 585.40]\n [143.01 637.48]\n [144.60 778.99]\n [176.07 794.97]\n [178.10 822.27]\n [0.28 -0.02]\n [-0.21 -0.22]\n [-1.14 -0.61]]\n"
     ]
    },
    {
     "name": "stdout",
     "output_type": "stream",
     "text": [
      "Epoch: 13 dLossFake: 0.233637 acc_fake_train: 1.0 gLoss: 1.56853 acc_g: 0.0\n[[100.21 5.32]\n [96.26 95.03]\n [97.31 110.26]\n [91.61 196.89]\n [90.06 212.31]\n [100.10 295.97]\n [85.57 296.25]\n [84.06 376.84]\n [86.96 396.17]\n [84.83 475.88]\n [112.93 473.99]\n [109.53 500.55]\n [0.29 -0.05]\n [-0.14 -0.32]\n [0.12 -0.03]]\n"
     ]
    },
    {
     "name": "stdout",
     "output_type": "stream",
     "text": [
      "Epoch: 14 dLossFake: 0.171721 acc_fake_train: 1.0 gLoss: 1.84655 acc_g: 0.0\n[[172.33 -10.59]\n [165.54 172.65]\n [171.31 173.04]\n [150.67 345.18]\n [159.83 335.82]\n [159.36 489.67]\n [153.70 509.00]\n [148.70 639.03]\n [149.58 652.54]\n [158.09 840.56]\n [202.57 844.88]\n [205.78 895.81]\n [1.39 3.17]\n [0.70 2.52]\n [0.52 0.27]]\n"
     ]
    },
    {
     "name": "stdout",
     "output_type": "stream",
     "text": [
      "Epoch: 15 dLossFake: 0.201768 acc_fake_train: 1.0 gLoss: 1.69983 acc_g: 0.0\n[[186.70 2.32]\n [177.39 183.81]\n [174.51 169.26]\n [170.16 338.74]\n [176.63 361.63]\n [176.20 539.48]\n [174.43 576.04]\n [173.34 747.89]\n [173.64 771.47]\n [165.98 918.01]\n [217.26 914.41]\n [185.52 943.06]\n [0.29 -0.14]\n [2.58 -1.65]\n [-5.96 -6.04]]\n"
     ]
    },
    {
     "name": "stdout",
     "output_type": "stream",
     "text": [
      "Epoch: 16 dLossFake: 0.267545 acc_fake_train: 1.0 gLoss: 1.44932 acc_g: 0.0\n[[143.75 8.76]\n [113.62 138.38]\n [104.03 110.41]\n [88.84 182.60]\n [96.13 179.23]\n [78.40 215.36]\n [78.81 227.30]\n [75.60 253.15]\n [72.30 250.61]\n [61.97 236.04]\n [63.64 310.18]\n [66.52 294.51]\n [0.30 -0.19]\n [-0.36 -0.92]\n [0.89 -1.14]]\n"
     ]
    },
    {
     "name": "stdout",
     "output_type": "stream",
     "text": [
      "Epoch: 17 dLossFake: 0.392698 acc_fake_train: 1.0 gLoss: 1.12473 acc_g: 0.0\n[[135.71 65.80]\n [129.47 138.70]\n [158.58 174.87]\n [177.74 284.36]\n [186.48 334.19]\n [155.25 370.37]\n [158.64 397.75]\n [154.35 536.06]\n [168.13 623.21]\n [157.52 604.82]\n [171.47 692.38]\n [130.47 753.05]\n [0.30 -0.20]\n [-0.20 -0.76]\n [0.80 -0.22]]\n"
     ]
    },
    {
     "name": "stdout",
     "output_type": "stream",
     "text": [
      "Epoch: 18 dLossFake: 0.152975 acc_fake_train: 1.0 gLoss: 1.953 acc_g: 0.0\n[[59.44 26.22]\n [48.16 47.22]\n [41.80 59.43]\n [50.13 81.62]\n [61.25 101.60]\n [59.09 141.68]\n [50.55 160.06]\n [41.92 208.14]\n [54.02 234.13]\n [68.58 264.12]\n [68.72 296.42]\n [76.04 306.87]\n [0.30 -0.22]\n [2.31 2.36]\n [1.61 0.30]]\n"
     ]
    },
    {
     "name": "stdout",
     "output_type": "stream",
     "text": [
      "Epoch: 19 dLossFake: 0.0775605 acc_fake_train: 1.0 gLoss: 2.59523 acc_g: 0.0\n[[154.57 25.22]\n [180.32 140.16]\n [196.71 185.35]\n [209.85 285.42]\n [195.05 378.53]\n [179.09 466.85]\n [178.41 536.16]\n [185.81 566.15]\n [215.66 803.26]\n [221.37 795.92]\n [166.29 984.79]\n [239.60 1016.71]\n [0.31 -0.29]\n [-0.18 -0.87]\n [-0.02 1.04]]\n"
     ]
    },
    {
     "name": "stdout",
     "output_type": "stream",
     "text": [
      "Epoch: 20 dLossFake: 0.101597 acc_fake_train: 1.0 gLoss: 2.33714 acc_g: 0.0\n[[239.51 55.43]\n [187.88 207.34]\n [169.39 208.54]\n [163.34 335.09]\n [218.17 293.07]\n [176.11 534.87]\n [160.45 584.88]\n [191.23 727.67]\n [187.81 746.26]\n [194.29 791.78]\n [206.26 908.20]\n [185.78 957.50]\n [9.53 16.20]\n [2.17 -5.62]\n [-7.95 -23.57]]\n"
     ]
    },
    {
     "name": "stdout",
     "output_type": "stream",
     "text": [
      "Epoch: 21 dLossFake: 0.497554 acc_fake_train: 1.0 gLoss: 0.936597 acc_g: 0.0\n[[189.16 -2.73]\n [130.42 145.96]\n [195.37 141.66]\n [231.59 372.70]\n [251.97 450.48]\n [222.13 596.13]\n [270.88 708.23]\n [315.44 759.48]\n [287.21 1012.83]\n [283.07 1106.17]\n [254.70 1264.20]\n [290.54 1282.85]\n [-0.40 -2.94]\n [1.99 2.09]\n [6.28 11.11]]\n"
     ]
    },
    {
     "name": "stdout",
     "output_type": "stream",
     "text": [
      "Epoch: 22 dLossFake: 0.430936 acc_fake_train: 1.0 gLoss: 1.04955 acc_g: 0.0\n[[75.16 38.60]\n [43.89 43.48]\n [43.63 56.38]\n [44.18 70.30]\n [46.76 59.46]\n [36.69 88.77]\n [32.57 88.07]\n [23.62 109.25]\n [33.92 134.93]\n [59.78 204.77]\n [46.28 184.02]\n [16.55 43.89]\n [2.85 4.79]\n [1.43 4.37]\n [1.26 5.06]]\n"
     ]
    },
    {
     "name": "stdout",
     "output_type": "stream",
     "text": [
      "Epoch: 23 dLossFake: 0.0134659 acc_fake_train: 1.0 gLoss: 4.31438 acc_g: 0.0\n[[82.25 33.19]\n [74.51 72.15]\n [89.02 123.81]\n [34.68 74.03]\n [112.15 178.62]\n [54.42 121.71]\n [73.24 129.93]\n [64.83 168.89]\n [62.46 193.98]\n [63.96 217.61]\n [51.03 217.31]\n [50.94 205.67]\n [42.13 186.69]\n [43.66 168.68]\n [43.17 155.65]]\n"
     ]
    },
    {
     "name": "stdout",
     "output_type": "stream",
     "text": [
      "Epoch: 24 dLossFake: 0.0999133 acc_fake_train: 1.0 gLoss: 2.35304 acc_g: 0.0\n[[36.89 52.68]\n [113.47 86.79]\n [114.36 93.19]\n [70.08 61.89]\n [1.80 50.37]\n [34.97 51.52]\n [26.06 34.49]\n [25.43 44.23]\n [22.48 49.66]\n [23.93 56.39]\n [20.67 60.76]\n [21.08 68.67]\n [20.90 69.75]\n [20.99 71.39]\n [20.59 71.81]]\n"
     ]
    },
    {
     "name": "stdout",
     "output_type": "stream",
     "text": [
      "Epoch: 25 dLossFake: 0.115003 acc_fake_train: 1.0 gLoss: 2.21978 acc_g: 0.0\n[[26.15 30.69]\n [24.05 14.12]\n [19.55 24.08]\n [13.99 16.26]\n [3.82 23.33]\n [22.68 19.66]\n [16.35 22.47]\n [14.66 32.37]\n [15.92 32.00]\n [12.92 33.31]\n [11.91 37.73]\n [14.02 50.20]\n [14.76 51.78]\n [14.94 54.59]\n [14.93 54.84]]\n"
     ]
    },
    {
     "name": "stdout",
     "output_type": "stream",
     "text": [
      "Epoch: 26 dLossFake: 0.0863275 acc_fake_train: 1.0 gLoss: 2.49248 acc_g: 0.0\n[[13.53 13.30]\n [15.46 9.34]\n [13.56 18.85]\n [11.34 15.75]\n [3.05 20.57]\n [20.11 20.06]\n [15.47 26.08]\n [13.97 34.71]\n [14.57 34.35]\n [14.65 36.02]\n [13.57 41.81]\n [17.31 55.89]\n [18.85 60.68]\n [21.21 69.86]\n [22.01 72.44]]\n"
     ]
    },
    {
     "name": "stdout",
     "output_type": "stream",
     "text": [
      "Epoch: 27 dLossFake: 0.0317003 acc_fake_train: 1.0 gLoss: 3.46728 acc_g: 0.0\n[[10.30 7.00]\n [11.32 6.93]\n [12.84 15.91]\n [10.46 16.38]\n [5.79 21.62]\n [18.18 20.02]\n [15.83 24.28]\n [11.86 33.04]\n [12.90 34.93]\n [14.33 36.95]\n [12.69 42.77]\n [15.83 52.90]\n [18.24 59.99]\n [20.84 66.37]\n [21.73 68.28]]\n"
     ]
    },
    {
     "name": "stdout",
     "output_type": "stream",
     "text": [
      "Epoch: 28 dLossFake: 0.0592816 acc_fake_train: 1.0 gLoss: 2.85495 acc_g: 0.0\n[[11.81 6.60]\n [13.75 8.84]\n [11.98 18.41]\n [12.46 19.32]\n [9.11 23.01]\n [20.63 30.44]\n [19.10 32.61]\n [15.95 45.42]\n [17.58 43.50]\n [20.02 49.05]\n [16.91 59.41]\n [18.08 67.83]\n [24.18 81.25]\n [29.68 92.25]\n [29.57 89.61]]\n"
     ]
    },
    {
     "name": "stdout",
     "output_type": "stream",
     "text": [
      "Epoch: 29 dLossFake: 0.0151279 acc_fake_train: 1.0 gLoss: 4.19877 acc_g: 0.0\n[[14.21 7.08]\n [18.87 10.77]\n [17.91 25.34]\n [18.76 21.40]\n [16.37 34.13]\n [26.69 37.66]\n [23.87 48.15]\n [23.46 60.75]\n [27.33 62.57]\n [30.09 69.74]\n [24.28 86.23]\n [27.42 97.44]\n [39.63 119.94]\n [43.83 136.65]\n [43.02 135.15]]\n"
     ]
    },
    {
     "name": "stdout",
     "output_type": "stream",
     "text": [
      "Epoch: 30 dLossFake: 0.0956039 acc_fake_train: 1.0 gLoss: 2.39497 acc_g: 0.0\n[[11.12 5.04]\n [20.01 7.09]\n [16.16 21.07]\n [18.78 21.83]\n [19.28 33.42]\n [26.97 39.63]\n [29.95 50.57]\n [27.99 72.27]\n [31.07 74.64]\n [34.45 85.79]\n [30.77 107.18]\n [36.60 120.40]\n [51.06 151.71]\n [57.22 174.00]\n [58.12 180.33]]\n"
     ]
    },
    {
     "name": "stdout",
     "output_type": "stream",
     "text": [
      "Epoch: 31 dLossFake: 0.0881288 acc_fake_train: 1.0 gLoss: 2.47271 acc_g: 0.0\n[[16.63 6.91]\n [31.27 7.08]\n [23.83 29.02]\n [30.73 28.48]\n [26.56 50.95]\n [34.62 66.37]\n [42.25 70.75]\n [43.84 104.67]\n [39.50 106.49]\n [48.76 117.36]\n [46.59 150.42]\n [49.53 162.73]\n [65.67 200.33]\n [71.20 225.06]\n [72.51 236.29]]\n"
     ]
    },
    {
     "name": "stdout",
     "output_type": "stream",
     "text": [
      "Epoch: 32 dLossFake: 0.0121928 acc_fake_train: 1.0 gLoss: 4.41301 acc_g: 0.0\n[[18.32 9.05]\n [23.06 15.82]\n [19.22 30.17]\n [28.23 33.57]\n [24.73 55.33]\n [29.27 59.46]\n [31.65 68.44]\n [30.20 77.19]\n [36.65 86.91]\n [32.88 84.32]\n [29.40 110.37]\n [36.14 115.07]\n [41.67 117.20]\n [33.08 148.37]\n [36.72 149.19]]\n"
     ]
    },
    {
     "ename": "KeyboardInterrupt",
     "evalue": "",
     "traceback": [
      "\u001b[0;31m---------------------------------------------------------------------------\u001b[0m",
      "\u001b[0;31mKeyboardInterrupt\u001b[0m                         Traceback (most recent call last)",
      "\u001b[0;32m<ipython-input-5-be522ebaee03>\u001b[0m in \u001b[0;36m<module>\u001b[0;34m()\u001b[0m\n\u001b[1;32m     21\u001b[0m         _, dLossFake, acc_d_fake, gLoss, acc_g, gData = sess.run([g_trainer, d_loss_fake, accuracy_d_fake,\n\u001b[1;32m     22\u001b[0m                                                                          g_loss, accuracy_g, g_data],\n\u001b[0;32m---> 23\u001b[0;31m                                           feed_dict={noise: noise_batch, noise_seq_length: noise_seq_length_batch})\n\u001b[0m\u001b[1;32m     24\u001b[0m \u001b[0;34m\u001b[0m\u001b[0m\n\u001b[1;32m     25\u001b[0m     print(\"Epoch:\", epoch, \n",
      "\u001b[0;32m~/MyStuff/Dev/python-virtual-envs/pie36-tf13/lib/python3.6/site-packages/tensorflow/python/client/session.py\u001b[0m in \u001b[0;36mrun\u001b[0;34m(self, fetches, feed_dict, options, run_metadata)\u001b[0m\n\u001b[1;32m    893\u001b[0m     \u001b[0;32mtry\u001b[0m\u001b[0;34m:\u001b[0m\u001b[0;34m\u001b[0m\u001b[0m\n\u001b[1;32m    894\u001b[0m       result = self._run(None, fetches, feed_dict, options_ptr,\n\u001b[0;32m--> 895\u001b[0;31m                          run_metadata_ptr)\n\u001b[0m\u001b[1;32m    896\u001b[0m       \u001b[0;32mif\u001b[0m \u001b[0mrun_metadata\u001b[0m\u001b[0;34m:\u001b[0m\u001b[0;34m\u001b[0m\u001b[0m\n\u001b[1;32m    897\u001b[0m         \u001b[0mproto_data\u001b[0m \u001b[0;34m=\u001b[0m \u001b[0mtf_session\u001b[0m\u001b[0;34m.\u001b[0m\u001b[0mTF_GetBuffer\u001b[0m\u001b[0;34m(\u001b[0m\u001b[0mrun_metadata_ptr\u001b[0m\u001b[0;34m)\u001b[0m\u001b[0;34m\u001b[0m\u001b[0m\n",
      "\u001b[0;32m~/MyStuff/Dev/python-virtual-envs/pie36-tf13/lib/python3.6/site-packages/tensorflow/python/client/session.py\u001b[0m in \u001b[0;36m_run\u001b[0;34m(self, handle, fetches, feed_dict, options, run_metadata)\u001b[0m\n\u001b[1;32m   1122\u001b[0m     \u001b[0;32mif\u001b[0m \u001b[0mfinal_fetches\u001b[0m \u001b[0;32mor\u001b[0m \u001b[0mfinal_targets\u001b[0m \u001b[0;32mor\u001b[0m \u001b[0;34m(\u001b[0m\u001b[0mhandle\u001b[0m \u001b[0;32mand\u001b[0m \u001b[0mfeed_dict_tensor\u001b[0m\u001b[0;34m)\u001b[0m\u001b[0;34m:\u001b[0m\u001b[0;34m\u001b[0m\u001b[0m\n\u001b[1;32m   1123\u001b[0m       results = self._do_run(handle, final_targets, final_fetches,\n\u001b[0;32m-> 1124\u001b[0;31m                              feed_dict_tensor, options, run_metadata)\n\u001b[0m\u001b[1;32m   1125\u001b[0m     \u001b[0;32melse\u001b[0m\u001b[0;34m:\u001b[0m\u001b[0;34m\u001b[0m\u001b[0m\n\u001b[1;32m   1126\u001b[0m       \u001b[0mresults\u001b[0m \u001b[0;34m=\u001b[0m \u001b[0;34m[\u001b[0m\u001b[0;34m]\u001b[0m\u001b[0;34m\u001b[0m\u001b[0m\n",
      "\u001b[0;32m~/MyStuff/Dev/python-virtual-envs/pie36-tf13/lib/python3.6/site-packages/tensorflow/python/client/session.py\u001b[0m in \u001b[0;36m_do_run\u001b[0;34m(self, handle, target_list, fetch_list, feed_dict, options, run_metadata)\u001b[0m\n\u001b[1;32m   1319\u001b[0m     \u001b[0;32mif\u001b[0m \u001b[0mhandle\u001b[0m \u001b[0;32mis\u001b[0m \u001b[0;32mNone\u001b[0m\u001b[0;34m:\u001b[0m\u001b[0;34m\u001b[0m\u001b[0m\n\u001b[1;32m   1320\u001b[0m       return self._do_call(_run_fn, self._session, feeds, fetches, targets,\n\u001b[0;32m-> 1321\u001b[0;31m                            options, run_metadata)\n\u001b[0m\u001b[1;32m   1322\u001b[0m     \u001b[0;32melse\u001b[0m\u001b[0;34m:\u001b[0m\u001b[0;34m\u001b[0m\u001b[0m\n\u001b[1;32m   1323\u001b[0m       \u001b[0;32mreturn\u001b[0m \u001b[0mself\u001b[0m\u001b[0;34m.\u001b[0m\u001b[0m_do_call\u001b[0m\u001b[0;34m(\u001b[0m\u001b[0m_prun_fn\u001b[0m\u001b[0;34m,\u001b[0m \u001b[0mself\u001b[0m\u001b[0;34m.\u001b[0m\u001b[0m_session\u001b[0m\u001b[0;34m,\u001b[0m \u001b[0mhandle\u001b[0m\u001b[0;34m,\u001b[0m \u001b[0mfeeds\u001b[0m\u001b[0;34m,\u001b[0m \u001b[0mfetches\u001b[0m\u001b[0;34m)\u001b[0m\u001b[0;34m\u001b[0m\u001b[0m\n",
      "\u001b[0;32m~/MyStuff/Dev/python-virtual-envs/pie36-tf13/lib/python3.6/site-packages/tensorflow/python/client/session.py\u001b[0m in \u001b[0;36m_do_call\u001b[0;34m(self, fn, *args)\u001b[0m\n\u001b[1;32m   1325\u001b[0m   \u001b[0;32mdef\u001b[0m \u001b[0m_do_call\u001b[0m\u001b[0;34m(\u001b[0m\u001b[0mself\u001b[0m\u001b[0;34m,\u001b[0m \u001b[0mfn\u001b[0m\u001b[0;34m,\u001b[0m \u001b[0;34m*\u001b[0m\u001b[0margs\u001b[0m\u001b[0;34m)\u001b[0m\u001b[0;34m:\u001b[0m\u001b[0;34m\u001b[0m\u001b[0m\n\u001b[1;32m   1326\u001b[0m     \u001b[0;32mtry\u001b[0m\u001b[0;34m:\u001b[0m\u001b[0;34m\u001b[0m\u001b[0m\n\u001b[0;32m-> 1327\u001b[0;31m       \u001b[0;32mreturn\u001b[0m \u001b[0mfn\u001b[0m\u001b[0;34m(\u001b[0m\u001b[0;34m*\u001b[0m\u001b[0margs\u001b[0m\u001b[0;34m)\u001b[0m\u001b[0;34m\u001b[0m\u001b[0m\n\u001b[0m\u001b[1;32m   1328\u001b[0m     \u001b[0;32mexcept\u001b[0m \u001b[0merrors\u001b[0m\u001b[0;34m.\u001b[0m\u001b[0mOpError\u001b[0m \u001b[0;32mas\u001b[0m \u001b[0me\u001b[0m\u001b[0;34m:\u001b[0m\u001b[0;34m\u001b[0m\u001b[0m\n\u001b[1;32m   1329\u001b[0m       \u001b[0mmessage\u001b[0m \u001b[0;34m=\u001b[0m \u001b[0mcompat\u001b[0m\u001b[0;34m.\u001b[0m\u001b[0mas_text\u001b[0m\u001b[0;34m(\u001b[0m\u001b[0me\u001b[0m\u001b[0;34m.\u001b[0m\u001b[0mmessage\u001b[0m\u001b[0;34m)\u001b[0m\u001b[0;34m\u001b[0m\u001b[0m\n",
      "\u001b[0;32m~/MyStuff/Dev/python-virtual-envs/pie36-tf13/lib/python3.6/site-packages/tensorflow/python/client/session.py\u001b[0m in \u001b[0;36m_run_fn\u001b[0;34m(session, feed_dict, fetch_list, target_list, options, run_metadata)\u001b[0m\n\u001b[1;32m   1304\u001b[0m           return tf_session.TF_Run(session, options,\n\u001b[1;32m   1305\u001b[0m                                    \u001b[0mfeed_dict\u001b[0m\u001b[0;34m,\u001b[0m \u001b[0mfetch_list\u001b[0m\u001b[0;34m,\u001b[0m \u001b[0mtarget_list\u001b[0m\u001b[0;34m,\u001b[0m\u001b[0;34m\u001b[0m\u001b[0m\n\u001b[0;32m-> 1306\u001b[0;31m                                    status, run_metadata)\n\u001b[0m\u001b[1;32m   1307\u001b[0m \u001b[0;34m\u001b[0m\u001b[0m\n\u001b[1;32m   1308\u001b[0m     \u001b[0;32mdef\u001b[0m \u001b[0m_prun_fn\u001b[0m\u001b[0;34m(\u001b[0m\u001b[0msession\u001b[0m\u001b[0;34m,\u001b[0m \u001b[0mhandle\u001b[0m\u001b[0;34m,\u001b[0m \u001b[0mfeed_dict\u001b[0m\u001b[0;34m,\u001b[0m \u001b[0mfetch_list\u001b[0m\u001b[0;34m)\u001b[0m\u001b[0;34m:\u001b[0m\u001b[0;34m\u001b[0m\u001b[0m\n",
      "\u001b[0;31mKeyboardInterrupt\u001b[0m: "
     ],
     "output_type": "error"
    }
   ],
   "source": [
    "d_saver.restore(sess, os.path.join(MODEL_CHECKPOINTS_DIR, \"discriminator.ckpt\"))\n",
    "#g_saver.restore(sess, os.path.join(MODEL_CHECKPOINTS_DIR, \"generator.ckpt\"))\n",
    "\n",
    "#Train generator and discriminator together\n",
    "n_epochs = 200\n",
    "\n",
    "for epoch in range(n_epochs):\n",
    "    for batch in range(train_data.num_examples // batch_size):\n",
    "        noise_batch = np.random.normal(1250, 5, size=[batch_size, max_policy_history_length, noise_dimensions])\n",
    "        noise_batch[:, 0, 1] = 0\n",
    "        noise_seq_length_batch = np.full(batch_size, max_policy_history_length)\n",
    "        \n",
    "        y_batch, X_batch, X_seq_length_batch = train_data.next_batch(batch_size)\n",
    "\n",
    "        # Train discriminator on both real and fake data\n",
    "        _, dLossReal, dLossFake, acc_real_train, acc_fake_train = \\\n",
    "            sess.run([d_trainer_real, d_loss_real, d_loss_fake, accuracy_d_real, accuracy_d_fake],\n",
    "                     {X: X_batch, y: y_batch, X_seq_length: X_seq_length_batch,\n",
    "                      noise: noise_batch, noise_seq_length: noise_seq_length_batch})\n",
    "\n",
    "        # Train generator    \n",
    "        _, dLossFake, acc_d_fake, gLoss, acc_g, gData = sess.run([g_trainer, d_loss_fake, accuracy_d_fake,\n",
    "                                                                         g_loss, accuracy_g, g_data],\n",
    "                                          feed_dict={noise: noise_batch, noise_seq_length: noise_seq_length_batch})\n",
    "\n",
    "    print(\"Epoch:\", epoch, \n",
    "          \"dLossFake:\", dLossFake, \"acc_fake_train:\", acc_d_fake,\n",
    "          \"gLoss:\", gLoss, \"acc_g:\", acc_g)\n",
    "\n",
    "    print(gData[0])\n"
   ]
  },
  {
   "cell_type": "code",
   "execution_count": 5,
   "metadata": {},
   "outputs": [
    {
     "data": {
      "text/plain": [
       "'/Users/gopora/MyStuff/Dev/Workspaces/Sandbox/TroubledLife/model_checkpoints/generator.ckpt'"
      ]
     },
     "execution_count": 5,
     "metadata": {},
     "output_type": "execute_result"
    }
   ],
   "source": [
    "g_saver.save(sess, os.path.join(MODEL_CHECKPOINTS_DIR, \"generator.ckpt\"))"
   ]
  },
  {
   "cell_type": "code",
   "execution_count": null,
   "metadata": {},
   "outputs": [],
   "source": []
  }
 ],
 "metadata": {
  "kernelspec": {
   "display_name": "Python 2",
   "language": "python",
   "name": "python2"
  },
  "language_info": {
   "codemirror_mode": {
    "name": "ipython",
    "version": 2
   },
   "file_extension": ".py",
   "mimetype": "text/x-python",
   "name": "python",
   "nbconvert_exporter": "python",
   "pygments_lexer": "ipython2",
   "version": "2.7.6"
  }
 },
 "nbformat": 4,
 "nbformat_minor": 0
}
