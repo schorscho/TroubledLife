{
 "cells": [
  {
   "cell_type": "code",
   "execution_count": 1,
   "metadata": {
    "collapsed": true
   },
   "outputs": [],
   "source": [
    "import os\n",
    "from datetime import datetime\n",
    "\n",
    "\n",
    "PROJECT_ROOT_DIR = \"/Users/gopora/MyStuff/Dev/Workspaces/Sandbox/TroubledLife\"\n",
    "DATASETS_DIR = os.path.join(PROJECT_ROOT_DIR, \"data\")\n",
    "TF_LOG_DIR = os.path.join(PROJECT_ROOT_DIR, \"tf_logs\")\n",
    "MODEL_CHECKPOINTS_DIR = os.path.join(PROJECT_ROOT_DIR, \"model_checkpoints\")\n",
    "TRAINING_SET_DATA_FILE = \"troubled_life_policy_train_data.csv\"\n",
    "TEST_SET_DATA_FILE = \"troubled_life_policy_test_data.csv\"\n",
    "\n",
    "now = datetime.now().strftime(\"%Y%m%d-%H%M%S\")\n",
    "log_dir = \"{}/run-{}/\".format(TF_LOG_DIR, now)"
   ]
  },
  {
   "cell_type": "code",
   "execution_count": 2,
   "metadata": {
    "collapsed": true
   },
   "outputs": [],
   "source": [
    "import data_preparation as dp\n",
    "\n",
    "#dp.generate_troubled_life_policy_data(no_of_policies=10000, runtime=5, file_path=os.path.join(DATASETS_DIR, TRAINING_SET_DATA_FILE))\n",
    "\n",
    "#dp.generate_troubled_life_policy_data(no_of_policies=2000, runtime=5, file_path=os.path.join(DATASETS_DIR, TEST_SET_DATA_FILE))\n",
    "\n",
    "policy_histories_train = \\\n",
    "    dp.load_troubled_life_policy_data(file_path=os.path.join(DATASETS_DIR, TRAINING_SET_DATA_FILE))\n",
    "\n",
    "policy_histories_test = \\\n",
    "    dp.load_troubled_life_policy_data(file_path=os.path.join(DATASETS_DIR, TEST_SET_DATA_FILE))\n",
    "\n",
    "policy_histories_length_train, max_policy_history_length_train = \\\n",
    "    dp.get_policy_history_lengths(policy_histories=policy_histories_train)\n",
    "\n",
    "policy_histories_length_test, max_policy_history_length_test = \\\n",
    "    dp.get_policy_history_lengths(policy_histories=policy_histories_test)\n",
    "\n",
    "max_policy_history_length = max(max_policy_history_length_train, max_policy_history_length_test)"
   ]
  },
  {
   "cell_type": "code",
   "execution_count": 3,
   "metadata": {
    "collapsed": true
   },
   "outputs": [],
   "source": [
    "# Pad the histories up to maximum length of both, train and test set\n",
    "\n",
    "# policy_histories_train = \\\n",
    "#     dp.pad_troubled_life_policy_histories(policy_histories=policy_histories_train,\n",
    "#                                           policy_histories_lengths=policy_histories_length_train,\n",
    "#                                           max_policy_history_length=max_policy_history_length)\n",
    "# \n",
    "# policy_histories_test = \\\n",
    "#     dp.pad_troubled_life_policy_histories(policy_histories=policy_histories_test,\n",
    "#                                           policy_histories_lengths=policy_histories_length_test,\n",
    "#                                           max_policy_history_length=max_policy_history_length)\n",
    "# \n",
    "# # # Save padded data, since always generating and padding takes too long\n",
    "# policy_histories_train.to_csv(path_or_buf=os.path.join(DATASETS_DIR, TRAINING_SET_DATA_FILE))\n",
    "# policy_histories_test.to_csv(path_or_buf=os.path.join(DATASETS_DIR, TEST_SET_DATA_FILE))\n",
    "\n",
    "# Extract features and labels from dataset as numpy.ndarray(s)\n",
    "binary_classification = True\n",
    "\n",
    "train_labels, train_features, train_seq_lengths =\\\n",
    "    dp.prepare_labels_features_lengths(policy_histories=policy_histories_train,\n",
    "                                       policy_histories_lengths=policy_histories_length_train, \n",
    "                                       max_policy_history_length=max_policy_history_length,\n",
    "                                       binary_classification=binary_classification)\n",
    "test_labels, test_features, test_seq_lengths =\\\n",
    "    dp.prepare_labels_features_lengths(policy_histories=policy_histories_test,\n",
    "                                       policy_histories_lengths=policy_histories_length_test, \n",
    "                                       max_policy_history_length=max_policy_history_length,\n",
    "                                       binary_classification=binary_classification)\n",
    "\n",
    "train_data = dp.TrainDataSet(train_labels=train_labels, train_features=train_features, train_seq_lengths=train_seq_lengths)"
   ]
  },
  {
   "cell_type": "code",
   "execution_count": 4,
   "metadata": {},
   "outputs": [],
   "source": [
    "import tensorflow as tf\n",
    "import gan as gan\n",
    "\n",
    "\n",
    "g_learning_rate = 0.001\n",
    "d_real_learning_rate = 0.0001\n",
    "d_fake_learning_rate = 0.0001\n",
    "noise_dimensions = 100\n",
    "batch_size = 200\n",
    "g_n_outputs = 2\n",
    "d_n_inputs = 2\n",
    "d_n_outputs = 2 if binary_classification else max_policy_history_length\n",
    "\n",
    "tf.reset_default_graph()\n",
    "tf.set_random_seed(42)\n",
    "\n",
    "noise = tf.placeholder(tf.float32, [None, max_policy_history_length, noise_dimensions], name='noise')\n",
    "noise_seq_length = tf.placeholder(tf.int32, [None], name='noise_seq_length')\n",
    "\n",
    "X = tf.placeholder(tf.float32, [None, max_policy_history_length, d_n_inputs], name=\"X\")\n",
    "y = tf.placeholder(tf.int32, [None], name=\"y\")\n",
    "X_seq_length = tf.placeholder(tf.int32, [None], name=\"X_seq_length\")\n",
    "\n",
    "g_data = gan.generator(noise=noise, n_outputs=g_n_outputs, seq_length=noise_seq_length)\n",
    "\n",
    "logits_d_for_X, y_pred_X = gan.discriminator(X=X, seq_length=X_seq_length, n_outputs=d_n_outputs)\n",
    "logits_d_for_g, y_pred_g = gan.discriminator(X=g_data, seq_length=noise_seq_length, n_outputs=d_n_outputs, reuse=True)\n",
    "\n",
    "g_loss, accuracy_g = gan.generator_loss(batch_size=batch_size, logits=logits_d_for_g)\n",
    "d_loss_real, accuracy_d_real = gan.discriminator_loss_real(logits=logits_d_for_X, y=y)\n",
    "d_loss_fake, accuracy_d_fake = gan.discriminator_loss_fake(batch_size=batch_size, logits=logits_d_for_g)\n",
    "\n",
    "g_trainer = gan.generator_trainer(g_learning_rate, g_loss)\n",
    "d_trainer_real = gan.discriminator_trainer_real(d_real_learning_rate, d_loss_real)\n",
    "d_trainer_fake = gan.discriminator_trainer_fake(d_fake_learning_rate, d_loss_fake)\n",
    "\n",
    "tf.summary.scalar('Generator_loss', g_loss)\n",
    "tf.summary.scalar('Discriminator_loss_real', d_loss_real)\n",
    "tf.summary.scalar('Discriminator_loss_fake', d_loss_fake)\n",
    "\n",
    "merged = tf.summary.merge_all()\n",
    "writer = tf.summary.FileWriter(log_dir, tf.get_default_graph())"
   ]
  },
  {
   "cell_type": "code",
   "execution_count": 5,
   "metadata": {},
   "outputs": [
    {
     "name": "stdout",
     "output_type": "stream",
     "text": [
      "Epoch: 0 dLossReal: 12.1091 acc_real_train: 0.835 dLossFake: 0.0278049 acc_fake_train: 1.0\n"
     ]
    },
    {
     "name": "stdout",
     "output_type": "stream",
     "text": [
      "Epoch: 1 dLossReal: 11.6146 acc_real_train: 0.935 dLossFake: 3.11428e-05 acc_fake_train: 1.0\n"
     ]
    },
    {
     "name": "stdout",
     "output_type": "stream",
     "text": [
      "Epoch: 2 dLossReal: 2.79858 acc_real_train: 0.92 dLossFake: 2.27673e-05 acc_fake_train: 1.0\n"
     ]
    },
    {
     "name": "stdout",
     "output_type": "stream",
     "text": [
      "Epoch: 3 dLossReal: 0.501413 acc_real_train: 0.925 dLossFake: 1.23367e-05 acc_fake_train: 1.0\n"
     ]
    },
    {
     "name": "stdout",
     "output_type": "stream",
     "text": [
      "Epoch: 4 dLossReal: 2.18449 acc_real_train: 0.935 dLossFake: 5.17305e-06 acc_fake_train: 1.0\n"
     ]
    },
    {
     "name": "stdout",
     "output_type": "stream",
     "text": [
      "Epoch: 5 dLossReal: 0.612731 acc_real_train: 0.94 dLossFake: 4.60917e-06 acc_fake_train: 1.0\n"
     ]
    },
    {
     "name": "stdout",
     "output_type": "stream",
     "text": [
      "Epoch: 6 dLossReal: 12.2224 acc_real_train: 0.81 dLossFake: 3.12029e-06 acc_fake_train: 1.0\n"
     ]
    },
    {
     "name": "stdout",
     "output_type": "stream",
     "text": [
      "Epoch: 7 dLossReal: 9.37114 acc_real_train: 0.84 dLossFake: 1.9282e-06 acc_fake_train: 1.0\n"
     ]
    },
    {
     "name": "stdout",
     "output_type": "stream",
     "text": [
      "Epoch: 8 dLossReal: 0.710101 acc_real_train: 0.955 dLossFake: 7.52805e-07 acc_fake_train: 1.0\n"
     ]
    },
    {
     "name": "stdout",
     "output_type": "stream",
     "text": [
      "Epoch: 9 dLossReal: 0.111921 acc_real_train: 0.96 dLossFake: 3.165e-07 acc_fake_train: 1.0\n"
     ]
    },
    {
     "name": "stdout",
     "output_type": "stream",
     "text": [
      "Epoch: 10 dLossReal: 0.535451 acc_real_train: 0.875 dLossFake: 2.30074e-07 acc_fake_train: 1.0\n"
     ]
    },
    {
     "name": "stdout",
     "output_type": "stream",
     "text": [
      "Epoch: 11 dLossReal: 0.3416 acc_real_train: 0.98 dLossFake: 1.03712e-07 acc_fake_train: 1.0\n"
     ]
    },
    {
     "name": "stdout",
     "output_type": "stream",
     "text": [
      "Epoch: 12 dLossReal: 1.03985 acc_real_train: 0.955 dLossFake: 1.19805e-07 acc_fake_train: 1.0\n"
     ]
    },
    {
     "name": "stdout",
     "output_type": "stream",
     "text": [
      "Epoch: 13 dLossReal: 1.42583 acc_real_train: 0.95 dLossFake: 1.96695e-08 acc_fake_train: 1.0\n"
     ]
    },
    {
     "name": "stdout",
     "output_type": "stream",
     "text": [
      "Epoch: 14 dLossReal: 3.93026 acc_real_train: 0.72 dLossFake: 1.3113e-08 acc_fake_train: 1.0\n"
     ]
    },
    {
     "name": "stdout",
     "output_type": "stream",
     "text": [
      "Epoch: 15 dLossReal: 0.493807 acc_real_train: 0.88 dLossFake: 7.7486e-09 acc_fake_train: 1.0\n"
     ]
    },
    {
     "name": "stdout",
     "output_type": "stream",
     "text": [
      "Epoch: 16 dLossReal: 0.286043 acc_real_train: 0.95 dLossFake: 1.43051e-08 acc_fake_train: 1.0\n"
     ]
    },
    {
     "name": "stdout",
     "output_type": "stream",
     "text": [
      "Epoch: 17 dLossReal: 3.7704 acc_real_train: 0.89 dLossFake: 5.96046e-09 acc_fake_train: 1.0\n"
     ]
    },
    {
     "name": "stdout",
     "output_type": "stream",
     "text": [
      "Epoch: 18 dLossReal: 1.5762 acc_real_train: 0.945 dLossFake: 4.17232e-09 acc_fake_train: 1.0\n"
     ]
    },
    {
     "name": "stdout",
     "output_type": "stream",
     "text": [
      "Epoch: 19 dLossReal: 6.21354 acc_real_train: 0.865 dLossFake: 1.2517e-08 acc_fake_train: 1.0\n"
     ]
    },
    {
     "name": "stdout",
     "output_type": "stream",
     "text": [
      "Epoch: 20 dLossReal: 0.035958 acc_real_train: 0.995 dLossFake: 5.96046e-09 acc_fake_train: 1.0\n"
     ]
    },
    {
     "name": "stdout",
     "output_type": "stream",
     "text": [
      "Epoch: 21 dLossReal: 0.756218 acc_real_train: 0.94 dLossFake: 6.55651e-09 acc_fake_train: 1.0\n"
     ]
    },
    {
     "name": "stdout",
     "output_type": "stream",
     "text": [
      "Epoch: 22 dLossReal: 0.279315 acc_real_train: 0.98 dLossFake: 3.57628e-09 acc_fake_train: 1.0\n"
     ]
    },
    {
     "name": "stdout",
     "output_type": "stream",
     "text": [
      "Epoch: 23 dLossReal: 0.000189907 acc_real_train: 1.0 dLossFake: 4.76837e-09 acc_fake_train: 1.0\n"
     ]
    },
    {
     "name": "stdout",
     "output_type": "stream",
     "text": [
      "Epoch: 24 dLossReal: 0.263792 acc_real_train: 0.945 dLossFake: 4.76837e-09 acc_fake_train: 1.0\n"
     ]
    },
    {
     "name": "stdout",
     "output_type": "stream",
     "text": [
      "Epoch: 25 dLossReal: 0.228289 acc_real_train: 0.98 dLossFake: 1.19209e-09 acc_fake_train: 1.0\n"
     ]
    },
    {
     "name": "stdout",
     "output_type": "stream",
     "text": [
      "Epoch: 26 dLossReal: 0.748424 acc_real_train: 0.9 dLossFake: 5.96046e-10 acc_fake_train: 1.0\n"
     ]
    },
    {
     "name": "stdout",
     "output_type": "stream",
     "text": [
      "Epoch: 27 dLossReal: 0.142475 acc_real_train: 0.995 dLossFake: 5.96046e-10 acc_fake_train: 1.0\n"
     ]
    },
    {
     "name": "stdout",
     "output_type": "stream",
     "text": [
      "Epoch: 28 dLossReal: 0.137127 acc_real_train: 0.99 dLossFake: 0.0 acc_fake_train: 1.0\n"
     ]
    },
    {
     "name": "stdout",
     "output_type": "stream",
     "text": [
      "Epoch: 29 dLossReal: 0.0416279 acc_real_train: 0.99 dLossFake: 0.0 acc_fake_train: 1.0\n"
     ]
    },
    {
     "name": "stdout",
     "output_type": "stream",
     "text": [
      "Epoch: 30 dLossReal: 1.09352 acc_real_train: 0.95 dLossFake: 0.0 acc_fake_train: 1.0\n"
     ]
    },
    {
     "name": "stdout",
     "output_type": "stream",
     "text": [
      "Epoch: 31 dLossReal: 0.793997 acc_real_train: 0.96 dLossFake: 2.98023e-09 acc_fake_train: 1.0\n"
     ]
    },
    {
     "name": "stdout",
     "output_type": "stream",
     "text": [
      "Epoch: 32 dLossReal: 0.295847 acc_real_train: 0.985 dLossFake: 0.0 acc_fake_train: 1.0\n"
     ]
    },
    {
     "name": "stdout",
     "output_type": "stream",
     "text": [
      "Epoch: 33 dLossReal: 0.225357 acc_real_train: 0.99 dLossFake: 0.0 acc_fake_train: 1.0\n"
     ]
    },
    {
     "name": "stdout",
     "output_type": "stream",
     "text": [
      "Epoch: 34 dLossReal: 0.00465661 acc_real_train: 0.995 dLossFake: 0.0 acc_fake_train: 1.0\n"
     ]
    },
    {
     "name": "stdout",
     "output_type": "stream",
     "text": [
      "Epoch: 35 dLossReal: 0.596245 acc_real_train: 0.96 dLossFake: 2.38419e-09 acc_fake_train: 1.0\n"
     ]
    },
    {
     "name": "stdout",
     "output_type": "stream",
     "text": [
      "Epoch: 36 dLossReal: 0.829551 acc_real_train: 0.985 dLossFake: 5.96046e-10 acc_fake_train: 1.0\n"
     ]
    },
    {
     "name": "stdout",
     "output_type": "stream",
     "text": [
      "Epoch: 37 dLossReal: 0.577992 acc_real_train: 0.98 dLossFake: 5.96046e-10 acc_fake_train: 1.0\n"
     ]
    },
    {
     "name": "stdout",
     "output_type": "stream",
     "text": [
      "Epoch: 38 dLossReal: 4.25155 acc_real_train: 0.9 dLossFake: 5.96046e-10 acc_fake_train: 1.0\n"
     ]
    },
    {
     "name": "stdout",
     "output_type": "stream",
     "text": [
      "Epoch: 39 dLossReal: 0.697857 acc_real_train: 0.965 dLossFake: 1.19209e-09 acc_fake_train: 1.0\n"
     ]
    },
    {
     "name": "stdout",
     "output_type": "stream",
     "text": [
      "Epoch: 40 dLossReal: 0.0454411 acc_real_train: 0.985 dLossFake: 5.96046e-09 acc_fake_train: 1.0\n"
     ]
    },
    {
     "name": "stdout",
     "output_type": "stream",
     "text": [
      "Epoch: 41 dLossReal: 1.15337 acc_real_train: 0.965 dLossFake: 1.19209e-09 acc_fake_train: 1.0\n"
     ]
    },
    {
     "name": "stdout",
     "output_type": "stream",
     "text": [
      "Epoch: 42 dLossReal: 0.016567 acc_real_train: 0.995 dLossFake: 5.96046e-10 acc_fake_train: 1.0\n"
     ]
    },
    {
     "name": "stdout",
     "output_type": "stream",
     "text": [
      "Epoch: 43 dLossReal: 0.0767015 acc_real_train: 0.98 dLossFake: 5.96046e-09 acc_fake_train: 1.0\n"
     ]
    },
    {
     "name": "stdout",
     "output_type": "stream",
     "text": [
      "Epoch: 44 dLossReal: 0.560356 acc_real_train: 0.965 dLossFake: 3.57628e-09 acc_fake_train: 1.0\n"
     ]
    },
    {
     "name": "stdout",
     "output_type": "stream",
     "text": [
      "Epoch: 45 dLossReal: 0.0763967 acc_real_train: 0.975 dLossFake: 0.0 acc_fake_train: 1.0\n"
     ]
    },
    {
     "name": "stdout",
     "output_type": "stream",
     "text": [
      "Epoch: 46 dLossReal: 0.788718 acc_real_train: 0.95 dLossFake: 0.0 acc_fake_train: 1.0\n"
     ]
    },
    {
     "name": "stdout",
     "output_type": "stream",
     "text": [
      "Epoch: 47 dLossReal: 0.605617 acc_real_train: 0.985 dLossFake: 0.0 acc_fake_train: 1.0\n"
     ]
    },
    {
     "name": "stdout",
     "output_type": "stream",
     "text": [
      "Epoch: 48 dLossReal: 0.38738 acc_real_train: 0.98 dLossFake: 0.0 acc_fake_train: 1.0\n"
     ]
    },
    {
     "name": "stdout",
     "output_type": "stream",
     "text": [
      "Epoch: 49 dLossReal: 0.00061693 acc_real_train: 1.0 dLossFake: 0.0 acc_fake_train: 1.0\n"
     ]
    },
    {
     "name": "stdout",
     "output_type": "stream",
     "text": [
      "Epoch: 50 dLossReal: 0.078867 acc_real_train: 0.995 dLossFake: 0.0 acc_fake_train: 1.0\n"
     ]
    },
    {
     "name": "stdout",
     "output_type": "stream",
     "text": [
      "Epoch: 51 dLossReal: 0.0939192 acc_real_train: 0.985 dLossFake: 0.0 acc_fake_train: 1.0\n"
     ]
    },
    {
     "name": "stdout",
     "output_type": "stream",
     "text": [
      "Epoch: 52 dLossReal: 0.389096 acc_real_train: 0.98 dLossFake: 0.0 acc_fake_train: 1.0\n"
     ]
    },
    {
     "name": "stdout",
     "output_type": "stream",
     "text": [
      "Epoch: 53 dLossReal: 0.418094 acc_real_train: 0.965 dLossFake: 1.78814e-09 acc_fake_train: 1.0\n"
     ]
    },
    {
     "name": "stdout",
     "output_type": "stream",
     "text": [
      "Epoch: 54 dLossReal: 0.0250097 acc_real_train: 0.995 dLossFake: 0.0 acc_fake_train: 1.0\n"
     ]
    },
    {
     "name": "stdout",
     "output_type": "stream",
     "text": [
      "Epoch: 55 dLossReal: 8.39096e-05 acc_real_train: 1.0 dLossFake: 0.0 acc_fake_train: 1.0\n"
     ]
    },
    {
     "name": "stdout",
     "output_type": "stream",
     "text": [
      "Epoch: 56 dLossReal: 0.400788 acc_real_train: 0.975 dLossFake: 0.0 acc_fake_train: 1.0\n"
     ]
    },
    {
     "name": "stdout",
     "output_type": "stream",
     "text": [
      "Epoch: 57 dLossReal: 0.0314211 acc_real_train: 0.99 dLossFake: 0.0 acc_fake_train: 1.0\n"
     ]
    },
    {
     "name": "stdout",
     "output_type": "stream",
     "text": [
      "Epoch: 58 dLossReal: 5.0497 acc_real_train: 0.76 dLossFake: 0.0 acc_fake_train: 1.0\n"
     ]
    },
    {
     "name": "stdout",
     "output_type": "stream",
     "text": [
      "Epoch: 59 dLossReal: 0.365967 acc_real_train: 0.985 dLossFake: 0.0 acc_fake_train: 1.0\n"
     ]
    },
    {
     "name": "stdout",
     "output_type": "stream",
     "text": [
      "Epoch: 60 dLossReal: 0.337616 acc_real_train: 0.99 dLossFake: 0.0 acc_fake_train: 1.0\n"
     ]
    },
    {
     "name": "stdout",
     "output_type": "stream",
     "text": [
      "Epoch: 61 dLossReal: 0.000565216 acc_real_train: 1.0 dLossFake: 0.0 acc_fake_train: 1.0\n"
     ]
    },
    {
     "name": "stdout",
     "output_type": "stream",
     "text": [
      "Epoch: 62 dLossReal: 0.106234 acc_real_train: 0.98 dLossFake: 0.0 acc_fake_train: 1.0\n"
     ]
    },
    {
     "name": "stdout",
     "output_type": "stream",
     "text": [
      "Epoch: 63 dLossReal: 0.725752 acc_real_train: 0.96 dLossFake: 0.0 acc_fake_train: 1.0\n"
     ]
    },
    {
     "name": "stdout",
     "output_type": "stream",
     "text": [
      "Epoch: 64 dLossReal: 0.190901 acc_real_train: 0.975 dLossFake: 0.0 acc_fake_train: 1.0\n"
     ]
    },
    {
     "name": "stdout",
     "output_type": "stream",
     "text": [
      "Epoch: 65 dLossReal: 0.123089 acc_real_train: 0.99 dLossFake: 0.0 acc_fake_train: 1.0\n"
     ]
    },
    {
     "name": "stdout",
     "output_type": "stream",
     "text": [
      "Epoch: 66 dLossReal: 0.301435 acc_real_train: 0.975 dLossFake: 0.0 acc_fake_train: 1.0\n"
     ]
    },
    {
     "name": "stdout",
     "output_type": "stream",
     "text": [
      "Epoch: 67 dLossReal: 0.0425745 acc_real_train: 0.99 dLossFake: 0.0 acc_fake_train: 1.0\n"
     ]
    },
    {
     "name": "stdout",
     "output_type": "stream",
     "text": [
      "Epoch: 68 dLossReal: 0.0470311 acc_real_train: 0.995 dLossFake: 0.0 acc_fake_train: 1.0\n"
     ]
    },
    {
     "name": "stdout",
     "output_type": "stream",
     "text": [
      "Epoch: 69 dLossReal: 0.0350538 acc_real_train: 0.995 dLossFake: 5.96046e-10 acc_fake_train: 1.0\n"
     ]
    },
    {
     "name": "stdout",
     "output_type": "stream",
     "text": [
      "Epoch: 70 dLossReal: 0.0373468 acc_real_train: 0.99 dLossFake: 0.0 acc_fake_train: 1.0\n"
     ]
    },
    {
     "name": "stdout",
     "output_type": "stream",
     "text": [
      "Epoch: 71 dLossReal: 0.0563656 acc_real_train: 0.995 dLossFake: 0.0 acc_fake_train: 1.0\n"
     ]
    },
    {
     "name": "stdout",
     "output_type": "stream",
     "text": [
      "Epoch: 72 dLossReal: 0.135244 acc_real_train: 0.955 dLossFake: 0.0 acc_fake_train: 1.0\n"
     ]
    },
    {
     "name": "stdout",
     "output_type": "stream",
     "text": [
      "Epoch: 73 dLossReal: 2.28283e-07 acc_real_train: 1.0 dLossFake: 0.0 acc_fake_train: 1.0\n"
     ]
    },
    {
     "name": "stdout",
     "output_type": "stream",
     "text": [
      "Epoch: 74 dLossReal: 0.0365775 acc_real_train: 0.99 dLossFake: 0.0 acc_fake_train: 1.0\n"
     ]
    },
    {
     "name": "stdout",
     "output_type": "stream",
     "text": [
      "Epoch: 75 dLossReal: 0.339515 acc_real_train: 0.98 dLossFake: 0.0 acc_fake_train: 1.0\n"
     ]
    },
    {
     "name": "stdout",
     "output_type": "stream",
     "text": [
      "Epoch: 76 dLossReal: 1.12975 acc_real_train: 0.96 dLossFake: 0.0 acc_fake_train: 1.0\n"
     ]
    },
    {
     "name": "stdout",
     "output_type": "stream",
     "text": [
      "Epoch: 77 dLossReal: 1.70863 acc_real_train: 0.925 dLossFake: 3.89218e-07 acc_fake_train: 1.0\n"
     ]
    },
    {
     "name": "stdout",
     "output_type": "stream",
     "text": [
      "Epoch: 78 dLossReal: 0.350187 acc_real_train: 0.98 dLossFake: 0.0 acc_fake_train: 1.0\n"
     ]
    },
    {
     "name": "stdout",
     "output_type": "stream",
     "text": [
      "Epoch: 79 dLossReal: 0.0497503 acc_real_train: 0.995 dLossFake: 0.0 acc_fake_train: 1.0\n"
     ]
    },
    {
     "name": "stdout",
     "output_type": "stream",
     "text": [
      "Epoch: 80 dLossReal: 0.0473554 acc_real_train: 0.985 dLossFake: 0.0 acc_fake_train: 1.0\n"
     ]
    },
    {
     "name": "stdout",
     "output_type": "stream",
     "text": [
      "Epoch: 81 dLossReal: 0.0817553 acc_real_train: 0.985 dLossFake: 0.0 acc_fake_train: 1.0\n"
     ]
    },
    {
     "name": "stdout",
     "output_type": "stream",
     "text": [
      "Epoch: 82 dLossReal: 0.0923082 acc_real_train: 0.99 dLossFake: 0.0 acc_fake_train: 1.0\n"
     ]
    },
    {
     "name": "stdout",
     "output_type": "stream",
     "text": [
      "Epoch: 83 dLossReal: 0.0320968 acc_real_train: 0.99 dLossFake: 0.0 acc_fake_train: 1.0\n"
     ]
    },
    {
     "name": "stdout",
     "output_type": "stream",
     "text": [
      "Epoch: 84 dLossReal: 1.03021 acc_real_train: 0.945 dLossFake: 0.0 acc_fake_train: 1.0\n"
     ]
    },
    {
     "name": "stdout",
     "output_type": "stream",
     "text": [
      "Epoch: 85 dLossReal: 0.0570333 acc_real_train: 0.995 dLossFake: 1.19209e-09 acc_fake_train: 1.0\n"
     ]
    },
    {
     "name": "stdout",
     "output_type": "stream",
     "text": [
      "Epoch: 86 dLossReal: 0.0117057 acc_real_train: 0.995 dLossFake: 0.0 acc_fake_train: 1.0\n"
     ]
    },
    {
     "name": "stdout",
     "output_type": "stream",
     "text": [
      "Epoch: 87 dLossReal: 0.167981 acc_real_train: 0.99 dLossFake: 0.0 acc_fake_train: 1.0\n"
     ]
    },
    {
     "name": "stdout",
     "output_type": "stream",
     "text": [
      "Epoch: 88 dLossReal: 0.000423766 acc_real_train: 1.0 dLossFake: 0.0 acc_fake_train: 1.0\n"
     ]
    },
    {
     "name": "stdout",
     "output_type": "stream",
     "text": [
      "Epoch: 89 dLossReal: 0.0143617 acc_real_train: 0.99 dLossFake: 0.0 acc_fake_train: 1.0\n"
     ]
    },
    {
     "name": "stdout",
     "output_type": "stream",
     "text": [
      "Epoch: 90 dLossReal: 0.209163 acc_real_train: 0.995 dLossFake: 0.0 acc_fake_train: 1.0\n"
     ]
    },
    {
     "name": "stdout",
     "output_type": "stream",
     "text": [
      "Epoch: 91 dLossReal: 0.0215675 acc_real_train: 0.99 dLossFake: 5.96046e-10 acc_fake_train: 1.0\n"
     ]
    },
    {
     "name": "stdout",
     "output_type": "stream",
     "text": [
      "Epoch: 92 dLossReal: 0.095614 acc_real_train: 0.99 dLossFake: 0.0 acc_fake_train: 1.0\n"
     ]
    },
    {
     "name": "stdout",
     "output_type": "stream",
     "text": [
      "Epoch: 93 dLossReal: 0.532368 acc_real_train: 0.98 dLossFake: 0.0 acc_fake_train: 1.0\n"
     ]
    },
    {
     "name": "stdout",
     "output_type": "stream",
     "text": [
      "Epoch: 94 dLossReal: 0.609377 acc_real_train: 0.985 dLossFake: 0.0 acc_fake_train: 1.0\n"
     ]
    },
    {
     "name": "stdout",
     "output_type": "stream",
     "text": [
      "Epoch: 95 dLossReal: 0.0488538 acc_real_train: 0.99 dLossFake: 0.0 acc_fake_train: 1.0\n"
     ]
    },
    {
     "name": "stdout",
     "output_type": "stream",
     "text": [
      "Epoch: 96 dLossReal: 0.0347649 acc_real_train: 0.995 dLossFake: 0.0 acc_fake_train: 1.0\n"
     ]
    },
    {
     "name": "stdout",
     "output_type": "stream",
     "text": [
      "Epoch: 97 dLossReal: 0.0614429 acc_real_train: 0.985 dLossFake: 0.0 acc_fake_train: 1.0\n"
     ]
    },
    {
     "name": "stdout",
     "output_type": "stream",
     "text": [
      "Epoch: 98 dLossReal: 0.051425 acc_real_train: 0.99 dLossFake: 5.96046e-10 acc_fake_train: 1.0\n"
     ]
    },
    {
     "name": "stdout",
     "output_type": "stream",
     "text": [
      "Epoch: 99 dLossReal: 0.0663511 acc_real_train: 0.985 dLossFake: 0.0 acc_fake_train: 1.0\n"
     ]
    },
    {
     "data": {
      "text/plain": [
       "'/Users/gopora/MyStuff/Dev/Workspaces/Sandbox/TroubledLife/model_checkpoints/discriminator.ckpt'"
      ]
     },
     "execution_count": 5,
     "metadata": {},
     "output_type": "execute_result"
    }
   ],
   "source": [
    "import numpy as np\n",
    "\n",
    "\n",
    "sess = tf.Session()\n",
    "\n",
    "sess.run(tf.global_variables_initializer())\n",
    "sess.run(tf.local_variables_initializer())\n",
    "\n",
    "saver = tf.train.Saver()\n",
    "\n",
    "# n_epochs = 100\n",
    "# \n",
    "# # Pre-train discriminator\n",
    "# for epoch in range(n_epochs):\n",
    "#     for batch in range(train_data.num_examples // batch_size):\n",
    "#         noise_batch = np.random.normal(0, 1, size=[batch_size, max_policy_history_length, noise_dimensions])\n",
    "#         noise_seq_length_batch = np.full(batch_size, max_policy_history_length)\n",
    "# \n",
    "#         y_batch, X_batch, X_seq_length_batch = train_data.next_batch(batch_size)\n",
    "# \n",
    "#         _, __, dLossReal, dLossFake, acc_real_train, acc_fake_train = \\\n",
    "#             sess.run([d_trainer_real, d_trainer_fake, d_loss_real, d_loss_fake, accuracy_d_real, accuracy_d_fake],\n",
    "#                      {X: X_batch, y: y_batch, X_seq_length: X_seq_length_batch,\n",
    "#                       noise: noise_batch, noise_seq_length: noise_seq_length_batch})\n",
    "# \n",
    "#     print(\"Epoch:\", epoch, \"dLossReal:\", dLossReal, \"acc_real_train:\", acc_real_train,\n",
    "#           \"dLossFake:\", dLossFake, \"acc_fake_train:\", acc_fake_train)\n",
    "\n",
    "saver.save(sess, os.path.join(MODEL_CHECKPOINTS_DIR, \"discriminator.ckpt\"))"
   ]
  },
  {
   "cell_type": "code",
   "execution_count": 8,
   "metadata": {},
   "outputs": [
    {
     "name": "stdout",
     "output_type": "stream",
     "text": [
      "INFO:tensorflow:Restoring parameters from /Users/gopora/MyStuff/Dev/Workspaces/Sandbox/TroubledLife/model_checkpoints/discriminator.ckpt\n"
     ]
    },
    {
     "name": "stdout",
     "output_type": "stream",
     "text": [
      "Epoch: 0 gLoss: 27.2138 acc_g: 0.0\n[[ 0.08572766 -0.3339045 ]\n [ 0.63805389 -0.53719294]\n [ 0.29396552 -0.88731331]\n [ 0.37408763 -0.81510913]\n [ 0.52255464 -0.80806035]\n [ 0.22934756 -0.72426963]\n [ 0.55368775 -0.84412819]\n [ 0.46802622 -0.76123506]\n [ 0.08683917 -0.49970955]\n [ 0.14626271 -0.53411072]\n [-0.04495898 -0.98848557]\n [ 0.5454247  -0.78546   ]\n [ 0.40206867 -0.31760377]\n [-0.01882824 -0.64912558]\n [ 0.3344661  -0.73534912]]\n"
     ]
    },
    {
     "name": "stdout",
     "output_type": "stream",
     "text": [
      "Epoch: 1 gLoss: 27.0327 acc_g: 0.0\n[[ 0.21139652 -0.29061091]\n [ 0.20495433 -0.09223257]\n [-0.2240018  -0.4724223 ]\n [ 0.15971807 -0.79548502]\n [ 0.1683991  -0.61861038]\n [ 0.25871554 -0.67234921]\n [ 0.6776123  -0.38401467]\n [ 0.21735084 -0.83035386]\n [ 0.31422165 -0.39548212]\n [-0.06340641 -0.55020905]\n [ 0.13907635 -0.6200394 ]\n [ 0.04049653 -0.82181567]\n [ 0.26221937 -0.69684851]\n [ 0.47207761 -0.97188914]\n [-0.20633332 -1.45616829]]\n"
     ]
    },
    {
     "name": "stdout",
     "output_type": "stream",
     "text": [
      "Epoch: 2 gLoss: 27.2686 acc_g: 0.0\n[[ 0.12425978 -0.40530032]\n [ 0.36337101 -0.31753972]\n [ 0.19453563 -0.72451615]\n [-0.10031834 -0.80538511]\n [ 0.07437791 -0.61868203]\n [ 0.22540016 -0.61645567]\n [ 0.37888542 -0.40647614]\n [-0.09915863 -0.93858409]\n [ 0.48669076 -0.60947013]\n [ 0.19616118 -0.99185592]\n [ 0.49608505 -0.71847445]\n [-0.1099067  -0.61188257]\n [ 0.04296386 -0.97055423]\n [ 0.21626809 -0.79605448]\n [ 0.40841645 -0.88203043]]\n"
     ]
    },
    {
     "name": "stdout",
     "output_type": "stream",
     "text": [
      "Epoch: 3 gLoss: 27.2622 acc_g: 0.0\n[[ 0.10786431 -0.18153486]\n [ 0.2794888  -0.43915567]\n [ 0.26810855 -0.41593456]\n [ 0.51244843 -0.42175919]\n [-0.40007627 -0.76659095]\n [ 0.27112916 -0.42232442]\n [ 0.0794186  -0.69545227]\n [ 0.10316613 -1.03998971]\n [ 0.42056111 -0.59607339]\n [ 0.15164855 -1.03368974]\n [-0.00118825 -0.78469026]\n [ 0.31138164 -0.55444914]\n [ 0.60503161 -0.94713175]\n [ 0.49692386 -0.75040162]\n [ 0.57851624 -0.54554391]]\n"
     ]
    },
    {
     "name": "stdout",
     "output_type": "stream",
     "text": [
      "Epoch: 4 gLoss: 26.9171 acc_g: 0.0\n[[ 0.17510432 -0.2875793 ]\n [ 0.18892391 -0.37852266]\n [-0.10565395 -0.38714749]\n [ 0.11404018 -0.216416  ]\n [-0.26800257 -0.79575193]\n [ 0.2303187  -0.67609119]\n [-0.07232544 -0.87601042]\n [ 0.27539453 -0.63540781]\n [ 0.1540854  -0.69834089]\n [ 0.39485455 -0.89982259]\n [ 0.52205014 -0.96551716]\n [ 0.45288628 -0.84693456]\n [ 0.52486503 -0.6491226 ]\n [ 0.43543133 -1.00417244]\n [ 0.03044426 -0.69875407]]\n"
     ]
    },
    {
     "name": "stdout",
     "output_type": "stream",
     "text": [
      "Epoch: 5 gLoss: 27.2504 acc_g: 0.0\n[[ 0.16896144 -0.32347509]\n [ 0.2351355  -0.36569893]\n [-0.01637444 -0.07257908]\n [ 0.17319646 -0.20461494]\n [ 0.19429027 -0.62277281]\n [ 0.16154103 -0.57366109]\n [ 0.41471213 -0.81614971]\n [ 0.30848056 -0.65500766]\n [ 0.27199396 -0.09836395]\n [ 0.18817335 -0.61885226]\n [ 0.1951476  -0.81645346]\n [ 0.12828206 -0.70173597]\n [ 0.49174604 -0.86956382]\n [ 0.77470481 -0.26470864]\n [ 0.40577257 -0.77478939]]\n"
     ]
    },
    {
     "name": "stdout",
     "output_type": "stream",
     "text": [
      "Epoch: 6 gLoss: 27.2425 acc_g: 0.0\n[[ 0.08543506 -0.18889512]\n [-0.0552596  -0.26090401]\n [-0.05160626 -0.30167225]\n [ 0.09503014 -0.98189986]\n [-0.03907998 -1.05383945]\n [ 0.39915159 -0.55810177]\n [ 0.01752329 -0.65026361]\n [-0.14972407 -0.99812245]\n [-0.37658733 -0.61191988]\n [-0.10498288 -0.6639936 ]\n [ 0.04568839 -0.7661109 ]\n [-0.22378308 -0.96302128]\n [ 0.63013101 -0.61986458]\n [ 0.24366206 -0.75499278]\n [ 0.19829945 -0.87394309]]\n"
     ]
    },
    {
     "name": "stdout",
     "output_type": "stream",
     "text": [
      "Epoch: 7 gLoss: 27.2299 acc_g: 0.0\n[[ 0.25481328 -0.59153491]\n [-0.0154179  -0.17774945]\n [-0.29545256 -0.84947014]\n [ 0.64334911 -0.63816679]\n [-0.30751383 -0.21485576]\n [ 0.01434238 -0.81333208]\n [ 0.15206701 -0.69398808]\n [ 0.42795527 -0.37865931]\n [ 0.56555206 -0.35183617]\n [ 0.11205992 -0.96024764]\n [ 1.13354099 -0.7722367 ]\n [ 0.535061   -0.2644074 ]\n [ 0.32971704 -0.87432396]\n [ 0.52487713 -0.91449243]\n [ 0.39048722 -1.09249663]]\n"
     ]
    },
    {
     "name": "stdout",
     "output_type": "stream",
     "text": [
      "Epoch: 8 gLoss: 27.1791 acc_g: 0.0\n[[ 0.24728967 -0.19262394]\n [ 0.11304725 -0.48644501]\n [ 0.26786962 -0.56159776]\n [ 0.08077438 -0.21026239]\n [ 0.5929867  -0.35095018]\n [ 0.09950842 -1.12658334]\n [ 0.34329146 -1.19299173]\n [ 0.56931841 -0.57832575]\n [ 0.55497801 -0.49458969]\n [ 0.47574079 -0.57578784]\n [ 0.23097746 -0.76990777]\n [ 0.27739751 -0.96455103]\n [ 0.38223615 -0.84147072]\n [ 0.78318387 -0.35764775]\n [ 0.40610906 -0.8369568 ]]\n"
     ]
    },
    {
     "name": "stdout",
     "output_type": "stream",
     "text": [
      "Epoch: 9 gLoss: 26.9207 acc_g: 0.0\n[[ 0.16654281 -0.22540122]\n [ 0.1383495  -0.20736615]\n [-0.1243813  -0.27749085]\n [ 0.24154684 -0.86203414]\n [ 0.50814164 -0.52431881]\n [ 0.36353758 -0.38948143]\n [ 0.02075085 -0.68368173]\n [ 0.36051673 -0.36578786]\n [ 0.38002676 -0.45029727]\n [-0.08513479 -0.11352466]\n [-0.11583167 -0.57877827]\n [ 0.26101303 -0.68630558]\n [ 0.37669832 -0.66322148]\n [ 0.31958064 -0.94403303]\n [ 0.46994799 -0.72660267]]\n"
     ]
    },
    {
     "name": "stdout",
     "output_type": "stream",
     "text": [
      "Epoch: 10 gLoss: 26.8122 acc_g: 0.0\n[[ 0.05572231 -0.19995378]\n [-0.12898763 -0.31791419]\n [ 0.42750391 -0.17538781]\n [ 0.2387474  -0.40012622]\n [-0.01133863 -0.75270337]\n [ 0.14660308 -0.83726776]\n [ 0.21434623 -0.96419942]\n [ 0.67584336 -1.25266969]\n [ 0.4705182  -0.43296486]\n [ 0.33817694 -0.60163242]\n [ 0.32286111 -0.82884645]\n [ 0.6769374  -0.72085416]\n [ 0.09604347 -1.02022815]\n [ 0.11708333 -0.72979271]\n [ 0.26681435 -0.74625146]]\n"
     ]
    },
    {
     "name": "stdout",
     "output_type": "stream",
     "text": [
      "Epoch: 11 gLoss: 26.9753 acc_g: 0.0\n[[ 0.05612445 -0.40019202]\n [ 0.12506317 -0.39186239]\n [ 0.15520023 -0.30676928]\n [ 0.17124183 -0.45835489]\n [-0.19189408 -0.59409612]\n [ 0.375824   -0.4521262 ]\n [-0.18366998 -0.78132963]\n [-0.00360887 -0.68383956]\n [ 0.10498755 -0.4498415 ]\n [ 0.19682099 -0.63520873]\n [ 0.40187699 -0.82074749]\n [ 0.48558858 -0.61852229]\n [ 0.03818099 -0.82386965]\n [ 0.49374017 -0.05204661]\n [ 0.24864718 -0.55045104]]\n"
     ]
    },
    {
     "name": "stdout",
     "output_type": "stream",
     "text": [
      "Epoch: 12 gLoss: 27.0637 acc_g: 0.0\n[[ 0.09701312 -0.45761207]\n [ 0.08877711 -0.38476765]\n [ 0.04597384 -0.84569132]\n [ 0.20852922 -0.45662409]\n [ 0.51576084 -0.39409697]\n [ 0.05130914 -0.66716957]\n [ 0.31294909 -0.47139785]\n [ 0.32007873 -0.79022384]\n [ 0.75308883 -0.61952114]\n [-0.07400514 -0.67902344]\n [ 0.42937791 -1.03568971]\n [ 0.07162699 -0.77885711]\n [ 0.40470389 -0.60806668]\n [ 0.05202305 -0.746378  ]\n [ 0.12367684 -0.39067268]]\n"
     ]
    },
    {
     "name": "stdout",
     "output_type": "stream",
     "text": [
      "Epoch: 13 gLoss: 26.9933 acc_g: 0.0\n[[ 0.13962208 -0.2078197 ]\n [ 0.15314154 -0.22034781]\n [-0.00280667 -0.08769958]\n [ 0.27719909 -0.36568597]\n [-0.11637765 -0.58227247]\n [ 0.07935384 -0.63251549]\n [ 0.80671972 -0.62144566]\n [-0.04120871 -1.07031083]\n [ 0.43696886 -1.19712019]\n [ 0.39208174 -1.25708938]\n [ 0.32360703 -0.53142059]\n [ 0.47028148 -0.54137635]\n [ 0.14439075 -0.53456342]\n [ 0.32504463 -0.32838565]\n [ 0.47595501 -0.54781795]]\n"
     ]
    },
    {
     "ename": "KeyboardInterrupt",
     "evalue": "",
     "traceback": [
      "\u001b[0;31m---------------------------------------------------------------------------\u001b[0m",
      "\u001b[0;31mKeyboardInterrupt\u001b[0m                         Traceback (most recent call last)",
      "\u001b[0;32m<ipython-input-8-255d002a74b8>\u001b[0m in \u001b[0;36m<module>\u001b[0;34m()\u001b[0m\n\u001b[1;32m      6\u001b[0m \u001b[0;32mfor\u001b[0m \u001b[0mepoch\u001b[0m \u001b[0;32min\u001b[0m \u001b[0mrange\u001b[0m\u001b[0;34m(\u001b[0m\u001b[0mn_epochs\u001b[0m\u001b[0;34m)\u001b[0m\u001b[0;34m:\u001b[0m\u001b[0;34m\u001b[0m\u001b[0m\n\u001b[1;32m      7\u001b[0m     \u001b[0;32mfor\u001b[0m \u001b[0mbatch\u001b[0m \u001b[0;32min\u001b[0m \u001b[0mrange\u001b[0m\u001b[0;34m(\u001b[0m\u001b[0mtrain_data\u001b[0m\u001b[0;34m.\u001b[0m\u001b[0mnum_examples\u001b[0m \u001b[0;34m//\u001b[0m \u001b[0mbatch_size\u001b[0m\u001b[0;34m)\u001b[0m\u001b[0;34m:\u001b[0m\u001b[0;34m\u001b[0m\u001b[0m\n\u001b[0;32m----> 8\u001b[0;31m         \u001b[0mnoise_batch\u001b[0m \u001b[0;34m=\u001b[0m \u001b[0mnp\u001b[0m\u001b[0;34m.\u001b[0m\u001b[0mrandom\u001b[0m\u001b[0;34m.\u001b[0m\u001b[0mnormal\u001b[0m\u001b[0;34m(\u001b[0m\u001b[0;36m0\u001b[0m\u001b[0;34m,\u001b[0m \u001b[0;36m1\u001b[0m\u001b[0;34m,\u001b[0m \u001b[0msize\u001b[0m\u001b[0;34m=\u001b[0m\u001b[0;34m[\u001b[0m\u001b[0mbatch_size\u001b[0m\u001b[0;34m,\u001b[0m \u001b[0mmax_policy_history_length\u001b[0m\u001b[0;34m,\u001b[0m \u001b[0mnoise_dimensions\u001b[0m\u001b[0;34m]\u001b[0m\u001b[0;34m)\u001b[0m\u001b[0;34m\u001b[0m\u001b[0m\n\u001b[0m\u001b[1;32m      9\u001b[0m         \u001b[0mnoise_seq_length_batch\u001b[0m \u001b[0;34m=\u001b[0m \u001b[0mnp\u001b[0m\u001b[0;34m.\u001b[0m\u001b[0mfull\u001b[0m\u001b[0;34m(\u001b[0m\u001b[0mbatch_size\u001b[0m\u001b[0;34m,\u001b[0m \u001b[0mmax_policy_history_length\u001b[0m\u001b[0;34m)\u001b[0m\u001b[0;34m\u001b[0m\u001b[0m\n\u001b[1;32m     10\u001b[0m \u001b[0;34m\u001b[0m\u001b[0m\n",
      "\u001b[0;31mKeyboardInterrupt\u001b[0m: "
     ],
     "output_type": "error"
    }
   ],
   "source": [
    "saver.restore(sess, os.path.join(MODEL_CHECKPOINTS_DIR, \"discriminator.ckpt\"))\n",
    "\n",
    "#Train generator and discriminator together\n",
    "n_epochs = 200\n",
    "\n",
    "for epoch in range(n_epochs):\n",
    "    for batch in range(train_data.num_examples // batch_size):\n",
    "        noise_batch = np.random.normal(0, 1, size=[batch_size, max_policy_history_length, noise_dimensions])\n",
    "        noise_seq_length_batch = np.full(batch_size, max_policy_history_length)\n",
    "        \n",
    "        # y_batch, X_batch, X_seq_length_batch = train_data.next_batch(batch_size)\n",
    "        # \n",
    "        # # Train discriminator on both real and fake data\n",
    "        # _, __, dLossReal, dLossFake, acc_real_train, acc_fake_train = \\\n",
    "        #     sess.run([d_trainer_real, d_trainer_fake, d_loss_real, d_loss_fake, accuracy_d_real, accuracy_d_fake],\n",
    "        #              {X: X_batch, y: y_batch, X_seq_length: X_seq_length_batch,\n",
    "        #               noise: noise_batch, noise_seq_length: noise_seq_length_batch})\n",
    "        # \n",
    "        # # Train generator\n",
    "        # noise_batch = np.random.normal(0, 1, size=[batch_size, max_policy_history_length, noise_dimensions])\n",
    "    \n",
    "        #_, gLoss, acc_g, gData = sess.run([g_trainer, g_loss, accuracy_g, g_data], \n",
    "         #                            feed_dict={noise: noise_batch, noise_seq_length: noise_seq_length_batch})\n",
    "\n",
    "        gLoss, acc_g, gData = sess.run([g_loss, accuracy_g, g_data], \n",
    "                                     feed_dict={noise: noise_batch, noise_seq_length: noise_seq_length_batch})\n",
    "\n",
    "    # print(\"Epoch:\", epoch, \"dLossReal:\", dLossReal, \"acc_real_train:\", acc_real_train,\n",
    "    #       \"dLossFake:\", dLossFake, \"acc_fake_train:\", acc_fake_train,\n",
    "    #       \"gLoss:\", gLoss, \"acc_g:\", acc_g)\n",
    "\n",
    "    print(\"Epoch:\", epoch, \"gLoss:\", gLoss, \"acc_g:\", acc_g)\n",
    "    print(gData[0])\n"
   ]
  },
  {
   "cell_type": "code",
   "execution_count": null,
   "metadata": {},
   "outputs": [],
   "source": []
  }
 ],
 "metadata": {
  "kernelspec": {
   "display_name": "Python 2",
   "language": "python",
   "name": "python2"
  },
  "language_info": {
   "codemirror_mode": {
    "name": "ipython",
    "version": 2
   },
   "file_extension": ".py",
   "mimetype": "text/x-python",
   "name": "python",
   "nbconvert_exporter": "python",
   "pygments_lexer": "ipython2",
   "version": "2.7.6"
  }
 },
 "nbformat": 4,
 "nbformat_minor": 0
}
