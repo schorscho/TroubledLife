{
 "cells": [
  {
   "cell_type": "code",
   "execution_count": null,
   "metadata": {
    "collapsed": true
   },
   "outputs": [
    {
     "data": {
      "text/plain": [
       "array([15, 15, 15, 15, 15, 15, 15, 15, 15, 15, 15, 15, 15, 15, 15, 15, 15,\n",
       "       15, 15, 15, 15, 15, 15, 15, 15, 15, 15, 15, 15, 15, 15, 15, 15, 15,\n",
       "       15, 15, 15, 15, 15, 15, 15, 15, 15, 15, 15, 15, 15, 15, 15, 15, 15,\n",
       "       15, 15, 15, 15, 15, 15, 15, 15, 15, 15, 15, 15, 15, 15, 15, 15, 15,\n",
       "       15, 15, 15, 15, 15, 15, 15, 15, 15, 15, 15, 15, 15, 15, 15, 15, 15,\n",
       "       15, 15, 15, 15, 15, 15, 15, 15, 15, 15, 15, 15, 15, 15, 15, 15, 15,\n",
       "       15, 15, 15, 15, 15, 15, 15, 15, 15, 15, 15, 15, 15, 15, 15, 15, 15,\n",
       "       15, 15, 15, 15, 15, 15, 15, 15, 15, 15, 15, 15, 15, 15, 15, 15, 15,\n",
       "       15, 15, 15, 15, 15, 15, 15, 15, 15, 15, 15, 15, 15, 15, 15, 15, 15,\n",
       "       15, 15, 15, 15, 15, 15, 15, 15, 15, 15, 15, 15, 15, 15, 15, 15, 15,\n",
       "       15, 15, 15, 15, 15, 15, 15, 15, 15, 15, 15, 15, 15, 15, 15, 15, 15,\n",
       "       15, 15, 15, 15, 15, 15, 15, 15, 15, 15, 15, 15, 15])"
      ]
     },
     "execution_count": 1,
     "metadata": {},
     "output_type": "execute_result"
    }
   ],
   "source": [
    "import tensorflow as tf\n",
    "\n",
    "t1 = tf.constant([[1 , 2], [3, 4], [5, 6]])\n",
    "output = t1[:, 0]\n",
    "\n",
    "print(output.shape)\n",
    "\n",
    "indices = [[0, 0]]  # A list of coordinates to update.\n",
    "\n",
    "values = [1]  # A list of values corresponding to the respective\n",
    "                # coordinate in indices.\n",
    "\n",
    "\n",
    "delta = tf.SparseTensor(indices, values, t1.shape)\n",
    "zeros = tf.zeros_like(t1)\n",
    "result = zeros + tf.sparse_tensor_to_dense(delta)\n",
    "\n",
    "with tf.Session() as sess:\n",
    "  print(t1.shape)\n",
    "  print(sess.run(output))\n",
    "  print(sess.run(tf.shape(t1)[0]))\n",
    "  print(sess.run(result))\n",
    "  print()\n",
    "\n",
    "\n",
    "# helper = np.zeros((3, 2))\n",
    "# helper[:, 0] = 1\n",
    "#\n",
    "# print(helper)\n"
   ]
  },
  {
   "cell_type": "code",
   "execution_count": 1,
   "metadata": {
    "collapsed": true
   },
   "outputs": [
    {
     "data": {
      "text/plain": [
       "array([15, 15, 15, 15, 15, 15, 15, 15, 15, 15, 15, 15, 15, 15, 15, 15, 15,\n",
       "       15, 15, 15, 15, 15, 15, 15, 15, 15, 15, 15, 15, 15, 15, 15, 15, 15,\n",
       "       15, 15, 15, 15, 15, 15, 15, 15, 15, 15, 15, 15, 15, 15, 15, 15, 15,\n",
       "       15, 15, 15, 15, 15, 15, 15, 15, 15, 15, 15, 15, 15, 15, 15, 15, 15,\n",
       "       15, 15, 15, 15, 15, 15, 15, 15, 15, 15, 15, 15, 15, 15, 15, 15, 15,\n",
       "       15, 15, 15, 15, 15, 15, 15, 15, 15, 15, 15, 15, 15, 15, 15, 15, 15,\n",
       "       15, 15, 15, 15, 15, 15, 15, 15, 15, 15, 15, 15, 15, 15, 15, 15, 15,\n",
       "       15, 15, 15, 15, 15, 15, 15, 15, 15, 15, 15, 15, 15, 15, 15, 15, 15,\n",
       "       15, 15, 15, 15, 15, 15, 15, 15, 15, 15, 15, 15, 15, 15, 15, 15, 15,\n",
       "       15, 15, 15, 15, 15, 15, 15, 15, 15, 15, 15, 15, 15, 15, 15, 15, 15,\n",
       "       15, 15, 15, 15, 15, 15, 15, 15, 15, 15, 15, 15, 15, 15, 15, 15, 15,\n",
       "       15, 15, 15, 15, 15, 15, 15, 15, 15, 15, 15, 15, 15])"
      ]
     },
     "execution_count": 1,
     "metadata": {},
     "output_type": "execute_result"
    }
   ],
   "source": [
    "import numpy as np\n",
    "\n",
    "np.full(200, 15)\n"
   ]
  },
  {
   "cell_type": "code",
   "execution_count": 5,
   "metadata": {},
   "outputs": [
    {
     "data": {
      "text/plain": [
       "array([0, 1, 1, 0])"
      ]
     },
     "execution_count": 5,
     "metadata": {},
     "output_type": "execute_result"
    }
   ],
   "source": [
    "import numpy as np\n",
    "\n",
    "t = np.array([0, 1, 15, 0])\n",
    "t = (t > 0).astype(int)\n",
    "t"
   ]
  },
  {
   "cell_type": "code",
   "execution_count": 10,
   "metadata": {},
   "outputs": [
    {
     "data": {
      "text/plain": [
       "2"
      ]
     },
     "execution_count": 10,
     "metadata": {},
     "output_type": "execute_result"
    }
   ],
   "source": [
    "binary_classification = True\n",
    "x = 2 if binary_classification else 15\n",
    "\n",
    "x"
   ]
  },
  {
   "cell_type": "code",
   "execution_count": 59,
   "metadata": {},
   "outputs": [
    {
     "name": "stdout",
     "output_type": "stream",
     "text": [
      "WARNING:tensorflow:From /Users/gopora/MyStuff/Dev/python-virtual-envs/pie36-tf13/lib/python3.6/site-packages/tensorflow/python/util/tf_should_use.py:175: initialize_all_variables (from tensorflow.python.ops.variables) is deprecated and will be removed after 2017-03-02.\n",
      "Instructions for updating:\n",
      "Use `tf.global_variables_initializer` instead.\n",
      "[[[-0.81199294 -0.95736281]\n",
      "  [-0.10020636 -0.17498547]\n",
      "  [ 0.37001408  0.20169207]]\n",
      "\n",
      " [[-1.16332337  0.01598867]\n",
      "  [ 1.03221142 -0.07417807]\n",
      "  [-0.47099898  0.85285323]]\n",
      "\n",
      " [[ 1.26148773 -1.95553698]\n",
      "  [-0.61355427 -0.43529128]\n",
      "  [ 0.95160506  1.95446399]]\n",
      "\n",
      " [[ 0.9351669  -0.20272635]\n",
      "  [-0.03296645 -1.18031477]\n",
      "  [-0.18714346 -0.08218005]]\n",
      "\n",
      " [[ 2.62357858 -0.78848738]\n",
      "  [ 0.11761094  0.62897519]\n",
      "  [ 0.64231895 -0.62611121]]]\n",
      "[[[ 0.         -0.95736281]\n",
      "  [-0.10020636 -0.17498547]\n",
      "  [ 0.37001408  0.20169207]]\n",
      "\n",
      " [[ 0.          0.01598867]\n",
      "  [ 1.03221142 -0.07417807]\n",
      "  [-0.47099898  0.85285323]]\n",
      "\n",
      " [[ 0.         -1.95553698]\n",
      "  [-0.61355427 -0.43529128]\n",
      "  [ 0.95160506  1.95446399]]\n",
      "\n",
      " [[ 0.         -0.20272635]\n",
      "  [-0.03296645 -1.18031477]\n",
      "  [-0.18714346 -0.08218005]]\n",
      "\n",
      " [[ 0.         -0.78848738]\n",
      "  [ 0.11761094  0.62897519]\n",
      "  [ 0.64231895 -0.62611121]]]\n"
     ]
    }
   ],
   "source": [
    "import numpy as np\n",
    "import tensorflow as tf\n",
    "\n",
    "batch_size = 5\n",
    "max_policy_history_length = 3\n",
    "n_output = 2\n",
    "\n",
    "g = tf.Graph()\n",
    "\n",
    "with g.as_default():\n",
    "    a = tf.constant(np.random.normal(0, 1, size=[batch_size, max_policy_history_length, n_output]))\n",
    "    b = tf.Variable(initial_value=tf.reshape(tensor=a, shape=[batch_size * max_policy_history_length * n_output]))\n",
    "    c = tf.scatter_update(b, [i * max_policy_history_length * n_output for i in range(batch_size)], [0 for j in range(batch_size)])\n",
    "    d = tf.reshape(tensor=c, shape= [batch_size, max_policy_history_length, n_output]) \n",
    "with tf.Session(graph=g) as sess:\n",
    "    sess.run(tf.initialize_all_variables())\n",
    "    print(sess.run(a))\n",
    "    #print(sess.run(b))\n",
    "    #print(sess.run(c))\n",
    "    print(sess.run(d))"
   ]
  },
  {
   "cell_type": "code",
   "execution_count": 1,
   "metadata": {},
   "outputs": [
    {
     "name": "stdout",
     "output_type": "stream",
     "text": [
      "Tensor(\"t_generator/Reshape_1:0\", shape=(5, 3, 2), dtype=float32)\n",
      "[[[ 0.24061829  0.        ]\n",
      "  [ 0.13354699 -0.36437303]\n",
      "  [ 0.31483549 -0.2814326 ]]\n",
      "\n",
      " [[ 0.23679543  0.        ]\n",
      "  [ 0.25634789 -0.21235539]\n",
      "  [ 0.42624265 -0.25352508]]\n",
      "\n",
      " [[ 0.17284954  0.        ]\n",
      "  [ 0.32191426 -0.2703692 ]\n",
      "  [ 0.05656416 -0.48483819]]\n",
      "\n",
      " [[ 0.16864222  0.        ]\n",
      "  [ 0.31050789 -0.29020679]\n",
      "  [ 0.37562567 -0.34442496]]\n",
      "\n",
      " [[-0.04074495  0.        ]\n",
      "  [ 0.17831247  0.03321953]\n",
      "  [ 0.0709499  -0.21526265]]]\n"
     ]
    }
   ],
   "source": [
    "import tensorflow as tf\n",
    "import numpy as np\n",
    "\n",
    "noise_dimensions = 100\n",
    "batch_size = 5\n",
    "g_n_outputs = 2\n",
    "max_policy_history_length = 3\n",
    "\n",
    "tf.reset_default_graph()\n",
    "tf.set_random_seed(42)\n",
    "\n",
    "noise = tf.placeholder(tf.float32, [None, max_policy_history_length, noise_dimensions], name='noise')\n",
    "noise_seq_length = tf.placeholder(tf.int32, [None], name='noise_seq_length')\n",
    "  \n",
    "    \n",
    "def generator(noise, batch_size, n_outputs, max_seq_length, seq_length):\n",
    "    n_layers = 3\n",
    "    n_neurons = 200\n",
    "\n",
    "    with tf.variable_scope(\"t_generator\"):\n",
    "        layers = [tf.contrib.rnn.BasicRNNCell(num_units=n_neurons,\n",
    "                                              activation=tf.nn.relu)\n",
    "                  for layer in range(n_layers)]\n",
    "        multi_layer_cell = tf.contrib.rnn.MultiRNNCell(layers, state_is_tuple=False)\n",
    "        outputs, states = tf.nn.dynamic_rnn(cell=multi_layer_cell, inputs=noise, sequence_length=seq_length, dtype=tf.float32)\n",
    "\n",
    "        dense = tf.layers.dense(outputs, n_outputs)\n",
    "        # Let's make sure the initial value at [:, 0, 1] is 0 (current capital at policy inception)\n",
    "        flat = tf.reshape(tensor=dense, shape=[batch_size * max_policy_history_length * n_outputs])\n",
    "        flat2 = tf.Variable(initial_value=tf.zeros_like(flat), trainable=False, name=\"Scheisse\")\n",
    "        flat3 = tf.assign(ref=flat2, value=flat)\n",
    "        flat4 = tf.scatter_update(flat3, [1 + i * max_policy_history_length * n_outputs for i in range(batch_size)],\n",
    "                                         [0 for j in range(batch_size)])\n",
    "        logits = tf.reshape(tensor=flat4, shape=[batch_size, max_policy_history_length, n_outputs])\n",
    "    \n",
    "        print(logits)    \n",
    "    return logits\n",
    "\n",
    "\n",
    "g_data = generator(noise=noise, batch_size=batch_size, n_outputs=g_n_outputs, \n",
    "                       max_seq_length=max_policy_history_length, seq_length=noise_seq_length)\n",
    "\n",
    "noise_batch = np.random.normal(0, 1, size=[batch_size, max_policy_history_length, noise_dimensions])\n",
    "noise_seq_length_batch = np.full(batch_size, max_policy_history_length)\n",
    "\n",
    "sess = tf.Session()\n",
    "\n",
    "sess.run(tf.global_variables_initializer())\n",
    "sess.run(tf.local_variables_initializer())\n",
    "\n",
    "print(sess.run(g_data, feed_dict={noise: noise_batch, noise_seq_length: noise_seq_length_batch}))\n",
    "\n"
   ]
  },
  {
   "cell_type": "code",
   "execution_count": 6,
   "metadata": {},
   "outputs": [
    {
     "name": "stdout",
     "output_type": "stream",
     "text": [
      "WARNING:tensorflow:From /Users/gopora/MyStuff/Dev/python-virtual-envs/pie36-tf13/lib/python3.6/site-packages/tensorflow/python/util/tf_should_use.py:175: initialize_all_variables (from tensorflow.python.ops.variables) is deprecated and will be removed after 2017-03-02.\n",
      "Instructions for updating:\n",
      "Use `tf.global_variables_initializer` instead.\n",
      "[[[ 0.69610407  0.12660089]\n",
      "  [ 0.09215754  0.58294227]\n",
      "  [-0.87823905  0.7732932 ]]\n",
      "\n",
      " [[-0.16305498  0.33017592]\n",
      "  [-0.18461336  0.61272635]\n",
      "  [ 0.65350396  0.13504304]]\n",
      "\n",
      " [[ 0.16052591 -0.19250083]\n",
      "  [-0.51150417 -0.67703675]\n",
      "  [ 2.26027099 -0.02618426]]\n",
      "\n",
      " [[-0.07672129 -0.718167  ]\n",
      "  [ 0.60350131  2.90098423]\n",
      "  [ 0.12369684  0.03033765]]\n",
      "\n",
      " [[-0.09879402  0.29269795]\n",
      "  [ 0.59075546 -0.74791095]\n",
      "  [-1.41866875 -0.55138431]]]\n",
      "[[[ 0.          0.12660089]\n",
      "  [ 0.09215754  0.58294227]\n",
      "  [-0.87823905  0.7732932 ]]\n",
      "\n",
      " [[ 0.          0.33017592]\n",
      "  [-0.18461336  0.61272635]\n",
      "  [ 0.65350396  0.13504304]]\n",
      "\n",
      " [[ 0.         -0.19250083]\n",
      "  [-0.51150417 -0.67703675]\n",
      "  [ 2.26027099 -0.02618426]]\n",
      "\n",
      " [[ 0.         -0.718167  ]\n",
      "  [ 0.60350131  2.90098423]\n",
      "  [ 0.12369684  0.03033765]]\n",
      "\n",
      " [[ 0.          0.29269795]\n",
      "  [ 0.59075546 -0.74791095]\n",
      "  [-1.41866875 -0.55138431]]]\n"
     ]
    }
   ],
   "source": [
    "import numpy as np\n",
    "import tensorflow as tf\n",
    "\n",
    "def do_something(x, s1, s2, s3):\n",
    "    for i in range(s1):\n",
    "        x[i, 0, 0] = 0.0\n",
    "    \n",
    "    return x \n",
    "\n",
    "batch_size = 5\n",
    "max_seq_length = 3\n",
    "n_outputs = 2\n",
    "\n",
    "g = tf.Graph()\n",
    "\n",
    "with g.as_default():\n",
    "    a = tf.constant(np.random.normal(0, 1, size=[batch_size, max_seq_length, n_outputs]))\n",
    "    b = tf.py_func(do_something, [a, batch_size, max_seq_length, n_outputs], tf.float64)    \n",
    "with tf.Session(graph=g) as sess:\n",
    "    sess.run(tf.initialize_all_variables())\n",
    "    print(sess.run(a))\n",
    "    print(sess.run(b))\n"
   ]
  },
  {
   "cell_type": "code",
   "execution_count": 1,
   "metadata": {},
   "outputs": [
    {
     "name": "stdout",
     "output_type": "stream",
     "text": [
      "[[[  1.00859221e+03   3.00000000e-02]\n",
      "  [  0.00000000e+00   0.00000000e+00]\n",
      "  [  0.00000000e+00   0.00000000e+00]\n",
      "  [  0.00000000e+00   0.00000000e+00]\n",
      "  [  0.00000000e+00   0.00000000e+00]\n",
      "  [  0.00000000e+00   0.00000000e+00]\n",
      "  [  0.00000000e+00   0.00000000e+00]\n",
      "  [  0.00000000e+00   0.00000000e+00]\n",
      "  [  0.00000000e+00   0.00000000e+00]\n",
      "  [  0.00000000e+00   0.00000000e+00]\n",
      "  [  0.00000000e+00   0.00000000e+00]\n",
      "  [  0.00000000e+00   0.00000000e+00]\n",
      "  [  0.00000000e+00   0.00000000e+00]\n",
      "  [  0.00000000e+00   0.00000000e+00]\n",
      "  [  0.00000000e+00   0.00000000e+00]]\n",
      "\n",
      " [[  1.07676271e+03   3.00000000e-02]\n",
      "  [  0.00000000e+00   0.00000000e+00]\n",
      "  [  0.00000000e+00   0.00000000e+00]\n",
      "  [  0.00000000e+00   0.00000000e+00]\n",
      "  [  0.00000000e+00   0.00000000e+00]\n",
      "  [  0.00000000e+00   0.00000000e+00]\n",
      "  [  0.00000000e+00   0.00000000e+00]\n",
      "  [  0.00000000e+00   0.00000000e+00]\n",
      "  [  0.00000000e+00   0.00000000e+00]\n",
      "  [  0.00000000e+00   0.00000000e+00]\n",
      "  [  0.00000000e+00   0.00000000e+00]\n",
      "  [  0.00000000e+00   0.00000000e+00]\n",
      "  [  0.00000000e+00   0.00000000e+00]\n",
      "  [  0.00000000e+00   0.00000000e+00]\n",
      "  [  0.00000000e+00   0.00000000e+00]]\n",
      "\n",
      " [[  1.49428862e+03   4.00000000e-02]\n",
      "  [  0.00000000e+00   0.00000000e+00]\n",
      "  [  0.00000000e+00   0.00000000e+00]\n",
      "  [  0.00000000e+00   0.00000000e+00]\n",
      "  [  0.00000000e+00   0.00000000e+00]\n",
      "  [  0.00000000e+00   0.00000000e+00]\n",
      "  [  0.00000000e+00   0.00000000e+00]\n",
      "  [  0.00000000e+00   0.00000000e+00]\n",
      "  [  0.00000000e+00   0.00000000e+00]\n",
      "  [  0.00000000e+00   0.00000000e+00]\n",
      "  [  0.00000000e+00   0.00000000e+00]\n",
      "  [  0.00000000e+00   0.00000000e+00]\n",
      "  [  0.00000000e+00   0.00000000e+00]\n",
      "  [  0.00000000e+00   0.00000000e+00]\n",
      "  [  0.00000000e+00   0.00000000e+00]]\n",
      "\n",
      " [[  1.20358339e+03   4.00000000e-02]\n",
      "  [  0.00000000e+00   0.00000000e+00]\n",
      "  [  0.00000000e+00   0.00000000e+00]\n",
      "  [  0.00000000e+00   0.00000000e+00]\n",
      "  [  0.00000000e+00   0.00000000e+00]\n",
      "  [  0.00000000e+00   0.00000000e+00]\n",
      "  [  0.00000000e+00   0.00000000e+00]\n",
      "  [  0.00000000e+00   0.00000000e+00]\n",
      "  [  0.00000000e+00   0.00000000e+00]\n",
      "  [  0.00000000e+00   0.00000000e+00]\n",
      "  [  0.00000000e+00   0.00000000e+00]\n",
      "  [  0.00000000e+00   0.00000000e+00]\n",
      "  [  0.00000000e+00   0.00000000e+00]\n",
      "  [  0.00000000e+00   0.00000000e+00]\n",
      "  [  0.00000000e+00   0.00000000e+00]]\n",
      "\n",
      " [[  1.07948151e+03   3.00000000e-02]\n",
      "  [  0.00000000e+00   0.00000000e+00]\n",
      "  [  0.00000000e+00   0.00000000e+00]\n",
      "  [  0.00000000e+00   0.00000000e+00]\n",
      "  [  0.00000000e+00   0.00000000e+00]\n",
      "  [  0.00000000e+00   0.00000000e+00]\n",
      "  [  0.00000000e+00   0.00000000e+00]\n",
      "  [  0.00000000e+00   0.00000000e+00]\n",
      "  [  0.00000000e+00   0.00000000e+00]\n",
      "  [  0.00000000e+00   0.00000000e+00]\n",
      "  [  0.00000000e+00   0.00000000e+00]\n",
      "  [  0.00000000e+00   0.00000000e+00]\n",
      "  [  0.00000000e+00   0.00000000e+00]\n",
      "  [  0.00000000e+00   0.00000000e+00]\n",
      "  [  0.00000000e+00   0.00000000e+00]]\n",
      "\n",
      " [[  1.42255052e+03   4.00000000e-02]\n",
      "  [  0.00000000e+00   0.00000000e+00]\n",
      "  [  0.00000000e+00   0.00000000e+00]\n",
      "  [  0.00000000e+00   0.00000000e+00]\n",
      "  [  0.00000000e+00   0.00000000e+00]\n",
      "  [  0.00000000e+00   0.00000000e+00]\n",
      "  [  0.00000000e+00   0.00000000e+00]\n",
      "  [  0.00000000e+00   0.00000000e+00]\n",
      "  [  0.00000000e+00   0.00000000e+00]\n",
      "  [  0.00000000e+00   0.00000000e+00]\n",
      "  [  0.00000000e+00   0.00000000e+00]\n",
      "  [  0.00000000e+00   0.00000000e+00]\n",
      "  [  0.00000000e+00   0.00000000e+00]\n",
      "  [  0.00000000e+00   0.00000000e+00]\n",
      "  [  0.00000000e+00   0.00000000e+00]]\n",
      "\n",
      " [[  1.38130748e+03   5.00000000e-02]\n",
      "  [  0.00000000e+00   0.00000000e+00]\n",
      "  [  0.00000000e+00   0.00000000e+00]\n",
      "  [  0.00000000e+00   0.00000000e+00]\n",
      "  [  0.00000000e+00   0.00000000e+00]\n",
      "  [  0.00000000e+00   0.00000000e+00]\n",
      "  [  0.00000000e+00   0.00000000e+00]\n",
      "  [  0.00000000e+00   0.00000000e+00]\n",
      "  [  0.00000000e+00   0.00000000e+00]\n",
      "  [  0.00000000e+00   0.00000000e+00]\n",
      "  [  0.00000000e+00   0.00000000e+00]\n",
      "  [  0.00000000e+00   0.00000000e+00]\n",
      "  [  0.00000000e+00   0.00000000e+00]\n",
      "  [  0.00000000e+00   0.00000000e+00]\n",
      "  [  0.00000000e+00   0.00000000e+00]]\n",
      "\n",
      " [[  1.20118056e+03   3.00000000e-02]\n",
      "  [  0.00000000e+00   0.00000000e+00]\n",
      "  [  0.00000000e+00   0.00000000e+00]\n",
      "  [  0.00000000e+00   0.00000000e+00]\n",
      "  [  0.00000000e+00   0.00000000e+00]\n",
      "  [  0.00000000e+00   0.00000000e+00]\n",
      "  [  0.00000000e+00   0.00000000e+00]\n",
      "  [  0.00000000e+00   0.00000000e+00]\n",
      "  [  0.00000000e+00   0.00000000e+00]\n",
      "  [  0.00000000e+00   0.00000000e+00]\n",
      "  [  0.00000000e+00   0.00000000e+00]\n",
      "  [  0.00000000e+00   0.00000000e+00]\n",
      "  [  0.00000000e+00   0.00000000e+00]\n",
      "  [  0.00000000e+00   0.00000000e+00]\n",
      "  [  0.00000000e+00   0.00000000e+00]]\n",
      "\n",
      " [[  1.36029495e+03   5.00000000e-02]\n",
      "  [  0.00000000e+00   0.00000000e+00]\n",
      "  [  0.00000000e+00   0.00000000e+00]\n",
      "  [  0.00000000e+00   0.00000000e+00]\n",
      "  [  0.00000000e+00   0.00000000e+00]\n",
      "  [  0.00000000e+00   0.00000000e+00]\n",
      "  [  0.00000000e+00   0.00000000e+00]\n",
      "  [  0.00000000e+00   0.00000000e+00]\n",
      "  [  0.00000000e+00   0.00000000e+00]\n",
      "  [  0.00000000e+00   0.00000000e+00]\n",
      "  [  0.00000000e+00   0.00000000e+00]\n",
      "  [  0.00000000e+00   0.00000000e+00]\n",
      "  [  0.00000000e+00   0.00000000e+00]\n",
      "  [  0.00000000e+00   0.00000000e+00]\n",
      "  [  0.00000000e+00   0.00000000e+00]]\n",
      "\n",
      " [[  1.20870167e+03   4.00000000e-02]\n",
      "  [  0.00000000e+00   0.00000000e+00]\n",
      "  [  0.00000000e+00   0.00000000e+00]\n",
      "  [  0.00000000e+00   0.00000000e+00]\n",
      "  [  0.00000000e+00   0.00000000e+00]\n",
      "  [  0.00000000e+00   0.00000000e+00]\n",
      "  [  0.00000000e+00   0.00000000e+00]\n",
      "  [  0.00000000e+00   0.00000000e+00]\n",
      "  [  0.00000000e+00   0.00000000e+00]\n",
      "  [  0.00000000e+00   0.00000000e+00]\n",
      "  [  0.00000000e+00   0.00000000e+00]\n",
      "  [  0.00000000e+00   0.00000000e+00]\n",
      "  [  0.00000000e+00   0.00000000e+00]\n",
      "  [  0.00000000e+00   0.00000000e+00]\n",
      "  [  0.00000000e+00   0.00000000e+00]]]\n",
      "[11 11 11 11 11 11 11 11 11 11]\n"
     ]
    }
   ],
   "source": [
    "size_batch = 10\n",
    "max_length_policy_history = 15\n",
    "n_inputs = 2\n",
    "runtime = 5\n",
    "\n",
    "import numpy as np\n",
    "\n",
    "Z_batch = np.full(shape=[size_batch, max_length_policy_history, n_inputs], fill_value=0.0)\n",
    "seq_length_z_batch = np.full(shape=size_batch, fill_value=1 + runtime * 2)\n",
    "\n",
    "init_z_batch = np.full(shape=[size_batch, 2], fill_value=0.0)\n",
    "init_z_batch[:, 0] = np.random.uniform(low=1000.0, high=1500.0, size=size_batch)\n",
    "init_z_batch[:, 1] = np.random.randint(low=1, high=4, size=size_batch) * 0.01 + 0.02\n",
    "#init_z_batch = np.full(shape=size_batch, fill_value=1270.0)\n",
    "Z_batch[:, 0, 0] = init_z_batch[:, 0]\n",
    "Z_batch[:, 0, 1] = init_z_batch[:, 1]\n",
    "\n",
    "\n",
    "\n",
    "\n",
    "print(Z_batch)\n",
    "print(seq_length_z_batch)"
   ]
  },
  {
   "cell_type": "code",
   "execution_count": 17,
   "metadata": {},
   "outputs": [
    {
     "name": "stdout",
     "output_type": "stream",
     "text": [
      "[[ 1250.     0.]]\n",
      "[[ 1250.  1250.]]\n",
      "[[ 2500.  2500.]]\n"
     ]
    }
   ],
   "source": [
    "import numpy as np\n",
    "import tensorflow as tf\n",
    "\n",
    "batch_size = 5\n",
    "max_policy_history_length = 3\n",
    "n_output = 2\n",
    "\n",
    "tf.reset_default_graph()\n",
    "tf.set_random_seed(42)\n",
    "np.random.seed(42)\n",
    "\n",
    "n_inputs = 2\n",
    "n_neurons = 2\n",
    "\n",
    "X0 = tf.placeholder(tf.float32, [None, n_inputs])\n",
    "X1 = tf.placeholder(tf.float32, [None, n_inputs])\n",
    "X2 = tf.placeholder(tf.float32, [None, n_inputs])\n",
    "\n",
    "\n",
    "iWx = [[1.0, 0.0], [0.0, 0.0]]\n",
    "iWy = [[1.0, 1.0], [1.0, 1.0]]\n",
    "\n",
    "Wx = tf.Variable(initial_value=iWx, dtype=tf.float32)\n",
    "Wy = tf.Variable(initial_value=iWy, dtype=tf.float32)\n",
    "b = tf.Variable(tf.zeros([1, n_neurons], dtype=tf.float32))\n",
    "\n",
    "Y0 = tf.nn.relu(tf.matmul(X0, Wx) + b)\n",
    "Y1 = tf.nn.relu(tf.matmul(Y0, Wy) + tf.matmul(X1, Wx) + b)\n",
    "Y2 = tf.nn.relu(tf.matmul(Y1, Wy) + tf.matmul(X2, Wx) + b)\n",
    "\n",
    "\n",
    "init = tf.global_variables_initializer()\n",
    "\n",
    "X0_batch = np.array([[1250, 0.3]]) # t = 0\n",
    "X1_batch = np.array([[0, 0]]) # t = 1\n",
    "X2_batch = np.array([[0, 0]]) # t = 1\n",
    "\n",
    "\n",
    "with tf.Session() as sess:\n",
    "    init.run()\n",
    "    Y0_val, Y1_val, Y2_val = sess.run([Y0, Y1, Y2], feed_dict={X0: X0_batch, X1: X1_batch, X2: X2_batch})\n",
    "\n",
    "    print(Y0_val)\n",
    "    print(Y1_val)\n",
    "    print(Y2_val)"
   ]
  },
  {
   "cell_type": "code",
   "execution_count": 10,
   "metadata": {},
   "outputs": [
    {
     "name": "stdout",
     "output_type": "stream",
     "text": [
      "[1 1 1 2 3 2 3 2 1 1]\n"
     ]
    }
   ],
   "source": [
    "import numpy as np\n",
    "\n",
    "s = np.random.randint(low=1, high=4, size=10)\n",
    "print(s)"
   ]
  },
  {
   "cell_type": "code",
   "execution_count": 30,
   "metadata": {},
   "outputs": [
    {
     "name": "stdout",
     "output_type": "stream",
     "text": [
      "0.0386668116803 0.0398942280401 0.0386668116803\n"
     ]
    },
    {
     "data": {
      "text/plain": [
       "[<matplotlib.lines.Line2D at 0x114256978>]"
      ]
     },
     "execution_count": 30,
     "metadata": {},
     "output_type": "execute_result"
    },
    {
     "data": {
      "image/png": "[encoded data removed]",
      "text/plain": [
       "<matplotlib.figure.Figure at 0x114c41198>"
      ]
     },
     "metadata": {},
     "output_type": "display_data"
    }
   ],
   "source": [
    "%matplotlib inline \n",
    "from scipy.stats import norm\n",
    "import numpy as np\n",
    "import matplotlib.pyplot as plt\n",
    "\n",
    "fig, ax = plt.subplots(1, 1)\n",
    "\n",
    "n = norm(1250, 1000)\n",
    "print(100 * n.pdf(1000), 100 * n.pdf(1250), 100 * n.pdf(1500))\n",
    "\n",
    "x = np.linspace(901.0, 1599.0, 700)\n",
    "\n",
    "ax.plot(x, n.pdf(x), 'r-', lw=5, alpha=0.6, label='norm pdf')\n"
   ]
  },
  {
   "cell_type": "code",
   "execution_count": 9,
   "metadata": {},
   "outputs": [
    {
     "data": {
      "text/plain": [
       "[<matplotlib.lines.Line2D at 0x1139074a8>]"
      ]
     },
     "execution_count": 9,
     "metadata": {},
     "output_type": "execute_result"
    }
   ],
   "source": [
    ""
   ]
  },
  {
   "cell_type": "code",
   "execution_count": 16,
   "metadata": {},
   "outputs": [],
   "source": [
    "import numpy as np\n",
    "\n",
    "a = np.array([[[1, 2], [3, 4], [5, 6]], [[7, 8], [9, 10], [11, 12]]])"
   ]
  },
  {
   "cell_type": "code",
   "execution_count": 17,
   "metadata": {},
   "outputs": [
    {
     "data": {
      "text/plain": [
       "(2, 3, 2)"
      ]
     },
     "execution_count": 17,
     "metadata": {},
     "output_type": "execute_result"
    }
   ],
   "source": [
    "a.shape"
   ]
  },
  {
   "cell_type": "code",
   "execution_count": 18,
   "metadata": {},
   "outputs": [],
   "source": [
    "a = np.reshape(a, (a.shape[0] * a.shape[1], a.shape[2]))"
   ]
  },
  {
   "cell_type": "code",
   "execution_count": 19,
   "metadata": {},
   "outputs": [
    {
     "data": {
      "text/plain": [
       "(6, 2)"
      ]
     },
     "execution_count": 19,
     "metadata": {},
     "output_type": "execute_result"
    }
   ],
   "source": [
    "a.shape"
   ]
  },
  {
   "cell_type": "code",
   "execution_count": null,
   "metadata": {},
   "outputs": [],
   "source": []
  }
 ],
 "metadata": {
  "kernelspec": {
   "display_name": "Python 3",
   "language": "python",
   "name": "python3"
  },
  "language_info": {
   "codemirror_mode": {
    "name": "ipython",
    "version": 3
   },
   "file_extension": ".py",
   "mimetype": "text/x-python",
   "name": "python",
   "nbconvert_exporter": "python",
   "pygments_lexer": "ipython3",
   "version": "3.5.2"
  }
 },
 "nbformat": 4,
 "nbformat_minor": 1
}
